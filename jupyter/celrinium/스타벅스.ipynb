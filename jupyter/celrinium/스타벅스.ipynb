{
 "cells": [
  {
   "cell_type": "code",
   "execution_count": null,
   "id": "e92e2208",
   "metadata": {},
   "outputs": [],
   "source": [
    "# 스타벅스와 맥도날드의 상관관계를 본다. 개점일에 따른 증가와 감소를 파악한다.\n",
    "# 셀레니움은 생략\n",
    "\n",
    "# 0. URL에서 셀레니움으로 클릭하고 해당 서울까지 -> 전체"
   ]
  },
  {
   "cell_type": "code",
   "execution_count": 1,
   "id": "88834d82",
   "metadata": {},
   "outputs": [],
   "source": [
    "# 0. URL에서 셀레니움으로 클릭하고 해당 서울까지 -> 전체\n",
    "\n",
    "from bs4 import BeautifulSoup\n",
    "from selenium import webdriver\n",
    "from selenium.webdriver.common.by import By\n",
    "from IPython.display import Image\n",
    "from urllib.request import urlopen\n",
    "\n",
    "import pandas as pd\n",
    "import time\n",
    "import re"
   ]
  },
  {
   "cell_type": "code",
   "execution_count": 2,
   "id": "ad176b19",
   "metadata": {},
   "outputs": [
    {
     "name": "stderr",
     "output_type": "stream",
     "text": [
      "C:\\Users\\student\\AppData\\Local\\Temp\\ipykernel_2756\\3620293503.py:3: DeprecationWarning: executable_path has been deprecated, please pass in a Service object\n",
      "  driver = webdriver.Chrome(executable_path=driver_path)\n"
     ]
    }
   ],
   "source": [
    "# 웹드라이브로 크롬브라우즈 띄운다.\n",
    "driver_path = \"../driver/chromedriver.exe\"\n",
    "driver = webdriver.Chrome(executable_path=driver_path)"
   ]
  },
  {
   "cell_type": "code",
   "execution_count": 4,
   "id": "dc66865f",
   "metadata": {},
   "outputs": [],
   "source": [
    "url_page = 'https://www.starbucks.co.kr/store/store_map.do'\n",
    "driver.get(url_page)"
   ]
  },
  {
   "cell_type": "code",
   "execution_count": 5,
   "id": "f1615948",
   "metadata": {},
   "outputs": [
    {
     "data": {
      "text/plain": [
       "<title id=\"titleJoin\">Starbucks Korea</title>"
      ]
     },
     "execution_count": 5,
     "metadata": {},
     "output_type": "execute_result"
    }
   ],
   "source": [
    "url = 'https://www.starbucks.co.kr/store/store_map.do' #셀레니움 생략 그냥 쳐버린다.\n",
    "html = urlopen(url)\n",
    "soup = BeautifulSoup(html, \"lxml\")\n",
    "soup.title"
   ]
  },
  {
   "cell_type": "code",
   "execution_count": 6,
   "id": "698126ca",
   "metadata": {},
   "outputs": [],
   "source": [
    "# 지역검색 클릭\n",
    "css_selector = '#container > div > form > fieldset > div > section > article.find_store_cont > article > header.loca_search > h3 > a'\n",
    "driver.find_element(by=By.CSS_SELECTOR, value=css_selector).click()\n"
   ]
  },
  {
   "cell_type": "code",
   "execution_count": 7,
   "id": "1fd325bb",
   "metadata": {},
   "outputs": [],
   "source": [
    "# 페이지 BeautifulSoup 객체로 가져온다\n",
    "html = driver.page_source\n",
    "soup = BeautifulSoup(html, \"lxml\")\n",
    "# html"
   ]
  },
  {
   "cell_type": "code",
   "execution_count": 9,
   "id": "da69dc7a",
   "metadata": {},
   "outputs": [
    {
     "data": {
      "text/plain": [
       "'서울'"
      ]
     },
     "execution_count": 9,
     "metadata": {},
     "output_type": "execute_result"
    }
   ],
   "source": [
    "# 전국 다 가져오면서 서울만도 가져온다.\n",
    "\n",
    "# 전국단위\n",
    "star_all = soup.find('article','store_map_layer_cont') #tbody는 하나니까 find로 찾아줘야 find_all로 했을시 뒤의 오류가 없다.\n",
    "star_all = star_all.find_all('ul') \n",
    "star_all = star_all[1].find_all('li')\n",
    "# len(star_all)\n",
    "# 0 ~ 16까지 돈다\n",
    "star_all = star_all[0].get_text()\n",
    "star_all"
   ]
  },
  {
   "cell_type": "code",
   "execution_count": 10,
   "id": "e6081e06",
   "metadata": {},
   "outputs": [],
   "source": [
    "# 한 지역의 점포 상세히\n",
    "\n",
    "# 서울클릭\n",
    "css_selector = '#container > div > form > fieldset > div > section > article.find_store_cont > article > article:nth-child(4) > div.loca_step1 > div.loca_step1_cont > ul > li:nth-child(1) > a'\n",
    "driver.find_element(by=By.CSS_SELECTOR, value=css_selector).click()"
   ]
  },
  {
   "cell_type": "code",
   "execution_count": 11,
   "id": "875ac8db",
   "metadata": {},
   "outputs": [],
   "source": [
    "# 전체클릭\n",
    "css_selector = '#mCSB_2_container > ul > li:nth-child(1) > a'\n",
    "driver.find_element(by=By.CSS_SELECTOR, value=css_selector).click()"
   ]
  },
  {
   "cell_type": "code",
   "execution_count": 22,
   "id": "21a6c0b4",
   "metadata": {},
   "outputs": [
    {
     "data": {
      "text/plain": [
       "<li class=\"quickResultLstCon\" data-code=\"3968\" data-hlytag=\"null\" data-index=\"1\" data-lat=\"37.500313\" data-long=\"127.066961\" data-name=\"대치삼성프라자\" data-storecd=\"1716\" style=\"background:#fff\"> <strong data-my_siren_order_store_yn=\"N\" data-name=\"대치삼성프라자\" data-store=\"1716\" data-yn=\"N\">대치삼성프라자  </strong> <p class=\"result_details\">서울특별시 강남구 영동대로 237 (대치동)<br/>1522-3232</p> <i class=\"pin_general\">리저브 매장 2번</i></li>"
      ]
     },
     "execution_count": 22,
     "metadata": {},
     "output_type": "execute_result"
    }
   ],
   "source": [
    "# 매장정보 class\n",
    "# 전국단위\n",
    "# star_store = soup.find_all('ul','quickSearchResultBoxSidoGugun')\n",
    "# star_store = soup.find_all('li') \n",
    "star_store = soup.find_all('li', 'quickResultLstCon')\n",
    "star_store[1]\n",
    "# len(star_store)\n",
    "# star_all = star_all.find_all('ul') \n",
    "# star_all = star_all[1].find_all('li')"
   ]
  },
  {
   "cell_type": "code",
   "execution_count": null,
   "id": "d2ce7f79",
   "metadata": {},
   "outputs": [],
   "source": []
  }
 ],
 "metadata": {
  "kernelspec": {
   "display_name": "Python 3 (ipykernel)",
   "language": "python",
   "name": "python3"
  },
  "language_info": {
   "codemirror_mode": {
    "name": "ipython",
    "version": 3
   },
   "file_extension": ".py",
   "mimetype": "text/x-python",
   "name": "python",
   "nbconvert_exporter": "python",
   "pygments_lexer": "ipython3",
   "version": "3.9.12"
  }
 },
 "nbformat": 4,
 "nbformat_minor": 5
}
