{
 "cells": [
  {
   "cell_type": "code",
   "execution_count": 14,
   "id": "25d56c8a",
   "metadata": {},
   "outputs": [],
   "source": [
    "def fibonacci(num):\n",
    "    \n",
    "    idx, sum = 0,0\n",
    "    total_sum = []\n",
    "    \n",
    "    numbers  = list(range(num+1))\n",
    "    \n",
    "    while idx < len(numbers) :\n",
    "        num = numbers[idx]\n",
    "        sum = sum+num\n",
    "        total_sum.append(sum)\n",
    "        idx = idx+1\n",
    "    print(total_sum[idx])\n",
    "\n",
    "#     return num2\n",
    "#     pass\n"
   ]
  },
  {
   "cell_type": "markdown",
   "id": "7dae34a3",
   "metadata": {},
   "source": [
    "* 교수님 실행"
   ]
  },
  {
   "cell_type": "code",
   "execution_count": null,
   "id": "7015c93f",
   "metadata": {},
   "outputs": [],
   "source": [
    "def fibo(num):\n",
    "    ret_num = 0\n",
    "    if num == 0:\n",
    "        ret_num == 0\n",
    "    elif num == 1:\n",
    "        ret_num == 1\n",
    "    else:\n",
    "        ret_num = fibo(num-1) + fibo(num-2)\n",
    "    return ret_num"
   ]
  },
  {
   "cell_type": "code",
   "execution_count": null,
   "id": "05f61e2d",
   "metadata": {},
   "outputs": [],
   "source": [
    "def fibonacci(num):\n",
    "    #피보나치 함수 구현\n",
    "    ret_num = 0\n",
    "    if num ==0:\n",
    "        ret_num=0\n",
    "    elif num==1:\n",
    "        ret_num=1\n",
    "    else:\n",
    "        ret_num=fibonacci(num-1)+fibonacci(num-2) #자기자신 함수를 변수로 취급한다.\n",
    "    return ret_num"
   ]
  },
  {
   "cell_type": "markdown",
   "id": "08d9773e",
   "metadata": {},
   "source": [
    "* 과정 순서까지 보기"
   ]
  },
  {
   "cell_type": "code",
   "execution_count": 22,
   "id": "a8bb75dd",
   "metadata": {},
   "outputs": [],
   "source": [
    "import time\n",
    "\n",
    "call_count = 0\n",
    "\n",
    "def fibonacci(num):\n",
    "    #피보나치 함수 구현\n",
    "    global call_count\n",
    "    \n",
    "    ret_num = 0\n",
    "    call_count = call_count+1\n",
    "    \n",
    "    time.sleep(0.1)\n",
    "    \n",
    "    print('함수 호출 횟수 : ', call_count)\n",
    "    \n",
    "    if num ==0:\n",
    "        ret_num=0\n",
    "    elif num==1:\n",
    "        ret_num=1\n",
    "    else:\n",
    "        ret_num=fibonacci(num-1)+fibonacci(num-2)\n",
    "    return ret_num"
   ]
  },
  {
   "cell_type": "markdown",
   "id": "f2da3359",
   "metadata": {},
   "source": [
    "* if문 한줄로 간단하게"
   ]
  },
  {
   "cell_type": "code",
   "execution_count": null,
   "id": "6e9a9c11",
   "metadata": {},
   "outputs": [],
   "source": [
    "def fibonacci(num):\n",
    "    #피보나치 함수 구현\n",
    "    ret_num = 0 if num == 0 else 1 if num == 1 else fibonacci(num-1)+fibonacci(num-2)\n",
    "    return ret_num"
   ]
  },
  {
   "cell_type": "markdown",
   "id": "90ae5b59",
   "metadata": {},
   "source": [
    "* 람다함수로"
   ]
  },
  {
   "cell_type": "code",
   "execution_count": 4,
   "id": "847b3b14",
   "metadata": {},
   "outputs": [],
   "source": [
    "fibonacci = (lambda num : 0 if num == 0 else 1 if num == 1 else fibonacci(num-1)+fibonacci(num-2))"
   ]
  },
  {
   "cell_type": "code",
   "execution_count": 23,
   "id": "3d886ca5",
   "metadata": {},
   "outputs": [
    {
     "name": "stdout",
     "output_type": "stream",
     "text": [
      "함수 호출 횟수 :  1\n",
      "함수 호출 횟수 :  2\n",
      "함수 호출 횟수 :  3\n",
      "함수 호출 횟수 :  4\n",
      "함수 호출 횟수 :  5\n"
     ]
    },
    {
     "data": {
      "text/plain": [
       "2"
      ]
     },
     "execution_count": 23,
     "metadata": {},
     "output_type": "execute_result"
    }
   ],
   "source": [
    "fibonacci(3)"
   ]
  },
  {
   "cell_type": "code",
   "execution_count": 5,
   "id": "ef184165",
   "metadata": {},
   "outputs": [
    {
     "name": "stdout",
     "output_type": "stream",
     "text": [
      "Fibonacci(0) = 0\n",
      "Fibonacci(1) = 1\n",
      "Fibonacci(2) = 1\n",
      "Fibonacci(3) = 2\n",
      "Fibonacci(4) = 3\n",
      "Fibonacci(5) = 5\n",
      "Fibonacci(6) = 8\n",
      "Fibonacci(7) = 13\n",
      "Fibonacci(8) = 21\n",
      "Fibonacci(9) = 34\n",
      "Fibonacci(10) = 55\n",
      "Fibonacci(11) = 89\n",
      "Fibonacci(12) = 144\n",
      "Fibonacci(13) = 233\n",
      "Fibonacci(14) = 377\n",
      "Fibonacci(15) = 610\n",
      "Fibonacci(16) = 987\n",
      "Fibonacci(17) = 1,597\n",
      "Fibonacci(18) = 2,584\n",
      "Fibonacci(19) = 4,181\n",
      "Fibonacci(20) = 6,765\n",
      "Fibonacci(21) = 10,946\n",
      "Fibonacci(22) = 17,711\n",
      "Fibonacci(23) = 28,657\n",
      "Fibonacci(24) = 46,368\n"
     ]
    }
   ],
   "source": [
    "for num in range(25):\n",
    "    print(\"Fibonacci({}) = {:,}\".format(num, fibonacci(num)))"
   ]
  }
 ],
 "metadata": {
  "kernelspec": {
   "display_name": "Python 3 (ipykernel)",
   "language": "python",
   "name": "python3"
  },
  "language_info": {
   "codemirror_mode": {
    "name": "ipython",
    "version": 3
   },
   "file_extension": ".py",
   "mimetype": "text/x-python",
   "name": "python",
   "nbconvert_exporter": "python",
   "pygments_lexer": "ipython3",
   "version": "3.9.12"
  }
 },
 "nbformat": 4,
 "nbformat_minor": 5
}
