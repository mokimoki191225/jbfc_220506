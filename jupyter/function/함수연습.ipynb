{
 "cells": [
  {
   "cell_type": "code",
   "execution_count": 1,
   "id": "749992b8",
   "metadata": {},
   "outputs": [],
   "source": [
    "def add_txt(t1,t2):\n",
    "    print(t1+t2)"
   ]
  },
  {
   "cell_type": "code",
   "execution_count": 2,
   "id": "e4cbe307",
   "metadata": {},
   "outputs": [
    {
     "name": "stdout",
     "output_type": "stream",
     "text": [
      "잠이쏟아집니다.\n"
     ]
    }
   ],
   "source": [
    "text1 = '잠이'\n",
    "text2 = '쏟아집니다.'\n",
    "add_txt(text1,text2)"
   ]
  },
  {
   "cell_type": "code",
   "execution_count": 3,
   "id": "ebeb24bc",
   "metadata": {},
   "outputs": [
    {
     "name": "stdout",
     "output_type": "stream",
     "text": [
      "30\n"
     ]
    }
   ],
   "source": [
    "n1 = 10\n",
    "n2 = 20\n",
    "add_txt(n1,n2)"
   ]
  },
  {
   "cell_type": "code",
   "execution_count": 4,
   "id": "9a3dd282",
   "metadata": {},
   "outputs": [],
   "source": [
    "def func1(*args):\n",
    "    print(args)\n",
    "\n",
    "def func2(width, height, **kwargs):\n",
    "    print(kwargs)"
   ]
  },
  {
   "cell_type": "code",
   "execution_count": 5,
   "id": "c63b3bde",
   "metadata": {},
   "outputs": [
    {
     "name": "stdout",
     "output_type": "stream",
     "text": [
      "()\n",
      "(3, 5, 1, 5)\n"
     ]
    }
   ],
   "source": [
    "func1()\n",
    "func1(3, 5, 1, 5) "
   ]
  },
  {
   "cell_type": "code",
   "execution_count": 6,
   "id": "a7f23abd",
   "metadata": {},
   "outputs": [
    {
     "name": "stdout",
     "output_type": "stream",
     "text": [
      "{}\n",
      "{'depth': 50, 'color': 'blue'}\n"
     ]
    }
   ],
   "source": [
    "func2(10, 20)  \n",
    "func2(10, 20, depth=50, color='blue') "
   ]
  },
  {
   "cell_type": "code",
   "execution_count": 7,
   "id": "4d23adf1",
   "metadata": {},
   "outputs": [],
   "source": [
    "param = 10\n",
    "strdata = '전역변수'\n",
    "\n",
    "def func1():\n",
    "    strdata = '지역변수'\n",
    "    print(strdata)\n",
    "\n",
    "def func2(param):\n",
    "    param = 1\n",
    "\n",
    "def func3():\n",
    "    global param\n",
    "    param = 50"
   ]
  },
  {
   "cell_type": "code",
   "execution_count": 8,
   "id": "50c55cca",
   "metadata": {},
   "outputs": [
    {
     "name": "stdout",
     "output_type": "stream",
     "text": [
      "지역변수\n",
      "전역변수\n",
      "10\n"
     ]
    }
   ],
   "source": [
    "func1()\n",
    "print(strdata) \n",
    "print(param) "
   ]
  },
  {
   "cell_type": "code",
   "execution_count": 9,
   "id": "0815b1b1",
   "metadata": {},
   "outputs": [
    {
     "name": "stdout",
     "output_type": "stream",
     "text": [
      "10\n"
     ]
    }
   ],
   "source": [
    "func2(param)\n",
    "print(param) "
   ]
  },
  {
   "cell_type": "code",
   "execution_count": 10,
   "id": "a998198f",
   "metadata": {},
   "outputs": [
    {
     "name": "stdout",
     "output_type": "stream",
     "text": [
      "50\n"
     ]
    }
   ],
   "source": [
    "func3()\n",
    "print(param) "
   ]
  },
  {
   "cell_type": "code",
   "execution_count": 11,
   "id": "ea075b0e",
   "metadata": {},
   "outputs": [],
   "source": [
    "def reverse(x, y, z):\n",
    "    return z, y, x"
   ]
  },
  {
   "cell_type": "code",
   "execution_count": 12,
   "id": "3040340f",
   "metadata": {},
   "outputs": [
    {
     "name": "stdout",
     "output_type": "stream",
     "text": [
      "c\n",
      "b\n",
      "a\n"
     ]
    }
   ],
   "source": [
    "r1, r2, r3 = reverse('a', 'b', 'c')\n",
    "print(r1); print(r2); print(r3)"
   ]
  },
  {
   "cell_type": "code",
   "execution_count": 13,
   "id": "55ad730a",
   "metadata": {},
   "outputs": [],
   "source": [
    "def func1(*args):\n",
    "    print(args)\n",
    "\n",
    "def func2(width, height, **kwargs):\n",
    "    print(kwargs)"
   ]
  },
  {
   "cell_type": "code",
   "execution_count": 14,
   "id": "e2e3296e",
   "metadata": {},
   "outputs": [
    {
     "name": "stdout",
     "output_type": "stream",
     "text": [
      "()\n"
     ]
    }
   ],
   "source": [
    "func1()"
   ]
  },
  {
   "cell_type": "code",
   "execution_count": 15,
   "id": "c624e741",
   "metadata": {},
   "outputs": [
    {
     "name": "stdout",
     "output_type": "stream",
     "text": [
      "(3, 5, 1)\n"
     ]
    }
   ],
   "source": [
    "func1(3,5,1)"
   ]
  },
  {
   "cell_type": "code",
   "execution_count": 17,
   "id": "ca358c64",
   "metadata": {},
   "outputs": [
    {
     "name": "stdout",
     "output_type": "stream",
     "text": [
      "(3,)\n"
     ]
    }
   ],
   "source": [
    "func1(3)"
   ]
  },
  {
   "cell_type": "code",
   "execution_count": 18,
   "id": "65543443",
   "metadata": {},
   "outputs": [
    {
     "name": "stdout",
     "output_type": "stream",
     "text": [
      "(3, 10)\n"
     ]
    }
   ],
   "source": [
    "func1(3,10)"
   ]
  },
  {
   "cell_type": "code",
   "execution_count": 19,
   "id": "ea00441d",
   "metadata": {},
   "outputs": [
    {
     "name": "stdout",
     "output_type": "stream",
     "text": [
      "(3, 5, 1, 2, 3, 4, 5, 6, 7, 8, 9)\n"
     ]
    }
   ],
   "source": [
    "func1(3,5,1,2,3,4,5,6,7,8,9)"
   ]
  },
  {
   "cell_type": "code",
   "execution_count": 20,
   "id": "6eb4a49f",
   "metadata": {},
   "outputs": [
    {
     "ename": "TypeError",
     "evalue": "func2() missing 1 required positional argument: 'height'",
     "output_type": "error",
     "traceback": [
      "\u001b[1;31m---------------------------------------------------------------------------\u001b[0m",
      "\u001b[1;31mTypeError\u001b[0m                                 Traceback (most recent call last)",
      "Input \u001b[1;32mIn [20]\u001b[0m, in \u001b[0;36m<cell line: 1>\u001b[1;34m()\u001b[0m\n\u001b[1;32m----> 1\u001b[0m \u001b[43mfunc2\u001b[49m\u001b[43m(\u001b[49m\u001b[38;5;241;43m3\u001b[39;49m\u001b[43m)\u001b[49m\n",
      "\u001b[1;31mTypeError\u001b[0m: func2() missing 1 required positional argument: 'height'"
     ]
    }
   ],
   "source": [
    "func2(3)"
   ]
  },
  {
   "cell_type": "code",
   "execution_count": 21,
   "id": "fc955a97",
   "metadata": {},
   "outputs": [
    {
     "name": "stdout",
     "output_type": "stream",
     "text": [
      "{}\n"
     ]
    }
   ],
   "source": [
    "func2(3,10)"
   ]
  },
  {
   "cell_type": "code",
   "execution_count": 22,
   "id": "6d7d4263",
   "metadata": {},
   "outputs": [
    {
     "ename": "TypeError",
     "evalue": "func2() takes 2 positional arguments but 6 were given",
     "output_type": "error",
     "traceback": [
      "\u001b[1;31m---------------------------------------------------------------------------\u001b[0m",
      "\u001b[1;31mTypeError\u001b[0m                                 Traceback (most recent call last)",
      "Input \u001b[1;32mIn [22]\u001b[0m, in \u001b[0;36m<cell line: 1>\u001b[1;34m()\u001b[0m\n\u001b[1;32m----> 1\u001b[0m \u001b[43mfunc2\u001b[49m\u001b[43m(\u001b[49m\u001b[38;5;241;43m3\u001b[39;49m\u001b[43m,\u001b[49m\u001b[38;5;241;43m10\u001b[39;49m\u001b[43m,\u001b[49m\u001b[38;5;241;43m15\u001b[39;49m\u001b[43m,\u001b[49m\u001b[38;5;241;43m20\u001b[39;49m\u001b[43m,\u001b[49m\u001b[38;5;241;43m21\u001b[39;49m\u001b[43m,\u001b[49m\u001b[38;5;241;43m30\u001b[39;49m\u001b[43m)\u001b[49m\n",
      "\u001b[1;31mTypeError\u001b[0m: func2() takes 2 positional arguments but 6 were given"
     ]
    }
   ],
   "source": [
    "func2(3,10,15,20,21,30)"
   ]
  },
  {
   "cell_type": "code",
   "execution_count": 23,
   "id": "1bc525fa",
   "metadata": {},
   "outputs": [
    {
     "name": "stdout",
     "output_type": "stream",
     "text": [
      "{'한글': 10, '색깔': '파란'}\n"
     ]
    }
   ],
   "source": [
    "func2(3,10,한글=10,색깔='파란')"
   ]
  },
  {
   "cell_type": "code",
   "execution_count": 24,
   "id": "c2c46a5c",
   "metadata": {},
   "outputs": [
    {
     "ename": "TypeError",
     "evalue": "func2() missing 2 required positional arguments: 'width' and 'height'",
     "output_type": "error",
     "traceback": [
      "\u001b[1;31m---------------------------------------------------------------------------\u001b[0m",
      "\u001b[1;31mTypeError\u001b[0m                                 Traceback (most recent call last)",
      "Input \u001b[1;32mIn [24]\u001b[0m, in \u001b[0;36m<cell line: 1>\u001b[1;34m()\u001b[0m\n\u001b[1;32m----> 1\u001b[0m \u001b[38;5;28mprint\u001b[39m(\u001b[38;5;28mtype\u001b[39m(\u001b[43mfunc2\u001b[49m\u001b[43m(\u001b[49m\u001b[43m)\u001b[49m))\n",
      "\u001b[1;31mTypeError\u001b[0m: func2() missing 2 required positional arguments: 'width' and 'height'"
     ]
    }
   ],
   "source": [
    "print(type(func2()))"
   ]
  },
  {
   "cell_type": "code",
   "execution_count": 25,
   "id": "f92cdb7a",
   "metadata": {},
   "outputs": [
    {
     "name": "stdout",
     "output_type": "stream",
     "text": [
      "{}\n",
      "<class 'NoneType'>\n"
     ]
    }
   ],
   "source": [
    "print(type(func2(3,10)))"
   ]
  },
  {
   "cell_type": "code",
   "execution_count": 26,
   "id": "5057d342",
   "metadata": {},
   "outputs": [
    {
     "name": "stdout",
     "output_type": "stream",
     "text": [
      "{'data': 10}\n",
      "<class 'NoneType'>\n"
     ]
    }
   ],
   "source": [
    "print(type(func2(3,10,data=10)))"
   ]
  },
  {
   "cell_type": "code",
   "execution_count": 27,
   "id": "897a78df",
   "metadata": {},
   "outputs": [
    {
     "name": "stdout",
     "output_type": "stream",
     "text": [
      "{'data': '10'}\n",
      "<class 'NoneType'>\n"
     ]
    }
   ],
   "source": [
    "print(type(func2(3,10,data='10')))"
   ]
  },
  {
   "cell_type": "code",
   "execution_count": null,
   "id": "812735b2",
   "metadata": {},
   "outputs": [],
   "source": []
  }
 ],
 "metadata": {
  "kernelspec": {
   "display_name": "Python 3 (ipykernel)",
   "language": "python",
   "name": "python3"
  },
  "language_info": {
   "codemirror_mode": {
    "name": "ipython",
    "version": 3
   },
   "file_extension": ".py",
   "mimetype": "text/x-python",
   "name": "python",
   "nbconvert_exporter": "python",
   "pygments_lexer": "ipython3",
   "version": "3.9.12"
  }
 },
 "nbformat": 4,
 "nbformat_minor": 5
}
