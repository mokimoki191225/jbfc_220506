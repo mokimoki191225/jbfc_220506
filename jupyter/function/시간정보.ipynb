{
 "cells": [
  {
   "cell_type": "code",
   "execution_count": 23,
   "id": "2ff04b8e",
   "metadata": {},
   "outputs": [],
   "source": [
    "# 현재 시간을 년-월-일 시:분:초로 출력하기(localtime, strftime)\n",
    "from time import localtime, strftime\n",
    "\n",
    "def writelog(logfile, log):\n",
    "    time_stamp = strftime('%Y-%m-%d %X\\t', localtime())\n",
    "    log = time_stamp + log + '\\n'\n",
    "\n",
    "    with open(logfile, 'a') as f:\n",
    "        f.writelines(log)\n",
    "\n",
    "logfile = 'test.log'\n",
    "\n",
    "def writelog(logfile, log):\n",
    "    time_stamp = strftime('%Y-%m-%d %X\\t', localtime())\n",
    "    log = time_stamp + log + '\\n'\n",
    "\n",
    "    with open(logfile, 'a') as f:\n",
    "        f.writelines(log)\n",
    "\n",
    "logfile = 'test2.log'\n",
    "\n",
    "# ! rm $logfile\n",
    "# ! del test.log \n",
    "\n",
    "writelog(logfile, '첫번째 로깅 문장입니다.')"
   ]
  },
  {
   "cell_type": "code",
   "execution_count": 14,
   "id": "24e107b5",
   "metadata": {},
   "outputs": [],
   "source": [
    "writelog(logfile, '두번째 로깅 문장입니다.')"
   ]
  },
  {
   "cell_type": "code",
   "execution_count": 24,
   "id": "097fd804",
   "metadata": {},
   "outputs": [
    {
     "name": "stdout",
     "output_type": "stream",
     "text": [
      "2022-05-24 15:20:05\t첫번째 로깅 문장입니다.\n",
      "2022-05-24 15:21:34\t첫번째 로깅 문장입니다.\n",
      "2022-05-24 15:22:27\t두번째 로깅 문장입니다.\n",
      "2022-05-24 15:22:44\t두번째 로깅 문장입니다.\n",
      "2022-05-24 15:22:46\t두번째 로깅 문장입니다.\n",
      "2022-05-24 15:22:47\t두번째 로깅 문장입니다.\n",
      "2022-05-24 15:22:47\t두번째 로깅 문장입니다.\n",
      "2022-05-24 15:22:47\t두번째 로깅 문장입니다.\n",
      "2022-05-24 15:22:47\t두번째 로깅 문장입니다.\n",
      "2022-05-24 15:22:47\t두번째 로깅 문장입니다.\n",
      "2022-05-24 15:22:47\t두번째 로깅 문장입니다.\n"
     ]
    }
   ],
   "source": [
    "# ! cat $logfile\n",
    "! type test.log"
   ]
  },
  {
   "cell_type": "code",
   "execution_count": 21,
   "id": "0d846e36",
   "metadata": {},
   "outputs": [
    {
     "data": {
      "text/plain": [
       "'C:\\\\Users\\\\student\\\\Anaconda_src\\\\S01_Pyton_Review'"
      ]
     },
     "execution_count": 21,
     "metadata": {},
     "output_type": "execute_result"
    }
   ],
   "source": [
    "%pwd"
   ]
  },
  {
   "cell_type": "code",
   "execution_count": 25,
   "id": "70e9cb73",
   "metadata": {},
   "outputs": [
    {
     "name": "stdout",
     "output_type": "stream",
     "text": [
      " C 드라이브의 볼륨에는 이름이 없습니다.\n",
      " 볼륨 일련 번호: 78D5-6279\n",
      "\n",
      " C:\\Users\\student\\Anaconda_src\\S01_Pyton_Review 디렉터리\n",
      "\n",
      "2022-05-24  오후 03:22               495 test.log\n",
      "2022-05-24  오후 03:31                45 test2.log\n",
      "               2개 파일                 540 바이트\n",
      "               0개 디렉터리  206,781,267,968 바이트 남음\n"
     ]
    }
   ],
   "source": [
    "!dir *.log"
   ]
  },
  {
   "cell_type": "code",
   "execution_count": 33,
   "id": "900a6448",
   "metadata": {},
   "outputs": [
    {
     "name": "stdout",
     "output_type": "stream",
     "text": [
      "time.struct_time(tm_year=2022, tm_mon=5, tm_mday=24, tm_hour=15, tm_min=38, tm_sec=32, tm_wday=1, tm_yday=144, tm_isdst=0)\n",
      "오늘은 [2022-01-01]이후 [144]일째 되는 날입니다.\n"
     ]
    }
   ],
   "source": [
    "# 올해 경과된 날짜수 계산하기(localtime)\n",
    "from time import localtime\n",
    "from datetime import datetime\n",
    "\n",
    "chk_time1 = datetime.now()\n",
    "\n",
    "t = localtime()\n",
    "print(t)\n",
    "\n",
    "start_day = '%d-01-01' % (t.tm_year)\n",
    "elapsed_day = t.tm_yday\n",
    "\n",
    "print('오늘은 [%s]이후 [%d]일째 되는 날입니다.' %(start_day, elapsed_day))\n",
    "chk_time2 = datetime.now()"
   ]
  },
  {
   "cell_type": "code",
   "execution_count": 36,
   "id": "dba6b1c7",
   "metadata": {},
   "outputs": [
    {
     "name": "stdout",
     "output_type": "stream",
     "text": [
      "0:00:00\n"
     ]
    }
   ],
   "source": [
    "chk_time = chk_time2-chk_time1\n",
    "print(chk_time)"
   ]
  },
  {
   "cell_type": "code",
   "execution_count": 18,
   "id": "100d5b71",
   "metadata": {},
   "outputs": [
    {
     "data": {
      "text/plain": [
       "int"
      ]
     },
     "execution_count": 18,
     "metadata": {},
     "output_type": "execute_result"
    }
   ],
   "source": [
    "type(t.tm_year)"
   ]
  },
  {
   "cell_type": "code",
   "execution_count": 26,
   "id": "25e152c3",
   "metadata": {},
   "outputs": [],
   "source": [
    "?localtime"
   ]
  },
  {
   "cell_type": "code",
   "execution_count": 29,
   "id": "12fedd81",
   "metadata": {},
   "outputs": [],
   "source": [
    "! mkdir 연습"
   ]
  },
  {
   "cell_type": "code",
   "execution_count": 37,
   "id": "5a15f2c2",
   "metadata": {},
   "outputs": [
    {
     "ename": "NameError",
     "evalue": "name 'today' is not defined",
     "output_type": "error",
     "traceback": [
      "\u001b[1;31m---------------------------------------------------------------------------\u001b[0m",
      "\u001b[1;31mNameError\u001b[0m                                 Traceback (most recent call last)",
      "Input \u001b[1;32mIn [37]\u001b[0m, in \u001b[0;36m<cell line: 1>\u001b[1;34m()\u001b[0m\n\u001b[1;32m----> 1\u001b[0m elapsed \u001b[38;5;241m=\u001b[39m \u001b[43mtoday\u001b[49m \u001b[38;5;241m-\u001b[39m m_day\n\u001b[0;32m      2\u001b[0m elapsed\n",
      "\u001b[1;31mNameError\u001b[0m: name 'today' is not defined"
     ]
    }
   ],
   "source": [
    "elapsed = today - m_day\n",
    "elapsed"
   ]
  },
  {
   "cell_type": "code",
   "execution_count": 1,
   "id": "7d62f0b6",
   "metadata": {},
   "outputs": [],
   "source": [
    "from datetime import datetime\n",
    "\n",
    "def getMemorialDay(year, month, day, mem_day='기념일', is_msg=True):\n",
    "    \n",
    "    m_day   = datetime(year, month, day)\n",
    "    today   = datetime.now()\n",
    "    \n",
    "    elapsed = today - m_day\n",
    "    \n",
    "    elapsed_day   = elapsed.days\n",
    "    elapsed_month = elapsed_day / 30\n",
    "    elapsed_year  = elapsed_day / 365\n",
    "    \n",
    "    e_dd = elapsed_day\n",
    "    e_mm = int(elapsed_month)\n",
    "    e_yy = int(elapsed_year)\n",
    "    \n",
    "    if is_msg == True:\n",
    "        print('오늘은 {}로부터 {:0,.1f}일 경과되었고, 달 수로는 {:,}개월째, 연수로는 {}년째 되었습니다!!'.format(\n",
    "        mem_day,e_dd,e_mm,e_yy))\n",
    "\n",
    "    return e_yy, e_mm, e_dd\n",
    "    "
   ]
  },
  {
   "cell_type": "code",
   "execution_count": 2,
   "id": "3ef84ac7",
   "metadata": {},
   "outputs": [
    {
     "name": "stdout",
     "output_type": "stream",
     "text": [
      "오늘은 밀레니엄일로부터 8,179.0일 경과되었고, 달 수로는 272개월째, 연수로는 22년째 되었습니다!!\n"
     ]
    },
    {
     "data": {
      "text/plain": [
       "(22, 272, 8179)"
      ]
     },
     "execution_count": 2,
     "metadata": {},
     "output_type": "execute_result"
    }
   ],
   "source": [
    "getMemorialDay(2000,1,1, '밀레니엄일')"
   ]
  },
  {
   "cell_type": "code",
   "execution_count": 131,
   "id": "3a6f49e8",
   "metadata": {},
   "outputs": [
    {
     "data": {
      "text/plain": [
       "'크리스마스까지는 215일 남았습니다!!'"
      ]
     },
     "execution_count": 131,
     "metadata": {},
     "output_type": "execute_result"
    }
   ],
   "source": [
    "e_yy, e_mm, e_dd = getMemorialDay(2022, 12, 25, '크리스마스', False)\n",
    "\n",
    "'크리스마스까지는 %d일 남았습니다!!' % abs(e_dd)"
   ]
  },
  {
   "cell_type": "code",
   "execution_count": null,
   "id": "988dd909",
   "metadata": {},
   "outputs": [],
   "source": []
  }
 ],
 "metadata": {
  "kernelspec": {
   "display_name": "Python 3 (ipykernel)",
   "language": "python",
   "name": "python3"
  },
  "language_info": {
   "codemirror_mode": {
    "name": "ipython",
    "version": 3
   },
   "file_extension": ".py",
   "mimetype": "text/x-python",
   "name": "python",
   "nbconvert_exporter": "python",
   "pygments_lexer": "ipython3",
   "version": "3.9.12"
  }
 },
 "nbformat": 4,
 "nbformat_minor": 5
}
