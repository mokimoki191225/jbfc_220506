{
 "cells": [
  {
   "cell_type": "code",
   "execution_count": 1,
   "id": "c63f24b7",
   "metadata": {},
   "outputs": [
    {
     "ename": "SyntaxError",
     "evalue": "invalid syntax (2950590970.py, line 1)",
     "output_type": "error",
     "traceback": [
      "\u001b[1;36m  Input \u001b[1;32mIn [1]\u001b[1;36m\u001b[0m\n\u001b[1;33m    일반적으로 두개를 다 되게 하려면 둘다 정의\u001b[0m\n\u001b[1;37m          ^\u001b[0m\n\u001b[1;31mSyntaxError\u001b[0m\u001b[1;31m:\u001b[0m invalid syntax\n"
     ]
    }
   ],
   "source": [
    " 일반적으로 두개를 다 되게 하려면 둘다 정의\n",
    "def add1(a, b):\n",
    "    return a + b\n",
    "\n",
    "def add2(a, b, c):\n",
    "    return a + b + c"
   ]
  },
  {
   "cell_type": "code",
   "execution_count": 2,
   "id": "37f19d7a",
   "metadata": {},
   "outputs": [],
   "source": [
    "# 2개 혹은 3개의 숫자 더하기\n",
    "def add2(a, b, c=0):\n",
    "    return a + b + c"
   ]
  },
  {
   "cell_type": "code",
   "execution_count": 3,
   "id": "ee0b4391",
   "metadata": {},
   "outputs": [
    {
     "data": {
      "text/plain": [
       "60"
      ]
     },
     "execution_count": 3,
     "metadata": {},
     "output_type": "execute_result"
    }
   ],
   "source": [
    "add2(10, 20, 30)"
   ]
  },
  {
   "cell_type": "code",
   "execution_count": 4,
   "id": "ad5076ed",
   "metadata": {},
   "outputs": [],
   "source": [
    "# *args\n",
    "# **kvargs\n",
    "\n",
    "def introduce(name, greeting):\n",
    "    return \"{name}님, {greeting}\".format(\n",
    "        name=name,\n",
    "        greeting=greeting,\n",
    "    )"
   ]
  },
  {
   "cell_type": "code",
   "execution_count": 7,
   "id": "b5c763f0",
   "metadata": {},
   "outputs": [],
   "source": [
    "introduce_dict = {\n",
    "    \"name\" : \"김진수\",\n",
    "    \"greeting\" : \"안녕하세요\",\n",
    "}"
   ]
  },
  {
   "cell_type": "code",
   "execution_count": 8,
   "id": "6fda03e6",
   "metadata": {},
   "outputs": [
    {
     "data": {
      "text/plain": [
       "'김진수님, 안녕하세요'"
      ]
     },
     "execution_count": 8,
     "metadata": {},
     "output_type": "execute_result"
    }
   ],
   "source": [
    "introduce(**introduce_dict)"
   ]
  },
  {
   "cell_type": "code",
   "execution_count": 9,
   "id": "931482a0",
   "metadata": {},
   "outputs": [
    {
     "data": {
      "text/plain": [
       "30"
      ]
     },
     "execution_count": 9,
     "metadata": {},
     "output_type": "execute_result"
    }
   ],
   "source": [
    "def add(a, b):\n",
    "    return a + b\n",
    "\n",
    "add(10, 20)"
   ]
  },
  {
   "cell_type": "code",
   "execution_count": 10,
   "id": "d653211f",
   "metadata": {},
   "outputs": [],
   "source": [
    "data = (300,30000)"
   ]
  },
  {
   "cell_type": "code",
   "execution_count": 11,
   "id": "3dc94e18",
   "metadata": {},
   "outputs": [
    {
     "ename": "TypeError",
     "evalue": "add() missing 1 required positional argument: 'b'",
     "output_type": "error",
     "traceback": [
      "\u001b[1;31m---------------------------------------------------------------------------\u001b[0m",
      "\u001b[1;31mTypeError\u001b[0m                                 Traceback (most recent call last)",
      "Input \u001b[1;32mIn [11]\u001b[0m, in \u001b[0;36m<cell line: 1>\u001b[1;34m()\u001b[0m\n\u001b[1;32m----> 1\u001b[0m \u001b[43madd\u001b[49m\u001b[43m(\u001b[49m\u001b[43mdata\u001b[49m\u001b[43m)\u001b[49m\n",
      "\u001b[1;31mTypeError\u001b[0m: add() missing 1 required positional argument: 'b'"
     ]
    }
   ],
   "source": [
    "add(data)"
   ]
  },
  {
   "cell_type": "code",
   "execution_count": 12,
   "id": "9025d595",
   "metadata": {},
   "outputs": [
    {
     "data": {
      "text/plain": [
       "30300"
      ]
     },
     "execution_count": 12,
     "metadata": {},
     "output_type": "execute_result"
    }
   ],
   "source": [
    "add(*data)"
   ]
  },
  {
   "cell_type": "code",
   "execution_count": 13,
   "id": "394169a2",
   "metadata": {},
   "outputs": [],
   "source": [
    "data = 10,20,30,40,50,60,70,80,90"
   ]
  },
  {
   "cell_type": "markdown",
   "id": "d5742a7f",
   "metadata": {},
   "source": [
    "```python\n",
    "이렇게 하면 파이썬 코드처럼 생김\n",
    "```"
   ]
  },
  {
   "cell_type": "code",
   "execution_count": 14,
   "id": "941137ff",
   "metadata": {},
   "outputs": [
    {
     "ename": "TypeError",
     "evalue": "add() takes 2 positional arguments but 9 were given",
     "output_type": "error",
     "traceback": [
      "\u001b[1;31m---------------------------------------------------------------------------\u001b[0m",
      "\u001b[1;31mTypeError\u001b[0m                                 Traceback (most recent call last)",
      "Input \u001b[1;32mIn [14]\u001b[0m, in \u001b[0;36m<cell line: 1>\u001b[1;34m()\u001b[0m\n\u001b[1;32m----> 1\u001b[0m \u001b[43madd\u001b[49m\u001b[43m(\u001b[49m\u001b[38;5;241;43m*\u001b[39;49m\u001b[43mdata\u001b[49m\u001b[43m)\u001b[49m\n",
      "\u001b[1;31mTypeError\u001b[0m: add() takes 2 positional arguments but 9 were given"
     ]
    }
   ],
   "source": [
    "add(*data)"
   ]
  },
  {
   "cell_type": "code",
   "execution_count": 15,
   "id": "edb70592",
   "metadata": {},
   "outputs": [],
   "source": [
    "def introduce(name, greeting):\n",
    "    return \"{name}님, {greeting}\".format(\n",
    "        name = name,\n",
    "        greeting = greeting,\n",
    "    )"
   ]
  },
  {
   "cell_type": "code",
   "execution_count": 16,
   "id": "f7ef3411",
   "metadata": {},
   "outputs": [
    {
     "data": {
      "text/plain": [
       "'김영목님, 졸리세요'"
      ]
     },
     "execution_count": 16,
     "metadata": {},
     "output_type": "execute_result"
    }
   ],
   "source": [
    "introduce('김영목','졸리세요')"
   ]
  },
  {
   "cell_type": "code",
   "execution_count": 30,
   "id": "599705ab",
   "metadata": {},
   "outputs": [],
   "source": [
    "introduce_dict = {\n",
    "    \"name\" : \"김진수\",\n",
    "    \"greeting\" : \"안녕하세요\",}"
   ]
  },
  {
   "cell_type": "code",
   "execution_count": 23,
   "id": "a38d8b48",
   "metadata": {},
   "outputs": [
    {
     "data": {
      "text/plain": [
       "'김진수님, 안녕하세요'"
      ]
     },
     "execution_count": 23,
     "metadata": {},
     "output_type": "execute_result"
    }
   ],
   "source": [
    "introduce(**introduce_dict)"
   ]
  },
  {
   "cell_type": "code",
   "execution_count": null,
   "id": "0e6848d1",
   "metadata": {},
   "outputs": [],
   "source": []
  }
 ],
 "metadata": {
  "kernelspec": {
   "display_name": "Python 3 (ipykernel)",
   "language": "python",
   "name": "python3"
  },
  "language_info": {
   "codemirror_mode": {
    "name": "ipython",
    "version": 3
   },
   "file_extension": ".py",
   "mimetype": "text/x-python",
   "name": "python",
   "nbconvert_exporter": "python",
   "pygments_lexer": "ipython3",
   "version": "3.9.12"
  }
 },
 "nbformat": 4,
 "nbformat_minor": 5
}
