{
 "cells": [
  {
   "cell_type": "code",
   "execution_count": null,
   "id": "7a1a9b55",
   "metadata": {},
   "outputs": [],
   "source": [
    "%ls"
   ]
  },
  {
   "cell_type": "markdown",
   "id": "9ab022fb",
   "metadata": {},
   "source": [
    "%%writefile => %%는 쥬피터 노트북만 제공한다. 파일을 생성하는 함수 writefile"
   ]
  },
  {
   "cell_type": "code",
   "execution_count": null,
   "id": "f668ece8",
   "metadata": {},
   "outputs": [],
   "source": [
    "%%writefile my_first_module.py\n",
    "# File name: my_first_module.py\n",
    "\n",
    "def my_function():\n",
    "    print(\"This is my first module.\") "
   ]
  },
  {
   "cell_type": "code",
   "execution_count": null,
   "id": "96c6d615",
   "metadata": {},
   "outputs": [],
   "source": [
    "%%writefile my_wonder.py\n",
    "# File name: my_first_module.py\n",
    "\n",
    "def my_wonder_function():\n",
    "    print(\"퇴근하자\") "
   ]
  },
  {
   "cell_type": "code",
   "execution_count": null,
   "id": "269f7a1e",
   "metadata": {},
   "outputs": [],
   "source": [
    "%%writefile 중요.py\n",
    "\n",
    "def 중요함수():\n",
    "    print('졸립니다.')"
   ]
  },
  {
   "cell_type": "code",
   "execution_count": null,
   "id": "8b429547",
   "metadata": {},
   "outputs": [],
   "source": [
    "import 중요\n",
    "\n",
    "중요.중요함수()"
   ]
  },
  {
   "cell_type": "code",
   "execution_count": null,
   "id": "5099d41d",
   "metadata": {},
   "outputs": [],
   "source": [
    "import my_wonder\n",
    "\n",
    "my_wonder.my_wonder_function()"
   ]
  },
  {
   "cell_type": "code",
   "execution_count": null,
   "id": "32460558",
   "metadata": {},
   "outputs": [],
   "source": [
    "!type my_first_module.py"
   ]
  },
  {
   "cell_type": "code",
   "execution_count": null,
   "id": "8a31f052",
   "metadata": {},
   "outputs": [],
   "source": [
    "%ls"
   ]
  },
  {
   "cell_type": "markdown",
   "id": "276b409b",
   "metadata": {},
   "source": [
    "* \"*\" py의 모든파일불러오기"
   ]
  },
  {
   "cell_type": "code",
   "execution_count": null,
   "id": "4dd217c6",
   "metadata": {},
   "outputs": [],
   "source": [
    "!dir *.py"
   ]
  },
  {
   "cell_type": "code",
   "execution_count": null,
   "id": "cfd2d84d",
   "metadata": {},
   "outputs": [],
   "source": [
    "import my_first_module\n",
    "\n",
    "my_first_module.my_function()"
   ]
  },
  {
   "cell_type": "code",
   "execution_count": null,
   "id": "cda5011b",
   "metadata": {},
   "outputs": [],
   "source": [
    "! echo %PATH%"
   ]
  },
  {
   "cell_type": "code",
   "execution_count": null,
   "id": "5fadf5d6",
   "metadata": {},
   "outputs": [],
   "source": [
    "! mkdir modules"
   ]
  },
  {
   "cell_type": "code",
   "execution_count": null,
   "id": "4ee93989",
   "metadata": {},
   "outputs": [],
   "source": [
    "%%writefile modules/my_area.py\n",
    "# File name: my_area.py\n",
    "\n",
    "PI = 3.14\n",
    "\n",
    "def square_area(a): # 정사각형의 넓이 반환\n",
    "    return a ** 2\n",
    "\n",
    "def circle_area(r): # 원의 넓이 반환\n",
    "    return PI * r ** 2"
   ]
  },
  {
   "cell_type": "code",
   "execution_count": null,
   "id": "4f99db1f",
   "metadata": {},
   "outputs": [],
   "source": [
    "! dir modules"
   ]
  },
  {
   "cell_type": "code",
   "execution_count": null,
   "id": "e7ce8aa9",
   "metadata": {},
   "outputs": [],
   "source": [
    "%pwd"
   ]
  },
  {
   "cell_type": "code",
   "execution_count": null,
   "id": "535e4fc7",
   "metadata": {},
   "outputs": [],
   "source": [
    "from modules import my_area    # 모듈 불러오기\n",
    "\n",
    "print('pi =', my_area.PI) # 모듈의 변수 이용\n",
    "print('square area =', my_area.square_area(5)) # 모듈의 함수 이용      \n",
    "print('circle area =', my_area.circle_area(2))"
   ]
  },
  {
   "cell_type": "markdown",
   "id": "94308f20",
   "metadata": {},
   "source": [
    "* __doc__는 기본 시스템이 제공하는 함수입니다."
   ]
  },
  {
   "cell_type": "code",
   "execution_count": null,
   "id": "2e44f0cd",
   "metadata": {},
   "outputs": [],
   "source": [
    "dir(my_area)"
   ]
  },
  {
   "cell_type": "code",
   "execution_count": null,
   "id": "40f55381",
   "metadata": {},
   "outputs": [],
   "source": [
    "from modules.my_area import PI # 모듈의 변수 바로 불러오기\n",
    "\n",
    "print('pi =', PI) # 모듈의 변수 이용"
   ]
  },
  {
   "cell_type": "code",
   "execution_count": null,
   "id": "9ce6b25e",
   "metadata": {},
   "outputs": [],
   "source": [
    "from modules.my_area import square_area\n",
    "from modules.my_area import circle_area\n",
    "\n",
    "print('square area =', square_area(5)) # 모듈의 함수 이용      \n",
    "print('circle area =', circle_area(2))   "
   ]
  },
  {
   "cell_type": "code",
   "execution_count": null,
   "id": "974f1f54",
   "metadata": {},
   "outputs": [],
   "source": [
    "from modules.my_area import PI, square_area, circle_area\n",
    "\n",
    "print('pi =', PI) # 모듈의 변수 이용\n",
    "print('square area =', square_area(5)) # 모듈의 함수 이용      \n",
    "print('circle area =', circle_area(2))  "
   ]
  },
  {
   "cell_type": "code",
   "execution_count": null,
   "id": "bc909970",
   "metadata": {},
   "outputs": [],
   "source": [
    "from modules.my_area import *\n",
    "\n",
    "print('pi =', PI) # 모듈의 변수 이용\n",
    "print('square area =', square_area(5)) # 모듈의 함수 이용\n",
    "print('circle area =', circle_area(2)) "
   ]
  },
  {
   "cell_type": "code",
   "execution_count": null,
   "id": "1bf0af76",
   "metadata": {},
   "outputs": [],
   "source": [
    "%%writefile modules/my_module1.py\n",
    "# File name: my_module1.py\n",
    "\n",
    "def func1():\n",
    "    print(\"func1 in  my_module1 \")\n",
    "\n",
    "def func2():\n",
    "    print(\"func2 in  my_module1 \")"
   ]
  },
  {
   "cell_type": "code",
   "execution_count": null,
   "id": "1c6135d4",
   "metadata": {},
   "outputs": [],
   "source": [
    "%%writefile modules/my_module2.py\n",
    "# File name: my_module2.py\n",
    "\n",
    "def func2():\n",
    "    print(\"func2 in  my_module2 \")\n",
    "\n",
    "def func3():\n",
    "    print(\"func3 in  my_module2 \")"
   ]
  },
  {
   "cell_type": "markdown",
   "id": "e7be8891",
   "metadata": {},
   "source": [
    "* 나중의 것으로 업어쳐진다, 수정후 커널 재연결"
   ]
  },
  {
   "cell_type": "code",
   "execution_count": 2,
   "id": "1a3a8bd5",
   "metadata": {},
   "outputs": [
    {
     "name": "stdout",
     "output_type": "stream",
     "text": [
      "func1 in  my_module2 \n",
      "func2 in  my_module2 \n",
      "func3 in  my_module2 \n"
     ]
    }
   ],
   "source": [
    "from modules.my_module1 import *\n",
    "from modules.my_module2 import *\n",
    "\n",
    "func1()\n",
    "func2()\n",
    "func3()"
   ]
  },
  {
   "cell_type": "code",
   "execution_count": 1,
   "id": "10e4093d",
   "metadata": {},
   "outputs": [
    {
     "name": "stdout",
     "output_type": "stream",
     "text": [
      "func1 in  my_module1 \n",
      "func2 in  my_module1 \n",
      "func3 in  my_module1 \n"
     ]
    }
   ],
   "source": [
    "from modules.my_module2 import *\n",
    "from modules.my_module1 import *\n",
    "\n",
    "func1()\n",
    "func2()\n",
    "func3()"
   ]
  },
  {
   "cell_type": "code",
   "execution_count": 3,
   "id": "71bd7f17",
   "metadata": {},
   "outputs": [
    {
     "name": "stdout",
     "output_type": "stream",
     "text": [
      "pi = 3.14\n",
      "square area = 25\n",
      "circle area = 12.56\n"
     ]
    }
   ],
   "source": [
    "from modules.my_area import PI as pi\n",
    "from modules.my_area import square_area as square\n",
    "from modules.my_area import circle_area as circle\n",
    "\n",
    "print('pi =', pi) # 모듈 변수의 별명 이용\n",
    "print('square area =', square(5)) # 모듈 함수의 별명 이용\n",
    "print('circle area =', circle(2))  "
   ]
  },
  {
   "cell_type": "markdown",
   "id": "2fb49bf4",
   "metadata": {},
   "source": [
    "*아래처럼하면 다 적어줘야한다."
   ]
  },
  {
   "cell_type": "code",
   "execution_count": 4,
   "id": "74f34610",
   "metadata": {},
   "outputs": [
    {
     "data": {
      "text/plain": [
       "3.14"
      ]
     },
     "execution_count": 4,
     "metadata": {},
     "output_type": "execute_result"
    }
   ],
   "source": [
    "import modules.my_area\n",
    "\n",
    "modules.my_area.PI"
   ]
  },
  {
   "cell_type": "code",
   "execution_count": null,
   "id": "9fb98f2b",
   "metadata": {},
   "outputs": [],
   "source": [
    "import modules.my_area as area # 모듈명(my_area)에 별명(area)을 붙임 \n",
    "\n",
    "print('pi =', area.PI) # 모듈명 대신 별명 이용\n",
    "print('square area =', area.square_area(5))     \n",
    "print('circle area =', area.circle_area(2))"
   ]
  },
  {
   "cell_type": "code",
   "execution_count": 5,
   "id": "65948751",
   "metadata": {},
   "outputs": [
    {
     "name": "stdout",
     "output_type": "stream",
     "text": [
      "Writing modules/my_module_test1.py\n"
     ]
    }
   ],
   "source": [
    "%%writefile modules/my_module_test1.py\n",
    "# File name: my_module_test1.py\n",
    "\n",
    "def func(a):\n",
    "    print(\"입력 숫자:\", a)\n",
    "    \n",
    "func(3)"
   ]
  },
  {
   "cell_type": "code",
   "execution_count": 6,
   "id": "6195d27f",
   "metadata": {},
   "outputs": [
    {
     "name": "stdout",
     "output_type": "stream",
     "text": [
      "입력 숫자: 3\n"
     ]
    }
   ],
   "source": [
    "%run ./modules/my_module_test1.py"
   ]
  },
  {
   "cell_type": "code",
   "execution_count": 7,
   "id": "94d6aa84",
   "metadata": {},
   "outputs": [
    {
     "name": "stdout",
     "output_type": "stream",
     "text": [
      "입력 숫자: 3\n"
     ]
    }
   ],
   "source": [
    "from modules import my_module_test1"
   ]
  },
  {
   "cell_type": "markdown",
   "id": "2729b67b",
   "metadata": {},
   "source": [
    "** if __name__ 로 패키지 확인하고 run으로 확인하고 from으로 사용할때는 안나오게 한다."
   ]
  },
  {
   "cell_type": "code",
   "execution_count": 8,
   "id": "bf0dcdb6",
   "metadata": {},
   "outputs": [
    {
     "name": "stdout",
     "output_type": "stream",
     "text": [
      "Writing modules/my_module_test2.py\n"
     ]
    }
   ],
   "source": [
    "%%writefile modules/my_module_test2.py\n",
    "# File name: my_module_test2.py\n",
    "\n",
    "def func(a):\n",
    "    print(\"입력 숫자:\",a)\n",
    "\n",
    "if __name__ == \"__main__\":\n",
    "    print(\"모듈을 직접 실행\")\n",
    "    func(3)\n",
    "    func(4)"
   ]
  },
  {
   "cell_type": "code",
   "execution_count": 9,
   "id": "0918fcd6",
   "metadata": {},
   "outputs": [
    {
     "name": "stdout",
     "output_type": "stream",
     "text": [
      "모듈을 직접 실행\n",
      "입력 숫자: 3\n",
      "입력 숫자: 4\n"
     ]
    }
   ],
   "source": [
    "%run ./modules/my_module_test2.py"
   ]
  },
  {
   "cell_type": "code",
   "execution_count": 10,
   "id": "c2479bec",
   "metadata": {},
   "outputs": [],
   "source": [
    "from modules import my_module_test2"
   ]
  },
  {
   "cell_type": "code",
   "execution_count": 12,
   "id": "08b2321d",
   "metadata": {},
   "outputs": [
    {
     "name": "stdout",
     "output_type": "stream",
     "text": [
      "입력 숫자: 3\n"
     ]
    }
   ],
   "source": [
    "my_module_test2.func(3)"
   ]
  },
  {
   "cell_type": "markdown",
   "id": "5e5c3058",
   "metadata": {},
   "source": [
    "* else에다가 다르게 구현해서 사용하면 된다."
   ]
  },
  {
   "cell_type": "code",
   "execution_count": 13,
   "id": "353c4574",
   "metadata": {},
   "outputs": [
    {
     "name": "stdout",
     "output_type": "stream",
     "text": [
      "Writing modules/my_module_test3.py\n"
     ]
    }
   ],
   "source": [
    "%%writefile modules/my_module_test3.py\n",
    "# File name: my_module_test3.py\n",
    "\n",
    "def func(a):\n",
    "    print(\"입력 숫자:\",a)\n",
    "\n",
    "if __name__ == \"__main__\":\n",
    "    print(\"모듈을 직접 실행\")\n",
    "    func(3)\n",
    "    func(4)\n",
    "else:\n",
    "    print(\"모듈을 임포트해서 실행\")"
   ]
  },
  {
   "cell_type": "code",
   "execution_count": 14,
   "id": "32c8d65b",
   "metadata": {},
   "outputs": [
    {
     "name": "stdout",
     "output_type": "stream",
     "text": [
      "모듈을 직접 실행\n",
      "입력 숫자: 3\n",
      "입력 숫자: 4\n"
     ]
    }
   ],
   "source": [
    "%run ./modules/my_module_test3.py"
   ]
  },
  {
   "cell_type": "code",
   "execution_count": 15,
   "id": "1463e94e",
   "metadata": {},
   "outputs": [
    {
     "name": "stdout",
     "output_type": "stream",
     "text": [
      "모듈을 임포트해서 실행\n"
     ]
    }
   ],
   "source": [
    "from modules import my_module_test3"
   ]
  },
  {
   "cell_type": "code",
   "execution_count": 16,
   "id": "69d4dbfa",
   "metadata": {},
   "outputs": [
    {
     "ename": "IndentationError",
     "evalue": "expected an indented block (1054539742.py, line 1)",
     "output_type": "error",
     "traceback": [
      "\u001b[1;36m  Input \u001b[1;32mIn [16]\u001b[1;36m\u001b[0m\n\u001b[1;33m    if __name__ == \"__main__\":\u001b[0m\n\u001b[1;37m                              ^\u001b[0m\n\u001b[1;31mIndentationError\u001b[0m\u001b[1;31m:\u001b[0m expected an indented block\n"
     ]
    }
   ],
   "source": [
    "if __name__ == \"__main__\":"
   ]
  },
  {
   "cell_type": "code",
   "execution_count": null,
   "id": "a293c324",
   "metadata": {},
   "outputs": [],
   "source": []
  }
 ],
 "metadata": {
  "kernelspec": {
   "display_name": "Python 3 (ipykernel)",
   "language": "python",
   "name": "python3"
  },
  "language_info": {
   "codemirror_mode": {
    "name": "ipython",
    "version": 3
   },
   "file_extension": ".py",
   "mimetype": "text/x-python",
   "name": "python",
   "nbconvert_exporter": "python",
   "pygments_lexer": "ipython3",
   "version": "3.9.12"
  }
 },
 "nbformat": 4,
 "nbformat_minor": 5
}
