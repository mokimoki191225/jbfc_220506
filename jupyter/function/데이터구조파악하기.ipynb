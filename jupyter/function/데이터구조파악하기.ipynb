{
 "cells": [
  {
   "cell_type": "markdown",
   "id": "073f1197",
   "metadata": {},
   "source": [
    "## tuple 정리\n",
    " ** packing 특히 중요"
   ]
  },
  {
   "cell_type": "code",
   "execution_count": 1,
   "id": "26c7482e",
   "metadata": {},
   "outputs": [],
   "source": [
    "width = 100\n",
    "height = 200\n",
    "\n",
    "data = (100,200)"
   ]
  },
  {
   "cell_type": "code",
   "execution_count": 2,
   "id": "62430fce",
   "metadata": {},
   "outputs": [],
   "source": [
    "widthe, height = data"
   ]
  },
  {
   "cell_type": "code",
   "execution_count": 3,
   "id": "bb5fb18a",
   "metadata": {},
   "outputs": [],
   "source": [
    "def getArea (w,h):\n",
    "    area = w * h\n",
    "    return area"
   ]
  },
  {
   "cell_type": "code",
   "execution_count": 4,
   "id": "4f1fd65b",
   "metadata": {},
   "outputs": [
    {
     "data": {
      "text/plain": [
       "20000"
      ]
     },
     "execution_count": 4,
     "metadata": {},
     "output_type": "execute_result"
    }
   ],
   "source": [
    "area = getArea(*data)\n",
    "area"
   ]
  },
  {
   "cell_type": "code",
   "execution_count": 5,
   "id": "33182763",
   "metadata": {},
   "outputs": [
    {
     "ename": "TypeError",
     "evalue": "getArea() missing 1 required positional argument: 'h'",
     "output_type": "error",
     "traceback": [
      "\u001b[1;31m---------------------------------------------------------------------------\u001b[0m",
      "\u001b[1;31mTypeError\u001b[0m                                 Traceback (most recent call last)",
      "Input \u001b[1;32mIn [5]\u001b[0m, in \u001b[0;36m<cell line: 1>\u001b[1;34m()\u001b[0m\n\u001b[1;32m----> 1\u001b[0m area \u001b[38;5;241m=\u001b[39m \u001b[43mgetArea\u001b[49m\u001b[43m(\u001b[49m\u001b[43mdata\u001b[49m\u001b[43m)\u001b[49m\n\u001b[0;32m      2\u001b[0m area\n",
      "\u001b[1;31mTypeError\u001b[0m: getArea() missing 1 required positional argument: 'h'"
     ]
    }
   ],
   "source": [
    "area = getArea(data)\n",
    "area"
   ]
  },
  {
   "cell_type": "markdown",
   "id": "d3f5e58f",
   "metadata": {},
   "source": [
    "* data의 튜플을 가져오려면 *pacing을 해야한다."
   ]
  },
  {
   "cell_type": "code",
   "execution_count": 6,
   "id": "ccaa2f3c",
   "metadata": {},
   "outputs": [],
   "source": [
    "animals = ['A','B','C','D']"
   ]
  },
  {
   "cell_type": "code",
   "execution_count": 8,
   "id": "2053bb12",
   "metadata": {},
   "outputs": [
    {
     "name": "stdout",
     "output_type": "stream",
     "text": [
      "4\n"
     ]
    }
   ],
   "source": [
    "size = len(animals)\n",
    "print(size)"
   ]
  },
  {
   "cell_type": "code",
   "execution_count": 9,
   "id": "9948314e",
   "metadata": {},
   "outputs": [],
   "source": [
    "animals2 = ['a','b']"
   ]
  },
  {
   "cell_type": "code",
   "execution_count": 10,
   "id": "8f707782",
   "metadata": {},
   "outputs": [
    {
     "name": "stdout",
     "output_type": "stream",
     "text": [
      "2\n"
     ]
    }
   ],
   "source": [
    "size2 = len(animals2)\n",
    "print(size2)"
   ]
  },
  {
   "cell_type": "code",
   "execution_count": 11,
   "id": "8b28e407",
   "metadata": {},
   "outputs": [
    {
     "name": "stdout",
     "output_type": "stream",
     "text": [
      "A\n",
      "B\n",
      "C\n",
      "D\n"
     ]
    }
   ],
   "source": [
    "for i in range(size):\n",
    "    animal = animals[i]\n",
    "    print(animal)"
   ]
  },
  {
   "cell_type": "code",
   "execution_count": 15,
   "id": "72b56c0b",
   "metadata": {},
   "outputs": [
    {
     "name": "stdout",
     "output_type": "stream",
     "text": [
      "4\n"
     ]
    }
   ],
   "source": [
    "print('{}'.format(size))"
   ]
  },
  {
   "cell_type": "code",
   "execution_count": 17,
   "id": "a3a70180",
   "metadata": {},
   "outputs": [
    {
     "name": "stdout",
     "output_type": "stream",
     "text": [
      "A\n"
     ]
    }
   ],
   "source": [
    "print('{}'.format(animals[0]))"
   ]
  },
  {
   "cell_type": "code",
   "execution_count": 23,
   "id": "6aa83a16",
   "metadata": {},
   "outputs": [
    {
     "name": "stdout",
     "output_type": "stream",
     "text": [
      "D\n"
     ]
    }
   ],
   "source": [
    "print('{}'.format(animal[0]))"
   ]
  },
  {
   "cell_type": "code",
   "execution_count": 24,
   "id": "30e3ee44",
   "metadata": {},
   "outputs": [
    {
     "data": {
      "text/plain": [
       "'D'"
      ]
     },
     "execution_count": 24,
     "metadata": {},
     "output_type": "execute_result"
    }
   ],
   "source": [
    "animal"
   ]
  },
  {
   "cell_type": "code",
   "execution_count": null,
   "id": "b0ca1fa6",
   "metadata": {},
   "outputs": [],
   "source": []
  }
 ],
 "metadata": {
  "kernelspec": {
   "display_name": "Python 3 (ipykernel)",
   "language": "python",
   "name": "python3"
  },
  "language_info": {
   "codemirror_mode": {
    "name": "ipython",
    "version": 3
   },
   "file_extension": ".py",
   "mimetype": "text/x-python",
   "name": "python",
   "nbconvert_exporter": "python",
   "pygments_lexer": "ipython3",
   "version": "3.9.12"
  }
 },
 "nbformat": 4,
 "nbformat_minor": 5
}
