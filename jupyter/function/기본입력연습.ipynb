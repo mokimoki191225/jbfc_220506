{
 "cells": [
  {
   "cell_type": "code",
   "execution_count": 1,
   "id": "f31cda4a",
   "metadata": {},
   "outputs": [],
   "source": [
    "a=10"
   ]
  },
  {
   "cell_type": "code",
   "execution_count": 2,
   "id": "b3a0bfe5",
   "metadata": {},
   "outputs": [
    {
     "name": "stdout",
     "output_type": "stream",
     "text": [
      "hello\n"
     ]
    }
   ],
   "source": [
    "print('hello')"
   ]
  },
  {
   "cell_type": "code",
   "execution_count": 14,
   "id": "1ae554ac",
   "metadata": {},
   "outputs": [
    {
     "name": "stdout",
     "output_type": "stream",
     "text": [
      "hello\n"
     ]
    }
   ],
   "source": [
    "print('hello')"
   ]
  },
  {
   "cell_type": "code",
   "execution_count": 15,
   "id": "dafc78a6",
   "metadata": {},
   "outputs": [
    {
     "name": "stdout",
     "output_type": "stream",
     "text": [
      "이름을 입력하게요영목\n",
      "영목\n"
     ]
    }
   ],
   "source": [
    "a=input('이름을 입력하게요')\n",
    "print(a)"
   ]
  },
  {
   "cell_type": "code",
   "execution_count": 16,
   "id": "24d51603",
   "metadata": {},
   "outputs": [],
   "source": [
    "apple_count = 8\n",
    "# apple_count"
   ]
  },
  {
   "cell_type": "code",
   "execution_count": 17,
   "id": "1008083c",
   "metadata": {},
   "outputs": [
    {
     "name": "stdout",
     "output_type": "stream",
     "text": [
      "500\n"
     ]
    }
   ],
   "source": [
    "print(200+300)"
   ]
  },
  {
   "cell_type": "code",
   "execution_count": 18,
   "id": "ccba634b",
   "metadata": {},
   "outputs": [
    {
     "name": "stdout",
     "output_type": "stream",
     "text": [
      "1.0\n",
      "3.14\n",
      "1560.0\n",
      "-7e-05\n"
     ]
    }
   ],
   "source": [
    "# 실수형 데이터\n",
    "f1 = 1.0\n",
    "f2 = 3.14\n",
    "f3 = 1.56e3\n",
    "f4 = -0.7e-4\n",
    "print(f1)\n",
    "print(f2)\n",
    "print(f3)\n",
    "print(f4)"
   ]
  },
  {
   "cell_type": "code",
   "execution_count": 19,
   "id": "03263b49",
   "metadata": {},
   "outputs": [
    {
     "name": "stdout",
     "output_type": "stream",
     "text": [
      "1.0\n",
      "7.0\n",
      "(2+3j)\n"
     ]
    }
   ],
   "source": [
    "# 복소수형 데이터\n",
    "c1 = 1+7j\n",
    "print(c1.real); print(c1.imag)\n",
    "\n",
    "c2 = complex(2, 3)\n",
    "print(c2)"
   ]
  },
  {
   "cell_type": "code",
   "execution_count": 20,
   "id": "d919b5bc",
   "metadata": {},
   "outputs": [],
   "source": [
    "### 논리형, Blooen Type"
   ]
  },
  {
   "cell_type": "markdown",
   "id": "1a449115",
   "metadata": {},
   "source": [
    "### 논리형, Blooen Type"
   ]
  },
  {
   "cell_type": "code",
   "execution_count": 21,
   "id": "18c4bca3",
   "metadata": {},
   "outputs": [
    {
     "ename": "SyntaxError",
     "evalue": "invalid syntax (3394669474.py, line 1)",
     "output_type": "error",
     "traceback": [
      "\u001b[1;36m  Input \u001b[1;32mIn [21]\u001b[1;36m\u001b[0m\n\u001b[1;33m    * 논리형, Blooen Type\u001b[0m\n\u001b[1;37m                      ^\u001b[0m\n\u001b[1;31mSyntaxError\u001b[0m\u001b[1;31m:\u001b[0m invalid syntax\n"
     ]
    }
   ],
   "source": [
    "* 논리형, Blooen Type"
   ]
  },
  {
   "cell_type": "markdown",
   "id": "2dcb4ad9",
   "metadata": {},
   "source": [
    "* 논리형, Blooen Type"
   ]
  },
  {
   "cell_type": "code",
   "execution_count": 22,
   "id": "9413f251",
   "metadata": {},
   "outputs": [
    {
     "name": "stdout",
     "output_type": "stream",
     "text": [
      "x == y =  False\n",
      "x != y =  True\n",
      "x < y  =  True\n",
      "x > y  =  False\n",
      "int(True)  =  1\n",
      "int(False) =  0\n"
     ]
    }
   ],
   "source": [
    "# 비교연산자와 논리연산자\n",
    "x = 30\n",
    "y = 40\n",
    "\n",
    "print(\"x == y = \", x==y)\n",
    "print(\"x != y = \", x!=y)\n",
    "\n",
    "print(\"x < y  = \", x<y)\n",
    "print(\"x > y  = \", x>y)\n",
    "\n",
    "print(\"int(True)  = \", int(True))\n",
    "print(\"int(False) = \", int(False))"
   ]
  },
  {
   "cell_type": "code",
   "execution_count": 23,
   "id": "8a16d8ce",
   "metadata": {},
   "outputs": [
    {
     "name": "stdout",
     "output_type": "stream",
     "text": [
      "False\n",
      "True\n",
      "False\n",
      "True\n",
      "True\n"
     ]
    }
   ],
   "source": [
    "# 관계 연산자 (==, !=, ＜, ＜=, ＞, ＞=)\n",
    "x = 1; y = 2\n",
    "str1 = 'bigdata'; str2 = 'python'\n",
    "print(x == y)  \n",
    "print(x != y)\n",
    "print(str1 == str2) \n",
    "print(str2 == 'python')\n",
    "print(str1 < str2)"
   ]
  },
  {
   "cell_type": "code",
   "execution_count": 26,
   "id": "3ff4f026",
   "metadata": {},
   "outputs": [
    {
     "name": "stdout",
     "output_type": "stream",
     "text": [
      "numbers : [0, 1, 2, 3, 4, 5, 6, 7, 8, 9]\n",
      "numbers의 합계는 45 입니다.\n"
     ]
    }
   ],
   "source": [
    "numbers = list(range(10))\n",
    "print('numbers :', numbers)\n",
    "idx, sum = 0, 0\n",
    "\n",
    "while idx < len(numbers):\n",
    "    num = numbers[idx]\n",
    "    sum += idx\n",
    "    idx += 1\n",
    "\n",
    "print('numbers의 합계는', sum, '입니다.')"
   ]
  },
  {
   "cell_type": "code",
   "execution_count": 27,
   "id": "7b48169a",
   "metadata": {},
   "outputs": [
    {
     "name": "stdout",
     "output_type": "stream",
     "text": [
      "False\n",
      "True\n",
      "True\n",
      "False\n",
      "False\n",
      "True\n"
     ]
    }
   ],
   "source": [
    "# 논리 연산자 (and, or, not)\n",
    "bool1 = True; bool2 = False; \n",
    "bool3 = True; bool4 = False\n",
    "\n",
    "print(bool1 and bool2)\n",
    "print(bool1 and bool3)\n",
    "print(bool2 or bool3)\n",
    "print(bool2 or bool4)\n",
    "print(not bool1)\n",
    "print(not bool2)"
   ]
  },
  {
   "cell_type": "code",
   "execution_count": 28,
   "id": "1ce0b10f",
   "metadata": {
    "scrolled": true
   },
   "outputs": [
    {
     "name": "stdout",
     "output_type": "stream",
     "text": [
      "3\n",
      "4\n",
      "5\n",
      "6\n",
      "7\n",
      "8\n"
     ]
    }
   ],
   "source": [
    "# while~continue~break\n",
    "x = 0\n",
    "\n",
    "while x < 10:\n",
    "    x = x+1\n",
    "    if x < 3:\n",
    "        continue\n",
    "    print(x)\n",
    "    if x > 7:\n",
    "        break"
   ]
  },
  {
   "cell_type": "code",
   "execution_count": 35,
   "id": "5d6e443a",
   "metadata": {},
   "outputs": [
    {
     "name": "stdout",
     "output_type": "stream",
     "text": [
      "True\n",
      "Wow 주피터노트북이다\n"
     ]
    }
   ],
   "source": [
    "test = '우왕 주피터노트북이다'\n",
    "\n",
    "result = test.startswith('우왕')\n",
    "print(result)\n",
    "result = test.replace('우왕', 'Wow')\n",
    "print(result)"
   ]
  },
  {
   "cell_type": "code",
   "execution_count": 29,
   "id": "e432a316",
   "metadata": {},
   "outputs": [
    {
     "name": "stdout",
     "output_type": "stream",
     "text": [
      "447\n",
      "100128\n"
     ]
    }
   ],
   "source": [
    "# while~continue~break\n",
    "x = 1\n",
    "total = 0\n",
    "\n",
    "while True:\n",
    "    total = total + x\n",
    "    if total > 100000:\n",
    "        print(x)\n",
    "        print(total)\n",
    "        break\n",
    "    x = x + 1"
   ]
  },
  {
   "cell_type": "code",
   "execution_count": null,
   "id": "bc11087f",
   "metadata": {},
   "outputs": [],
   "source": [
    "# 비트 연산자 (&, |, ~, ^, ＞＞, ＜＜)\n",
    "bit1 = 0x61\n",
    "bit2 = 0x62\n",
    "\n",
    "print(bin(bit1))\n",
    "print(bin(bit2))\n",
    "print(hex(bit1 & bit2)) \n",
    "print(hex(bit1 | bit2)) #합집합\n",
    "print(hex(bit1 ^ bit2)) #여집합\n",
    "print(hex(bit1 >> 1))   #보다크다\n",
    "print(hex(bit1 << 2))   #보다작다"
   ]
  },
  {
   "cell_type": "code",
   "execution_count": null,
   "id": "353325db",
   "metadata": {},
   "outputs": [],
   "source": [
    "for i in range(1,10,2):\n",
    "    mark = ' ' *int((10-i)/2) + '*'*i\n",
    "    print(mark)"
   ]
  },
  {
   "cell_type": "code",
   "execution_count": 36,
   "id": "a85b8c31",
   "metadata": {},
   "outputs": [],
   "source": [
    "animals = ['dog','cat','sheep']"
   ]
  },
  {
   "cell_type": "code",
   "execution_count": 37,
   "id": "3a051d07",
   "metadata": {},
   "outputs": [
    {
     "data": {
      "text/plain": [
       "'dog'"
      ]
     },
     "execution_count": 37,
     "metadata": {},
     "output_type": "execute_result"
    }
   ],
   "source": [
    "animals[0]"
   ]
  },
  {
   "cell_type": "code",
   "execution_count": 38,
   "id": "28c799b4",
   "metadata": {},
   "outputs": [
    {
     "name": "stdout",
     "output_type": "stream",
     "text": [
      "dog\n",
      "cat\n",
      "sheep\n"
     ]
    }
   ],
   "source": [
    "for animal in animals:\n",
    "    print(animal)"
   ]
  },
  {
   "cell_type": "code",
   "execution_count": 39,
   "id": "689f2528",
   "metadata": {},
   "outputs": [
    {
     "ename": "ModuleNotFoundError",
     "evalue": "No module named 'tultle'",
     "output_type": "error",
     "traceback": [
      "\u001b[1;31m---------------------------------------------------------------------------\u001b[0m",
      "\u001b[1;31mModuleNotFoundError\u001b[0m                       Traceback (most recent call last)",
      "Input \u001b[1;32mIn [39]\u001b[0m, in \u001b[0;36m<cell line: 1>\u001b[1;34m()\u001b[0m\n\u001b[1;32m----> 1\u001b[0m \u001b[38;5;28;01mimport\u001b[39;00m \u001b[38;5;21;01mtultle\u001b[39;00m\n",
      "\u001b[1;31mModuleNotFoundError\u001b[0m: No module named 'tultle'"
     ]
    }
   ],
   "source": [
    "import tultle"
   ]
  },
  {
   "cell_type": "code",
   "execution_count": 40,
   "id": "e83c8bca",
   "metadata": {},
   "outputs": [
    {
     "name": "stdout",
     "output_type": "stream",
     "text": [
      "1\n"
     ]
    }
   ],
   "source": [
    "# for~else\n",
    "scope = [1, 2, 3]\n",
    "\n",
    "for x in scope:\n",
    "    print(x)\n",
    "    break\n",
    "else:\n",
    "    print('Perfect')"
   ]
  },
  {
   "cell_type": "code",
   "execution_count": 41,
   "id": "80ed9903",
   "metadata": {},
   "outputs": [
    {
     "name": "stdout",
     "output_type": "stream",
     "text": [
      "1\n",
      "2\n",
      "3\n",
      "Perfect\n"
     ]
    }
   ],
   "source": [
    "# for~else\n",
    "scope = [1, 2, 3]\n",
    "\n",
    "for x in scope:\n",
    "    print(x)\n",
    "#     break\n",
    "else: # if가 아니면 for문을 이용하면 다 나온다\n",
    "    print('Perfect')"
   ]
  },
  {
   "cell_type": "code",
   "execution_count": 44,
   "id": "5d06f647",
   "metadata": {},
   "outputs": [
    {
     "name": "stdout",
     "output_type": "stream",
     "text": [
      "[0, 1, 2, 3, 4, 5, 6, 7, 8, 9]\n",
      "numbers의 합계는 45 입니다.\n"
     ]
    }
   ],
   "source": [
    "numbers = list(range(10))\n",
    "print(numbers)\n",
    "idx, sum = 0, 0\n",
    "\n",
    "while idx < len(numbers):\n",
    "    num = numbers[idx]\n",
    "    sum = sum + idx\n",
    "    idx = idx + 1\n",
    "\n",
    "print('numbers의 합계는', sum, '입니다.')"
   ]
  },
  {
   "cell_type": "code",
   "execution_count": 56,
   "id": "03b82f58",
   "metadata": {},
   "outputs": [
    {
     "name": "stdout",
     "output_type": "stream",
     "text": [
      "[1, 2, 3, 4, 5, 6, 7, 8, 9]\n",
      "numbers의 합계는 36 입니다.\n"
     ]
    }
   ],
   "source": [
    "numbers = list(range(10))\n",
    "print(numbers[1:])\n",
    "idx, sum = 0, 0\n",
    "\n",
    "while idx < len(numbers):\n",
    "    num = numbers[idx]\n",
    "    sum = sum + idx\n",
    "    idx = idx + 1\n",
    "\n",
    "print('numbers의 합계는', sum, '입니다.')"
   ]
  },
  {
   "cell_type": "code",
   "execution_count": 47,
   "id": "aec6d0fb",
   "metadata": {},
   "outputs": [],
   "source": [
    "?range  ##함수 어떤것인지 알아볼때 쓰인다."
   ]
  },
  {
   "cell_type": "code",
   "execution_count": 49,
   "id": "698d86e1",
   "metadata": {},
   "outputs": [],
   "source": [
    "?bin"
   ]
  },
  {
   "cell_type": "code",
   "execution_count": null,
   "id": "3d5da49f",
   "metadata": {},
   "outputs": [],
   "source": []
  }
 ],
 "metadata": {
  "kernelspec": {
   "display_name": "Python 3 (ipykernel)",
   "language": "python",
   "name": "python3"
  },
  "language_info": {
   "codemirror_mode": {
    "name": "ipython",
    "version": 3
   },
   "file_extension": ".py",
   "mimetype": "text/x-python",
   "name": "python",
   "nbconvert_exporter": "python",
   "pygments_lexer": "ipython3",
   "version": "3.9.12"
  }
 },
 "nbformat": 4,
 "nbformat_minor": 5
}
