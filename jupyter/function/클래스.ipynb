{
 "cells": [
  {
   "cell_type": "markdown",
   "id": "2f6748a0",
   "metadata": {},
   "source": [
    "*객체란?\n",
    "객체는 속성(상태, 특징)과 행위(행동, 동작, 기능)로 구성된 대상을 의미한다.\n",
    "프로그래밍 언어에서 객체를 만들 때는 주로 현실 세계를 반영해서 만든다.\n",
    "객체의 특징인 속성은 변수로, 객체가 할 수 있는 일인 행동은 함수로 구현한다.\n",
    "객체는 변수와 함수의 묶음이다.\n",
    "cf. 객체를 만들고 이용할 수 있는 기능을 제공하는 프로그래밍 언어를 객체지향언어(Object Oriented Programming, OOP)라고 한다."
   ]
  },
  {
   "cell_type": "code",
   "execution_count": 1,
   "id": "066c3414",
   "metadata": {},
   "outputs": [
    {
     "name": "stdout",
     "output_type": "stream",
     "text": [
      "마음이 : ['구르기', '두발로 서기', '죽은척 하기']\n",
      "진돌이 : ['구르기', '두발로 서기', '죽은척 하기']\n"
     ]
    }
   ],
   "source": [
    "# 클래스 변수(인스턴스간 공유 됨)\n",
    "class Dog:\n",
    "    tricks = []  # 클래스 변수 선언\n",
    "\n",
    "    def __init__(self, name):\n",
    "        self.name = name\n",
    "\n",
    "    def add_trick(self, trick):\n",
    "        self.tricks.append(trick)  # 클래스 변수에 값 추가\n",
    "\n",
    "\n",
    "dog1 = Dog('마음이') #인스턴스 생성, 속성값 입력\n",
    "dog2 = Dog('진돌이')\n",
    "\n",
    "dog1.add_trick('구르기') #메소드 호출\n",
    "dog2.add_trick('두발로 서기')\n",
    "dog2.add_trick('죽은척 하기')\n",
    "\n",
    "print(dog1.name, ':', dog1.tricks)\n",
    "print(dog2.name, ':', dog2.tricks)"
   ]
  },
  {
   "cell_type": "code",
   "execution_count": 2,
   "id": "c34ab314",
   "metadata": {},
   "outputs": [
    {
     "name": "stdout",
     "output_type": "stream",
     "text": [
      "하늘이 : ['구르기']\n",
      "야옹이 : ['두발로 서기', '죽은척 하기']\n"
     ]
    }
   ],
   "source": [
    "# 인스턴스 변수(인스턴스간 공유 안됨)\n",
    "class Cat:\n",
    "    def __init__(self, name):\n",
    "        self.name = name\n",
    "        self.tricks = []  # 인스턴스 변수 선언\n",
    "\n",
    "    def add_trick(self, trick):\n",
    "        self.tricks.append(trick)  # 인스턴스 변수에 값 추가\n",
    "\n",
    "\n",
    "cat1 = Cat('하늘이')\n",
    "cat2 = Cat('야옹이')\n",
    "\n",
    "cat1.add_trick('구르기')\n",
    "cat2.add_trick('두발로 서기')\n",
    "cat2.add_trick('죽은척 하기')\n",
    "\n",
    "print(cat1.name, ':', cat1.tricks)\n",
    "print(cat2.name, ':', cat2.tricks)"
   ]
  },
  {
   "cell_type": "code",
   "execution_count": 3,
   "id": "359b936e",
   "metadata": {},
   "outputs": [],
   "source": [
    "class Animal:\n",
    "    tribe = '동물'\n",
    "    def __init__(self, name):\n",
    "        self.name = name\n",
    "\n",
    "    def getInfo(self):\n",
    "        print('나는 %s이고, %s입니다.'%(self.name, self.tribe))\n",
    "\n",
    "class Carnivore(Animal):\n",
    "    def __init__(self, name):\n",
    "        self.name = name\n",
    "        self.tribe = '육식동물'\n",
    "\n",
    "    def favoriteFood(self):\n",
    "        print('나는 고기를 좋아합니다.')\n",
    "\n",
    "class Herbivore(Animal):\n",
    "    def __init__(self, name):\n",
    "        self.name = name\n",
    "        self.tribe = '초식동물'\n",
    "\n",
    "    def favoriteFood(self):\n",
    "        print('나는 풀을 좋아합니다.')"
   ]
  },
  {
   "cell_type": "code",
   "execution_count": 4,
   "id": "369593ff",
   "metadata": {},
   "outputs": [
    {
     "name": "stdout",
     "output_type": "stream",
     "text": [
      "나는 호랑이이고, 육식동물입니다.\n",
      "나는 고기를 좋아합니다.\n"
     ]
    }
   ],
   "source": [
    "tiger = Carnivore('호랑이')\n",
    "tiger.getInfo()\n",
    "tiger.favoriteFood()"
   ]
  },
  {
   "cell_type": "code",
   "execution_count": 5,
   "id": "c0625d5c",
   "metadata": {},
   "outputs": [
    {
     "name": "stdout",
     "output_type": "stream",
     "text": [
      "나는 토끼이고, 초식동물입니다.\n",
      "나는 풀을 좋아합니다.\n"
     ]
    }
   ],
   "source": [
    "rabit = Herbivore('토끼')\n",
    "rabit.getInfo()\n",
    "rabit.favoriteFood()"
   ]
  },
  {
   "cell_type": "code",
   "execution_count": 6,
   "id": "d71d2928",
   "metadata": {},
   "outputs": [],
   "source": [
    "#  Developer 부모 클래스 선언\n",
    "class Developer:\n",
    "    def __init__(self, name):\n",
    "        self.name = name\n",
    "\n",
    "    def coding(self):\n",
    "        print(self.name + ' is developer!!')\n",
    "\n",
    "\n",
    "# PythonDeveloper 자식 클래스 선언\n",
    "class PythonDeveloper(Developer):\n",
    "    def coding(self):\n",
    "        print(self.name + ' is Python developler!!')\n",
    "\n",
    "\n",
    "# JavaDeveloper 자식 클래스 선언\n",
    "class JavaDeveloper(Developer):\n",
    "    def coding(self):\n",
    "        print(self.name + ' is Java developler!!')\n",
    "\n",
    "\n",
    "# CPPDeveloper 자식 클래스 선언\n",
    "class CPPDeveloper(Developer):\n",
    "    def coding(self):\n",
    "        print(self.name + ' is C++ developler!!')"
   ]
  },
  {
   "cell_type": "code",
   "execution_count": 7,
   "id": "7fc6d463",
   "metadata": {},
   "outputs": [
    {
     "name": "stdout",
     "output_type": "stream",
     "text": [
      "찬영이 is Python developler!!\n",
      "준영이 is Java developler!!\n",
      "채영이 is C++ developler!!\n"
     ]
    }
   ],
   "source": [
    "pd = PythonDeveloper('찬영이')\n",
    "jd = JavaDeveloper('준영이')\n",
    "cd = CPPDeveloper('채영이')\n",
    "\n",
    "pd.coding()\n",
    "jd.coding()\n",
    "cd.coding()"
   ]
  },
  {
   "cell_type": "markdown",
   "id": "d7c3639a",
   "metadata": {},
   "source": [
    "* tqdm 활용법"
   ]
  },
  {
   "cell_type": "code",
   "execution_count": 8,
   "id": "92b4d86a",
   "metadata": {},
   "outputs": [
    {
     "name": "stderr",
     "output_type": "stream",
     "text": [
      "C:\\Users\\student\\AppData\\Local\\Temp\\ipykernel_11924\\3945831709.py:4: TqdmDeprecationWarning: This function will be removed in tqdm==5.0.0\n",
      "Please use `tqdm.notebook.tqdm` instead of `tqdm.tqdm_notebook`\n",
      "  for idx in tqdm_notebook(range(100)):\n"
     ]
    },
    {
     "data": {
      "application/vnd.jupyter.widget-view+json": {
       "model_id": "230369b03b92475ab3d213bcf52e27d5",
       "version_major": 2,
       "version_minor": 0
      },
      "text/plain": [
       "  0%|          | 0/100 [00:00<?, ?it/s]"
      ]
     },
     "metadata": {},
     "output_type": "display_data"
    },
    {
     "name": "stdout",
     "output_type": "stream",
     "text": [
      "0 1 2 3 4 5 6 7 8 9 10 11 12 13 14 15 16 17 18 19 20 21 22 23 24 25 26 27 28 29 30 31 32 33 34 35 36 37 38 39 40 41 42 43 44 45 46 47 48 49 50 51 52 53 54 55 56 57 58 59 60 61 62 63 64 65 66 67 68 69 70 71 72 73 74 75 76 77 78 79 80 81 82 83 84 85 86 87 88 89 90 91 92 93 94 95 96 97 98 99 "
     ]
    }
   ],
   "source": [
    "import time\n",
    "from tqdm import tqdm_notebook\n",
    "\n",
    "for idx in tqdm_notebook(range(100)):\n",
    "    time.sleep(0.1)\n",
    "    print(idx, end=' ')"
   ]
  },
  {
   "cell_type": "code",
   "execution_count": 9,
   "id": "4e263d33",
   "metadata": {},
   "outputs": [
    {
     "data": {
      "application/vnd.jupyter.widget-view+json": {
       "model_id": "60d261a40b1e44c4bc0cd6a889543185",
       "version_major": 2,
       "version_minor": 0
      },
      "text/plain": [
       "  0%|          | 0/100 [00:00<?, ?it/s]"
      ]
     },
     "metadata": {},
     "output_type": "display_data"
    },
    {
     "name": "stdout",
     "output_type": "stream",
     "text": [
      "0 1 2 3 4 5 6 7 8 9 10 11 12 13 14 15 16 17 18 19 20 21 22 23 24 25 26 27 28 29 30 31 32 33 34 35 36 37 38 39 40 41 42 43 44 45 46 47 48 49 50 51 52 53 54 55 56 57 58 59 60 61 62 63 64 65 66 67 68 69 70 71 72 73 74 75 76 77 78 79 80 81 82 83 84 85 86 87 88 89 90 91 92 93 94 95 96 97 98 99 "
     ]
    }
   ],
   "source": [
    "import time\n",
    "from tqdm.notebook import tqdm\n",
    "\n",
    "for idx in tqdm(range(100)):\n",
    "    time.sleep(0.1)\n",
    "    print(idx, end=' ')\n",
    "    "
   ]
  },
  {
   "cell_type": "code",
   "execution_count": 10,
   "id": "e01c8b9d",
   "metadata": {},
   "outputs": [],
   "source": [
    "# Unit 부모클래스 선언\n",
    "class Unit:\n",
    "    def __init__(self, name, energy,  is_fly):\n",
    "        self.name = name\n",
    "        self.energy = energy\n",
    "        self.is_fly = is_fly\n",
    "        self.is_alive = True\n",
    "\n",
    "    def get_tribe(self):\n",
    "        print(self.name + ' is a basic tribe !!')\n",
    "\n",
    "    def get_energy(self):\n",
    "        if self.energy > 0:\n",
    "            print(self.name + '의 현재 에너지는 ', self.energy, '입니다!')\n",
    "        else:\n",
    "            self.is_alive = False\n",
    "            print(self.name + ' 유닛은 전사했습니다. ㅠㅠ')\n",
    "        #return self.energy\n",
    "\n",
    "\n",
    "# 테란 종족 클래스\n",
    "class Terran(Unit):\n",
    "    def get_tribe(self):\n",
    "        print(self.name + ' is a Terran !!')\n",
    "\n",
    "    def be_attactted(self):\n",
    "        self.energy -= 3\n",
    "\n",
    "# 프로토스 종족 클래스\n",
    "class Protoss(Unit):\n",
    "    def get_tribe(self):\n",
    "        print(self.name + ' is a Protoss !!')\n",
    "\n",
    "    def be_attactted(self):\n",
    "        self.energy -= 2\n",
    "\n",
    "# 저그 종족 클래스\n",
    "class Zerg(Unit):\n",
    "    def get_tribe(self):\n",
    "        print(self.name + ' is a Zerg !!')\n",
    "\n",
    "    def be_attactted(self):\n",
    "        self.energy -= 4"
   ]
  },
  {
   "cell_type": "code",
   "execution_count": 11,
   "id": "5808fa2c",
   "metadata": {},
   "outputs": [
    {
     "data": {
      "application/vnd.jupyter.widget-view+json": {
       "model_id": "ca0387eb96c949b1ae3613934ba2b400",
       "version_major": 2,
       "version_minor": 0
      },
      "text/plain": [
       "  0%|          | 0/5 [00:00<?, ?it/s]"
      ]
     },
     "metadata": {},
     "output_type": "display_data"
    },
    {
     "name": "stdout",
     "output_type": "stream",
     "text": [
      "게임 시작, 유닛의 에너지는 다음과 같습니다!! \n",
      "--------------------------------------------------\n",
      "마린의 현재 에너지는  15 입니다!\n",
      "커세어의 현재 에너지는  20 입니다!\n",
      "히드라의 현재 에너지는  10 입니다!\n",
      "\n",
      "유닛간에 1차 공방전이 이루어졌습니다! \n",
      "--------------------------------------------------\n",
      "마린의 현재 에너지는  12 입니다!\n",
      "커세어의 현재 에너지는  18 입니다!\n",
      "히드라의 현재 에너지는  6 입니다!\n",
      "\n",
      "유닛간에 2차 공방전이 이루어졌습니다! \n",
      "--------------------------------------------------\n",
      "마린의 현재 에너지는  9 입니다!\n",
      "커세어의 현재 에너지는  16 입니다!\n",
      "히드라의 현재 에너지는  2 입니다!\n",
      "\n",
      "유닛간에 3차 공방전이 이루어졌습니다! \n",
      "--------------------------------------------------\n",
      "마린의 현재 에너지는  6 입니다!\n",
      "커세어의 현재 에너지는  14 입니다!\n",
      "히드라 유닛은 전사했습니다. ㅠㅠ\n",
      "================================================== \n",
      "GG, 게임이 종료되었습니다 !!!\n"
     ]
    }
   ],
   "source": [
    "import time\n",
    "from tqdm.notebook import tqdm\n",
    "\n",
    "# 종족별 유닛 생성\n",
    "marine = Terran('마린', 15, False)\n",
    "corsair = Protoss('커세어', 20, True)\n",
    "hydra = Zerg('히드라', 10, False)\n",
    "\n",
    "for x in tqdm(range(5)):\n",
    "\n",
    "    if x == 0:\n",
    "        print('게임 시작, 유닛의 에너지는 다음과 같습니다!! \\n' + '-' * 50)\n",
    "        marine.get_energy()\n",
    "        corsair.get_energy()\n",
    "        hydra.get_energy()\n",
    "        time.sleep(2)\n",
    "        continue\n",
    "\n",
    "    marine.be_attactted()\n",
    "    corsair.be_attactted()\n",
    "    hydra.be_attactted()\n",
    "\n",
    "    print('\\n유닛간에 %d차 공방전이 이루어졌습니다! \\n' % (x) + '-' * 50)\n",
    "    time.sleep(1)\n",
    "    marine.get_energy();\n",
    "    time.sleep(1)\n",
    "    corsair.get_energy();\n",
    "    time.sleep(1)\n",
    "    hydra.get_energy();\n",
    "    time.sleep(1)\n",
    "\n",
    "    if (marine.is_alive & corsair.is_alive & hydra.is_alive):\n",
    "        time.sleep(1)\n",
    "    else:\n",
    "        break\n",
    "\n",
    "print('=' * 50, '\\nGG, 게임이 종료되었습니다 !!!')"
   ]
  },
  {
   "cell_type": "code",
   "execution_count": null,
   "id": "5050b61d",
   "metadata": {},
   "outputs": [],
   "source": []
  }
 ],
 "metadata": {
  "kernelspec": {
   "display_name": "Python 3 (ipykernel)",
   "language": "python",
   "name": "python3"
  },
  "language_info": {
   "codemirror_mode": {
    "name": "ipython",
    "version": 3
   },
   "file_extension": ".py",
   "mimetype": "text/x-python",
   "name": "python",
   "nbconvert_exporter": "python",
   "pygments_lexer": "ipython3",
   "version": "3.9.12"
  }
 },
 "nbformat": 4,
 "nbformat_minor": 5
}
