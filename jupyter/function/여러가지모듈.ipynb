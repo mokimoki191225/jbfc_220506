{
 "cells": [
  {
   "cell_type": "code",
   "execution_count": 13,
   "id": "41c6619a",
   "metadata": {},
   "outputs": [
    {
     "data": {
      "text/plain": [
       "0.816210324697685"
      ]
     },
     "execution_count": 13,
     "metadata": {},
     "output_type": "execute_result"
    }
   ],
   "source": [
    "import random\n",
    "random.random()"
   ]
  },
  {
   "cell_type": "code",
   "execution_count": 45,
   "id": "19ac7b9a",
   "metadata": {},
   "outputs": [
    {
     "name": "stdout",
     "output_type": "stream",
     "text": [
      "주사위 두 개의 숫자: 5, 4\n"
     ]
    }
   ],
   "source": [
    "import random\n",
    "\n",
    "dice1 = random.randint(1,6) # 임의의 정수가 생성됨\n",
    "dice2 = random.randint(1,6) # 임의의 정수가 생성됨\n",
    "print('주사위 두 개의 숫자: {0}, {1}'.format(dice1, dice2))"
   ]
  },
  {
   "cell_type": "code",
   "execution_count": 14,
   "id": "b10ecdcd",
   "metadata": {},
   "outputs": [
    {
     "name": "stdout",
     "output_type": "stream",
     "text": [
      "Help on method randint in module random:\n",
      "\n",
      "randint(a, b) method of random.Random instance\n",
      "    Return random integer in range [a, b], including both end points.\n",
      "\n"
     ]
    }
   ],
   "source": [
    "help(random.randint)"
   ]
  },
  {
   "cell_type": "code",
   "execution_count": 15,
   "id": "6195645e",
   "metadata": {},
   "outputs": [
    {
     "data": {
      "text/plain": [
       "[4, 5]"
      ]
     },
     "execution_count": 15,
     "metadata": {},
     "output_type": "execute_result"
    }
   ],
   "source": [
    "import random\n",
    "\n",
    "random.sample([1, 2, 3, 4, 5], 2) # 모집단에서 두 개의 인자 선택"
   ]
  },
  {
   "cell_type": "code",
   "execution_count": 20,
   "id": "da19cf2b",
   "metadata": {},
   "outputs": [
    {
     "data": {
      "text/plain": [
       "1"
      ]
     },
     "execution_count": 20,
     "metadata": {},
     "output_type": "execute_result"
    }
   ],
   "source": [
    "import random\n",
    "\n",
    "menu = ['비빔밥', '된장찌개', '볶음밥', '불고기', '스파게티', '피자', '탕수육']\n",
    "random.choice(menu)\n",
    "menu.count('비빔밥')"
   ]
  },
  {
   "cell_type": "code",
   "execution_count": 41,
   "id": "f6ee7056",
   "metadata": {},
   "outputs": [
    {
     "data": {
      "text/plain": [
       "[4, 3]"
      ]
     },
     "execution_count": 41,
     "metadata": {},
     "output_type": "execute_result"
    }
   ],
   "source": [
    "import random\n",
    "\n",
    "random.sample([1, 2, 3, 4, 5], 2) # 모집단에서 두 개의 인자 선택"
   ]
  },
  {
   "cell_type": "code",
   "execution_count": 55,
   "id": "80f54bd9",
   "metadata": {},
   "outputs": [
    {
     "name": "stdout",
     "output_type": "stream",
     "text": [
      "2018-03-02\n"
     ]
    },
    {
     "data": {
      "text/plain": [
       "datetime.date"
      ]
     },
     "execution_count": 55,
     "metadata": {},
     "output_type": "execute_result"
    }
   ],
   "source": [
    "import datetime\n",
    "\n",
    "set_day = datetime.date(2018, 3, 2)\n",
    "print(set_day)\n",
    "type(set_day)"
   ]
  },
  {
   "cell_type": "code",
   "execution_count": 44,
   "id": "9dc199bd",
   "metadata": {},
   "outputs": [
    {
     "name": "stdout",
     "output_type": "stream",
     "text": [
      "num1: 1, num2: 30\n"
     ]
    }
   ],
   "source": [
    "import random\n",
    "\n",
    "num1 = random.randrange(1, 10, 2) # 1 ~ 9(10-1) 중 임의의 홀수 선택\n",
    "num2 = random.randrange(0,100,10) # 0 ~ 99(100-1) 중 임의의10의 단위 숫자 선택\n",
    "print('num1: {0}, num2: {1}'.format(num1,num2))"
   ]
  },
  {
   "cell_type": "code",
   "execution_count": 46,
   "id": "ee4b6441",
   "metadata": {},
   "outputs": [
    {
     "data": {
      "text/plain": [
       "8"
      ]
     },
     "execution_count": 46,
     "metadata": {},
     "output_type": "execute_result"
    }
   ],
   "source": [
    "import random\n",
    "\n",
    "random.randrange(0,11,2)"
   ]
  },
  {
   "cell_type": "code",
   "execution_count": 50,
   "id": "66b87b42",
   "metadata": {},
   "outputs": [
    {
     "name": "stdout",
     "output_type": "stream",
     "text": [
      "Help on method randrange in module random:\n",
      "\n",
      "randrange(start, stop=None, step=1) method of random.Random instance\n",
      "    Choose a random item from range(start, stop[, step]).\n",
      "    \n",
      "    This fixes the problem with randint() which includes the\n",
      "    endpoint; in Python this is usually not what you want.\n",
      "\n"
     ]
    }
   ],
   "source": [
    "help(random.randrange)"
   ]
  },
  {
   "cell_type": "code",
   "execution_count": 53,
   "id": "0401061b",
   "metadata": {},
   "outputs": [],
   "source": [
    "?random.randrange"
   ]
  },
  {
   "cell_type": "code",
   "execution_count": 52,
   "id": "543b9d5c",
   "metadata": {},
   "outputs": [],
   "source": [
    "?random.randint"
   ]
  },
  {
   "cell_type": "code",
   "execution_count": 51,
   "id": "67d94623",
   "metadata": {},
   "outputs": [
    {
     "name": "stdout",
     "output_type": "stream",
     "text": [
      "Help on method randint in module random:\n",
      "\n",
      "randint(a, b) method of random.Random instance\n",
      "    Return random integer in range [a, b], including both end points.\n",
      "\n"
     ]
    }
   ],
   "source": [
    "help(random.randint)"
   ]
  },
  {
   "cell_type": "code",
   "execution_count": 54,
   "id": "7f504298",
   "metadata": {},
   "outputs": [
    {
     "name": "stdout",
     "output_type": "stream",
     "text": [
      "Help on method sample in module random:\n",
      "\n",
      "sample(population, k, *, counts=None) method of random.Random instance\n",
      "    Chooses k unique random elements from a population sequence or set.\n",
      "    \n",
      "    Returns a new list containing elements from the population while\n",
      "    leaving the original population unchanged.  The resulting list is\n",
      "    in selection order so that all sub-slices will also be valid random\n",
      "    samples.  This allows raffle winners (the sample) to be partitioned\n",
      "    into grand prize and second place winners (the subslices).\n",
      "    \n",
      "    Members of the population need not be hashable or unique.  If the\n",
      "    population contains repeats, then each occurrence is a possible\n",
      "    selection in the sample.\n",
      "    \n",
      "    Repeated elements can be specified one at a time or with the optional\n",
      "    counts parameter.  For example:\n",
      "    \n",
      "        sample(['red', 'blue'], counts=[4, 2], k=5)\n",
      "    \n",
      "    is equivalent to:\n",
      "    \n",
      "        sample(['red', 'red', 'red', 'red', 'blue', 'blue'], k=5)\n",
      "    \n",
      "    To choose a sample from a range of integers, use range() for the\n",
      "    population argument.  This is especially fast and space efficient\n",
      "    for sampling from a large population:\n",
      "    \n",
      "        sample(range(10000000), 60)\n",
      "\n"
     ]
    }
   ],
   "source": [
    "help(random.sample)"
   ]
  },
  {
   "cell_type": "code",
   "execution_count": 56,
   "id": "55e75d05",
   "metadata": {},
   "outputs": [
    {
     "name": "stdout",
     "output_type": "stream",
     "text": [
      "2018/3/2\n"
     ]
    }
   ],
   "source": [
    "print('{0}/{1}/{2}'.format(set_day.year,set_day.month,set_day.day ))"
   ]
  },
  {
   "cell_type": "code",
   "execution_count": 61,
   "id": "98ced319",
   "metadata": {},
   "outputs": [
    {
     "name": "stdout",
     "output_type": "stream",
     "text": [
      "881 days, 0:00:00\n"
     ]
    }
   ],
   "source": [
    "import datetime\n",
    "\n",
    "day1 = datetime.date(2019, 12, 25)\n",
    "day2 = datetime.date(2022, 5, 24)\n",
    "diff_day = day2 - day1\n",
    "print(diff_day)"
   ]
  },
  {
   "cell_type": "code",
   "execution_count": 58,
   "id": "7219a6e4",
   "metadata": {},
   "outputs": [
    {
     "name": "stdout",
     "output_type": "stream",
     "text": [
      "Help on class date in module datetime:\n",
      "\n",
      "class date(builtins.object)\n",
      " |  date(year, month, day) --> date object\n",
      " |  \n",
      " |  Methods defined here:\n",
      " |  \n",
      " |  __add__(self, value, /)\n",
      " |      Return self+value.\n",
      " |  \n",
      " |  __eq__(self, value, /)\n",
      " |      Return self==value.\n",
      " |  \n",
      " |  __format__(...)\n",
      " |      Formats self with strftime.\n",
      " |  \n",
      " |  __ge__(self, value, /)\n",
      " |      Return self>=value.\n",
      " |  \n",
      " |  __getattribute__(self, name, /)\n",
      " |      Return getattr(self, name).\n",
      " |  \n",
      " |  __gt__(self, value, /)\n",
      " |      Return self>value.\n",
      " |  \n",
      " |  __hash__(self, /)\n",
      " |      Return hash(self).\n",
      " |  \n",
      " |  __le__(self, value, /)\n",
      " |      Return self<=value.\n",
      " |  \n",
      " |  __lt__(self, value, /)\n",
      " |      Return self<value.\n",
      " |  \n",
      " |  __ne__(self, value, /)\n",
      " |      Return self!=value.\n",
      " |  \n",
      " |  __radd__(self, value, /)\n",
      " |      Return value+self.\n",
      " |  \n",
      " |  __reduce__(...)\n",
      " |      __reduce__() -> (cls, state)\n",
      " |  \n",
      " |  __repr__(self, /)\n",
      " |      Return repr(self).\n",
      " |  \n",
      " |  __rsub__(self, value, /)\n",
      " |      Return value-self.\n",
      " |  \n",
      " |  __str__(self, /)\n",
      " |      Return str(self).\n",
      " |  \n",
      " |  __sub__(self, value, /)\n",
      " |      Return self-value.\n",
      " |  \n",
      " |  ctime(...)\n",
      " |      Return ctime() style string.\n",
      " |  \n",
      " |  isocalendar(...)\n",
      " |      Return a named tuple containing ISO year, week number, and weekday.\n",
      " |  \n",
      " |  isoformat(...)\n",
      " |      Return string in ISO 8601 format, YYYY-MM-DD.\n",
      " |  \n",
      " |  isoweekday(...)\n",
      " |      Return the day of the week represented by the date.\n",
      " |      Monday == 1 ... Sunday == 7\n",
      " |  \n",
      " |  replace(...)\n",
      " |      Return date with new specified fields.\n",
      " |  \n",
      " |  strftime(...)\n",
      " |      format -> strftime() style string.\n",
      " |  \n",
      " |  timetuple(...)\n",
      " |      Return time tuple, compatible with time.localtime().\n",
      " |  \n",
      " |  toordinal(...)\n",
      " |      Return proleptic Gregorian ordinal.  January 1 of year 1 is day 1.\n",
      " |  \n",
      " |  weekday(...)\n",
      " |      Return the day of the week represented by the date.\n",
      " |      Monday == 0 ... Sunday == 6\n",
      " |  \n",
      " |  ----------------------------------------------------------------------\n",
      " |  Class methods defined here:\n",
      " |  \n",
      " |  fromisocalendar(...) from builtins.type\n",
      " |      int, int, int -> Construct a date from the ISO year, week number and weekday.\n",
      " |      \n",
      " |      This is the inverse of the date.isocalendar() function\n",
      " |  \n",
      " |  fromisoformat(...) from builtins.type\n",
      " |      str -> Construct a date from the output of date.isoformat()\n",
      " |  \n",
      " |  fromordinal(...) from builtins.type\n",
      " |      int -> date corresponding to a proleptic Gregorian ordinal.\n",
      " |  \n",
      " |  fromtimestamp(timestamp, /) from builtins.type\n",
      " |      Create a date from a POSIX timestamp.\n",
      " |      \n",
      " |      The timestamp is a number, e.g. created via time.time(), that is interpreted\n",
      " |      as local time.\n",
      " |  \n",
      " |  today(...) from builtins.type\n",
      " |      Current date or datetime:  same as self.__class__.fromtimestamp(time.time()).\n",
      " |  \n",
      " |  ----------------------------------------------------------------------\n",
      " |  Static methods defined here:\n",
      " |  \n",
      " |  __new__(*args, **kwargs) from builtins.type\n",
      " |      Create and return a new object.  See help(type) for accurate signature.\n",
      " |  \n",
      " |  ----------------------------------------------------------------------\n",
      " |  Data descriptors defined here:\n",
      " |  \n",
      " |  day\n",
      " |  \n",
      " |  month\n",
      " |  \n",
      " |  year\n",
      " |  \n",
      " |  ----------------------------------------------------------------------\n",
      " |  Data and other attributes defined here:\n",
      " |  \n",
      " |  max = datetime.date(9999, 12, 31)\n",
      " |  \n",
      " |  min = datetime.date(1, 1, 1)\n",
      " |  \n",
      " |  resolution = datetime.timedelta(days=1)\n",
      "\n"
     ]
    }
   ],
   "source": [
    "help(datetime.date)"
   ]
  },
  {
   "cell_type": "code",
   "execution_count": 59,
   "id": "ded21b10",
   "metadata": {},
   "outputs": [],
   "source": [
    "?datetime.date"
   ]
  },
  {
   "cell_type": "code",
   "execution_count": 60,
   "id": "d7d438f9",
   "metadata": {},
   "outputs": [
    {
     "data": {
      "text/plain": [
       "datetime.timedelta"
      ]
     },
     "execution_count": 60,
     "metadata": {},
     "output_type": "execute_result"
    }
   ],
   "source": [
    "type(diff_day)"
   ]
  },
  {
   "cell_type": "code",
   "execution_count": 62,
   "id": "4674b37f",
   "metadata": {},
   "outputs": [
    {
     "name": "stdout",
     "output_type": "stream",
     "text": [
      "** 지정된 두 날짜의 차이는 881일입니다. **\n"
     ]
    }
   ],
   "source": [
    "print(\"** 지정된 두 날짜의 차이는 {}일입니다. **\".format(diff_day.days))"
   ]
  },
  {
   "cell_type": "code",
   "execution_count": 63,
   "id": "910ccf80",
   "metadata": {},
   "outputs": [
    {
     "name": "stdout",
     "output_type": "stream",
     "text": [
      "2022-05-24\n"
     ]
    }
   ],
   "source": [
    "import datetime\n",
    "\n",
    "print(datetime.date.today())"
   ]
  },
  {
   "cell_type": "code",
   "execution_count": 65,
   "id": "523d184e",
   "metadata": {},
   "outputs": [
    {
     "name": "stdout",
     "output_type": "stream",
     "text": [
      "221 days, 0:00:00\n"
     ]
    }
   ],
   "source": [
    "import datetime\n",
    "\n",
    "today = datetime.date.today()\n",
    "special_day = datetime.date(2022, 12, 31)\n",
    "print(special_day - today)"
   ]
  },
  {
   "cell_type": "code",
   "execution_count": 67,
   "id": "944a7519",
   "metadata": {},
   "outputs": [
    {
     "data": {
      "text/plain": [
       "datetime.timedelta(days=215)"
      ]
     },
     "execution_count": 67,
     "metadata": {},
     "output_type": "execute_result"
    }
   ],
   "source": [
    "today = datetime.date.today()\n",
    "xmas_date = datetime.date(2022, 12, 25)\n",
    "remain_days = xmas_date - today\n",
    "remain_days"
   ]
  },
  {
   "cell_type": "code",
   "execution_count": 68,
   "id": "38743be6",
   "metadata": {},
   "outputs": [
    {
     "name": "stdout",
     "output_type": "stream",
     "text": [
      "크리스마스는 이제 215 일 남았습니다.^^\n"
     ]
    }
   ],
   "source": [
    "print(\"크리스마스는 이제 {} 일 남았습니다.^^\".format(remain_days.days))"
   ]
  },
  {
   "cell_type": "code",
   "execution_count": 69,
   "id": "2ef27eb9",
   "metadata": {},
   "outputs": [
    {
     "data": {
      "text/plain": [
       "datetime.time(15, 30, 45)"
      ]
     },
     "execution_count": 69,
     "metadata": {},
     "output_type": "execute_result"
    }
   ],
   "source": [
    "import datetime\n",
    "\n",
    "set_time = datetime.time(15, 30, 45)\n",
    "set_time"
   ]
  },
  {
   "cell_type": "code",
   "execution_count": 70,
   "id": "754cc1fe",
   "metadata": {},
   "outputs": [
    {
     "name": "stdout",
     "output_type": "stream",
     "text": [
      "15:30:45\n"
     ]
    }
   ],
   "source": [
    "print('{0}:{1}:{2}'.format(set_time.hour, set_time.minute, set_time.second ))"
   ]
  },
  {
   "cell_type": "code",
   "execution_count": 71,
   "id": "b24d6147",
   "metadata": {},
   "outputs": [
    {
     "name": "stdout",
     "output_type": "stream",
     "text": [
      "2018-12-01 10:20:00\n"
     ]
    }
   ],
   "source": [
    "import datetime\n",
    "\n",
    "set_dt = datetime.datetime(2018, 12, 1, 10, 20, 0)\n",
    "print(set_dt)"
   ]
  },
  {
   "cell_type": "code",
   "execution_count": 72,
   "id": "301dd2cf",
   "metadata": {},
   "outputs": [
    {
     "name": "stdout",
     "output_type": "stream",
     "text": [
      "날짜 2018/12/1\n",
      "시각 10:20:0\n"
     ]
    }
   ],
   "source": [
    "print('날짜 {0}/{1}/{2}'.format(set_dt.year, set_dt.month, set_dt.day))\n",
    "print('시각 {0}:{1}:{2}'.format(set_dt.hour, set_dt.minute, set_dt.second))"
   ]
  },
  {
   "cell_type": "code",
   "execution_count": 73,
   "id": "96e75240",
   "metadata": {},
   "outputs": [
    {
     "name": "stdout",
     "output_type": "stream",
     "text": [
      "2022-05-24 14:42:24.065855\n"
     ]
    }
   ],
   "source": [
    "import datetime\n",
    "\n",
    "now = datetime.datetime.now()\n",
    "print(now)"
   ]
  },
  {
   "cell_type": "code",
   "execution_count": 74,
   "id": "43622da1",
   "metadata": {},
   "outputs": [
    {
     "name": "stdout",
     "output_type": "stream",
     "text": [
      "Date & Time: 2022-05-24, 14:42:24\n"
     ]
    }
   ],
   "source": [
    "print(\"Date & Time: {:%Y-%m-%d, %H:%M:%S}\".format(now))"
   ]
  },
  {
   "cell_type": "code",
   "execution_count": 84,
   "id": "c9c1614f",
   "metadata": {},
   "outputs": [
    {
     "name": "stdout",
     "output_type": "stream",
     "text": [
      "Date: 2022, 05, 24\n",
      "Time: 14/44/29\n"
     ]
    }
   ],
   "source": [
    "print(\"Date: {:%Y, %m, %d}\".format(now))\n",
    "print(\"Time: {:%H/%M/%S}\".format(now))"
   ]
  },
  {
   "cell_type": "code",
   "execution_count": 77,
   "id": "4e832706",
   "metadata": {},
   "outputs": [
    {
     "name": "stdout",
     "output_type": "stream",
     "text": [
      "현재 날짜 및 시각: 2022-05-24 14:44:29.481696\n",
      "차이: 221 days, 9:15:30.518304\n"
     ]
    }
   ],
   "source": [
    "now = datetime.datetime.now()\n",
    "set_dt = datetime.datetime(2023, 1, 1, 00, 00, 00)\n",
    "\n",
    "print(\"현재 날짜 및 시각:\", now)\n",
    "print(\"차이:\", set_dt - now)"
   ]
  },
  {
   "cell_type": "code",
   "execution_count": 78,
   "id": "73328875",
   "metadata": {},
   "outputs": [
    {
     "name": "stdout",
     "output_type": "stream",
     "text": [
      "2022-05-01\n"
     ]
    }
   ],
   "source": [
    "from datetime import date, time, datetime\n",
    "\n",
    "print(date(2022, 5, 1))"
   ]
  },
  {
   "cell_type": "code",
   "execution_count": 79,
   "id": "0ab5b7ce",
   "metadata": {},
   "outputs": [
    {
     "name": "stdout",
     "output_type": "stream",
     "text": [
      "2022-05-24\n"
     ]
    }
   ],
   "source": [
    "print(date.today())"
   ]
  },
  {
   "cell_type": "code",
   "execution_count": 80,
   "id": "a290e940",
   "metadata": {},
   "outputs": [
    {
     "name": "stdout",
     "output_type": "stream",
     "text": [
      "15:30:45\n"
     ]
    }
   ],
   "source": [
    "print(time(15, 30, 45))"
   ]
  },
  {
   "cell_type": "code",
   "execution_count": 81,
   "id": "bbe59e99",
   "metadata": {},
   "outputs": [
    {
     "name": "stdout",
     "output_type": "stream",
     "text": [
      "2022-03-02 18:10:50\n"
     ]
    }
   ],
   "source": [
    "print(datetime(2022, 3, 2, 18, 10, 50))"
   ]
  },
  {
   "cell_type": "code",
   "execution_count": 82,
   "id": "e9aa1ca2",
   "metadata": {},
   "outputs": [
    {
     "name": "stdout",
     "output_type": "stream",
     "text": [
      "2022-05-24 14:45:20.217830\n"
     ]
    }
   ],
   "source": [
    "print(datetime.now())"
   ]
  },
  {
   "cell_type": "code",
   "execution_count": 85,
   "id": "10514c15",
   "metadata": {},
   "outputs": [],
   "source": [
    "import calendar"
   ]
  },
  {
   "cell_type": "code",
   "execution_count": 92,
   "id": "acd29b95",
   "metadata": {},
   "outputs": [
    {
     "name": "stdout",
     "output_type": "stream",
     "text": [
      "                                  2022\n",
      "\n",
      "      January                   February                   March\n",
      "Mo Tu We Th Fr Sa Su      Mo Tu We Th Fr Sa Su      Mo Tu We Th Fr Sa Su\n",
      "                1  2          1  2  3  4  5  6          1  2  3  4  5  6\n",
      " 3  4  5  6  7  8  9       7  8  9 10 11 12 13       7  8  9 10 11 12 13\n",
      "10 11 12 13 14 15 16      14 15 16 17 18 19 20      14 15 16 17 18 19 20\n",
      "17 18 19 20 21 22 23      21 22 23 24 25 26 27      21 22 23 24 25 26 27\n",
      "24 25 26 27 28 29 30      28                        28 29 30 31\n",
      "31\n",
      "\n",
      "       April                      May                       June\n",
      "Mo Tu We Th Fr Sa Su      Mo Tu We Th Fr Sa Su      Mo Tu We Th Fr Sa Su\n",
      "             1  2  3                         1             1  2  3  4  5\n",
      " 4  5  6  7  8  9 10       2  3  4  5  6  7  8       6  7  8  9 10 11 12\n",
      "11 12 13 14 15 16 17       9 10 11 12 13 14 15      13 14 15 16 17 18 19\n",
      "18 19 20 21 22 23 24      16 17 18 19 20 21 22      20 21 22 23 24 25 26\n",
      "25 26 27 28 29 30         23 24 25 26 27 28 29      27 28 29 30\n",
      "                          30 31\n",
      "\n",
      "        July                     August                  September\n",
      "Mo Tu We Th Fr Sa Su      Mo Tu We Th Fr Sa Su      Mo Tu We Th Fr Sa Su\n",
      "             1  2  3       1  2  3  4  5  6  7                1  2  3  4\n",
      " 4  5  6  7  8  9 10       8  9 10 11 12 13 14       5  6  7  8  9 10 11\n",
      "11 12 13 14 15 16 17      15 16 17 18 19 20 21      12 13 14 15 16 17 18\n",
      "18 19 20 21 22 23 24      22 23 24 25 26 27 28      19 20 21 22 23 24 25\n",
      "25 26 27 28 29 30 31      29 30 31                  26 27 28 29 30\n",
      "\n",
      "      October                   November                  December\n",
      "Mo Tu We Th Fr Sa Su      Mo Tu We Th Fr Sa Su      Mo Tu We Th Fr Sa Su\n",
      "                1  2          1  2  3  4  5  6                1  2  3  4\n",
      " 3  4  5  6  7  8  9       7  8  9 10 11 12 13       5  6  7  8  9 10 11\n",
      "10 11 12 13 14 15 16      14 15 16 17 18 19 20      12 13 14 15 16 17 18\n",
      "17 18 19 20 21 22 23      21 22 23 24 25 26 27      19 20 21 22 23 24 25\n",
      "24 25 26 27 28 29 30      28 29 30                  26 27 28 29 30 31\n",
      "31\n",
      "\n"
     ]
    }
   ],
   "source": [
    "print(calendar.calendar(2022))"
   ]
  },
  {
   "cell_type": "code",
   "execution_count": 94,
   "id": "ef6b3e92",
   "metadata": {
    "scrolled": true
   },
   "outputs": [
    {
     "name": "stdout",
     "output_type": "stream",
     "text": [
      "                                                            2022\n",
      "\n",
      "      January                   February                   March                     April                      May\n",
      "Mo Tu We Th Fr Sa Su      Mo Tu We Th Fr Sa Su      Mo Tu We Th Fr Sa Su      Mo Tu We Th Fr Sa Su      Mo Tu We Th Fr Sa Su\n",
      "                1  2          1  2  3  4  5  6          1  2  3  4  5  6                   1  2  3                         1\n",
      " 3  4  5  6  7  8  9       7  8  9 10 11 12 13       7  8  9 10 11 12 13       4  5  6  7  8  9 10       2  3  4  5  6  7  8\n",
      "10 11 12 13 14 15 16      14 15 16 17 18 19 20      14 15 16 17 18 19 20      11 12 13 14 15 16 17       9 10 11 12 13 14 15\n",
      "17 18 19 20 21 22 23      21 22 23 24 25 26 27      21 22 23 24 25 26 27      18 19 20 21 22 23 24      16 17 18 19 20 21 22\n",
      "24 25 26 27 28 29 30      28                        28 29 30 31               25 26 27 28 29 30         23 24 25 26 27 28 29\n",
      "31                                                                                                      30 31\n",
      "\n",
      "        June                      July                     August                  September                  October\n",
      "Mo Tu We Th Fr Sa Su      Mo Tu We Th Fr Sa Su      Mo Tu We Th Fr Sa Su      Mo Tu We Th Fr Sa Su      Mo Tu We Th Fr Sa Su\n",
      "       1  2  3  4  5                   1  2  3       1  2  3  4  5  6  7                1  2  3  4                      1  2\n",
      " 6  7  8  9 10 11 12       4  5  6  7  8  9 10       8  9 10 11 12 13 14       5  6  7  8  9 10 11       3  4  5  6  7  8  9\n",
      "13 14 15 16 17 18 19      11 12 13 14 15 16 17      15 16 17 18 19 20 21      12 13 14 15 16 17 18      10 11 12 13 14 15 16\n",
      "20 21 22 23 24 25 26      18 19 20 21 22 23 24      22 23 24 25 26 27 28      19 20 21 22 23 24 25      17 18 19 20 21 22 23\n",
      "27 28 29 30               25 26 27 28 29 30 31      29 30 31                  26 27 28 29 30            24 25 26 27 28 29 30\n",
      "                                                                                                        31\n",
      "\n",
      "      November                  December\n",
      "Mo Tu We Th Fr Sa Su      Mo Tu We Th Fr Sa Su\n",
      "    1  2  3  4  5  6                1  2  3  4\n",
      " 7  8  9 10 11 12 13       5  6  7  8  9 10 11\n",
      "14 15 16 17 18 19 20      12 13 14 15 16 17 18\n",
      "21 22 23 24 25 26 27      19 20 21 22 23 24 25\n",
      "28 29 30                  26 27 28 29 30 31\n",
      "\n"
     ]
    }
   ],
   "source": [
    "print(calendar.calendar(2022, m=5))"
   ]
  },
  {
   "cell_type": "code",
   "execution_count": 95,
   "id": "d4d264ab",
   "metadata": {},
   "outputs": [
    {
     "name": "stdout",
     "output_type": "stream",
     "text": [
      "      May 2022\n",
      "Mo Tu We Th Fr Sa Su\n",
      "                   1\n",
      " 2  3  4  5  6  7  8\n",
      " 9 10 11 12 13 14 15\n",
      "16 17 18 19 20 21 22\n",
      "23 24 25 26 27 28 29\n",
      "30 31\n",
      "\n"
     ]
    }
   ],
   "source": [
    "print(calendar.month(2022,5))"
   ]
  },
  {
   "cell_type": "code",
   "execution_count": 128,
   "id": "d663ca85",
   "metadata": {},
   "outputs": [
    {
     "data": {
      "text/plain": [
       "(4, 31)"
      ]
     },
     "execution_count": 128,
     "metadata": {},
     "output_type": "execute_result"
    }
   ],
   "source": [
    "calendar.monthrange(2022,7)"
   ]
  },
  {
   "cell_type": "code",
   "execution_count": 129,
   "id": "05bcb612",
   "metadata": {},
   "outputs": [
    {
     "data": {
      "text/plain": [
       "1"
      ]
     },
     "execution_count": 129,
     "metadata": {},
     "output_type": "execute_result"
    }
   ],
   "source": [
    "calendar.firstweekday()"
   ]
  },
  {
   "cell_type": "code",
   "execution_count": 98,
   "id": "106cb539",
   "metadata": {},
   "outputs": [
    {
     "name": "stdout",
     "output_type": "stream",
     "text": [
      "      May 2022\n",
      "Mo Tu We Th Fr Sa Su\n",
      "                   1\n",
      " 2  3  4  5  6  7  8\n",
      " 9 10 11 12 13 14 15\n",
      "16 17 18 19 20 21 22\n",
      "23 24 25 26 27 28 29\n",
      "30 31\n",
      "\n"
     ]
    }
   ],
   "source": [
    "calendar.setfirstweekday(calendar.MONDAY)\n",
    "print(calendar.month(2022,5))"
   ]
  },
  {
   "cell_type": "code",
   "execution_count": 123,
   "id": "37c3cad0",
   "metadata": {},
   "outputs": [
    {
     "name": "stdout",
     "output_type": "stream",
     "text": [
      "      May 2022\n",
      "Tu We Th Fr Sa Su Mo\n",
      "                1  2\n",
      " 3  4  5  6  7  8  9\n",
      "10 11 12 13 14 15 16\n",
      "17 18 19 20 21 22 23\n",
      "24 25 26 27 28 29 30\n",
      "31\n",
      "\n"
     ]
    }
   ],
   "source": [
    "calendar.setfirstweekday(calendar.TUESDAY)\n",
    "print(calendar.month(2022,5))"
   ]
  },
  {
   "cell_type": "markdown",
   "id": "868ac54a",
   "metadata": {},
   "source": [
    "* 일요일은 6, 월요일은 0"
   ]
  },
  {
   "cell_type": "code",
   "execution_count": 100,
   "id": "ab855e58",
   "metadata": {},
   "outputs": [
    {
     "data": {
      "text/plain": [
       "(6, 0)"
      ]
     },
     "execution_count": 100,
     "metadata": {},
     "output_type": "execute_result"
    }
   ],
   "source": [
    "calendar.SUNDAY, calendar.MONDAY"
   ]
  },
  {
   "cell_type": "code",
   "execution_count": 101,
   "id": "287e9670",
   "metadata": {},
   "outputs": [
    {
     "data": {
      "text/plain": [
       "6"
      ]
     },
     "execution_count": 101,
     "metadata": {},
     "output_type": "execute_result"
    }
   ],
   "source": [
    "calendar.firstweekday()"
   ]
  },
  {
   "cell_type": "code",
   "execution_count": 102,
   "id": "1998ce28",
   "metadata": {},
   "outputs": [
    {
     "name": "stdout",
     "output_type": "stream",
     "text": [
      "1\n"
     ]
    }
   ],
   "source": [
    "print(calendar.weekday(2022, 5, 24))"
   ]
  },
  {
   "cell_type": "code",
   "execution_count": 103,
   "id": "73871ed1",
   "metadata": {},
   "outputs": [
    {
     "name": "stdout",
     "output_type": "stream",
     "text": [
      "False\n",
      "True\n"
     ]
    }
   ],
   "source": [
    "print(calendar.isleap(2018))\n",
    "print(calendar.isleap(2020))"
   ]
  },
  {
   "cell_type": "code",
   "execution_count": 120,
   "id": "0e6f5d9f",
   "metadata": {},
   "outputs": [
    {
     "name": "stdout",
     "output_type": "stream",
     "text": [
      "0\t100000\t200000\t300000\t400000\t500000\t600000\t700000\t800000\t900000\t1000000\t1100000\t1200000\t1300000\t1400000\t1500000\t1600000\t1700000\t1800000\t1900000\t2000000\t2100000\t2200000\t2300000\t2400000\t2500000\t2600000\t2700000\t2800000\t2900000\t3000000\t3100000\t3200000\t3300000\t3400000\t3500000\t3600000\t3700000\t3800000\t3900000\t4000000\t4100000\t4200000\t4300000\t4400000\t4500000\t4600000\t4700000\t4800000\t4900000\t5000000\t5100000\t5200000\t5300000\t5400000\t5500000\t5600000\t5700000\t5800000\t5900000\t6000000\t6100000\t6200000\t6300000\t6400000\t6500000\t6600000\t6700000\t6800000\t6900000\t7000000\t7100000\t7200000\t7300000\t7400000\t7500000\t7600000\t7700000\t7800000\t7900000\t8000000\t8100000\t8200000\t8300000\t8400000\t8500000\t8600000\t8700000\t8800000\t8900000\t9000000\t9100000\t9200000\t9300000\t9400000\t9500000\t9600000\t9700000\t9800000\t9900000\t10000000\t10100000\t10200000\t10300000\t10400000\t10500000\t10600000\t10700000\t10800000\t10900000\t11000000\t11100000\t11200000\t11300000\t11400000\t11500000\t11600000\t11700000\t11800000\t11900000\t12000000\t12100000\t12200000\t12300000\t12400000\t12500000\t12600000\t12700000\t12800000\t12900000\t13000000\t13100000\t13200000\t13300000\t13400000\t13500000\t13600000\t13700000\t13800000\t13900000\t14000000\t14100000\t14200000\t14300000\t14400000\t14500000\t14600000\t14700000\t14800000\t14900000\t15000000\t15100000\t15200000\t15300000\t15400000\t15500000\t15600000\t15700000\t15800000\t15900000\t16000000\t16100000\t16200000\t16300000\t16400000\t16500000\t16600000\t16700000\t16800000\t16900000\t17000000\t17100000\t17200000\t17300000\t17400000\t17500000\t17600000\t17700000\t17800000\t17900000\t18000000\t18100000\t18200000\t18300000\t18400000\t18500000\t18600000\t18700000\t18800000\t18900000\t19000000\t19100000\t19200000\t19300000\t19400000\t19500000\t19600000\t19700000\t19800000\t19900000\t20000000\t20100000\t20200000\t20300000\t20400000\t20500000\t20600000\t20700000\t20800000\t20900000\t21000000\t21100000\t21200000\t21300000\t21400000\t21500000\t21600000\t21700000\t21800000\t21900000\t22000000\t22100000\t22200000\t22300000\t22400000\t22500000\t22600000\t22700000\t22800000\t22900000\t23000000\t23100000\t23200000\t23300000\t23400000\t23500000\t23600000\t23700000\t23800000\t23900000\t24000000\t24100000\t24200000\t24300000\t24400000\t24500000\t24600000\t24700000\t24800000\t24900000\t25000000\t25100000\t25200000\t25300000\t25400000\t25500000\t25600000\t25700000\t25800000\t25900000\t26000000\t26100000\t26200000\t26300000\t26400000\t26500000\t26600000\t26700000\t26800000\t26900000\t27000000\t27100000\t27200000\t27300000\t27400000\t27500000\t27600000\t27700000\t27800000\t27900000\t28000000\t28100000\t28200000\t28300000\t28400000\t28500000\t28600000\t28700000\t28800000\t28900000\t29000000\t29100000\t29200000\t29300000\t29400000\t29500000\t29600000\t29700000\t29800000\t29900000\t30000000\t30100000\t30200000\t30300000\t30400000\t30500000\t30600000\t30700000\t30800000\t30900000\t31000000\t31100000\t31200000\t31300000\t31400000\t31500000\t31600000\t31700000\t31800000\t31900000\t32000000\t32100000\t32200000\t32300000\t32400000\t32500000\t32600000\t32700000\t32800000\t32900000\t33000000\t33100000\t33200000\t33300000\t33400000\t33500000\t33600000\t33700000\t33800000\t33900000\t34000000\t34100000\t34200000\t34300000\t34400000\t34500000\t34600000\t34700000\t34800000\t34900000\t35000000\t35100000\t35200000\t35300000\t35400000\t35500000\t35600000\t35700000\t35800000\t35900000\t36000000\t36100000\t36200000\t36300000\t36400000\t36500000\t36600000\t36700000\t36800000\t36900000\t37000000\t37100000\t37200000\t37300000\t37400000\t37500000\t37600000\t37700000\t37800000\t37900000\t38000000\t38100000\t38200000\t38300000\t38400000\t38500000\t38600000\t38700000\t38800000\t38900000\t39000000\t39100000\t39200000\t39300000\t39400000\t39500000\t39600000\t39700000\t39800000\t39900000\t40000000\t40100000\t40200000\t40300000\t40400000\t40500000\t40600000\t40700000\t40800000\t40900000\t41000000\t41100000\t41200000\t41300000\t41400000\t41500000\t41600000\t41700000\t41800000\t41900000\t42000000\t42100000\t42200000\t42300000\t42400000\t42500000\t42600000\t42700000\t42800000\t42900000\t43000000\t43100000\t43200000\t43300000\t43400000\t43500000\t43600000\t43700000\t43800000\t43900000\t44000000\t44100000\t44200000\t44300000\t44400000\t44500000\t44600000\t44700000\t44800000\t44900000\t45000000\t45100000\t45200000\t45300000\t45400000\t45500000\t45600000\t45700000\t45800000\t45900000\t46000000\t46100000\t46200000\t46300000\t46400000\t46500000\t46600000\t46700000\t46800000\t46900000\t47000000\t47100000\t47200000\t47300000\t47400000\t47500000\t47600000\t47700000\t47800000\t47900000\t48000000\t48100000\t48200000\t48300000\t48400000\t48500000\t48600000\t48700000\t48800000\t48900000\t49000000\t49100000\t49200000\t49300000\t49400000\t49500000\t49600000\t49700000\t49800000\t49900000\t50000000\t50100000\t50200000\t50300000\t50400000\t50500000\t50600000\t50700000\t50800000\t50900000\t51000000\t51100000\t51200000\t51300000\t51400000\t51500000\t51600000\t51700000\t51800000\t51900000\t52000000\t52100000\t52200000\t52300000\t52400000\t52500000\t52600000\t52700000\t52800000\t52900000\t53000000\t53100000\t53200000\t53300000\t53400000\t53500000\t53600000\t53700000\t53800000\t53900000\t54000000\t54100000\t54200000\t54300000\t54400000\t54500000\t54600000\t54700000\t54800000\t54900000\t55000000\t55100000\t55200000\t55300000\t55400000\t55500000\t55600000\t55700000\t55800000\t55900000\t56000000\t56100000\t56200000\t56300000\t56400000\t56500000\t56600000\t56700000\t56800000\t56900000\t57000000\t57100000\t57200000\t57300000\t57400000\t57500000\t57600000\t57700000\t57800000\t57900000\t58000000\t58100000\t58200000\t58300000\t58400000\t58500000\t58600000\t58700000\t58800000\t58900000\t59000000\t59100000\t59200000\t59300000\t59400000\t59500000\t59600000\t59700000\t59800000\t59900000\t60000000\t60100000\t60200000\t60300000\t60400000\t60500000\t60600000\t60700000\t60800000\t60900000\t61000000\t61100000\t61200000\t61300000\t61400000\t61500000\t61600000\t61700000\t61800000\t61900000\t62000000\t62100000\t62200000\t62300000\t62400000\t62500000\t62600000\t62700000\t62800000\t62900000\t63000000\t63100000\t63200000\t63300000\t63400000\t63500000\t63600000\t63700000\t63800000\t63900000\t64000000\t64100000\t64200000\t64300000\t64400000\t64500000\t64600000\t64700000\t64800000\t64900000\t65000000\t65100000\t65200000\t65300000\t65400000\t65500000\t65600000\t65700000\t65800000\t65900000\t66000000\t66100000\t66200000\t66300000\t66400000\t66500000\t66600000\t66700000\t66800000\t66900000\t67000000\t67100000\t67200000\t67300000\t67400000\t67500000\t67600000\t67700000\t67800000\t67900000\t68000000\t68100000\t68200000\t68300000\t68400000\t68500000\t68600000\t68700000\t68800000\t68900000\t69000000\t69100000\t69200000\t69300000\t69400000\t69500000\t69600000\t69700000\t69800000\t69900000\t70000000\t70100000\t70200000\t70300000\t70400000\t70500000\t70600000\t70700000\t70800000\t70900000\t71000000\t71100000\t71200000\t71300000\t71400000\t71500000\t71600000\t71700000\t71800000\t71900000\t72000000\t72100000\t72200000\t72300000\t72400000\t72500000\t72600000\t72700000\t72800000\t72900000\t73000000\t73100000\t73200000\t73300000\t73400000\t73500000\t73600000\t73700000\t73800000\t73900000\t74000000\t74100000\t74200000\t74300000\t74400000\t74500000\t74600000\t74700000\t74800000\t74900000\t75000000\t75100000\t75200000\t75300000\t75400000\t75500000\t75600000\t75700000\t75800000\t75900000\t76000000\t76100000\t76200000\t76300000\t76400000\t76500000\t76600000\t76700000\t76800000\t76900000\t77000000\t77100000\t77200000\t77300000\t77400000\t77500000\t77600000\t77700000\t77800000\t77900000\t78000000\t78100000\t78200000\t78300000\t78400000\t78500000\t78600000\t78700000\t78800000\t78900000\t79000000\t79100000\t79200000\t79300000\t79400000\t79500000\t79600000\t79700000\t79800000\t79900000\t80000000\t80100000\t80200000\t80300000\t80400000\t80500000\t80600000\t80700000\t80800000\t80900000\t81000000\t81100000\t81200000\t81300000\t81400000\t81500000\t81600000\t81700000\t81800000\t81900000\t82000000\t82100000\t82200000\t82300000\t82400000\t82500000\t82600000\t82700000\t82800000\t82900000\t83000000\t83100000\t83200000\t83300000\t83400000\t83500000\t83600000\t83700000\t83800000\t83900000\t84000000\t84100000\t84200000\t84300000\t84400000\t84500000\t84600000\t84700000\t84800000\t84900000\t85000000\t85100000\t85200000\t85300000\t85400000\t85500000\t85600000\t85700000\t85800000\t85900000\t86000000\t86100000\t86200000\t86300000\t86400000\t86500000\t86600000\t86700000\t86800000\t86900000\t87000000\t87100000\t87200000\t87300000\t87400000\t87500000\t87600000\t87700000\t87800000\t87900000\t88000000\t88100000\t88200000\t88300000\t88400000\t88500000\t88600000\t88700000\t88800000\t88900000\t89000000\t89100000\t89200000\t89300000\t89400000\t89500000\t89600000\t89700000\t89800000\t89900000\t90000000\t90100000\t90200000\t90300000\t90400000\t90500000\t90600000\t90700000\t90800000\t90900000\t91000000\t91100000\t91200000\t91300000\t91400000\t91500000\t91600000\t91700000\t91800000\t91900000\t92000000\t92100000\t92200000\t92300000\t92400000\t92500000\t92600000\t92700000\t92800000\t92900000\t93000000\t93100000\t93200000\t93300000\t93400000\t93500000\t93600000\t93700000\t93800000\t93900000\t94000000\t94100000\t94200000\t94300000\t94400000\t94500000\t94600000\t"
     ]
    },
    {
     "name": "stdout",
     "output_type": "stream",
     "text": [
      "94700000\t94800000\t94900000\t95000000\t95100000\t95200000\t95300000\t95400000\t95500000\t95600000\t95700000\t95800000\t95900000\t96000000\t96100000\t96200000\t96300000\t96400000\t96500000\t96600000\t96700000\t96800000\t96900000\t97000000\t97100000\t97200000\t97300000\t97400000\t97500000\t97600000\t97700000\t97800000\t97900000\t98000000\t98100000\t98200000\t98300000\t98400000\t98500000\t98600000\t98700000\t98800000\t98900000\t99000000\t99100000\t99200000\t99300000\t99400000\t99500000\t99600000\t99700000\t99800000\t99900000\t"
     ]
    }
   ],
   "source": [
    "import time\n",
    "\n",
    "chk_time1 = datetime.now()\n",
    "\n",
    "for i in range(10**8):\n",
    "    if i%100000 == 0:\n",
    "        print(i,end='\\t')\n",
    "\n",
    "chk_time2 = datetime.now()"
   ]
  },
  {
   "cell_type": "code",
   "execution_count": 121,
   "id": "16623fe4",
   "metadata": {},
   "outputs": [
    {
     "name": "stdout",
     "output_type": "stream",
     "text": [
      "0:00:07.391194\n"
     ]
    }
   ],
   "source": [
    "chk_time = chk_time2 - chk_time1\n",
    "print(chk_time)"
   ]
  },
  {
   "cell_type": "code",
   "execution_count": 109,
   "id": "ac686b82",
   "metadata": {},
   "outputs": [
    {
     "name": "stdout",
     "output_type": "stream",
     "text": [
      "Object `chk_time` not found.\n"
     ]
    }
   ],
   "source": []
  },
  {
   "cell_type": "code",
   "execution_count": null,
   "id": "6ba9b6a3",
   "metadata": {},
   "outputs": [],
   "source": []
  }
 ],
 "metadata": {
  "kernelspec": {
   "display_name": "Python 3 (ipykernel)",
   "language": "python",
   "name": "python3"
  },
  "language_info": {
   "codemirror_mode": {
    "name": "ipython",
    "version": 3
   },
   "file_extension": ".py",
   "mimetype": "text/x-python",
   "name": "python",
   "nbconvert_exporter": "python",
   "pygments_lexer": "ipython3",
   "version": "3.9.12"
  }
 },
 "nbformat": 4,
 "nbformat_minor": 5
}
