{
 "cells": [
  {
   "cell_type": "code",
   "execution_count": 1,
   "id": "84122f19",
   "metadata": {},
   "outputs": [],
   "source": [
    "import platform #os에 관계 없이 작동한다., 윈도우와 맥북 다 작동하는 함수이다.\n",
    "\n",
    "import numpy as np\n",
    "import pandas as pd\n",
    "import matplotlib.pyplot as plt\n",
    "import seaborn as sns\n",
    "# sns.set()\n",
    "\n",
    "from matplotlib import font_manager, rc\n",
    "if platform.system() == 'Darwin':\n",
    "    rc('font', family='AppleGothic')\n",
    "elif platform.system() == 'Windows':\n",
    "    font_name = font_manager.FontProperties(fname=\"C:/Windows/Fonts/malgun.ttf\").get_name()\n",
    "    rc('font', family=font_name)\n",
    "else:\n",
    "    print(\"It's unknown system. Hangul fonts are not supported!\")\n",
    "    \n",
    "# plt.rcParams['axes.unicode_minus'] = False\n",
    "plt.rcParams[\"figure.figsize\"] = [12,6]\n",
    "\n",
    "%matplotlib inline"
   ]
  },
  {
   "cell_type": "code",
   "execution_count": 2,
   "id": "f1be91ae",
   "metadata": {},
   "outputs": [],
   "source": [
    "# u : 유니코드를 나타낸다., 여러개의 비트를 갔다가 글자 한자를 갔다가 처리할 수 잇게끔 단위를 구별해서 처리할 수 있도록 한다.  \n",
    "# u : 그래로 해석을 하기 위해서 쓰는 함수이다.  \n",
    "\n",
    "text_0 = u'한국어 분석을 시작합니다. 재미있어요'\n",
    "text_1 = u'나는 이제 너 없이도 너를 좋아할 수 있다.'\n",
    "text_2 = u'순간이 시간이 되고, 시간이 세월이 되고, 세월은 추억이 된다.'\n",
    "text_3 = u'''\n",
    "    자신의 능력을 감추지 마라. \n",
    "    재능은 쓰라고 주어진 것이다. \n",
    "    그늘속의 해시계가 무슨 소용이랴.'\n",
    "'''\n",
    "text_4 = u'''\n",
    "    If I only had an hour to chop down a tree, \n",
    "    I would spend the first 45 minutes sharpening my axe.\n",
    "    만일 내게 나무를 베기 위해 한 시간만 주어진다면, \n",
    "    우선 나는 도끼를 가는데 45분을 쓸 것이다.'\n",
    "    - 에이브러햄 링컨\n",
    "'''\n",
    "text_5 = u'''\n",
    "아름답지만 다소 복잡하기도한 한국어는 전세계에서 13번째로 많이 사용되는 언어입니다.\n",
    "KoNLPy는 파이썬 프로그래밍 언어로 사용할 수 있도록 만들어졌는데, \n",
    "그것은 파이썬이 간결하고 우아한 문법구조, 강력한 스트링 연산 기능을 가지고 있을 뿐 아니라 \n",
    "크롤링, 웹프로그래밍, 그리고 데이터 분석을 수행할 수 있는 다양한 패키지를 사용할 수 있는 언어이기 때문입니다.\n",
    "'''\n",
    "\n",
    "text_6 = u'''\n",
    "하늘아래 땅이있고 그위에 내가있으니\n",
    "어디인들 이내몸 둘곳이야 없으리\n",
    "하루해가 저문다고 울터이냐 그리도 내가 작더냐\n",
    "별이 지는 저 산넘어 내 그리 쉬어 가리라\n",
    "바람아 불어라 이내몸을 날려 주려마\n",
    "하늘아 구름아 내몸 실어 떠나 가련다\n",
    "\n",
    "해가지고 달이뜨고 그안에 내가숨쉬니\n",
    "어디인들 이내몸 갈곳이야 없으리\n",
    "작은것을 사랑하며 살터이다 친구를 사랑하리라\n",
    "말이없는 저들녘에 내님을 그려보련다\n",
    "바람아 불어라 이내몸을 날려주려마\n",
    "하늘아 구름아 내몸실어 떠나가련다\n",
    "바람아 불어라 이내몸을 날려주려마\n",
    "하늘아 구름아 내몸실어 떠나가련다\n",
    "'''\n",
    "\n",
    "cool_sentences = [ text_0, text_1, text_2, text_3, text_4, text_5, text_6 ]"
   ]
  },
  {
   "cell_type": "code",
   "execution_count": 12,
   "id": "30f71420",
   "metadata": {},
   "outputs": [],
   "source": [
    "text_y = u'''존경하고 사랑하는 국민 여러분,\n",
    "750만 재외동포 여러분,\n",
    "그리고 자유를 사랑하는 세계 시민 여러분,\n",
    "\n",
    "저는 이 나라를 자유민주주의와 시장경제 체제를 기반으로 국민이 진정한 주인인 나라로 재건하고, 국제사회에서 책임과 역할을 다하는 나라로 만들어야 하는 시대적 소명을 갖고 오늘 이 자리에 섰습니다.\n",
    "\n",
    "역사적인 자리에 함께해 주신 국민 여러분께 감사드립니다.\n",
    "\n",
    "문재인, 박근혜 전 대통령, 그리고 할리마 야콥 싱가포르 대통령, 포스탱 아르샹쥬 투아데라 중앙아프리카공화국 대통령, 왕치산 중국 국가부주석, 메가와티 수카르노푸트리 인도네시아 전 대통령, 더글러스 엠호프 해리스 미국 부통령 부군, 조지 퓨리 캐나다 상원의장, 하야시 요시마사 일본 외무상을 비롯한 세계 각국의 경축 사절과 내외 귀빈 여러분께도 깊이 감사드립니다.\n",
    "\n",
    "이 자리를 빌려 지난 2년간 코로나 팬데믹을 극복하는 과정에서 큰 고통을 감내해주신 국민 여러분께 경의를 표합니다.\n",
    "그리고 헌신해주신 의료진 여러분께도 감사드립니다.\n",
    "\n",
    "존경하는 국민 여러분,\n",
    "세계 시민 여러분,\n",
    "\n",
    "지금 전 세계는 팬데믹 위기, 교역 질서의 변화와 공급망의 재편, 기후 변화, 식량과 에너지 위기, 분쟁의 평화적 해결의 후퇴 등 어느 한 나라가 독자적으로,  또는 몇몇 나라만 참여해서 해결하기 어려운 난제들에 직면해 있습니다.\n",
    "\n",
    "다양한 위기가 복합적으로 인류 사회에 어두운 그림자를 드리우고 있는 것입니다.\n",
    "\n",
    "또한 우리나라를 비롯한 많은 나라들이 국내적으로 초저성장과 대규모 실업, 양극화의 심화와 다양한 사회적 갈등으로 인해 공동체의 결속력이 흔들리고 와해되고 있습니다.\n",
    "\n",
    "한편, 이러한 문제들을 해결해야 하는 정치는 이른바 민주주의의 위기로 인해 제 기능을 하지 못하고 있습니다.\n",
    "\n",
    "가장 큰 원인으로 지목되는 것이 바로 반지성주의입니다.\n",
    "\n",
    "견해가 다른 사람들이 서로의 입장을 조정하고 타협하기 위해서는 과학과 진실이 전제되어야 합니다.\n",
    "그것이 민주주의를 지탱하는 합리주의와 지성주의입니다.\n",
    "\n",
    "국가 간, 국가 내부의 지나친 집단적 갈등에 의해 진실이 왜곡되고, 각자가 보고 듣고 싶은 사실만을 선택하거나 다수의 힘으로 상대의 의견을 억압하는 반지성주의가 민주주의를 위기에 빠뜨리고 민주주의에 대한 믿음을 해치고 있습니다.\n",
    "이러한 상황이 우리가 처해있는 문제의 해결을 더 어렵게 만들고 있습니다.\n",
    "\n",
    "그러나 우리는 할 수 있습니다.\n",
    "역사를 돌이켜 보면 우리 국민은 많은 위기에 처했지만 그럴 때마다 국민 모두 힘을 합쳐 지혜롭게, 또 용기있게 극복해 왔습니다.\n",
    "\n",
    "저는 이 순간 이러한 위기를 극복하는 책임을 부여받게 된 것을 감사한 마음으로 받아들이고, 우리 위대한 국민과 함께 당당하게 헤쳐 나갈 수 있다고 확신합니다.\n",
    "\n",
    "또 세계 시민과 힘을 합쳐 국내외적인 위기와 난제들을 해결해 나갈 수 있다고 믿습니다.\n",
    "\n",
    "존경하는 국민 여러분,\n",
    "세계 시민 여러분,\n",
    "\n",
    "저는 이 어려움을 해결해 나가기 위해서 우리가 보편적 가치를 공유하는 것이 매우 중요하다고 생각합니다.\n",
    "\n",
    "그것은 바로 ‘자유’입니다.\n",
    "우리는 자유의 가치를 제대로, 그리고 정확하게 인식해야 합니다.\n",
    "자유의 가치를 재발견해야 합니다.\n",
    "\n",
    "인류 역사를 돌이켜보면 자유로운 정치적 권리, 자유로운 시장이 숨 쉬고 있던 곳은 언제나 번영과 풍요가 꽃 피었습니다.\n",
    "\n",
    "번영과 풍요, 경제적 성장은 바로 자유의 확대입니다.\n",
    "\n",
    "자유는 보편적 가치입니다.\n",
    "우리 사회 모든 구성원이 자유 시민이 되어야 하는 것입니다.\n",
    "어떤 개인의 자유가 침해되는 것이 방치된다면 우리 공동체 구성원 모두의 자유마저 위협받게 됩니다.\n",
    "\n",
    "자유는 결코 승자독식이 아닙니다.\n",
    "자유 시민이 되기 위해서는 일정한 수준의 경제적 기초, 그리고 공정한 교육과 문화의 접근 기회가 보장되어야 합니다.\n",
    "이런 것 없이 자유 시민이라고 할 수 없습니다.\n",
    "\n",
    "어떤 사람의 자유가 유린되거나 자유 시민이 되는데 필요한 조건을 충족하지 못한다면 모든 자유 시민은 연대해서 도와야 합니다.\n",
    "\n",
    "그리고 개별 국가뿐 아니라 국제적으로도 기아와 빈곤, 공권력과 군사력에 의한 불법 행위로 개인의 자유가 침해되고 자유 시민으로서의 존엄한 삶이 유지되지 않는다면 모든 세계 시민이 자유 시민으로서 연대하여 도와야 하는 것입니다.\n",
    "\n",
    "모두가 자유 시민이 되기 위해서는 공정한 규칙을 지켜야 하고, 연대와 박애의 정신을 가져야 합니다.\n",
    "\n",
    "존경하는 국민 여러분,\n",
    "\n",
    "국내 문제로 눈을 돌려 제가 중요하게 생각하는 방향에 대해 말씀드리겠습니다.\n",
    "\n",
    "우리나라는 지나친 양극화와 사회 갈등이 자유와 민주주의를 위협할 뿐 아니라 사회 발전의 발목을 잡고 있습니다.\n",
    "\n",
    "저는 이 문제를 도약과 빠른 성장을 이룩하지 않고는 해결하기 어렵다고 생각합니다.\n",
    "\n",
    "빠른 성장 과정에서 많은 국민이 새로운 기회를 찾을 수 있고, 사회 이동성을 제고함으로써 양극화와 갈등의 근원을 제거할 수 있습니다.\n",
    "\n",
    "도약과 빠른 성장은 오로지 과학과 기술, 그리고 혁신에 의해서만 이뤄낼 수 있는 것입니다.\n",
    "\n",
    "과학과 기술, 그리고 혁신은 우리의 자유민주주의를 지키고 우리의 자유를 확대하며 우리의 존엄한 삶을 지속 가능하게 할 것입니다.\n",
    "\n",
    "과학과 기술, 그리고 혁신은 우리나라 혼자만의 노력으로는 달성하기 어렵습니다.\n",
    "\n",
    "자유와 창의를 존중함으로써 과학 기술의 진보와 혁신을 이뤄낸 많은 나라들과 협력하고 연대해야만 합니다.\n",
    "\n",
    "존경하는 국민 여러분,\n",
    "세계 시민 여러분,\n",
    "\n",
    "자유민주주의는 평화를 만들어내고, 평화는 자유를 지켜줍니다.\n",
    "그리고 평화는 자유와 인권의 가치를 존중하는 국제사회와의 연대에 의해 보장이 됩니다.\n",
    "\n",
    "일시적으로 전쟁을 회피하는 취약한 평화가 아니라 자유와 번영을 꽃피우는 지속 가능한 평화를 추구해야 합니다.\n",
    "\n",
    "전 세계 어떤 곳도 자유와 평화에 대한 위협에서 자유롭지 못합니다.\n",
    "지금 한반도와 동북아의 평화도 마찬가지입니다.\n",
    "\n",
    "저는 한반도뿐 아니라 아시아와 세계의 평화를 위협하는 북한의 핵 개발에 대해서도 그 평화적 해결을 위해 대화의 문을 열어놓겠습니다.\n",
    "\n",
    "그리고 북한이 핵 개발을 중단하고 실질적인 비핵화로 전환한다면 국제사회와 협력하여 북한 경제와 북한 주민의 삶의 질을 획기적으로 개선할 수 있는 담대한 계획을 준비하겠습니다.\n",
    "\n",
    "북한의 비핵화는 한반도에 지속 가능한 평화를 가져올 뿐 아니라 아시아와 전 세계의 평화와 번영에도 크게 기여할 것입니다.\n",
    "\n",
    "사랑하고 존경하는 국민 여러분,\n",
    "\n",
    "지금 우리는 세계 10위권의 경제 대국 그룹에 들어가 있습니다.\n",
    "그러므로 우리는 자유와 인권의 가치에 기반한 보편적 국제 규범을 적극 지지하고 수호하는데 글로벌 리더 국가로서의 자세를 가져야 합니다.\n",
    "\n",
    "우리나라뿐 아니라 세계 시민 모두의 자유와 인권을 지키고 확대하는데 더욱 주도적인 역할을 해야 합니다.\n",
    "국제사회도 대한민국에 더욱 큰 역할을 기대하고 있음이 분명합니다.\n",
    "\n",
    "지금 우리나라는 국내 문제와 국제 문제를 분리할 수 없습니다.\n",
    "국제사회가 우리에게 기대하는 역할을 주도적으로 수행할 때 국내 문제도 올바른 해결 방향을\n",
    "찾을 수 있는 것입니다.\n",
    "\n",
    "저는 자유, 인권, 공정, 연대의 가치를 기반으로 국민이 진정한 주인인 나라, 국제사회에서 책임을 다하고 존경받는 나라를 위대한 국민 여러분과 함께 반드시 만들어 나가겠습니다.\n",
    "\n",
    "감사합니다.\n",
    "'''"
   ]
  },
  {
   "cell_type": "code",
   "execution_count": 3,
   "id": "a7567b43",
   "metadata": {},
   "outputs": [
    {
     "name": "stdout",
     "output_type": "stream",
     "text": [
      "하늘아래 땅이있고 그위에 내가있으니\n",
      "어디인들 이내몸 둘곳이야 없으리\n",
      "하루해가 저문다고 울터이냐 그리도 내가 작더냐\n",
      "별이 지는 저 산넘어 내 그리 쉬어 가리라\n",
      "바람아 불어라 이내몸을 날려 주려마\n",
      "하늘아 구름아 내몸 실어 떠나 가련다\n",
      "\n",
      "해가지고 달이뜨고 그안에 내가숨쉬니\n",
      "어디인들 이내몸 갈곳이야 없으리\n",
      "작은것을 사랑하며 살터이다 친구를 사랑하리라\n",
      "말이없는 저들녘에 내님을 그려보련다\n",
      "바람아 불어라 이내몸을 날려주려마\n",
      "하늘아 구름아 내몸실어 떠나가련다\n",
      "바람아 불어라 이내몸을 날려주려마\n",
      "하늘아 구름아 내몸실어 떠나가련다\n"
     ]
    }
   ],
   "source": [
    "selected_text = cool_sentences[-1]\n",
    "print(selected_text.strip())"
   ]
  },
  {
   "cell_type": "code",
   "execution_count": 4,
   "id": "bfe3eb45",
   "metadata": {},
   "outputs": [
    {
     "data": {
      "text/plain": [
       "'하늘아래 땅이있고 그위에 내가있으니 어디인들 이내몸 둘곳이야 없으리 하루해가 저문다고 울터이냐 그리도 내가 작더냐 별이 지는 저 산넘어 내 그리 쉬어 가리라 바람아 불어라 이내몸을 날려 주려마 하늘아 구름아 내몸 실어 떠나 가련다 해가지고 달이뜨고 그안에 내가숨쉬니 어디인들 이내몸 갈곳이야 없으리 작은것을 사랑하며 살터이다 친구를 사랑하리라 말이없는 저들녘에 내님을 그려보련다 바람아 불어라 이내몸을 날려주려마 하늘아 구름아 내몸실어 떠나가련다 바람아 불어라 이내몸을 날려주려마 하늘아 구름아 내몸실어 떠나가련다'"
      ]
     },
     "execution_count": 4,
     "metadata": {},
     "output_type": "execute_result"
    }
   ],
   "source": [
    "# 프린트만하면 이런게 나온다, 이런것들을 정리하고 본다.\n",
    "\n",
    "selected_text = selected_text.replace('\\n', ' ')\n",
    "selected_text = selected_text.replace('\\t', ' ')\n",
    "selected_text = selected_text.replace('  ', ' ')\n",
    "selected_text = selected_text.strip()\n",
    "selected_text"
   ]
  },
  {
   "cell_type": "code",
   "execution_count": 5,
   "id": "0a5a9ce8",
   "metadata": {},
   "outputs": [
    {
     "name": "stdout",
     "output_type": "stream",
     "text": [
      "문자열 총 길이 : 287           \n",
      "문자열 총 길이 : 222 (공백제외)\n",
      "문자열 단어 수 : 66           \n"
     ]
    }
   ],
   "source": [
    "print('문자열 총 길이 : {}           '.format(len(selected_text)))\n",
    "print('문자열 총 길이 : {} (공백제외)'.format(len(selected_text.replace(' ',''))))\n",
    "print('문자열 단어 수 : {}           '.format(len(selected_text.split())))"
   ]
  },
  {
   "cell_type": "code",
   "execution_count": 6,
   "id": "61bea290",
   "metadata": {},
   "outputs": [
    {
     "name": "stdout",
     "output_type": "stream",
     "text": [
      "문자열 단어 발생 빈도 \n"
     ]
    },
    {
     "data": {
      "text/plain": [
       "{'하늘아래': 1,\n",
       " '땅이있고': 1,\n",
       " '그위에': 1,\n",
       " '내가있으니': 1,\n",
       " '어디인들': 2,\n",
       " '이내몸': 2,\n",
       " '둘곳이야': 1,\n",
       " '없으리': 2,\n",
       " '하루해가': 1,\n",
       " '저문다고': 1,\n",
       " '울터이냐': 1,\n",
       " '그리도': 1,\n",
       " '내가': 1,\n",
       " '작더냐': 1,\n",
       " '별이': 1,\n",
       " '지는': 1,\n",
       " '저': 1,\n",
       " '산넘어': 1,\n",
       " '내': 1,\n",
       " '그리': 1,\n",
       " '쉬어': 1,\n",
       " '가리라': 1,\n",
       " '바람아': 3,\n",
       " '불어라': 3,\n",
       " '이내몸을': 3,\n",
       " '날려': 1,\n",
       " '주려마': 1,\n",
       " '하늘아': 3,\n",
       " '구름아': 3,\n",
       " '내몸': 1,\n",
       " '실어': 1,\n",
       " '떠나': 1,\n",
       " '가련다': 1,\n",
       " '해가지고': 1,\n",
       " '달이뜨고': 1,\n",
       " '그안에': 1,\n",
       " '내가숨쉬니': 1,\n",
       " '갈곳이야': 1,\n",
       " '작은것을': 1,\n",
       " '사랑하며': 1,\n",
       " '살터이다': 1,\n",
       " '친구를': 1,\n",
       " '사랑하리라': 1,\n",
       " '말이없는': 1,\n",
       " '저들녘에': 1,\n",
       " '내님을': 1,\n",
       " '그려보련다': 1,\n",
       " '날려주려마': 2,\n",
       " '내몸실어': 2,\n",
       " '떠나가련다': 2}"
      ]
     },
     "execution_count": 6,
     "metadata": {},
     "output_type": "execute_result"
    }
   ],
   "source": [
    "print('문자열 단어 발생 빈도 ')\n",
    "frequency = dict()\n",
    "\n",
    "for word in selected_text.split(' '):\n",
    "    if word in frequency:\n",
    "        frequency[word] += 1\n",
    "    else:\n",
    "        frequency[word] = 1\n",
    "        \n",
    "word = list(frequency.keys())\n",
    "word_cnt = list(frequency.values())\n",
    "\n",
    "frequency"
   ]
  },
  {
   "cell_type": "code",
   "execution_count": null,
   "id": "7839ea6c",
   "metadata": {},
   "outputs": [],
   "source": [
    "# m = min(word_cnt)\n",
    "# m"
   ]
  },
  {
   "cell_type": "code",
   "execution_count": null,
   "id": "e31864dc",
   "metadata": {},
   "outputs": [],
   "source": [
    "# word_cnt.index(m)"
   ]
  },
  {
   "cell_type": "code",
   "execution_count": null,
   "id": "bbefad5e",
   "metadata": {},
   "outputs": [],
   "source": [
    "# word.pop(word_cnt.index(m))"
   ]
  },
  {
   "cell_type": "code",
   "execution_count": 7,
   "id": "72530d0d",
   "metadata": {},
   "outputs": [
    {
     "name": "stdout",
     "output_type": "stream",
     "text": [
      "1 하늘아래\n",
      "['땅이있고', '그위에', '내가있으니', '어디인들', '이내몸', '둘곳이야', '없으리', '하루해가', '저문다고', '울터이냐', '그리도', '내가', '작더냐', '별이', '지는', '저', '산넘어', '내', '그리', '쉬어', '가리라', '바람아', '불어라', '이내몸을', '날려', '주려마', '하늘아', '구름아', '내몸', '실어', '떠나', '가련다', '해가지고', '달이뜨고', '그안에', '내가숨쉬니', '갈곳이야', '작은것을', '사랑하며', '살터이다', '친구를', '사랑하리라', '말이없는', '저들녘에', '내님을', '그려보련다', '날려주려마', '내몸실어', '떠나가련다']\n",
      "1 땅이있고\n",
      "['그위에', '내가있으니', '어디인들', '이내몸', '둘곳이야', '없으리', '하루해가', '저문다고', '울터이냐', '그리도', '내가', '작더냐', '별이', '지는', '저', '산넘어', '내', '그리', '쉬어', '가리라', '바람아', '불어라', '이내몸을', '날려', '주려마', '하늘아', '구름아', '내몸', '실어', '떠나', '가련다', '해가지고', '달이뜨고', '그안에', '내가숨쉬니', '갈곳이야', '작은것을', '사랑하며', '살터이다', '친구를', '사랑하리라', '말이없는', '저들녘에', '내님을', '그려보련다', '날려주려마', '내몸실어', '떠나가련다']\n",
      "1 그위에\n",
      "['내가있으니', '어디인들', '이내몸', '둘곳이야', '없으리', '하루해가', '저문다고', '울터이냐', '그리도', '내가', '작더냐', '별이', '지는', '저', '산넘어', '내', '그리', '쉬어', '가리라', '바람아', '불어라', '이내몸을', '날려', '주려마', '하늘아', '구름아', '내몸', '실어', '떠나', '가련다', '해가지고', '달이뜨고', '그안에', '내가숨쉬니', '갈곳이야', '작은것을', '사랑하며', '살터이다', '친구를', '사랑하리라', '말이없는', '저들녘에', '내님을', '그려보련다', '날려주려마', '내몸실어', '떠나가련다']\n",
      "1 내가있으니\n",
      "['어디인들', '이내몸', '둘곳이야', '없으리', '하루해가', '저문다고', '울터이냐', '그리도', '내가', '작더냐', '별이', '지는', '저', '산넘어', '내', '그리', '쉬어', '가리라', '바람아', '불어라', '이내몸을', '날려', '주려마', '하늘아', '구름아', '내몸', '실어', '떠나', '가련다', '해가지고', '달이뜨고', '그안에', '내가숨쉬니', '갈곳이야', '작은것을', '사랑하며', '살터이다', '친구를', '사랑하리라', '말이없는', '저들녘에', '내님을', '그려보련다', '날려주려마', '내몸실어', '떠나가련다']\n",
      "1 둘곳이야\n",
      "['어디인들', '이내몸', '없으리', '하루해가', '저문다고', '울터이냐', '그리도', '내가', '작더냐', '별이', '지는', '저', '산넘어', '내', '그리', '쉬어', '가리라', '바람아', '불어라', '이내몸을', '날려', '주려마', '하늘아', '구름아', '내몸', '실어', '떠나', '가련다', '해가지고', '달이뜨고', '그안에', '내가숨쉬니', '갈곳이야', '작은것을', '사랑하며', '살터이다', '친구를', '사랑하리라', '말이없는', '저들녘에', '내님을', '그려보련다', '날려주려마', '내몸실어', '떠나가련다']\n",
      "1 하루해가\n",
      "['어디인들', '이내몸', '없으리', '저문다고', '울터이냐', '그리도', '내가', '작더냐', '별이', '지는', '저', '산넘어', '내', '그리', '쉬어', '가리라', '바람아', '불어라', '이내몸을', '날려', '주려마', '하늘아', '구름아', '내몸', '실어', '떠나', '가련다', '해가지고', '달이뜨고', '그안에', '내가숨쉬니', '갈곳이야', '작은것을', '사랑하며', '살터이다', '친구를', '사랑하리라', '말이없는', '저들녘에', '내님을', '그려보련다', '날려주려마', '내몸실어', '떠나가련다']\n",
      "1 저문다고\n",
      "['어디인들', '이내몸', '없으리', '울터이냐', '그리도', '내가', '작더냐', '별이', '지는', '저', '산넘어', '내', '그리', '쉬어', '가리라', '바람아', '불어라', '이내몸을', '날려', '주려마', '하늘아', '구름아', '내몸', '실어', '떠나', '가련다', '해가지고', '달이뜨고', '그안에', '내가숨쉬니', '갈곳이야', '작은것을', '사랑하며', '살터이다', '친구를', '사랑하리라', '말이없는', '저들녘에', '내님을', '그려보련다', '날려주려마', '내몸실어', '떠나가련다']\n",
      "1 울터이냐\n",
      "['어디인들', '이내몸', '없으리', '그리도', '내가', '작더냐', '별이', '지는', '저', '산넘어', '내', '그리', '쉬어', '가리라', '바람아', '불어라', '이내몸을', '날려', '주려마', '하늘아', '구름아', '내몸', '실어', '떠나', '가련다', '해가지고', '달이뜨고', '그안에', '내가숨쉬니', '갈곳이야', '작은것을', '사랑하며', '살터이다', '친구를', '사랑하리라', '말이없는', '저들녘에', '내님을', '그려보련다', '날려주려마', '내몸실어', '떠나가련다']\n",
      "1 그리도\n",
      "['어디인들', '이내몸', '없으리', '내가', '작더냐', '별이', '지는', '저', '산넘어', '내', '그리', '쉬어', '가리라', '바람아', '불어라', '이내몸을', '날려', '주려마', '하늘아', '구름아', '내몸', '실어', '떠나', '가련다', '해가지고', '달이뜨고', '그안에', '내가숨쉬니', '갈곳이야', '작은것을', '사랑하며', '살터이다', '친구를', '사랑하리라', '말이없는', '저들녘에', '내님을', '그려보련다', '날려주려마', '내몸실어', '떠나가련다']\n",
      "1 내가\n",
      "['어디인들', '이내몸', '없으리', '작더냐', '별이', '지는', '저', '산넘어', '내', '그리', '쉬어', '가리라', '바람아', '불어라', '이내몸을', '날려', '주려마', '하늘아', '구름아', '내몸', '실어', '떠나', '가련다', '해가지고', '달이뜨고', '그안에', '내가숨쉬니', '갈곳이야', '작은것을', '사랑하며', '살터이다', '친구를', '사랑하리라', '말이없는', '저들녘에', '내님을', '그려보련다', '날려주려마', '내몸실어', '떠나가련다']\n",
      "1 작더냐\n",
      "['어디인들', '이내몸', '없으리', '별이', '지는', '저', '산넘어', '내', '그리', '쉬어', '가리라', '바람아', '불어라', '이내몸을', '날려', '주려마', '하늘아', '구름아', '내몸', '실어', '떠나', '가련다', '해가지고', '달이뜨고', '그안에', '내가숨쉬니', '갈곳이야', '작은것을', '사랑하며', '살터이다', '친구를', '사랑하리라', '말이없는', '저들녘에', '내님을', '그려보련다', '날려주려마', '내몸실어', '떠나가련다']\n",
      "1 별이\n",
      "['어디인들', '이내몸', '없으리', '지는', '저', '산넘어', '내', '그리', '쉬어', '가리라', '바람아', '불어라', '이내몸을', '날려', '주려마', '하늘아', '구름아', '내몸', '실어', '떠나', '가련다', '해가지고', '달이뜨고', '그안에', '내가숨쉬니', '갈곳이야', '작은것을', '사랑하며', '살터이다', '친구를', '사랑하리라', '말이없는', '저들녘에', '내님을', '그려보련다', '날려주려마', '내몸실어', '떠나가련다']\n",
      "1 지는\n",
      "['어디인들', '이내몸', '없으리', '저', '산넘어', '내', '그리', '쉬어', '가리라', '바람아', '불어라', '이내몸을', '날려', '주려마', '하늘아', '구름아', '내몸', '실어', '떠나', '가련다', '해가지고', '달이뜨고', '그안에', '내가숨쉬니', '갈곳이야', '작은것을', '사랑하며', '살터이다', '친구를', '사랑하리라', '말이없는', '저들녘에', '내님을', '그려보련다', '날려주려마', '내몸실어', '떠나가련다']\n",
      "1 저\n",
      "['어디인들', '이내몸', '없으리', '산넘어', '내', '그리', '쉬어', '가리라', '바람아', '불어라', '이내몸을', '날려', '주려마', '하늘아', '구름아', '내몸', '실어', '떠나', '가련다', '해가지고', '달이뜨고', '그안에', '내가숨쉬니', '갈곳이야', '작은것을', '사랑하며', '살터이다', '친구를', '사랑하리라', '말이없는', '저들녘에', '내님을', '그려보련다', '날려주려마', '내몸실어', '떠나가련다']\n",
      "1 산넘어\n",
      "['어디인들', '이내몸', '없으리', '내', '그리', '쉬어', '가리라', '바람아', '불어라', '이내몸을', '날려', '주려마', '하늘아', '구름아', '내몸', '실어', '떠나', '가련다', '해가지고', '달이뜨고', '그안에', '내가숨쉬니', '갈곳이야', '작은것을', '사랑하며', '살터이다', '친구를', '사랑하리라', '말이없는', '저들녘에', '내님을', '그려보련다', '날려주려마', '내몸실어', '떠나가련다']\n",
      "1 내\n",
      "['어디인들', '이내몸', '없으리', '그리', '쉬어', '가리라', '바람아', '불어라', '이내몸을', '날려', '주려마', '하늘아', '구름아', '내몸', '실어', '떠나', '가련다', '해가지고', '달이뜨고', '그안에', '내가숨쉬니', '갈곳이야', '작은것을', '사랑하며', '살터이다', '친구를', '사랑하리라', '말이없는', '저들녘에', '내님을', '그려보련다', '날려주려마', '내몸실어', '떠나가련다']\n",
      "1 그리\n",
      "['어디인들', '이내몸', '없으리', '쉬어', '가리라', '바람아', '불어라', '이내몸을', '날려', '주려마', '하늘아', '구름아', '내몸', '실어', '떠나', '가련다', '해가지고', '달이뜨고', '그안에', '내가숨쉬니', '갈곳이야', '작은것을', '사랑하며', '살터이다', '친구를', '사랑하리라', '말이없는', '저들녘에', '내님을', '그려보련다', '날려주려마', '내몸실어', '떠나가련다']\n",
      "1 쉬어\n",
      "['어디인들', '이내몸', '없으리', '가리라', '바람아', '불어라', '이내몸을', '날려', '주려마', '하늘아', '구름아', '내몸', '실어', '떠나', '가련다', '해가지고', '달이뜨고', '그안에', '내가숨쉬니', '갈곳이야', '작은것을', '사랑하며', '살터이다', '친구를', '사랑하리라', '말이없는', '저들녘에', '내님을', '그려보련다', '날려주려마', '내몸실어', '떠나가련다']\n",
      "1 가리라\n",
      "['어디인들', '이내몸', '없으리', '바람아', '불어라', '이내몸을', '날려', '주려마', '하늘아', '구름아', '내몸', '실어', '떠나', '가련다', '해가지고', '달이뜨고', '그안에', '내가숨쉬니', '갈곳이야', '작은것을', '사랑하며', '살터이다', '친구를', '사랑하리라', '말이없는', '저들녘에', '내님을', '그려보련다', '날려주려마', '내몸실어', '떠나가련다']\n",
      "1 날려\n",
      "['어디인들', '이내몸', '없으리', '바람아', '불어라', '이내몸을', '주려마', '하늘아', '구름아', '내몸', '실어', '떠나', '가련다', '해가지고', '달이뜨고', '그안에', '내가숨쉬니', '갈곳이야', '작은것을', '사랑하며', '살터이다', '친구를', '사랑하리라', '말이없는', '저들녘에', '내님을', '그려보련다', '날려주려마', '내몸실어', '떠나가련다']\n",
      "1 주려마\n",
      "['어디인들', '이내몸', '없으리', '바람아', '불어라', '이내몸을', '하늘아', '구름아', '내몸', '실어', '떠나', '가련다', '해가지고', '달이뜨고', '그안에', '내가숨쉬니', '갈곳이야', '작은것을', '사랑하며', '살터이다', '친구를', '사랑하리라', '말이없는', '저들녘에', '내님을', '그려보련다', '날려주려마', '내몸실어', '떠나가련다']\n",
      "1 내몸\n",
      "['어디인들', '이내몸', '없으리', '바람아', '불어라', '이내몸을', '하늘아', '구름아', '실어', '떠나', '가련다', '해가지고', '달이뜨고', '그안에', '내가숨쉬니', '갈곳이야', '작은것을', '사랑하며', '살터이다', '친구를', '사랑하리라', '말이없는', '저들녘에', '내님을', '그려보련다', '날려주려마', '내몸실어', '떠나가련다']\n",
      "1 실어\n",
      "['어디인들', '이내몸', '없으리', '바람아', '불어라', '이내몸을', '하늘아', '구름아', '떠나', '가련다', '해가지고', '달이뜨고', '그안에', '내가숨쉬니', '갈곳이야', '작은것을', '사랑하며', '살터이다', '친구를', '사랑하리라', '말이없는', '저들녘에', '내님을', '그려보련다', '날려주려마', '내몸실어', '떠나가련다']\n",
      "1 떠나\n",
      "['어디인들', '이내몸', '없으리', '바람아', '불어라', '이내몸을', '하늘아', '구름아', '가련다', '해가지고', '달이뜨고', '그안에', '내가숨쉬니', '갈곳이야', '작은것을', '사랑하며', '살터이다', '친구를', '사랑하리라', '말이없는', '저들녘에', '내님을', '그려보련다', '날려주려마', '내몸실어', '떠나가련다']\n",
      "1 가련다\n",
      "['어디인들', '이내몸', '없으리', '바람아', '불어라', '이내몸을', '하늘아', '구름아', '해가지고', '달이뜨고', '그안에', '내가숨쉬니', '갈곳이야', '작은것을', '사랑하며', '살터이다', '친구를', '사랑하리라', '말이없는', '저들녘에', '내님을', '그려보련다', '날려주려마', '내몸실어', '떠나가련다']\n",
      "1 해가지고\n",
      "['어디인들', '이내몸', '없으리', '바람아', '불어라', '이내몸을', '하늘아', '구름아', '달이뜨고', '그안에', '내가숨쉬니', '갈곳이야', '작은것을', '사랑하며', '살터이다', '친구를', '사랑하리라', '말이없는', '저들녘에', '내님을', '그려보련다', '날려주려마', '내몸실어', '떠나가련다']\n",
      "1 달이뜨고\n",
      "['어디인들', '이내몸', '없으리', '바람아', '불어라', '이내몸을', '하늘아', '구름아', '그안에', '내가숨쉬니', '갈곳이야', '작은것을', '사랑하며', '살터이다', '친구를', '사랑하리라', '말이없는', '저들녘에', '내님을', '그려보련다', '날려주려마', '내몸실어', '떠나가련다']\n",
      "1 그안에\n",
      "['어디인들', '이내몸', '없으리', '바람아', '불어라', '이내몸을', '하늘아', '구름아', '내가숨쉬니', '갈곳이야', '작은것을', '사랑하며', '살터이다', '친구를', '사랑하리라', '말이없는', '저들녘에', '내님을', '그려보련다', '날려주려마', '내몸실어', '떠나가련다']\n",
      "1 내가숨쉬니\n",
      "['어디인들', '이내몸', '없으리', '바람아', '불어라', '이내몸을', '하늘아', '구름아', '갈곳이야', '작은것을', '사랑하며', '살터이다', '친구를', '사랑하리라', '말이없는', '저들녘에', '내님을', '그려보련다', '날려주려마', '내몸실어', '떠나가련다']\n",
      "1 갈곳이야\n",
      "['어디인들', '이내몸', '없으리', '바람아', '불어라', '이내몸을', '하늘아', '구름아', '작은것을', '사랑하며', '살터이다', '친구를', '사랑하리라', '말이없는', '저들녘에', '내님을', '그려보련다', '날려주려마', '내몸실어', '떠나가련다']\n",
      "1 작은것을\n",
      "['어디인들', '이내몸', '없으리', '바람아', '불어라', '이내몸을', '하늘아', '구름아', '사랑하며', '살터이다', '친구를', '사랑하리라', '말이없는', '저들녘에', '내님을', '그려보련다', '날려주려마', '내몸실어', '떠나가련다']\n",
      "1 사랑하며\n",
      "['어디인들', '이내몸', '없으리', '바람아', '불어라', '이내몸을', '하늘아', '구름아', '살터이다', '친구를', '사랑하리라', '말이없는', '저들녘에', '내님을', '그려보련다', '날려주려마', '내몸실어', '떠나가련다']\n",
      "1 살터이다\n",
      "['어디인들', '이내몸', '없으리', '바람아', '불어라', '이내몸을', '하늘아', '구름아', '친구를', '사랑하리라', '말이없는', '저들녘에', '내님을', '그려보련다', '날려주려마', '내몸실어', '떠나가련다']\n",
      "1 친구를\n",
      "['어디인들', '이내몸', '없으리', '바람아', '불어라', '이내몸을', '하늘아', '구름아', '사랑하리라', '말이없는', '저들녘에', '내님을', '그려보련다', '날려주려마', '내몸실어', '떠나가련다']\n",
      "1 사랑하리라\n",
      "['어디인들', '이내몸', '없으리', '바람아', '불어라', '이내몸을', '하늘아', '구름아', '말이없는', '저들녘에', '내님을', '그려보련다', '날려주려마', '내몸실어', '떠나가련다']\n",
      "1 말이없는\n",
      "['어디인들', '이내몸', '없으리', '바람아', '불어라', '이내몸을', '하늘아', '구름아', '저들녘에', '내님을', '그려보련다', '날려주려마', '내몸실어', '떠나가련다']\n",
      "1 저들녘에\n",
      "['어디인들', '이내몸', '없으리', '바람아', '불어라', '이내몸을', '하늘아', '구름아', '내님을', '그려보련다', '날려주려마', '내몸실어', '떠나가련다']\n",
      "1 내님을\n",
      "['어디인들', '이내몸', '없으리', '바람아', '불어라', '이내몸을', '하늘아', '구름아', '그려보련다', '날려주려마', '내몸실어', '떠나가련다']\n",
      "1 그려보련다\n",
      "['어디인들', '이내몸', '없으리', '바람아', '불어라', '이내몸을', '하늘아', '구름아', '날려주려마', '내몸실어', '떠나가련다']\n",
      "2 어디인들\n",
      "['이내몸', '없으리', '바람아', '불어라', '이내몸을', '하늘아', '구름아', '날려주려마', '내몸실어', '떠나가련다']\n",
      "2 이내몸\n",
      "['없으리', '바람아', '불어라', '이내몸을', '하늘아', '구름아', '날려주려마', '내몸실어', '떠나가련다']\n",
      "2 없으리\n",
      "['바람아', '불어라', '이내몸을', '하늘아', '구름아', '날려주려마', '내몸실어', '떠나가련다']\n",
      "2 날려주려마\n",
      "['바람아', '불어라', '이내몸을', '하늘아', '구름아', '내몸실어', '떠나가련다']\n",
      "2 내몸실어\n",
      "['바람아', '불어라', '이내몸을', '하늘아', '구름아', '떠나가련다']\n",
      "2 떠나가련다\n",
      "['바람아', '불어라', '이내몸을', '하늘아', '구름아']\n",
      "3 바람아\n",
      "['불어라', '이내몸을', '하늘아', '구름아']\n",
      "3 불어라\n",
      "['이내몸을', '하늘아', '구름아']\n",
      "3 이내몸을\n",
      "['하늘아', '구름아']\n",
      "3 하늘아\n",
      "['구름아']\n",
      "3 구름아\n",
      "[]\n"
     ]
    }
   ],
   "source": [
    "while bool(word):\n",
    "    m = min(word_cnt)\n",
    "    print(m, end=' ')\n",
    "    print(word.pop(word_cnt.index(m)))\n",
    "# print(word.pop(word_cnt.index(m)), end=' : ')\n",
    "    print(word)\n",
    "    word_cnt.remove(m)"
   ]
  },
  {
   "cell_type": "code",
   "execution_count": 8,
   "id": "a25eaf45",
   "metadata": {},
   "outputs": [
    {
     "data": {
      "text/plain": [
       "'하늘아래 땅이있고 그위에 내가있으니 어디인들 이내몸 둘곳이야 없으리 하루해가 저문다고 울터이냐 그리도 내가 작더냐 별이 지는 저 산넘어 내 그리 쉬어 가리라 바람아 불어라 이내몸을 날려 주려마 하늘아 구름아 내몸 실어 떠나 가련다 해가지고 달이뜨고 그안에 내가숨쉬니 어디인들 이내몸 갈곳이야 없으리 작은것을 사랑하며 살터이다 친구를 사랑하리라 말이없는 저들녘에 내님을 그려보련다 바람아 불어라 이내몸을 날려주려마 하늘아 구름아 내몸실어 떠나가련다 바람아 불어라 이내몸을 날려주려마 하늘아 구름아 내몸실어 떠나가련다'"
      ]
     },
     "execution_count": 8,
     "metadata": {},
     "output_type": "execute_result"
    }
   ],
   "source": [
    "selected_text"
   ]
  },
  {
   "cell_type": "code",
   "execution_count": 9,
   "id": "a6098d62",
   "metadata": {},
   "outputs": [],
   "source": [
    "from konlpy.tag import Kkma\n",
    "from konlpy.tag import Hannanum\n",
    "from konlpy.tag import Twitter\n",
    "from konlpy.tag import Okt\n",
    "from konlpy.tag import Komoran\n",
    "\n",
    "from datetime import datetime"
   ]
  },
  {
   "cell_type": "code",
   "execution_count": 10,
   "id": "fe2faabc",
   "metadata": {},
   "outputs": [],
   "source": [
    "chk_times=  list()"
   ]
  },
  {
   "cell_type": "code",
   "execution_count": 13,
   "id": "26bdfee2",
   "metadata": {},
   "outputs": [
    {
     "name": "stdout",
     "output_type": "stream",
     "text": [
      "총 계산 시간: 0:00:34.939962\n",
      "총 계산 시간: 34939ms\n"
     ]
    }
   ],
   "source": [
    "kkma = Kkma()\n",
    "\n",
    "start = datetime.now()\n",
    "kkma.pos(text_y)\n",
    "end = datetime.now()\n",
    "\n",
    "elapsed = end - start\n",
    "print('총 계산 시간: ', end='');   print(elapsed)\n",
    "elapsed_ms = int(elapsed.total_seconds()*1000)\n",
    "print('총 계산 시간: %dms' %elapsed_ms)\n",
    "\n",
    "chk_times.append(elapsed_ms)"
   ]
  },
  {
   "cell_type": "code",
   "execution_count": 14,
   "id": "a680b0cd",
   "metadata": {},
   "outputs": [
    {
     "name": "stdout",
     "output_type": "stream",
     "text": [
      "총 계산 시간: 0:00:04.492631\n",
      "총 계산 시간: 4492ms\n"
     ]
    }
   ],
   "source": [
    "hannanum = Hannanum()\n",
    "\n",
    "start = datetime.now()\n",
    "hannanum.pos(text_y)\n",
    "end = datetime.now()\n",
    "\n",
    "elapsed = end - start\n",
    "print('총 계산 시간: ', end='');   print(elapsed)\n",
    "elapsed_ms = int(elapsed.total_seconds()*1000)\n",
    "print('총 계산 시간: %dms' %elapsed_ms)\n",
    "\n",
    "chk_times.append(elapsed_ms)"
   ]
  },
  {
   "cell_type": "code",
   "execution_count": 15,
   "id": "4c507708",
   "metadata": {},
   "outputs": [
    {
     "name": "stderr",
     "output_type": "stream",
     "text": [
      "C:\\Users\\82106\\anaconda3\\lib\\site-packages\\konlpy\\tag\\_okt.py:17: UserWarning: \"Twitter\" has changed to \"Okt\" since KoNLPy v0.4.5.\n",
      "  warn('\"Twitter\" has changed to \"Okt\" since KoNLPy v0.4.5.')\n"
     ]
    },
    {
     "name": "stdout",
     "output_type": "stream",
     "text": [
      "총 계산 시간: 0:00:15.070948\n",
      "총 계산 시간: 15070ms\n"
     ]
    }
   ],
   "source": [
    "t = Twitter()\n",
    "\n",
    "start = datetime.now()\n",
    "t.pos(text_y)\n",
    "end = datetime.now()\n",
    "\n",
    "elapsed = end - start\n",
    "print('총 계산 시간: ', end='');   print(elapsed)\n",
    "elapsed_ms = int(elapsed.total_seconds()*1000)\n",
    "print('총 계산 시간: %dms' %elapsed_ms)\n",
    "\n",
    "chk_times.append(elapsed_ms)"
   ]
  },
  {
   "cell_type": "code",
   "execution_count": 16,
   "id": "609ab950",
   "metadata": {},
   "outputs": [
    {
     "name": "stdout",
     "output_type": "stream",
     "text": [
      "총 계산 시간: 0:00:00.481247\n",
      "총 계산 시간: 481ms\n"
     ]
    }
   ],
   "source": [
    "okt = Okt()\n",
    "\n",
    "start = datetime.now()\n",
    "okt.pos(text_y)\n",
    "end = datetime.now()\n",
    "\n",
    "elapsed = end - start\n",
    "print('총 계산 시간: ', end='');   print(elapsed)\n",
    "elapsed_ms = int(elapsed.total_seconds()*1000)\n",
    "print('총 계산 시간: %dms' %elapsed_ms)\n",
    "\n",
    "chk_times.append(elapsed_ms)"
   ]
  },
  {
   "cell_type": "code",
   "execution_count": 17,
   "id": "65e768c1",
   "metadata": {},
   "outputs": [
    {
     "name": "stdout",
     "output_type": "stream",
     "text": [
      "총 계산 시간: 0:00:00.422289\n",
      "총 계산 시간: 422ms\n"
     ]
    }
   ],
   "source": [
    "komoran = Komoran()\n",
    "\n",
    "start = datetime.now()\n",
    "komoran.pos(text_y)\n",
    "end = datetime.now()\n",
    "\n",
    "elapsed = end - start\n",
    "print('총 계산 시간: ', end='');   print(elapsed)\n",
    "elapsed_ms = int(elapsed.total_seconds()*1000)\n",
    "print('총 계산 시간: %dms' %elapsed_ms)\n",
    "\n",
    "chk_times.append(elapsed_ms)"
   ]
  },
  {
   "cell_type": "code",
   "execution_count": 18,
   "id": "c3dbafd7",
   "metadata": {},
   "outputs": [],
   "source": [
    "import matplotlib.pyplot as plt"
   ]
  },
  {
   "cell_type": "code",
   "execution_count": 19,
   "id": "502e135c",
   "metadata": {},
   "outputs": [
    {
     "data": {
      "text/plain": [
       "[34939, 4492, 15070, 481, 422]"
      ]
     },
     "execution_count": 19,
     "metadata": {},
     "output_type": "execute_result"
    }
   ],
   "source": [
    "chk_times"
   ]
  },
  {
   "cell_type": "code",
   "execution_count": 20,
   "id": "fd7c3134",
   "metadata": {},
   "outputs": [
    {
     "data": {
      "image/png": "[encoded data removed]",
      "text/plain": [
       "<Figure size 720x288 with 1 Axes>"
      ]
     },
     "metadata": {
      "needs_background": "light"
     },
     "output_type": "display_data"
    }
   ],
   "source": [
    "t = range(len(chk_times))\n",
    "y = chk_times\n",
    "n = [ 'Kkma', 'Hannanum', 'Twitter', 'Okt','Komoran']\n",
    "\n",
    "plt.figure(figsize=(10,4))\n",
    "plt.bar(t, y, color='g', width=0.3, label='elapsed time [ms]')\n",
    "plt.xlabel('KoNLPy Instance')\n",
    "plt.ylabel('Peromance ')\n",
    "plt.legend()\n",
    "plt.xticks(t,  n)\n",
    "plt.show()\n"
   ]
  },
  {
   "cell_type": "code",
   "execution_count": null,
   "id": "3276ddb5",
   "metadata": {},
   "outputs": [],
   "source": []
  }
 ],
 "metadata": {
  "kernelspec": {
   "display_name": "Python 3 (ipykernel)",
   "language": "python",
   "name": "python3"
  },
  "language_info": {
   "codemirror_mode": {
    "name": "ipython",
    "version": 3
   },
   "file_extension": ".py",
   "mimetype": "text/x-python",
   "name": "python",
   "nbconvert_exporter": "python",
   "pygments_lexer": "ipython3",
   "version": "3.9.12"
  }
 },
 "nbformat": 4,
 "nbformat_minor": 5
}
