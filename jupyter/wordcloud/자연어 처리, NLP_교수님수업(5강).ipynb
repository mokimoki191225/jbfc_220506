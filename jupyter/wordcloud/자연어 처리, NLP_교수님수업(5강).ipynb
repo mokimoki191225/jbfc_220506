{
 "cells": [
  {
   "cell_type": "code",
   "execution_count": 2,
   "id": "c7db9819",
   "metadata": {},
   "outputs": [],
   "source": [
    "from IPython.display import Image as Show"
   ]
  },
  {
   "cell_type": "code",
   "execution_count": 3,
   "id": "61c7fd52",
   "metadata": {},
   "outputs": [],
   "source": [
    "import platform\n",
    "\n",
    "import numpy as np\n",
    "import pandas as pd\n",
    "import matplotlib.pyplot as plt\n",
    "import seaborn as sns\n",
    "# sns.set()\n",
    "\n",
    "from matplotlib import font_manager, rc\n",
    "if platform.system() == 'Darwin':\n",
    "    rc('font', family='AppleGothic')\n",
    "elif platform.system() == 'Windows':\n",
    "    font_name = font_manager.FontProperties(fname=\"C:/Windows/Fonts/malgun.ttf\").get_name()\n",
    "    rc('font', family=font_name)\n",
    "else:\n",
    "    print(\"It's unknown system. Hangul fonts are not supported!\")\n",
    "    \n",
    "plt.rcParams[\"figure.figsize\"] = [12,6]\n",
    "\n",
    "%matplotlib notebook"
   ]
  },
  {
   "cell_type": "code",
   "execution_count": 1,
   "id": "cafd0469",
   "metadata": {},
   "outputs": [
    {
     "name": "stdout",
     "output_type": "stream",
     "text": [
      "Collecting wordcloud\n",
      "  Using cached wordcloud-1.8.1.tar.gz (220 kB)\n",
      "Requirement already satisfied: numpy>=1.6.1 in c:\\users\\82106\\anaconda3\\lib\\site-packages (from wordcloud) (1.21.5)\n",
      "Requirement already satisfied: pillow in c:\\users\\82106\\anaconda3\\lib\\site-packages (from wordcloud) (9.0.1)\n",
      "Requirement already satisfied: matplotlib in c:\\users\\82106\\anaconda3\\lib\\site-packages (from wordcloud) (3.5.1)\n",
      "Requirement already satisfied: python-dateutil>=2.7 in c:\\users\\82106\\anaconda3\\lib\\site-packages (from matplotlib->wordcloud) (2.8.2)\n",
      "Requirement already satisfied: cycler>=0.10 in c:\\users\\82106\\anaconda3\\lib\\site-packages (from matplotlib->wordcloud) (0.11.0)\n",
      "Requirement already satisfied: fonttools>=4.22.0 in c:\\users\\82106\\anaconda3\\lib\\site-packages (from matplotlib->wordcloud) (4.25.0)\n",
      "Requirement already satisfied: kiwisolver>=1.0.1 in c:\\users\\82106\\anaconda3\\lib\\site-packages (from matplotlib->wordcloud) (1.3.2)\n",
      "Requirement already satisfied: pyparsing>=2.2.1 in c:\\users\\82106\\anaconda3\\lib\\site-packages (from matplotlib->wordcloud) (3.0.4)\n",
      "Requirement already satisfied: packaging>=20.0 in c:\\users\\82106\\anaconda3\\lib\\site-packages (from matplotlib->wordcloud) (21.3)\n",
      "Requirement already satisfied: six>=1.5 in c:\\users\\82106\\anaconda3\\lib\\site-packages (from python-dateutil>=2.7->matplotlib->wordcloud) (1.16.0)\n",
      "Building wheels for collected packages: wordcloud\n",
      "  Building wheel for wordcloud (setup.py): started\n",
      "  Building wheel for wordcloud (setup.py): finished with status 'done'\n",
      "  Created wheel for wordcloud: filename=wordcloud-1.8.1-cp39-cp39-win_amd64.whl size=152210 sha256=5bd0f1e7b9f648f5b27aa8ed2f32fb68d7f2b76348aedf224cc0e05c5bea711e\n",
      "  Stored in directory: c:\\users\\82106\\appdata\\local\\pip\\cache\\wheels\\f9\\7a\\dd\\06ef8b5dfe5483f6204133c08eeb16c287cc2c05e290ae2fc0\n",
      "Successfully built wordcloud\n",
      "Installing collected packages: wordcloud\n",
      "Successfully installed wordcloud-1.8.1\n",
      "Note: you may need to restart the kernel to use updated packages.\n"
     ]
    }
   ],
   "source": [
    "# %pip install wordcloud"
   ]
  },
  {
   "cell_type": "code",
   "execution_count": 4,
   "id": "b40b1b5a",
   "metadata": {},
   "outputs": [],
   "source": [
    "from konlpy.corpus import kobill\n",
    "from konlpy.tag    import Twitter\n",
    "from konlpy.tag    import Okt\n",
    "# from wordcloud     import Stopwords\n",
    "# from wordcloud     import WordCloud \n",
    "# 윈도우 빌트툴을 설치해줘야한다.\n",
    "# 오류코드로 타고들어가 c++만 설치하고 pc 재부팅한다.\n",
    "from wordcloud     import WordCloud, STOPWORDS\n",
    "from PIL import Image\n",
    "import nltk"
   ]
  },
  {
   "cell_type": "code",
   "execution_count": null,
   "id": "40abb45b",
   "metadata": {},
   "outputs": [],
   "source": [
    "# 육아휴직관련 법안\n",
    "files_ko = kobill.fileids()"
   ]
  },
  {
   "cell_type": "code",
   "execution_count": null,
   "id": "e12c3c9a",
   "metadata": {},
   "outputs": [],
   "source": [
    "files_dict = dict()\n",
    "files_dict[0] = files_ko[0], '지방공무원법 일부개정법률안'\n",
    "files_dict[1] = files_ko[1], '국가공무원법 일부개정법률안'\n",
    "files_dict[2] = files_ko[2], '교육공무원법 일부개정법률안'\n",
    "files_dict[3] = files_ko[3], '남녀고용평등과 일 ·가정 양립 지원에 관한 법률'\n",
    "files_dict[4] = files_ko[4], '고등교육법 일부개정법률안'\n",
    "files_dict[5] = files_ko[5], '하도급거래 공정화에 관한 법률 일부개정법률안'\n",
    "files_dict[6] = files_ko[6], '행정절차법 일부개정법률안'\n",
    "files_dict[7] = files_ko[7], '국군부대의 아랍에미리트(UAE)군 교육훈련 지원 등에 관한 파견 동의안'\n",
    "files_dict[8] = files_ko[8], '국군부대의 소말리아 해역 파견연장 동의안'\n",
    "files_dict[9] = files_ko[9], '결혼중개업의 관리에 관한 법률 일부개정법률안'\n",
    "\n",
    "files_dict"
   ]
  },
  {
   "cell_type": "code",
   "execution_count": null,
   "id": "ed3caf80",
   "metadata": {},
   "outputs": [],
   "source": [
    "b_idx = 9\n",
    "bill_file = files_ko[b_idx]\n",
    "bill_number = files_dict[b_idx][0][:-4]\n",
    "bill_title  = files_dict[b_idx][1]\n",
    "\n",
    "print('국회 의안 번호 : {} \\n국회 의안 제목 : {}'.format(bill_number, bill_title))"
   ]
  },
  {
   "cell_type": "code",
   "execution_count": null,
   "id": "ac8d48c2",
   "metadata": {},
   "outputs": [],
   "source": [
    "doc_ko = kobill.open(bill_file).read()\n",
    "print(doc_ko[:300])"
   ]
  },
  {
   "cell_type": "code",
   "execution_count": null,
   "id": "75787887",
   "metadata": {},
   "outputs": [],
   "source": [
    "type(doc_ko), len(doc_ko)"
   ]
  },
  {
   "cell_type": "code",
   "execution_count": null,
   "id": "dc2567c3",
   "metadata": {},
   "outputs": [],
   "source": [
    "okt = Okt()\n",
    "\n",
    "tokens_ko = okt.nouns(doc_ko)\n",
    "len(tokens_ko), tokens_ko[:10]"
   ]
  },
  {
   "cell_type": "code",
   "execution_count": null,
   "id": "7b5bcdc2",
   "metadata": {},
   "outputs": [],
   "source": [
    "ko = nltk.Text(tokens_ko, name='대한민국 국회 의안 제 {}호'.format(bill_number))\n",
    "ko"
   ]
  },
  {
   "cell_type": "code",
   "execution_count": null,
   "id": "e9e343f5",
   "metadata": {},
   "outputs": [],
   "source": [
    "print(\"token length :\", len(ko.tokens))             # returns number of tokens (document length)\n",
    "print(\"unique token :\", len(set(ko.tokens)))        # returns number of unique tokens"
   ]
  },
  {
   "cell_type": "code",
   "execution_count": null,
   "id": "d7aaddf3",
   "metadata": {},
   "outputs": [],
   "source": [
    "# frequency distribution\n",
    "ko.vocab() #각 단어가 언급된 숫자를 뽑아내는 함수"
   ]
  },
  {
   "cell_type": "code",
   "execution_count": null,
   "id": "d33c84f0",
   "metadata": {},
   "outputs": [],
   "source": [
    "type(ko)"
   ]
  },
  {
   "cell_type": "code",
   "execution_count": null,
   "id": "54ae208d",
   "metadata": {},
   "outputs": [],
   "source": [
    "plt.figure(figsize=(10,4))\n",
    "ko.plot(50)\n",
    "plt.show()"
   ]
  },
  {
   "cell_type": "code",
   "execution_count": null,
   "id": "f23f6b61",
   "metadata": {},
   "outputs": [],
   "source": [
    "stop_words = ['.', '(', ')', ',', \"'\", '%', '-', 'X', ').', '×','의','자','에','안','번', '제',\n",
    "                      '호','을','이','다','만','로','가','를','등','제','항','및','다음'\n",
    "            ,'생','략','의','이','함','관']\n",
    "\n",
    "ko = [each_word for each_word in ko if each_word not in stop_words]\n",
    "\n",
    "len(ko), ko[:10]\n",
    "\n",
    "# plt.figure(figsize=(10,4))\n",
    "# ko.plot(50)\n",
    "# plt.show()\n"
   ]
  },
  {
   "cell_type": "code",
   "execution_count": null,
   "id": "e7ecbe59",
   "metadata": {},
   "outputs": [],
   "source": [
    "# plt.figure(figsize=(10,4))\n",
    "# ko.plot(50)\n",
    "# plt.show()"
   ]
  },
  {
   "cell_type": "code",
   "execution_count": null,
   "id": "e8c61582",
   "metadata": {},
   "outputs": [],
   "source": [
    "ko = nltk.Text(ko, name='대한민국 국회 의안 제 1809899호')\n",
    "\n",
    "plt.figure(figsize=(10,4))\n",
    "ko.plot(50)     # Plot sorted frequency of top 50 tokens\n",
    "plt.show()"
   ]
  },
  {
   "cell_type": "code",
   "execution_count": null,
   "id": "2de17866",
   "metadata": {},
   "outputs": [],
   "source": [
    "ko.count('결혼')"
   ]
  },
  {
   "cell_type": "code",
   "execution_count": null,
   "id": "0b2c0e00",
   "metadata": {},
   "outputs": [],
   "source": [
    "# 단어의 분포를 보여주는 플롯그래프 \n",
    "plt.figure(figsize=(8,2))\n",
    "ko.dispersion_plot(['결혼', '중개업', '여성가족부'])"
   ]
  },
  {
   "cell_type": "code",
   "execution_count": null,
   "id": "2bc8a931",
   "metadata": {},
   "outputs": [],
   "source": [
    "# 대소문자 상관없이 일치단어 찾기\n",
    "ko.concordance('결혼')"
   ]
  },
  {
   "cell_type": "code",
   "execution_count": null,
   "id": "f5b2b6d8",
   "metadata": {},
   "outputs": [],
   "source": [
    "ko.collocations()"
   ]
  }
 ],
 "metadata": {
  "kernelspec": {
   "display_name": "Python 3 (ipykernel)",
   "language": "python",
   "name": "python3"
  },
  "language_info": {
   "codemirror_mode": {
    "name": "ipython",
    "version": 3
   },
   "file_extension": ".py",
   "mimetype": "text/x-python",
   "name": "python",
   "nbconvert_exporter": "python",
   "pygments_lexer": "ipython3",
   "version": "3.9.12"
  }
 },
 "nbformat": 4,
 "nbformat_minor": 5
}
