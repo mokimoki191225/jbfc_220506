{
 "cells": [
  {
   "cell_type": "code",
   "execution_count": 7,
   "id": "033ccea2",
   "metadata": {},
   "outputs": [],
   "source": [
    "import matplotlib.pyplot as plt\n",
    "import pandas as pd\n",
    "import numpy as np\n",
    "import seaborn as sns\n",
    "sns.set()\n",
    "\n",
    "%matplotlib inline"
   ]
  },
  {
   "cell_type": "code",
   "execution_count": 8,
   "id": "16843f6d",
   "metadata": {},
   "outputs": [],
   "source": [
    "from matplotlib import font_manager, rc\n",
    "font_name = font_manager.FontProperties(fname=\"C:/Windows/Fonts/malgun.ttf\").get_name()\n",
    "rc('font', family=font_name)\n",
    "\n",
    "plt.rcParams['figure.figsize'] = (10,6)"
   ]
  },
  {
   "cell_type": "code",
   "execution_count": 9,
   "id": "132689f4",
   "metadata": {},
   "outputs": [],
   "source": [
    "customer_xls = './data/customerlist.xlsx'"
   ]
  },
  {
   "cell_type": "code",
   "execution_count": 10,
   "id": "18b8a2d1",
   "metadata": {
    "scrolled": true
   },
   "outputs": [
    {
     "data": {
      "text/html": [
       "<div>\n",
       "<style scoped>\n",
       "    .dataframe tbody tr th:only-of-type {\n",
       "        vertical-align: middle;\n",
       "    }\n",
       "\n",
       "    .dataframe tbody tr th {\n",
       "        vertical-align: top;\n",
       "    }\n",
       "\n",
       "    .dataframe thead th {\n",
       "        text-align: right;\n",
       "    }\n",
       "</style>\n",
       "<table border=\"1\" class=\"dataframe\">\n",
       "  <thead>\n",
       "    <tr style=\"text-align: right;\">\n",
       "      <th></th>\n",
       "      <th>순번</th>\n",
       "      <th>성별</th>\n",
       "      <th>상품종류</th>\n",
       "      <th>상품가입일</th>\n",
       "      <th>요일</th>\n",
       "      <th>가입경로</th>\n",
       "      <th>금액</th>\n",
       "    </tr>\n",
       "  </thead>\n",
       "  <tbody>\n",
       "    <tr>\n",
       "      <th>0</th>\n",
       "      <td>14</td>\n",
       "      <td>1</td>\n",
       "      <td>예금</td>\n",
       "      <td>20220401</td>\n",
       "      <td>5</td>\n",
       "      <td>비대면</td>\n",
       "      <td>20000000</td>\n",
       "    </tr>\n",
       "    <tr>\n",
       "      <th>1</th>\n",
       "      <td>5</td>\n",
       "      <td>1</td>\n",
       "      <td>예금</td>\n",
       "      <td>20220401</td>\n",
       "      <td>5</td>\n",
       "      <td>비대면</td>\n",
       "      <td>10000000</td>\n",
       "    </tr>\n",
       "    <tr>\n",
       "      <th>2</th>\n",
       "      <td>13</td>\n",
       "      <td>1</td>\n",
       "      <td>예금</td>\n",
       "      <td>20220401</td>\n",
       "      <td>5</td>\n",
       "      <td>비대면</td>\n",
       "      <td>1500000</td>\n",
       "    </tr>\n",
       "    <tr>\n",
       "      <th>3</th>\n",
       "      <td>4</td>\n",
       "      <td>1</td>\n",
       "      <td>예금</td>\n",
       "      <td>20220401</td>\n",
       "      <td>5</td>\n",
       "      <td>비대면</td>\n",
       "      <td>1000000</td>\n",
       "    </tr>\n",
       "    <tr>\n",
       "      <th>4</th>\n",
       "      <td>3</td>\n",
       "      <td>2</td>\n",
       "      <td>적금</td>\n",
       "      <td>20220401</td>\n",
       "      <td>5</td>\n",
       "      <td>창구</td>\n",
       "      <td>200000</td>\n",
       "    </tr>\n",
       "  </tbody>\n",
       "</table>\n",
       "</div>"
      ],
      "text/plain": [
       "   순번  성별 상품종류     상품가입일  요일 가입경로        금액\n",
       "0  14   1   예금  20220401   5  비대면  20000000\n",
       "1   5   1   예금  20220401   5  비대면  10000000\n",
       "2  13   1   예금  20220401   5  비대면   1500000\n",
       "3   4   1   예금  20220401   5  비대면   1000000\n",
       "4   3   2   적금  20220401   5   창구    200000"
      ]
     },
     "execution_count": 10,
     "metadata": {},
     "output_type": "execute_result"
    }
   ],
   "source": [
    "customer_df = pd.read_excel(customer_xls, sheet_name='Sheet1')\n",
    "customer_df.head()"
   ]
  },
  {
   "cell_type": "code",
   "execution_count": 11,
   "id": "31e8376b",
   "metadata": {},
   "outputs": [
    {
     "data": {
      "text/plain": [
       "100"
      ]
     },
     "execution_count": 11,
     "metadata": {},
     "output_type": "execute_result"
    }
   ],
   "source": [
    "len(customer_df)"
   ]
  },
  {
   "cell_type": "code",
   "execution_count": 12,
   "id": "ec9b9749",
   "metadata": {},
   "outputs": [
    {
     "name": "stdout",
     "output_type": "stream",
     "text": [
      "<class 'pandas.core.frame.DataFrame'>\n",
      "RangeIndex: 100 entries, 0 to 99\n",
      "Data columns (total 7 columns):\n",
      " #   Column  Non-Null Count  Dtype \n",
      "---  ------  --------------  ----- \n",
      " 0   순번      100 non-null    int64 \n",
      " 1   성별      100 non-null    int64 \n",
      " 2   상품종류    100 non-null    object\n",
      " 3   상품가입일   100 non-null    int64 \n",
      " 4   요일      100 non-null    int64 \n",
      " 5   가입경로    100 non-null    object\n",
      " 6   금액      100 non-null    int64 \n",
      "dtypes: int64(5), object(2)\n",
      "memory usage: 5.6+ KB\n"
     ]
    }
   ],
   "source": [
    "customer_df.info()"
   ]
  },
  {
   "cell_type": "code",
   "execution_count": 14,
   "id": "a654ea46",
   "metadata": {},
   "outputs": [
    {
     "data": {
      "text/html": [
       "<div>\n",
       "<style scoped>\n",
       "    .dataframe tbody tr th:only-of-type {\n",
       "        vertical-align: middle;\n",
       "    }\n",
       "\n",
       "    .dataframe tbody tr th {\n",
       "        vertical-align: top;\n",
       "    }\n",
       "\n",
       "    .dataframe thead th {\n",
       "        text-align: right;\n",
       "    }\n",
       "</style>\n",
       "<table border=\"1\" class=\"dataframe\">\n",
       "  <thead>\n",
       "    <tr style=\"text-align: right;\">\n",
       "      <th></th>\n",
       "      <th>순번</th>\n",
       "      <th>성별</th>\n",
       "      <th>상품종류</th>\n",
       "      <th>상품가입일</th>\n",
       "      <th>요일</th>\n",
       "      <th>가입경로</th>\n",
       "      <th>금액</th>\n",
       "    </tr>\n",
       "  </thead>\n",
       "  <tbody>\n",
       "    <tr>\n",
       "      <th>0</th>\n",
       "      <td>14</td>\n",
       "      <td>남자</td>\n",
       "      <td>예금</td>\n",
       "      <td>20220401</td>\n",
       "      <td>5</td>\n",
       "      <td>비대면</td>\n",
       "      <td>20000000</td>\n",
       "    </tr>\n",
       "    <tr>\n",
       "      <th>1</th>\n",
       "      <td>5</td>\n",
       "      <td>남자</td>\n",
       "      <td>예금</td>\n",
       "      <td>20220401</td>\n",
       "      <td>5</td>\n",
       "      <td>비대면</td>\n",
       "      <td>10000000</td>\n",
       "    </tr>\n",
       "    <tr>\n",
       "      <th>2</th>\n",
       "      <td>13</td>\n",
       "      <td>남자</td>\n",
       "      <td>예금</td>\n",
       "      <td>20220401</td>\n",
       "      <td>5</td>\n",
       "      <td>비대면</td>\n",
       "      <td>1500000</td>\n",
       "    </tr>\n",
       "    <tr>\n",
       "      <th>3</th>\n",
       "      <td>4</td>\n",
       "      <td>남자</td>\n",
       "      <td>예금</td>\n",
       "      <td>20220401</td>\n",
       "      <td>5</td>\n",
       "      <td>비대면</td>\n",
       "      <td>1000000</td>\n",
       "    </tr>\n",
       "    <tr>\n",
       "      <th>4</th>\n",
       "      <td>3</td>\n",
       "      <td>여자</td>\n",
       "      <td>적금</td>\n",
       "      <td>20220401</td>\n",
       "      <td>5</td>\n",
       "      <td>창구</td>\n",
       "      <td>200000</td>\n",
       "    </tr>\n",
       "  </tbody>\n",
       "</table>\n",
       "</div>"
      ],
      "text/plain": [
       "   순번  성별 상품종류     상품가입일  요일 가입경로        금액\n",
       "0  14  남자   예금  20220401   5  비대면  20000000\n",
       "1   5  남자   예금  20220401   5  비대면  10000000\n",
       "2  13  남자   예금  20220401   5  비대면   1500000\n",
       "3   4  남자   예금  20220401   5  비대면   1000000\n",
       "4   3  여자   적금  20220401   5   창구    200000"
      ]
     },
     "execution_count": 14,
     "metadata": {},
     "output_type": "execute_result"
    }
   ],
   "source": [
    "customer_df = customer_df.replace({'성별':1},'남자')\n",
    "customer_df = customer_df.replace({'성별':2},'여자')\n",
    "customer_df.loc[customer_df['상품가입일']==20220402,'가입경로'] = '비대면'\n",
    "customer_df.head(5)"
   ]
  },
  {
   "cell_type": "markdown",
   "id": "9cebc5bf",
   "metadata": {},
   "source": [
    "3. 남녀 상품가입 비율"
   ]
  },
  {
   "cell_type": "markdown",
   "id": "433166d6",
   "metadata": {},
   "source": [
    "*위의 데이터 중 na값 확인하기"
   ]
  },
  {
   "cell_type": "markdown",
   "id": "84f1cdbd",
   "metadata": {},
   "source": [
    "(0) 남녀비율 원그래프"
   ]
  },
  {
   "cell_type": "code",
   "execution_count": 43,
   "id": "27883d35",
   "metadata": {},
   "outputs": [
    {
     "data": {
      "text/plain": [
       "성별\n",
       "남자    49\n",
       "여자    51\n",
       "dtype: int64"
      ]
     },
     "execution_count": 43,
     "metadata": {},
     "output_type": "execute_result"
    }
   ],
   "source": [
    "customer_df.groupby('성별').size()"
   ]
  },
  {
   "cell_type": "code",
   "execution_count": 58,
   "id": "1261583d",
   "metadata": {},
   "outputs": [
    {
     "data": {
      "image/png": "[encoded data removed]",
      "text/plain": [
       "<Figure size 864x864 with 1 Axes>"
      ]
     },
     "metadata": {},
     "output_type": "display_data"
    }
   ],
   "source": [
    "df_sex = customer_df.groupby('성별').size()\n",
    "\n",
    "df_sex.plot(kind='pie',\n",
    "            figsize=(12,12),\n",
    "            autopct='%.2f%%',\n",
    "            shadow=False, \n",
    "            fontsize=15\n",
    "            )\n",
    "plt.legend(df_sex.index[:2], loc=1)\n",
    "plt.title(\"\\n성별 수신상품가입비율\\n\", fontsize=20)\n",
    "plt.show()"
   ]
  },
  {
   "cell_type": "code",
   "execution_count": null,
   "id": "806ea167",
   "metadata": {},
   "outputs": [],
   "source": [
    "(1) 남녀 가입경로 그래프"
   ]
  },
  {
   "cell_type": "code",
   "execution_count": 59,
   "id": "092373b6",
   "metadata": {
    "scrolled": true
   },
   "outputs": [
    {
     "data": {
      "text/html": [
       "<div>\n",
       "<style scoped>\n",
       "    .dataframe tbody tr th:only-of-type {\n",
       "        vertical-align: middle;\n",
       "    }\n",
       "\n",
       "    .dataframe tbody tr th {\n",
       "        vertical-align: top;\n",
       "    }\n",
       "\n",
       "    .dataframe thead th {\n",
       "        text-align: right;\n",
       "    }\n",
       "</style>\n",
       "<table border=\"1\" class=\"dataframe\">\n",
       "  <thead>\n",
       "    <tr style=\"text-align: right;\">\n",
       "      <th></th>\n",
       "      <th>성별</th>\n",
       "      <th>가입경로</th>\n",
       "    </tr>\n",
       "  </thead>\n",
       "  <tbody>\n",
       "    <tr>\n",
       "      <th>0</th>\n",
       "      <td>남자</td>\n",
       "      <td>비대면</td>\n",
       "    </tr>\n",
       "    <tr>\n",
       "      <th>1</th>\n",
       "      <td>남자</td>\n",
       "      <td>비대면</td>\n",
       "    </tr>\n",
       "    <tr>\n",
       "      <th>2</th>\n",
       "      <td>남자</td>\n",
       "      <td>비대면</td>\n",
       "    </tr>\n",
       "    <tr>\n",
       "      <th>3</th>\n",
       "      <td>남자</td>\n",
       "      <td>비대면</td>\n",
       "    </tr>\n",
       "    <tr>\n",
       "      <th>4</th>\n",
       "      <td>여자</td>\n",
       "      <td>창구</td>\n",
       "    </tr>\n",
       "    <tr>\n",
       "      <th>...</th>\n",
       "      <td>...</td>\n",
       "      <td>...</td>\n",
       "    </tr>\n",
       "    <tr>\n",
       "      <th>95</th>\n",
       "      <td>여자</td>\n",
       "      <td>창구</td>\n",
       "    </tr>\n",
       "    <tr>\n",
       "      <th>96</th>\n",
       "      <td>남자</td>\n",
       "      <td>비대면</td>\n",
       "    </tr>\n",
       "    <tr>\n",
       "      <th>97</th>\n",
       "      <td>여자</td>\n",
       "      <td>비대면</td>\n",
       "    </tr>\n",
       "    <tr>\n",
       "      <th>98</th>\n",
       "      <td>남자</td>\n",
       "      <td>비대면</td>\n",
       "    </tr>\n",
       "    <tr>\n",
       "      <th>99</th>\n",
       "      <td>여자</td>\n",
       "      <td>비대면</td>\n",
       "    </tr>\n",
       "  </tbody>\n",
       "</table>\n",
       "<p>100 rows × 2 columns</p>\n",
       "</div>"
      ],
      "text/plain": [
       "    성별 가입경로\n",
       "0   남자  비대면\n",
       "1   남자  비대면\n",
       "2   남자  비대면\n",
       "3   남자  비대면\n",
       "4   여자   창구\n",
       "..  ..  ...\n",
       "95  여자   창구\n",
       "96  남자  비대면\n",
       "97  여자  비대면\n",
       "98  남자  비대면\n",
       "99  여자  비대면\n",
       "\n",
       "[100 rows x 2 columns]"
      ]
     },
     "execution_count": 59,
     "metadata": {},
     "output_type": "execute_result"
    }
   ],
   "source": [
    "sex_merc = customer_df.loc[:,['성별','가입경로']]\n",
    "sex_merc"
   ]
  },
  {
   "cell_type": "code",
   "execution_count": 100,
   "id": "c5624ddf",
   "metadata": {
    "scrolled": true
   },
   "outputs": [
    {
     "data": {
      "text/plain": [
       "성별  가입경로\n",
       "남자  비대면     45\n",
       "    창구       4\n",
       "여자  비대면     39\n",
       "    창구      12\n",
       "dtype: int64"
      ]
     },
     "execution_count": 100,
     "metadata": {},
     "output_type": "execute_result"
    }
   ],
   "source": [
    "data = sex_merc.groupby(['성별','가입경로']).value_counts()\n",
    "data"
   ]
  },
  {
   "cell_type": "code",
   "execution_count": 101,
   "id": "49175c6f",
   "metadata": {
    "scrolled": true
   },
   "outputs": [
    {
     "data": {
      "text/plain": [
       "성별  가입경로\n",
       "여자  비대면     39\n",
       "    창구      12\n",
       "dtype: int64"
      ]
     },
     "execution_count": 101,
     "metadata": {},
     "output_type": "execute_result"
    }
   ],
   "source": [
    "data[2:4]"
   ]
  },
  {
   "cell_type": "code",
   "execution_count": 102,
   "id": "7b255af8",
   "metadata": {},
   "outputs": [
    {
     "data": {
      "image/png": "[encoded data removed]",
      "text/plain": [
       "<Figure size 1440x360 with 1 Axes>"
      ]
     },
     "metadata": {
      "needs_background": "light"
     },
     "output_type": "display_data"
    }
   ],
   "source": [
    "t  = np.arange(2)+1 #\n",
    "y  = data[0:2] #남자\n",
    "y1 = data[2:4] #여자\n",
    "\n",
    "plt.figure(figsize=(20,5))\n",
    "plt.barh(t,y, color='r', label='남자')\n",
    "plt.barh(t, -y1, color='y', label='여자')\n",
    "plt.xlabel('가입건수', fontsize=20)\n",
    "plt.ylabel('1.비대면/2.대면', fontsize=20)\n",
    "plt.legend(fontsize=20)\n",
    "plt.xticks([-50,-25,0,25,50],('50','25','0','25','50'), fontsize=20)\n",
    "plt.yticks([1,2],('1','2'), fontsize=20)\n",
    "plt.title(\"\\n성별,가입경로별 건수\\n\", fontsize=20)\n",
    "# Get or set the *x*-limits of the current tick locations and labels.\n",
    "plt.show() "
   ]
  },
  {
   "cell_type": "markdown",
   "id": "b91460a9",
   "metadata": {},
   "source": [
    "4.가입일자별 상품별 가입비율"
   ]
  },
  {
   "cell_type": "markdown",
   "id": "956226a5",
   "metadata": {},
   "source": [
    "(1) 분할막대차트 4/1 ~ 4/15일까지 만들기"
   ]
  },
  {
   "cell_type": "code",
   "execution_count": 111,
   "id": "095eb6b6",
   "metadata": {},
   "outputs": [
    {
     "data": {
      "text/html": [
       "<div>\n",
       "<style scoped>\n",
       "    .dataframe tbody tr th:only-of-type {\n",
       "        vertical-align: middle;\n",
       "    }\n",
       "\n",
       "    .dataframe tbody tr th {\n",
       "        vertical-align: top;\n",
       "    }\n",
       "\n",
       "    .dataframe thead th {\n",
       "        text-align: right;\n",
       "    }\n",
       "</style>\n",
       "<table border=\"1\" class=\"dataframe\">\n",
       "  <thead>\n",
       "    <tr style=\"text-align: right;\">\n",
       "      <th></th>\n",
       "      <th>상품가입일</th>\n",
       "      <th>상품종류</th>\n",
       "    </tr>\n",
       "  </thead>\n",
       "  <tbody>\n",
       "    <tr>\n",
       "      <th>0</th>\n",
       "      <td>20220401</td>\n",
       "      <td>예금</td>\n",
       "    </tr>\n",
       "    <tr>\n",
       "      <th>1</th>\n",
       "      <td>20220401</td>\n",
       "      <td>예금</td>\n",
       "    </tr>\n",
       "    <tr>\n",
       "      <th>2</th>\n",
       "      <td>20220401</td>\n",
       "      <td>예금</td>\n",
       "    </tr>\n",
       "    <tr>\n",
       "      <th>3</th>\n",
       "      <td>20220401</td>\n",
       "      <td>예금</td>\n",
       "    </tr>\n",
       "    <tr>\n",
       "      <th>4</th>\n",
       "      <td>20220401</td>\n",
       "      <td>적금</td>\n",
       "    </tr>\n",
       "    <tr>\n",
       "      <th>...</th>\n",
       "      <td>...</td>\n",
       "      <td>...</td>\n",
       "    </tr>\n",
       "    <tr>\n",
       "      <th>95</th>\n",
       "      <td>20220415</td>\n",
       "      <td>적금</td>\n",
       "    </tr>\n",
       "    <tr>\n",
       "      <th>96</th>\n",
       "      <td>20220415</td>\n",
       "      <td>펀드</td>\n",
       "    </tr>\n",
       "    <tr>\n",
       "      <th>97</th>\n",
       "      <td>20220415</td>\n",
       "      <td>적금</td>\n",
       "    </tr>\n",
       "    <tr>\n",
       "      <th>98</th>\n",
       "      <td>20220415</td>\n",
       "      <td>적금</td>\n",
       "    </tr>\n",
       "    <tr>\n",
       "      <th>99</th>\n",
       "      <td>20220415</td>\n",
       "      <td>펀드</td>\n",
       "    </tr>\n",
       "  </tbody>\n",
       "</table>\n",
       "<p>100 rows × 2 columns</p>\n",
       "</div>"
      ],
      "text/plain": [
       "       상품가입일 상품종류\n",
       "0   20220401   예금\n",
       "1   20220401   예금\n",
       "2   20220401   예금\n",
       "3   20220401   예금\n",
       "4   20220401   적금\n",
       "..       ...  ...\n",
       "95  20220415   적금\n",
       "96  20220415   펀드\n",
       "97  20220415   적금\n",
       "98  20220415   적금\n",
       "99  20220415   펀드\n",
       "\n",
       "[100 rows x 2 columns]"
      ]
     },
     "execution_count": 111,
     "metadata": {},
     "output_type": "execute_result"
    }
   ],
   "source": [
    "day_merc = customer_df.loc[:,['상품가입일','상품종류']]\n",
    "day_merc"
   ]
  },
  {
   "cell_type": "code",
   "execution_count": 112,
   "id": "485b466f",
   "metadata": {},
   "outputs": [
    {
     "name": "stdout",
     "output_type": "stream",
     "text": [
      "<class 'pandas.core.frame.DataFrame'>\n",
      "RangeIndex: 100 entries, 0 to 99\n",
      "Data columns (total 2 columns):\n",
      " #   Column  Non-Null Count  Dtype \n",
      "---  ------  --------------  ----- \n",
      " 0   상품가입일   100 non-null    int64 \n",
      " 1   상품종류    100 non-null    object\n",
      "dtypes: int64(1), object(1)\n",
      "memory usage: 1.7+ KB\n"
     ]
    }
   ],
   "source": [
    "day_merc.info()"
   ]
  },
  {
   "cell_type": "code",
   "execution_count": 169,
   "id": "dff7dc27",
   "metadata": {},
   "outputs": [],
   "source": [
    "from datetime import datetime"
   ]
  },
  {
   "cell_type": "code",
   "execution_count": 114,
   "id": "f9923fa0",
   "metadata": {},
   "outputs": [
    {
     "data": {
      "text/html": [
       "<div>\n",
       "<style scoped>\n",
       "    .dataframe tbody tr th:only-of-type {\n",
       "        vertical-align: middle;\n",
       "    }\n",
       "\n",
       "    .dataframe tbody tr th {\n",
       "        vertical-align: top;\n",
       "    }\n",
       "\n",
       "    .dataframe thead th {\n",
       "        text-align: right;\n",
       "    }\n",
       "</style>\n",
       "<table border=\"1\" class=\"dataframe\">\n",
       "  <thead>\n",
       "    <tr style=\"text-align: right;\">\n",
       "      <th></th>\n",
       "      <th>상품가입일</th>\n",
       "      <th>상품종류</th>\n",
       "    </tr>\n",
       "  </thead>\n",
       "  <tbody>\n",
       "    <tr>\n",
       "      <th>90</th>\n",
       "      <td>2022-04-15</td>\n",
       "      <td>펀드</td>\n",
       "    </tr>\n",
       "    <tr>\n",
       "      <th>91</th>\n",
       "      <td>2022-04-15</td>\n",
       "      <td>적금</td>\n",
       "    </tr>\n",
       "    <tr>\n",
       "      <th>92</th>\n",
       "      <td>2022-04-15</td>\n",
       "      <td>적금</td>\n",
       "    </tr>\n",
       "    <tr>\n",
       "      <th>93</th>\n",
       "      <td>2022-04-15</td>\n",
       "      <td>적금</td>\n",
       "    </tr>\n",
       "    <tr>\n",
       "      <th>94</th>\n",
       "      <td>2022-04-15</td>\n",
       "      <td>펀드</td>\n",
       "    </tr>\n",
       "    <tr>\n",
       "      <th>95</th>\n",
       "      <td>2022-04-15</td>\n",
       "      <td>적금</td>\n",
       "    </tr>\n",
       "    <tr>\n",
       "      <th>96</th>\n",
       "      <td>2022-04-15</td>\n",
       "      <td>펀드</td>\n",
       "    </tr>\n",
       "    <tr>\n",
       "      <th>97</th>\n",
       "      <td>2022-04-15</td>\n",
       "      <td>적금</td>\n",
       "    </tr>\n",
       "    <tr>\n",
       "      <th>98</th>\n",
       "      <td>2022-04-15</td>\n",
       "      <td>적금</td>\n",
       "    </tr>\n",
       "    <tr>\n",
       "      <th>99</th>\n",
       "      <td>2022-04-15</td>\n",
       "      <td>펀드</td>\n",
       "    </tr>\n",
       "  </tbody>\n",
       "</table>\n",
       "</div>"
      ],
      "text/plain": [
       "        상품가입일 상품종류\n",
       "90 2022-04-15   펀드\n",
       "91 2022-04-15   적금\n",
       "92 2022-04-15   적금\n",
       "93 2022-04-15   적금\n",
       "94 2022-04-15   펀드\n",
       "95 2022-04-15   적금\n",
       "96 2022-04-15   펀드\n",
       "97 2022-04-15   적금\n",
       "98 2022-04-15   적금\n",
       "99 2022-04-15   펀드"
      ]
     },
     "execution_count": 114,
     "metadata": {},
     "output_type": "execute_result"
    }
   ],
   "source": [
    "day_merc['상품가입일'] = pd.to_datetime(day_merc['상품가입일'], format='%Y%m%d') \n",
    "# customer_df.head(10)\n",
    "day_merc.tail(10)"
   ]
  },
  {
   "cell_type": "code",
   "execution_count": 115,
   "id": "c26b12ac",
   "metadata": {},
   "outputs": [
    {
     "data": {
      "text/html": [
       "<div>\n",
       "<style scoped>\n",
       "    .dataframe tbody tr th:only-of-type {\n",
       "        vertical-align: middle;\n",
       "    }\n",
       "\n",
       "    .dataframe tbody tr th {\n",
       "        vertical-align: top;\n",
       "    }\n",
       "\n",
       "    .dataframe thead th {\n",
       "        text-align: right;\n",
       "    }\n",
       "</style>\n",
       "<table border=\"1\" class=\"dataframe\">\n",
       "  <thead>\n",
       "    <tr style=\"text-align: right;\">\n",
       "      <th></th>\n",
       "      <th>상품종류</th>\n",
       "    </tr>\n",
       "    <tr>\n",
       "      <th>상품가입일</th>\n",
       "      <th></th>\n",
       "    </tr>\n",
       "  </thead>\n",
       "  <tbody>\n",
       "    <tr>\n",
       "      <th>2022-04-01</th>\n",
       "      <td>예금</td>\n",
       "    </tr>\n",
       "    <tr>\n",
       "      <th>2022-04-01</th>\n",
       "      <td>예금</td>\n",
       "    </tr>\n",
       "    <tr>\n",
       "      <th>2022-04-01</th>\n",
       "      <td>예금</td>\n",
       "    </tr>\n",
       "    <tr>\n",
       "      <th>2022-04-01</th>\n",
       "      <td>예금</td>\n",
       "    </tr>\n",
       "    <tr>\n",
       "      <th>2022-04-01</th>\n",
       "      <td>적금</td>\n",
       "    </tr>\n",
       "    <tr>\n",
       "      <th>2022-04-01</th>\n",
       "      <td>펀드</td>\n",
       "    </tr>\n",
       "    <tr>\n",
       "      <th>2022-04-01</th>\n",
       "      <td>적금</td>\n",
       "    </tr>\n",
       "    <tr>\n",
       "      <th>2022-04-01</th>\n",
       "      <td>펀드</td>\n",
       "    </tr>\n",
       "    <tr>\n",
       "      <th>2022-04-01</th>\n",
       "      <td>적금</td>\n",
       "    </tr>\n",
       "    <tr>\n",
       "      <th>2022-04-01</th>\n",
       "      <td>펀드</td>\n",
       "    </tr>\n",
       "  </tbody>\n",
       "</table>\n",
       "</div>"
      ],
      "text/plain": [
       "           상품종류\n",
       "상품가입일          \n",
       "2022-04-01   예금\n",
       "2022-04-01   예금\n",
       "2022-04-01   예금\n",
       "2022-04-01   예금\n",
       "2022-04-01   적금\n",
       "2022-04-01   펀드\n",
       "2022-04-01   적금\n",
       "2022-04-01   펀드\n",
       "2022-04-01   적금\n",
       "2022-04-01   펀드"
      ]
     },
     "execution_count": 115,
     "metadata": {},
     "output_type": "execute_result"
    }
   ],
   "source": [
    "day_merc.set_index('상품가입일', inplace=True)           \n",
    "day_merc.head(10)"
   ]
  },
  {
   "cell_type": "code",
   "execution_count": 116,
   "id": "15a338ed",
   "metadata": {},
   "outputs": [
    {
     "data": {
      "text/plain": [
       "Int64Index([ 1,  1,  1,  1,  1,  1,  1,  1,  1,  1,  1,  1,  1,  1,  1,  1,  1,\n",
       "             1,  2,  2,  2,  2,  2,  2,  3,  3,  4,  4,  4,  4,  4,  4,  4,  4,\n",
       "             4,  5,  5,  6,  6,  6,  6,  7,  7,  7,  7,  7,  7,  7,  7,  7,  7,\n",
       "             7,  8,  8,  8,  8,  8,  8,  8,  8,  8,  8,  8,  9,  9, 10, 10, 11,\n",
       "            11, 11, 11, 11, 11, 11, 11, 11, 11, 11, 11, 11, 12, 13, 14, 15, 15,\n",
       "            15, 15, 15, 15, 15, 15, 15, 15, 15, 15, 15, 15, 15, 15, 15],\n",
       "           dtype='int64', name='상품가입일')"
      ]
     },
     "execution_count": 116,
     "metadata": {},
     "output_type": "execute_result"
    }
   ],
   "source": [
    "day_merc.index.day"
   ]
  },
  {
   "cell_type": "code",
   "execution_count": 117,
   "id": "e3729be5",
   "metadata": {},
   "outputs": [
    {
     "data": {
      "text/plain": [
       "100"
      ]
     },
     "execution_count": 117,
     "metadata": {},
     "output_type": "execute_result"
    }
   ],
   "source": [
    "len(day_merc)"
   ]
  },
  {
   "cell_type": "code",
   "execution_count": 119,
   "id": "a711e073",
   "metadata": {},
   "outputs": [
    {
     "data": {
      "text/html": [
       "<div>\n",
       "<style scoped>\n",
       "    .dataframe tbody tr th:only-of-type {\n",
       "        vertical-align: middle;\n",
       "    }\n",
       "\n",
       "    .dataframe tbody tr th {\n",
       "        vertical-align: top;\n",
       "    }\n",
       "\n",
       "    .dataframe thead th {\n",
       "        text-align: right;\n",
       "    }\n",
       "</style>\n",
       "<table border=\"1\" class=\"dataframe\">\n",
       "  <thead>\n",
       "    <tr style=\"text-align: right;\">\n",
       "      <th></th>\n",
       "      <th>상품종류</th>\n",
       "      <th>상품가입일자</th>\n",
       "    </tr>\n",
       "    <tr>\n",
       "      <th>상품가입일</th>\n",
       "      <th></th>\n",
       "      <th></th>\n",
       "    </tr>\n",
       "  </thead>\n",
       "  <tbody>\n",
       "    <tr>\n",
       "      <th>2022-04-01</th>\n",
       "      <td>예금</td>\n",
       "      <td>1</td>\n",
       "    </tr>\n",
       "    <tr>\n",
       "      <th>2022-04-01</th>\n",
       "      <td>예금</td>\n",
       "      <td>1</td>\n",
       "    </tr>\n",
       "    <tr>\n",
       "      <th>2022-04-01</th>\n",
       "      <td>예금</td>\n",
       "      <td>1</td>\n",
       "    </tr>\n",
       "    <tr>\n",
       "      <th>2022-04-01</th>\n",
       "      <td>예금</td>\n",
       "      <td>1</td>\n",
       "    </tr>\n",
       "    <tr>\n",
       "      <th>2022-04-01</th>\n",
       "      <td>적금</td>\n",
       "      <td>1</td>\n",
       "    </tr>\n",
       "    <tr>\n",
       "      <th>2022-04-01</th>\n",
       "      <td>펀드</td>\n",
       "      <td>1</td>\n",
       "    </tr>\n",
       "    <tr>\n",
       "      <th>2022-04-01</th>\n",
       "      <td>적금</td>\n",
       "      <td>1</td>\n",
       "    </tr>\n",
       "    <tr>\n",
       "      <th>2022-04-01</th>\n",
       "      <td>펀드</td>\n",
       "      <td>1</td>\n",
       "    </tr>\n",
       "    <tr>\n",
       "      <th>2022-04-01</th>\n",
       "      <td>적금</td>\n",
       "      <td>1</td>\n",
       "    </tr>\n",
       "    <tr>\n",
       "      <th>2022-04-01</th>\n",
       "      <td>펀드</td>\n",
       "      <td>1</td>\n",
       "    </tr>\n",
       "  </tbody>\n",
       "</table>\n",
       "</div>"
      ],
      "text/plain": [
       "           상품종류  상품가입일자\n",
       "상품가입일                  \n",
       "2022-04-01   예금       1\n",
       "2022-04-01   예금       1\n",
       "2022-04-01   예금       1\n",
       "2022-04-01   예금       1\n",
       "2022-04-01   적금       1\n",
       "2022-04-01   펀드       1\n",
       "2022-04-01   적금       1\n",
       "2022-04-01   펀드       1\n",
       "2022-04-01   적금       1\n",
       "2022-04-01   펀드       1"
      ]
     },
     "execution_count": 119,
     "metadata": {},
     "output_type": "execute_result"
    }
   ],
   "source": [
    "day_merc['상품가입일자'] = day_merc.index.day\n",
    "day_merc.head(10)"
   ]
  },
  {
   "cell_type": "code",
   "execution_count": 126,
   "id": "b077cd8c",
   "metadata": {},
   "outputs": [
    {
     "data": {
      "text/plain": [
       "상품가입일자  상품종류\n",
       "1       예금       4\n",
       "        적금      10\n",
       "        펀드       4\n",
       "2       예금       2\n",
       "        적금       4\n",
       "3       펀드       2\n",
       "4       예금       2\n",
       "        적금       6\n",
       "        펀드       1\n",
       "5       펀드       2\n",
       "6       예금       1\n",
       "        적금       2\n",
       "        펀드       1\n",
       "7       예금       2\n",
       "        적금       6\n",
       "        펀드       3\n",
       "8       예금       1\n",
       "        적금       6\n",
       "        펀드       4\n",
       "9       펀드       2\n",
       "10      적금       1\n",
       "        펀드       1\n",
       "11      예금       2\n",
       "        적금       9\n",
       "        펀드       2\n",
       "12      펀드       1\n",
       "13      펀드       1\n",
       "14      적금       1\n",
       "15      예금       3\n",
       "        적금       8\n",
       "        펀드       6\n",
       "dtype: int64"
      ]
     },
     "execution_count": 126,
     "metadata": {},
     "output_type": "execute_result"
    }
   ],
   "source": [
    "day_merc_num = day_merc.groupby(['상품가입일자','상품종류']).value_counts()\n",
    "day_merc_num"
   ]
  },
  {
   "cell_type": "code",
   "execution_count": 127,
   "id": "ff41932d",
   "metadata": {},
   "outputs": [
    {
     "data": {
      "text/plain": [
       "pandas.core.series.Series"
      ]
     },
     "execution_count": 127,
     "metadata": {},
     "output_type": "execute_result"
    }
   ],
   "source": [
    "type(day_merc_num)"
   ]
  },
  {
   "cell_type": "code",
   "execution_count": 132,
   "id": "be59135f",
   "metadata": {},
   "outputs": [
    {
     "data": {
      "text/html": [
       "<div>\n",
       "<style scoped>\n",
       "    .dataframe tbody tr th:only-of-type {\n",
       "        vertical-align: middle;\n",
       "    }\n",
       "\n",
       "    .dataframe tbody tr th {\n",
       "        vertical-align: top;\n",
       "    }\n",
       "\n",
       "    .dataframe thead th {\n",
       "        text-align: right;\n",
       "    }\n",
       "</style>\n",
       "<table border=\"1\" class=\"dataframe\">\n",
       "  <thead>\n",
       "    <tr style=\"text-align: right;\">\n",
       "      <th>상품종류</th>\n",
       "      <th>예금</th>\n",
       "      <th>적금</th>\n",
       "      <th>펀드</th>\n",
       "    </tr>\n",
       "    <tr>\n",
       "      <th>상품가입일자</th>\n",
       "      <th></th>\n",
       "      <th></th>\n",
       "      <th></th>\n",
       "    </tr>\n",
       "  </thead>\n",
       "  <tbody>\n",
       "    <tr>\n",
       "      <th>1</th>\n",
       "      <td>4.0</td>\n",
       "      <td>10.0</td>\n",
       "      <td>4.0</td>\n",
       "    </tr>\n",
       "    <tr>\n",
       "      <th>2</th>\n",
       "      <td>2.0</td>\n",
       "      <td>4.0</td>\n",
       "      <td>0.0</td>\n",
       "    </tr>\n",
       "    <tr>\n",
       "      <th>3</th>\n",
       "      <td>0.0</td>\n",
       "      <td>0.0</td>\n",
       "      <td>2.0</td>\n",
       "    </tr>\n",
       "    <tr>\n",
       "      <th>4</th>\n",
       "      <td>2.0</td>\n",
       "      <td>6.0</td>\n",
       "      <td>1.0</td>\n",
       "    </tr>\n",
       "    <tr>\n",
       "      <th>5</th>\n",
       "      <td>0.0</td>\n",
       "      <td>0.0</td>\n",
       "      <td>2.0</td>\n",
       "    </tr>\n",
       "    <tr>\n",
       "      <th>6</th>\n",
       "      <td>1.0</td>\n",
       "      <td>2.0</td>\n",
       "      <td>1.0</td>\n",
       "    </tr>\n",
       "    <tr>\n",
       "      <th>7</th>\n",
       "      <td>2.0</td>\n",
       "      <td>6.0</td>\n",
       "      <td>3.0</td>\n",
       "    </tr>\n",
       "    <tr>\n",
       "      <th>8</th>\n",
       "      <td>1.0</td>\n",
       "      <td>6.0</td>\n",
       "      <td>4.0</td>\n",
       "    </tr>\n",
       "    <tr>\n",
       "      <th>9</th>\n",
       "      <td>0.0</td>\n",
       "      <td>0.0</td>\n",
       "      <td>2.0</td>\n",
       "    </tr>\n",
       "    <tr>\n",
       "      <th>10</th>\n",
       "      <td>0.0</td>\n",
       "      <td>1.0</td>\n",
       "      <td>1.0</td>\n",
       "    </tr>\n",
       "    <tr>\n",
       "      <th>11</th>\n",
       "      <td>2.0</td>\n",
       "      <td>9.0</td>\n",
       "      <td>2.0</td>\n",
       "    </tr>\n",
       "    <tr>\n",
       "      <th>12</th>\n",
       "      <td>0.0</td>\n",
       "      <td>0.0</td>\n",
       "      <td>1.0</td>\n",
       "    </tr>\n",
       "    <tr>\n",
       "      <th>13</th>\n",
       "      <td>0.0</td>\n",
       "      <td>0.0</td>\n",
       "      <td>1.0</td>\n",
       "    </tr>\n",
       "    <tr>\n",
       "      <th>14</th>\n",
       "      <td>0.0</td>\n",
       "      <td>1.0</td>\n",
       "      <td>0.0</td>\n",
       "    </tr>\n",
       "    <tr>\n",
       "      <th>15</th>\n",
       "      <td>3.0</td>\n",
       "      <td>8.0</td>\n",
       "      <td>6.0</td>\n",
       "    </tr>\n",
       "  </tbody>\n",
       "</table>\n",
       "</div>"
      ],
      "text/plain": [
       "상품종류     예금    적금   펀드\n",
       "상품가입일자                \n",
       "1       4.0  10.0  4.0\n",
       "2       2.0   4.0  0.0\n",
       "3       0.0   0.0  2.0\n",
       "4       2.0   6.0  1.0\n",
       "5       0.0   0.0  2.0\n",
       "6       1.0   2.0  1.0\n",
       "7       2.0   6.0  3.0\n",
       "8       1.0   6.0  4.0\n",
       "9       0.0   0.0  2.0\n",
       "10      0.0   1.0  1.0\n",
       "11      2.0   9.0  2.0\n",
       "12      0.0   0.0  1.0\n",
       "13      0.0   0.0  1.0\n",
       "14      0.0   1.0  0.0\n",
       "15      3.0   8.0  6.0"
      ]
     },
     "execution_count": 132,
     "metadata": {},
     "output_type": "execute_result"
    }
   ],
   "source": [
    "day_merc_num2 = day_merc_num.unstack(1).fillna(0)\n",
    "day_merc_num2"
   ]
  },
  {
   "cell_type": "code",
   "execution_count": 157,
   "id": "08fe8e5e",
   "metadata": {},
   "outputs": [
    {
     "data": {
      "image/png": "[encoded data removed]",
      "text/plain": [
       "<Figure size 1080x1080 with 1 Axes>"
      ]
     },
     "metadata": {
      "needs_background": "light"
     },
     "output_type": "display_data"
    }
   ],
   "source": [
    "#분할막대차트 그리기\n",
    "\n",
    "A = day_merc_num2.iloc[:,0]#예금\n",
    "B = day_merc_num2.iloc[:,1]#적금\n",
    "C = day_merc_num2.iloc[:,2]#펀드\n",
    "\n",
    "X = day_merc_num2.index\n",
    "\n",
    "plt.figure(figsize=(15,15))\n",
    "plt.bar(X, A, color='b', label='예금')\n",
    "plt.bar(X, B, color='r', bottom=A,label='적금')\n",
    "plt.bar(X, C, color='g', bottom=A+B,label='펀드')\n",
    "\n",
    "plt.xlabel('가입일자', fontsize=20)\n",
    "plt.ylabel('가입건수', fontsize=20)\n",
    "plt.legend(fontsize=20)\n",
    "plt.xticks(fontsize=20)\n",
    "plt.yticks(fontsize=20)\n",
    "plt.title(\"\\n가입일자별 가입건수\\n\", fontsize=30)\n",
    "\n",
    "plt.show()"
   ]
  },
  {
   "cell_type": "markdown",
   "id": "46757676",
   "metadata": {},
   "source": [
    "(2) 요일별 상품가입건수 \n",
    "-> 2주의 월화수목금토일을 \n",
    "-> 요일 평균으로 barh로 그린다."
   ]
  },
  {
   "cell_type": "code",
   "execution_count": 172,
   "id": "b838df4b",
   "metadata": {},
   "outputs": [
    {
     "data": {
      "text/html": [
       "<div>\n",
       "<style scoped>\n",
       "    .dataframe tbody tr th:only-of-type {\n",
       "        vertical-align: middle;\n",
       "    }\n",
       "\n",
       "    .dataframe tbody tr th {\n",
       "        vertical-align: top;\n",
       "    }\n",
       "\n",
       "    .dataframe thead th {\n",
       "        text-align: right;\n",
       "    }\n",
       "</style>\n",
       "<table border=\"1\" class=\"dataframe\">\n",
       "  <thead>\n",
       "    <tr style=\"text-align: right;\">\n",
       "      <th></th>\n",
       "      <th>상품가입일</th>\n",
       "      <th>상품종류</th>\n",
       "      <th>상품가입일자</th>\n",
       "    </tr>\n",
       "  </thead>\n",
       "  <tbody>\n",
       "    <tr>\n",
       "      <th>0</th>\n",
       "      <td>2022-04-01</td>\n",
       "      <td>예금</td>\n",
       "      <td>1</td>\n",
       "    </tr>\n",
       "    <tr>\n",
       "      <th>1</th>\n",
       "      <td>2022-04-01</td>\n",
       "      <td>예금</td>\n",
       "      <td>1</td>\n",
       "    </tr>\n",
       "    <tr>\n",
       "      <th>2</th>\n",
       "      <td>2022-04-01</td>\n",
       "      <td>예금</td>\n",
       "      <td>1</td>\n",
       "    </tr>\n",
       "    <tr>\n",
       "      <th>3</th>\n",
       "      <td>2022-04-01</td>\n",
       "      <td>예금</td>\n",
       "      <td>1</td>\n",
       "    </tr>\n",
       "    <tr>\n",
       "      <th>4</th>\n",
       "      <td>2022-04-01</td>\n",
       "      <td>적금</td>\n",
       "      <td>1</td>\n",
       "    </tr>\n",
       "    <tr>\n",
       "      <th>...</th>\n",
       "      <td>...</td>\n",
       "      <td>...</td>\n",
       "      <td>...</td>\n",
       "    </tr>\n",
       "    <tr>\n",
       "      <th>95</th>\n",
       "      <td>2022-04-15</td>\n",
       "      <td>적금</td>\n",
       "      <td>15</td>\n",
       "    </tr>\n",
       "    <tr>\n",
       "      <th>96</th>\n",
       "      <td>2022-04-15</td>\n",
       "      <td>펀드</td>\n",
       "      <td>15</td>\n",
       "    </tr>\n",
       "    <tr>\n",
       "      <th>97</th>\n",
       "      <td>2022-04-15</td>\n",
       "      <td>적금</td>\n",
       "      <td>15</td>\n",
       "    </tr>\n",
       "    <tr>\n",
       "      <th>98</th>\n",
       "      <td>2022-04-15</td>\n",
       "      <td>적금</td>\n",
       "      <td>15</td>\n",
       "    </tr>\n",
       "    <tr>\n",
       "      <th>99</th>\n",
       "      <td>2022-04-15</td>\n",
       "      <td>펀드</td>\n",
       "      <td>15</td>\n",
       "    </tr>\n",
       "  </tbody>\n",
       "</table>\n",
       "<p>100 rows × 3 columns</p>\n",
       "</div>"
      ],
      "text/plain": [
       "        상품가입일 상품종류  상품가입일자\n",
       "0  2022-04-01   예금       1\n",
       "1  2022-04-01   예금       1\n",
       "2  2022-04-01   예금       1\n",
       "3  2022-04-01   예금       1\n",
       "4  2022-04-01   적금       1\n",
       "..        ...  ...     ...\n",
       "95 2022-04-15   적금      15\n",
       "96 2022-04-15   펀드      15\n",
       "97 2022-04-15   적금      15\n",
       "98 2022-04-15   적금      15\n",
       "99 2022-04-15   펀드      15\n",
       "\n",
       "[100 rows x 3 columns]"
      ]
     },
     "execution_count": 172,
     "metadata": {},
     "output_type": "execute_result"
    }
   ],
   "source": [
    "day_merc2 = day_merc.reset_index()\n",
    "day_merc2"
   ]
  },
  {
   "cell_type": "code",
   "execution_count": 158,
   "id": "2a67696d",
   "metadata": {},
   "outputs": [],
   "source": [
    "?pd.to_datetime"
   ]
  },
  {
   "cell_type": "code",
   "execution_count": 174,
   "id": "0105f4f3",
   "metadata": {},
   "outputs": [
    {
     "data": {
      "text/html": [
       "<div>\n",
       "<style scoped>\n",
       "    .dataframe tbody tr th:only-of-type {\n",
       "        vertical-align: middle;\n",
       "    }\n",
       "\n",
       "    .dataframe tbody tr th {\n",
       "        vertical-align: top;\n",
       "    }\n",
       "\n",
       "    .dataframe thead th {\n",
       "        text-align: right;\n",
       "    }\n",
       "</style>\n",
       "<table border=\"1\" class=\"dataframe\">\n",
       "  <thead>\n",
       "    <tr style=\"text-align: right;\">\n",
       "      <th></th>\n",
       "      <th>상품가입일</th>\n",
       "      <th>상품종류</th>\n",
       "      <th>상품가입일자</th>\n",
       "      <th>상품가입요일</th>\n",
       "    </tr>\n",
       "  </thead>\n",
       "  <tbody>\n",
       "    <tr>\n",
       "      <th>90</th>\n",
       "      <td>2022-04-15</td>\n",
       "      <td>펀드</td>\n",
       "      <td>15</td>\n",
       "      <td>Friday</td>\n",
       "    </tr>\n",
       "    <tr>\n",
       "      <th>91</th>\n",
       "      <td>2022-04-15</td>\n",
       "      <td>적금</td>\n",
       "      <td>15</td>\n",
       "      <td>Friday</td>\n",
       "    </tr>\n",
       "    <tr>\n",
       "      <th>92</th>\n",
       "      <td>2022-04-15</td>\n",
       "      <td>적금</td>\n",
       "      <td>15</td>\n",
       "      <td>Friday</td>\n",
       "    </tr>\n",
       "    <tr>\n",
       "      <th>93</th>\n",
       "      <td>2022-04-15</td>\n",
       "      <td>적금</td>\n",
       "      <td>15</td>\n",
       "      <td>Friday</td>\n",
       "    </tr>\n",
       "    <tr>\n",
       "      <th>94</th>\n",
       "      <td>2022-04-15</td>\n",
       "      <td>펀드</td>\n",
       "      <td>15</td>\n",
       "      <td>Friday</td>\n",
       "    </tr>\n",
       "    <tr>\n",
       "      <th>95</th>\n",
       "      <td>2022-04-15</td>\n",
       "      <td>적금</td>\n",
       "      <td>15</td>\n",
       "      <td>Friday</td>\n",
       "    </tr>\n",
       "    <tr>\n",
       "      <th>96</th>\n",
       "      <td>2022-04-15</td>\n",
       "      <td>펀드</td>\n",
       "      <td>15</td>\n",
       "      <td>Friday</td>\n",
       "    </tr>\n",
       "    <tr>\n",
       "      <th>97</th>\n",
       "      <td>2022-04-15</td>\n",
       "      <td>적금</td>\n",
       "      <td>15</td>\n",
       "      <td>Friday</td>\n",
       "    </tr>\n",
       "    <tr>\n",
       "      <th>98</th>\n",
       "      <td>2022-04-15</td>\n",
       "      <td>적금</td>\n",
       "      <td>15</td>\n",
       "      <td>Friday</td>\n",
       "    </tr>\n",
       "    <tr>\n",
       "      <th>99</th>\n",
       "      <td>2022-04-15</td>\n",
       "      <td>펀드</td>\n",
       "      <td>15</td>\n",
       "      <td>Friday</td>\n",
       "    </tr>\n",
       "  </tbody>\n",
       "</table>\n",
       "</div>"
      ],
      "text/plain": [
       "        상품가입일 상품종류  상품가입일자  상품가입요일\n",
       "90 2022-04-15   펀드      15  Friday\n",
       "91 2022-04-15   적금      15  Friday\n",
       "92 2022-04-15   적금      15  Friday\n",
       "93 2022-04-15   적금      15  Friday\n",
       "94 2022-04-15   펀드      15  Friday\n",
       "95 2022-04-15   적금      15  Friday\n",
       "96 2022-04-15   펀드      15  Friday\n",
       "97 2022-04-15   적금      15  Friday\n",
       "98 2022-04-15   적금      15  Friday\n",
       "99 2022-04-15   펀드      15  Friday"
      ]
     },
     "execution_count": 174,
     "metadata": {},
     "output_type": "execute_result"
    }
   ],
   "source": [
    "day_merc2['상품가입요일'] = day_merc2['상품가입일'].dt.day_name() \n",
    "# customer_df.head(10)\n",
    "day_merc2.tail(10)"
   ]
  },
  {
   "cell_type": "code",
   "execution_count": 182,
   "id": "647ee28e",
   "metadata": {},
   "outputs": [
    {
     "data": {
      "text/html": [
       "<div>\n",
       "<style scoped>\n",
       "    .dataframe tbody tr th:only-of-type {\n",
       "        vertical-align: middle;\n",
       "    }\n",
       "\n",
       "    .dataframe tbody tr th {\n",
       "        vertical-align: top;\n",
       "    }\n",
       "\n",
       "    .dataframe thead th {\n",
       "        text-align: right;\n",
       "    }\n",
       "</style>\n",
       "<table border=\"1\" class=\"dataframe\">\n",
       "  <thead>\n",
       "    <tr style=\"text-align: right;\">\n",
       "      <th></th>\n",
       "      <th>상품가입일자</th>\n",
       "      <th>상품가입요일</th>\n",
       "    </tr>\n",
       "  </thead>\n",
       "  <tbody>\n",
       "    <tr>\n",
       "      <th>0</th>\n",
       "      <td>1</td>\n",
       "      <td>Friday</td>\n",
       "    </tr>\n",
       "    <tr>\n",
       "      <th>1</th>\n",
       "      <td>1</td>\n",
       "      <td>Friday</td>\n",
       "    </tr>\n",
       "    <tr>\n",
       "      <th>2</th>\n",
       "      <td>1</td>\n",
       "      <td>Friday</td>\n",
       "    </tr>\n",
       "    <tr>\n",
       "      <th>3</th>\n",
       "      <td>1</td>\n",
       "      <td>Friday</td>\n",
       "    </tr>\n",
       "    <tr>\n",
       "      <th>4</th>\n",
       "      <td>1</td>\n",
       "      <td>Friday</td>\n",
       "    </tr>\n",
       "    <tr>\n",
       "      <th>...</th>\n",
       "      <td>...</td>\n",
       "      <td>...</td>\n",
       "    </tr>\n",
       "    <tr>\n",
       "      <th>95</th>\n",
       "      <td>15</td>\n",
       "      <td>Friday</td>\n",
       "    </tr>\n",
       "    <tr>\n",
       "      <th>96</th>\n",
       "      <td>15</td>\n",
       "      <td>Friday</td>\n",
       "    </tr>\n",
       "    <tr>\n",
       "      <th>97</th>\n",
       "      <td>15</td>\n",
       "      <td>Friday</td>\n",
       "    </tr>\n",
       "    <tr>\n",
       "      <th>98</th>\n",
       "      <td>15</td>\n",
       "      <td>Friday</td>\n",
       "    </tr>\n",
       "    <tr>\n",
       "      <th>99</th>\n",
       "      <td>15</td>\n",
       "      <td>Friday</td>\n",
       "    </tr>\n",
       "  </tbody>\n",
       "</table>\n",
       "<p>100 rows × 2 columns</p>\n",
       "</div>"
      ],
      "text/plain": [
       "    상품가입일자  상품가입요일\n",
       "0        1  Friday\n",
       "1        1  Friday\n",
       "2        1  Friday\n",
       "3        1  Friday\n",
       "4        1  Friday\n",
       "..     ...     ...\n",
       "95      15  Friday\n",
       "96      15  Friday\n",
       "97      15  Friday\n",
       "98      15  Friday\n",
       "99      15  Friday\n",
       "\n",
       "[100 rows x 2 columns]"
      ]
     },
     "execution_count": 182,
     "metadata": {},
     "output_type": "execute_result"
    }
   ],
   "source": [
    "day_merc3 = day_merc2.drop(['상품가입일','상품종류'], axis='columns')\n",
    "day_merc3"
   ]
  },
  {
   "cell_type": "code",
   "execution_count": 183,
   "id": "b4506999",
   "metadata": {},
   "outputs": [
    {
     "data": {
      "text/plain": [
       "상품가입일자  상품가입요일   \n",
       "1       Friday       18\n",
       "2       Saturday      6\n",
       "3       Sunday        2\n",
       "4       Monday        9\n",
       "5       Tuesday       2\n",
       "6       Wednesday     4\n",
       "7       Thursday     11\n",
       "8       Friday       11\n",
       "9       Saturday      2\n",
       "10      Sunday        2\n",
       "11      Monday       13\n",
       "12      Tuesday       1\n",
       "13      Wednesday     1\n",
       "14      Thursday      1\n",
       "15      Friday       17\n",
       "dtype: int64"
      ]
     },
     "execution_count": 183,
     "metadata": {},
     "output_type": "execute_result"
    }
   ],
   "source": [
    "weekday_num = day_merc3.groupby(['상품가입일자','상품가입요일']).value_counts()\n",
    "weekday_num"
   ]
  },
  {
   "cell_type": "code",
   "execution_count": 187,
   "id": "b095b6c7",
   "metadata": {
    "scrolled": false
   },
   "outputs": [
    {
     "data": {
      "text/plain": [
       "상품가입요일\n",
       "Friday       15.0\n",
       "Monday       11.0\n",
       "Saturday      4.0\n",
       "Sunday        2.0\n",
       "Thursday      6.0\n",
       "Tuesday       2.0\n",
       "Wednesday     2.0\n",
       "dtype: float64"
      ]
     },
     "execution_count": 187,
     "metadata": {},
     "output_type": "execute_result"
    }
   ],
   "source": [
    "weekday_num2 = round(weekday_num.groupby(['상품가입요일']).mean(),0)\n",
    "weekday_num2"
   ]
  },
  {
   "cell_type": "code",
   "execution_count": 197,
   "id": "ad2d9a8c",
   "metadata": {},
   "outputs": [
    {
     "data": {
      "text/plain": [
       "상품가입요일\n",
       "Friday       15.0\n",
       "Monday       11.0\n",
       "Thursday      6.0\n",
       "Saturday      4.0\n",
       "Sunday        2.0\n",
       "Tuesday       2.0\n",
       "Wednesday     2.0\n",
       "dtype: float64"
      ]
     },
     "execution_count": 197,
     "metadata": {},
     "output_type": "execute_result"
    }
   ],
   "source": [
    "weekday_num3 = weekday_num2.sort_values(ascending=False)\n",
    "weekday_num3"
   ]
  },
  {
   "cell_type": "code",
   "execution_count": 198,
   "id": "83f6d0f6",
   "metadata": {},
   "outputs": [
    {
     "data": {
      "image/png": "[encoded data removed]",
      "text/plain": [
       "<Figure size 1080x1080 with 1 Axes>"
      ]
     },
     "metadata": {
      "needs_background": "light"
     },
     "output_type": "display_data"
    }
   ],
   "source": [
    "#요일 막대차트 그리기\n",
    "\n",
    "A = weekday_num3.values#예금\n",
    "\n",
    "X = weekday_num3.index\n",
    "\n",
    "plt.figure(figsize=(15,15))\n",
    "plt.bar(X, A, color='b', label='평균가입건수')\n",
    "\n",
    "plt.xlabel('가입요일', fontsize=20)\n",
    "plt.ylabel('평균가입건수', fontsize=20)\n",
    "plt.legend(fontsize=20)\n",
    "plt.xticks(fontsize=20)\n",
    "plt.yticks(fontsize=20)\n",
    "plt.title(\"\\n요일별 평균가입건수\\n\", fontsize=30)\n",
    "\n",
    "plt.show()"
   ]
  }
 ],
 "metadata": {
  "kernelspec": {
   "display_name": "Python 3 (ipykernel)",
   "language": "python",
   "name": "python3"
  },
  "language_info": {
   "codemirror_mode": {
    "name": "ipython",
    "version": 3
   },
   "file_extension": ".py",
   "mimetype": "text/x-python",
   "name": "python",
   "nbconvert_exporter": "python",
   "pygments_lexer": "ipython3",
   "version": "3.9.12"
  }
 },
 "nbformat": 4,
 "nbformat_minor": 5
}
