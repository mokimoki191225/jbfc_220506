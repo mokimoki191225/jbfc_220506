{
 "cells": [
  {
   "cell_type": "code",
   "execution_count": 1,
   "id": "e2dba2fa",
   "metadata": {},
   "outputs": [],
   "source": [
    "double2 = lambda x : x*2"
   ]
  },
  {
   "cell_type": "code",
   "execution_count": 2,
   "id": "3f5c9c4e",
   "metadata": {},
   "outputs": [
    {
     "data": {
      "text/plain": [
       "600"
      ]
     },
     "execution_count": 2,
     "metadata": {},
     "output_type": "execute_result"
    }
   ],
   "source": [
    "double2(300)"
   ]
  },
  {
   "cell_type": "code",
   "execution_count": 3,
   "id": "cd671451",
   "metadata": {},
   "outputs": [
    {
     "data": {
      "text/plain": [
       "<function __main__.<lambda>(x)>"
      ]
     },
     "execution_count": 3,
     "metadata": {},
     "output_type": "execute_result"
    }
   ],
   "source": [
    "double2"
   ]
  },
  {
   "cell_type": "code",
   "execution_count": 4,
   "id": "83488c4f",
   "metadata": {},
   "outputs": [],
   "source": [
    "a = lambda x,y,z : 2*x + 3*y +z"
   ]
  },
  {
   "cell_type": "code",
   "execution_count": 5,
   "id": "a4388ed6",
   "metadata": {},
   "outputs": [
    {
     "data": {
      "text/plain": [
       "17"
      ]
     },
     "execution_count": 5,
     "metadata": {},
     "output_type": "execute_result"
    }
   ],
   "source": [
    "a(2,3,4)"
   ]
  },
  {
   "cell_type": "code",
   "execution_count": 6,
   "id": "3006fa4c",
   "metadata": {},
   "outputs": [
    {
     "data": {
      "text/plain": [
       "(23, 47)"
      ]
     },
     "execution_count": 6,
     "metadata": {},
     "output_type": "execute_result"
    }
   ],
   "source": [
    "a(3,4,5), a(7,8,9)"
   ]
  },
  {
   "cell_type": "markdown",
   "id": "5a1a3bb7",
   "metadata": {},
   "source": [
    "*Map : 입력값과 출력값 개수가 똑같다"
   ]
  },
  {
   "cell_type": "markdown",
   "id": "29112456",
   "metadata": {},
   "source": [
    "*필터 : 입럭값과 출력값 개수가 다르다"
   ]
  },
  {
   "cell_type": "markdown",
   "id": "4725acc9",
   "metadata": {},
   "source": [
    "* Input: 1부터 10까지의 자연수 ⇒ Output : [ 1, 4, 9, ..., 100 ], 리스트를 받아서, 제곱수의 리스트"
   ]
  },
  {
   "cell_type": "code",
   "execution_count": 7,
   "id": "b073236b",
   "metadata": {},
   "outputs": [],
   "source": [
    "def get_sq(number):\n",
    "    return number**2\n",
    "\n",
    "def get_sq_list(number):\n",
    "    element = []\n",
    "    for number in numbers:\n",
    "        element.append(get_sq(number))\n",
    "    return element"
   ]
  },
  {
   "cell_type": "code",
   "execution_count": 8,
   "id": "211fe4fd",
   "metadata": {},
   "outputs": [
    {
     "data": {
      "text/plain": [
       "[1, 4, 9, 16, 25, 36, 49, 64, 81, 100]"
      ]
     },
     "execution_count": 8,
     "metadata": {},
     "output_type": "execute_result"
    }
   ],
   "source": [
    "numbers = list(range(1,11))\n",
    "get_sq_list(numbers)"
   ]
  },
  {
   "cell_type": "code",
   "execution_count": 18,
   "id": "b724aae0",
   "metadata": {},
   "outputs": [],
   "source": [
    "def get_sq_list(numbers):\n",
    "    return list(map(lambda x : x**3, numbers))\n",
    "\n",
    "get_sq_list()"
   ]
  },
  {
   "cell_type": "markdown",
   "id": "8dbe5300",
   "metadata": {},
   "source": [
    "*미션2 : 리스트를 받아서, 양수인 element 만 새로운 리스트"
   ]
  },
  {
   "cell_type": "markdown",
   "id": "a772e025",
   "metadata": {},
   "source": [
    "Input: [1, -2, 3, -4, 5] ⇒ Output : [1, 3, 5]"
   ]
  },
  {
   "cell_type": "code",
   "execution_count": 10,
   "id": "961e09a4",
   "metadata": {},
   "outputs": [],
   "source": [
    "def get_p_list(numbers):\n",
    "    element = []\n",
    "    for number in numbers:\n",
    "        if number>0:\n",
    "            element.append(number)\n",
    "    return element"
   ]
  },
  {
   "cell_type": "code",
   "execution_count": 11,
   "id": "fd1dc30d",
   "metadata": {},
   "outputs": [
    {
     "data": {
      "text/plain": [
       "[1, 3, 5]"
      ]
     },
     "execution_count": 11,
     "metadata": {},
     "output_type": "execute_result"
    }
   ],
   "source": [
    "numbers = [1, -2, 3, -4, 5]\n",
    "get_p_list(numbers)"
   ]
  },
  {
   "cell_type": "code",
   "execution_count": 12,
   "id": "1e940bfb",
   "metadata": {},
   "outputs": [],
   "source": [
    "from functools import *"
   ]
  },
  {
   "cell_type": "code",
   "execution_count": 14,
   "id": "e67bf3da",
   "metadata": {},
   "outputs": [
    {
     "data": {
      "text/plain": [
       "[1, 4, 9, 16, 25]"
      ]
     },
     "execution_count": 14,
     "metadata": {},
     "output_type": "execute_result"
    }
   ],
   "source": [
    "list(map(  \n",
    "    get_sq,         \n",
    "    [1, 2, 3, 4, 5],\n",
    "))"
   ]
  },
  {
   "cell_type": "code",
   "execution_count": 15,
   "id": "e866e337",
   "metadata": {},
   "outputs": [
    {
     "data": {
      "text/plain": [
       "[1, 4, 9, 16, 25]"
      ]
     },
     "execution_count": 15,
     "metadata": {},
     "output_type": "execute_result"
    }
   ],
   "source": [
    "list(map(\n",
    "    lambda x: x ** 2,\n",
    "    [1, 2, 3, 4, 5]\n",
    "))"
   ]
  },
  {
   "cell_type": "code",
   "execution_count": 17,
   "id": "69451392",
   "metadata": {},
   "outputs": [
    {
     "data": {
      "text/plain": [
       "[4, 9, 16, 25, 36]"
      ]
     },
     "execution_count": 17,
     "metadata": {},
     "output_type": "execute_result"
    }
   ],
   "source": [
    "def get_sq1_list(numbers):\n",
    "    return list(map(lambda x : x**2,numbers))\n",
    "\n",
    "get_sq1_list([2,3,4,5,6])"
   ]
  },
  {
   "cell_type": "code",
   "execution_count": 1,
   "id": "37201402",
   "metadata": {},
   "outputs": [],
   "source": [
    "get_sp1_list = lambda numbers : list(map(lambda x : x**3, numbers))"
   ]
  },
  {
   "cell_type": "code",
   "execution_count": 2,
   "id": "38c1ea86",
   "metadata": {},
   "outputs": [
    {
     "data": {
      "text/plain": [
       "[8, 27, 64, 125, 216]"
      ]
     },
     "execution_count": 2,
     "metadata": {},
     "output_type": "execute_result"
    }
   ],
   "source": [
    "get_sp1_list([2,3,4,5,6])"
   ]
  },
  {
   "cell_type": "code",
   "execution_count": null,
   "id": "abbffe59",
   "metadata": {},
   "outputs": [],
   "source": []
  }
 ],
 "metadata": {
  "kernelspec": {
   "display_name": "Python 3 (ipykernel)",
   "language": "python",
   "name": "python3"
  },
  "language_info": {
   "codemirror_mode": {
    "name": "ipython",
    "version": 3
   },
   "file_extension": ".py",
   "mimetype": "text/x-python",
   "name": "python",
   "nbconvert_exporter": "python",
   "pygments_lexer": "ipython3",
   "version": "3.9.12"
  }
 },
 "nbformat": 4,
 "nbformat_minor": 5
}
