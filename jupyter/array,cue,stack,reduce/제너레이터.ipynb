{
 "cells": [
  {
   "cell_type": "code",
   "execution_count": 1,
   "id": "4c944f5b",
   "metadata": {},
   "outputs": [],
   "source": [
    "def square_numbers1(nums):\n",
    "    print('call square_numbers1')\n",
    "    result = []\n",
    "    \n",
    "    for i in nums:\n",
    "        result.append(i**2)\n",
    "    \n",
    "    return result"
   ]
  },
  {
   "cell_type": "code",
   "execution_count": 2,
   "id": "3ed72e9c",
   "metadata": {},
   "outputs": [
    {
     "name": "stdout",
     "output_type": "stream",
     "text": [
      "call square_numbers1\n"
     ]
    },
    {
     "data": {
      "text/plain": [
       "[1, 4, 9, 16, 25]"
      ]
     },
     "execution_count": 2,
     "metadata": {},
     "output_type": "execute_result"
    }
   ],
   "source": [
    "nums = [1, 2, 3, 4, 5]\n",
    "my_nums1 = square_numbers1(nums)\n",
    "my_nums1"
   ]
  },
  {
   "cell_type": "code",
   "execution_count": 3,
   "id": "d50b6fff",
   "metadata": {},
   "outputs": [
    {
     "data": {
      "text/plain": [
       "list"
      ]
     },
     "execution_count": 3,
     "metadata": {},
     "output_type": "execute_result"
    }
   ],
   "source": [
    "type(my_nums1)"
   ]
  },
  {
   "cell_type": "code",
   "execution_count": 4,
   "id": "e1acbe5c",
   "metadata": {},
   "outputs": [
    {
     "data": {
      "text/plain": [
       "55"
      ]
     },
     "execution_count": 4,
     "metadata": {},
     "output_type": "execute_result"
    }
   ],
   "source": [
    "sum(my_nums1)"
   ]
  },
  {
   "cell_type": "code",
   "execution_count": 5,
   "id": "b4ef378a",
   "metadata": {},
   "outputs": [],
   "source": [
    "def square_numbers2(nums):\n",
    "    print('call square_numbers2')\n",
    "    for i in nums:\n",
    "        yield i**2\n",
    "        "
   ]
  },
  {
   "cell_type": "code",
   "execution_count": 6,
   "id": "ee02c4b9",
   "metadata": {},
   "outputs": [],
   "source": [
    "nums = [1, 2, 3, 4, 5]\n",
    "my_nums2 = square_numbers2(nums)"
   ]
  },
  {
   "cell_type": "code",
   "execution_count": 7,
   "id": "5f723b16",
   "metadata": {},
   "outputs": [
    {
     "data": {
      "text/plain": [
       "generator"
      ]
     },
     "execution_count": 7,
     "metadata": {},
     "output_type": "execute_result"
    }
   ],
   "source": [
    "type(my_nums2)"
   ]
  },
  {
   "cell_type": "code",
   "execution_count": 8,
   "id": "bcb58c74",
   "metadata": {},
   "outputs": [
    {
     "name": "stdout",
     "output_type": "stream",
     "text": [
      "<generator object square_numbers2 at 0x0000024F510624A0>\n"
     ]
    }
   ],
   "source": [
    "print(my_nums2)"
   ]
  },
  {
   "cell_type": "code",
   "execution_count": 9,
   "id": "433c6fe5",
   "metadata": {},
   "outputs": [
    {
     "ename": "NameError",
     "evalue": "name 'my_num2' is not defined",
     "output_type": "error",
     "traceback": [
      "\u001b[1;31m---------------------------------------------------------------------------\u001b[0m",
      "\u001b[1;31mNameError\u001b[0m                                 Traceback (most recent call last)",
      "Input \u001b[1;32mIn [9]\u001b[0m, in \u001b[0;36m<cell line: 2>\u001b[1;34m()\u001b[0m\n\u001b[0;32m      1\u001b[0m \u001b[38;5;66;03m# NameError: name 'my_num2' is not defined\u001b[39;00m\n\u001b[1;32m----> 2\u001b[0m \u001b[38;5;28msum\u001b[39m(\u001b[43mmy_num2\u001b[49m)\n",
      "\u001b[1;31mNameError\u001b[0m: name 'my_num2' is not defined"
     ]
    }
   ],
   "source": [
    "# NameError: name 'my_num2' is not defined\n",
    "sum(my_num2)"
   ]
  },
  {
   "cell_type": "code",
   "execution_count": 10,
   "id": "f9eaeebb",
   "metadata": {},
   "outputs": [
    {
     "name": "stdout",
     "output_type": "stream",
     "text": [
      "call square_numbers2\n",
      "1\n",
      "4\n",
      "9\n",
      "16\n",
      "25\n"
     ]
    }
   ],
   "source": [
    "# 제너레이터 출력\n",
    "print(next(my_nums2))\n",
    "print(next(my_nums2))\n",
    "print(next(my_nums2))\n",
    "print(next(my_nums2))\n",
    "print(next(my_nums2))"
   ]
  },
  {
   "cell_type": "code",
   "execution_count": 11,
   "id": "b730fe68",
   "metadata": {},
   "outputs": [
    {
     "ename": "StopIteration",
     "evalue": "",
     "output_type": "error",
     "traceback": [
      "\u001b[1;31m---------------------------------------------------------------------------\u001b[0m",
      "\u001b[1;31mStopIteration\u001b[0m                             Traceback (most recent call last)",
      "Input \u001b[1;32mIn [11]\u001b[0m, in \u001b[0;36m<cell line: 1>\u001b[1;34m()\u001b[0m\n\u001b[1;32m----> 1\u001b[0m \u001b[38;5;28mprint\u001b[39m(\u001b[38;5;28;43mnext\u001b[39;49m\u001b[43m(\u001b[49m\u001b[43mmy_nums2\u001b[49m\u001b[43m)\u001b[49m)\n",
      "\u001b[1;31mStopIteration\u001b[0m: "
     ]
    }
   ],
   "source": [
    "print(next(my_nums2))"
   ]
  },
  {
   "cell_type": "markdown",
   "id": "bcbaa5b4",
   "metadata": {},
   "source": [
    "*제네레이터 생성해보기"
   ]
  },
  {
   "cell_type": "code",
   "execution_count": 12,
   "id": "27c742c6",
   "metadata": {},
   "outputs": [],
   "source": [
    "def square_numbers3(num):\n",
    "    print('call square_number3')\n",
    "    for i in nums:\n",
    "        yield i**2"
   ]
  },
  {
   "cell_type": "code",
   "execution_count": 13,
   "id": "bb2af1b8",
   "metadata": {},
   "outputs": [],
   "source": [
    "nums = [1,2,3]\n",
    "my_nums3 = square_numbers3(nums)"
   ]
  },
  {
   "cell_type": "code",
   "execution_count": 14,
   "id": "d5be1676",
   "metadata": {},
   "outputs": [
    {
     "data": {
      "text/plain": [
       "generator"
      ]
     },
     "execution_count": 14,
     "metadata": {},
     "output_type": "execute_result"
    }
   ],
   "source": [
    "type(my_nums3)"
   ]
  },
  {
   "cell_type": "code",
   "execution_count": 15,
   "id": "b51008d6",
   "metadata": {},
   "outputs": [
    {
     "name": "stdout",
     "output_type": "stream",
     "text": [
      "call square_number3\n",
      "1\n"
     ]
    }
   ],
   "source": [
    "print(next(my_nums3))"
   ]
  },
  {
   "cell_type": "code",
   "execution_count": 16,
   "id": "e9cf11f2",
   "metadata": {},
   "outputs": [
    {
     "name": "stdout",
     "output_type": "stream",
     "text": [
      "4\n",
      "9\n"
     ]
    },
    {
     "ename": "StopIteration",
     "evalue": "",
     "output_type": "error",
     "traceback": [
      "\u001b[1;31m---------------------------------------------------------------------------\u001b[0m",
      "\u001b[1;31mStopIteration\u001b[0m                             Traceback (most recent call last)",
      "Input \u001b[1;32mIn [16]\u001b[0m, in \u001b[0;36m<cell line: 3>\u001b[1;34m()\u001b[0m\n\u001b[0;32m      1\u001b[0m \u001b[38;5;28mprint\u001b[39m(\u001b[38;5;28mnext\u001b[39m(my_nums3))\n\u001b[0;32m      2\u001b[0m \u001b[38;5;28mprint\u001b[39m(\u001b[38;5;28mnext\u001b[39m(my_nums3))\n\u001b[1;32m----> 3\u001b[0m \u001b[38;5;28mprint\u001b[39m(\u001b[38;5;28;43mnext\u001b[39;49m\u001b[43m(\u001b[49m\u001b[43mmy_nums3\u001b[49m\u001b[43m)\u001b[49m)\n\u001b[0;32m      4\u001b[0m \u001b[38;5;28mprint\u001b[39m(\u001b[38;5;28mnext\u001b[39m(my_nums3))\n\u001b[0;32m      5\u001b[0m \u001b[38;5;28mprint\u001b[39m(\u001b[38;5;28mnext\u001b[39m(my_nums3))\n",
      "\u001b[1;31mStopIteration\u001b[0m: "
     ]
    }
   ],
   "source": [
    "print(next(my_nums3))\n",
    "print(next(my_nums3))\n",
    "print(next(my_nums3))\n",
    "print(next(my_nums3))\n",
    "print(next(my_nums3))\n",
    "print(next(my_nums3))"
   ]
  },
  {
   "cell_type": "code",
   "execution_count": 17,
   "id": "0d84ce77",
   "metadata": {},
   "outputs": [],
   "source": [
    "nums = [1, 2, 3, 4, 5]"
   ]
  },
  {
   "cell_type": "code",
   "execution_count": 18,
   "id": "9ff11bf8",
   "metadata": {},
   "outputs": [],
   "source": [
    "my_nums3 = [ i for i in nums ]"
   ]
  },
  {
   "cell_type": "code",
   "execution_count": 19,
   "id": "b555f585",
   "metadata": {},
   "outputs": [
    {
     "data": {
      "text/plain": [
       "list"
      ]
     },
     "execution_count": 19,
     "metadata": {},
     "output_type": "execute_result"
    }
   ],
   "source": [
    "type(my_nums3)"
   ]
  },
  {
   "cell_type": "code",
   "execution_count": 20,
   "id": "f2147345",
   "metadata": {},
   "outputs": [
    {
     "name": "stdout",
     "output_type": "stream",
     "text": [
      "1\n",
      "2\n",
      "3\n",
      "4\n",
      "5\n"
     ]
    }
   ],
   "source": [
    "for i in my_nums3:\n",
    "    print(i)"
   ]
  },
  {
   "cell_type": "markdown",
   "id": "7e62707e",
   "metadata": {},
   "source": [
    "* 소괄호는 제네레이터이다"
   ]
  },
  {
   "cell_type": "code",
   "execution_count": 21,
   "id": "00788118",
   "metadata": {},
   "outputs": [],
   "source": [
    "my_nums4 = ( i for i in nums )"
   ]
  },
  {
   "cell_type": "code",
   "execution_count": 25,
   "id": "52c61b06",
   "metadata": {},
   "outputs": [],
   "source": [
    "# list(my_nums4) 이걸하면 마지막것으로 리스트로 바뀐다."
   ]
  },
  {
   "cell_type": "code",
   "execution_count": 22,
   "id": "66dd41d7",
   "metadata": {},
   "outputs": [
    {
     "data": {
      "text/plain": [
       "generator"
      ]
     },
     "execution_count": 22,
     "metadata": {},
     "output_type": "execute_result"
    }
   ],
   "source": [
    "type(my_nums4)"
   ]
  },
  {
   "cell_type": "code",
   "execution_count": 23,
   "id": "9e34c545",
   "metadata": {},
   "outputs": [
    {
     "data": {
      "text/plain": [
       "<generator object <genexpr> at 0x0000024F532D8660>"
      ]
     },
     "execution_count": 23,
     "metadata": {},
     "output_type": "execute_result"
    }
   ],
   "source": [
    "my_nums4"
   ]
  },
  {
   "cell_type": "code",
   "execution_count": 24,
   "id": "2994cbb7",
   "metadata": {},
   "outputs": [
    {
     "name": "stdout",
     "output_type": "stream",
     "text": [
      "1\n",
      "2\n",
      "3\n",
      "4\n",
      "5\n"
     ]
    }
   ],
   "source": [
    "# 제너레이터 출력\n",
    "print(next(my_nums4))\n",
    "print(next(my_nums4))\n",
    "print(next(my_nums4))\n",
    "print(next(my_nums4))\n",
    "print(next(my_nums4))"
   ]
  },
  {
   "cell_type": "code",
   "execution_count": 26,
   "id": "4adfda0e",
   "metadata": {},
   "outputs": [
    {
     "ename": "StopIteration",
     "evalue": "",
     "output_type": "error",
     "traceback": [
      "\u001b[1;31m---------------------------------------------------------------------------\u001b[0m",
      "\u001b[1;31mStopIteration\u001b[0m                             Traceback (most recent call last)",
      "Input \u001b[1;32mIn [26]\u001b[0m, in \u001b[0;36m<cell line: 1>\u001b[1;34m()\u001b[0m\n\u001b[1;32m----> 1\u001b[0m \u001b[38;5;28mprint\u001b[39m(\u001b[38;5;28;43mnext\u001b[39;49m\u001b[43m(\u001b[49m\u001b[43mmy_nums4\u001b[49m\u001b[43m)\u001b[49m)\n",
      "\u001b[1;31mStopIteration\u001b[0m: "
     ]
    }
   ],
   "source": [
    "print(next(my_nums4))"
   ]
  },
  {
   "cell_type": "code",
   "execution_count": 27,
   "id": "d17bfff5",
   "metadata": {},
   "outputs": [],
   "source": [
    "class Generator(object):\n",
    "    \n",
    "    def __init__(self, start, last):\n",
    "        self.start = start\n",
    "        self.last  = last\n",
    "        \n",
    "    def sqaure(self):\n",
    "        print('sqaure')\n",
    "        for i in self:\n",
    "            yield i**2          "
   ]
  },
  {
   "cell_type": "code",
   "execution_count": 32,
   "id": "87e96b0c",
   "metadata": {},
   "outputs": [],
   "source": [
    "generator = Generator(1, 10)"
   ]
  },
  {
   "cell_type": "code",
   "execution_count": 33,
   "id": "309e9d25",
   "metadata": {},
   "outputs": [
    {
     "data": {
      "text/plain": [
       "__main__.Generator"
      ]
     },
     "execution_count": 33,
     "metadata": {},
     "output_type": "execute_result"
    }
   ],
   "source": [
    "type(generator)"
   ]
  },
  {
   "cell_type": "code",
   "execution_count": 35,
   "id": "86264416",
   "metadata": {},
   "outputs": [
    {
     "ename": "AttributeError",
     "evalue": "type object 'Generator' has no attribute 'generator'",
     "output_type": "error",
     "traceback": [
      "\u001b[1;31m---------------------------------------------------------------------------\u001b[0m",
      "\u001b[1;31mAttributeError\u001b[0m                            Traceback (most recent call last)",
      "Input \u001b[1;32mIn [35]\u001b[0m, in \u001b[0;36m<cell line: 1>\u001b[1;34m()\u001b[0m\n\u001b[1;32m----> 1\u001b[0m \u001b[38;5;28mprint\u001b[39m(\u001b[43mGenerator\u001b[49m\u001b[38;5;241;43m.\u001b[39;49m\u001b[43mgenerator\u001b[49m())\n",
      "\u001b[1;31mAttributeError\u001b[0m: type object 'Generator' has no attribute 'generator'"
     ]
    }
   ],
   "source": [
    "print(Generator.generator())"
   ]
  },
  {
   "cell_type": "code",
   "execution_count": null,
   "id": "d0bc34b7",
   "metadata": {},
   "outputs": [],
   "source": []
  }
 ],
 "metadata": {
  "kernelspec": {
   "display_name": "Python 3 (ipykernel)",
   "language": "python",
   "name": "python3"
  },
  "language_info": {
   "codemirror_mode": {
    "name": "ipython",
    "version": 3
   },
   "file_extension": ".py",
   "mimetype": "text/x-python",
   "name": "python",
   "nbconvert_exporter": "python",
   "pygments_lexer": "ipython3",
   "version": "3.9.12"
  }
 },
 "nbformat": 4,
 "nbformat_minor": 5
}
