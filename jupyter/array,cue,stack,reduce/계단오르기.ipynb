{
 "cells": [
  {
   "cell_type": "code",
   "execution_count": 7,
   "id": "917b03d2",
   "metadata": {},
   "outputs": [],
   "source": [
    "from numpy.random import randn\n",
    "import numpy as np"
   ]
  },
  {
   "cell_type": "code",
   "execution_count": 29,
   "id": "9a8dfe07",
   "metadata": {},
   "outputs": [],
   "source": [
    "np.random.seed(0)"
   ]
  },
  {
   "cell_type": "code",
   "execution_count": 30,
   "id": "4e3861fe",
   "metadata": {},
   "outputs": [],
   "source": [
    "nsteps = 1000\n",
    "draws = np.random.randint(0, 2, size = nsteps)\n",
    "steps = np.where(draws > 0, 1, -1)\n",
    "walk = steps.cumsum()"
   ]
  },
  {
   "cell_type": "code",
   "execution_count": 31,
   "id": "bef7b185",
   "metadata": {},
   "outputs": [
    {
     "data": {
      "text/plain": [
       "-5"
      ]
     },
     "execution_count": 31,
     "metadata": {},
     "output_type": "execute_result"
    }
   ],
   "source": [
    "walk.min()"
   ]
  },
  {
   "cell_type": "code",
   "execution_count": 32,
   "id": "5f398445",
   "metadata": {},
   "outputs": [
    {
     "data": {
      "text/plain": [
       "36"
      ]
     },
     "execution_count": 32,
     "metadata": {},
     "output_type": "execute_result"
    }
   ],
   "source": [
    "walk.max()"
   ]
  },
  {
   "cell_type": "code",
   "execution_count": 33,
   "id": "aaad1d08",
   "metadata": {},
   "outputs": [
    {
     "data": {
      "text/plain": [
       "array([0, 1, 1, 0, 1, 1, 1, 1, 1, 1, 1, 0, 0, 1, 0, 0, 0, 0, 0, 1, 0, 1,\n",
       "       1, 0, 0, 1, 1, 1, 1, 0, 1, 0, 1, 0, 1, 1, 0, 1, 1, 0, 0, 1, 0, 1,\n",
       "       1, 1, 1, 1, 0, 1, 0, 1, 1, 1, 1, 0, 1, 0, 0, 1, 1, 0, 1, 0, 1, 0,\n",
       "       0, 0, 0, 0, 1, 1, 0, 0, 0, 1, 1, 0, 1, 0, 0, 1, 0, 1, 1, 1, 1, 1,\n",
       "       1, 0, 1, 1, 0, 0, 1, 0, 0, 1, 1, 0, 1, 0, 0, 1, 0, 0, 0, 1, 1, 0,\n",
       "       1, 0, 0, 0, 0, 0, 1, 0, 1, 0, 1, 1, 1, 1, 1, 0, 1, 1, 1, 1, 0, 1,\n",
       "       1, 0, 0, 1, 0, 0, 0, 0, 1, 1, 0, 0, 1, 0, 1, 1, 1, 1, 0, 0, 0, 1,\n",
       "       0, 1, 1, 1, 0, 1, 0, 0, 1, 0, 1, 1, 0, 0, 1, 0, 1, 0, 1, 0, 1, 0,\n",
       "       1, 0, 0, 0, 1, 0, 1, 0, 1, 0, 0, 0, 0, 0, 1, 0, 0, 1, 0, 0, 0, 1,\n",
       "       0, 0, 1, 0, 1, 0, 0, 1, 1, 0, 0, 0, 1, 1, 0, 0, 0, 0, 0, 1, 0, 1,\n",
       "       0, 0, 0, 1, 1, 1, 0, 0, 1, 1, 1, 1, 0, 0, 0, 1, 1, 0, 1, 0, 0, 1,\n",
       "       0, 1, 1, 1, 1, 0, 0, 0, 1, 1, 1, 0, 1, 1, 1, 1, 0, 0, 1, 1, 0, 0,\n",
       "       0, 1, 1, 0, 1, 1, 1, 1, 1, 0, 0, 0, 1, 0, 1, 0, 1, 1, 0, 0, 0, 1,\n",
       "       0, 0, 1, 1, 1, 1, 0, 1, 0, 0, 0, 0, 1, 1, 1, 0, 1, 0, 0, 1, 1, 1,\n",
       "       1, 1, 1, 0, 0, 1, 1, 1, 1, 1, 1, 1, 1, 1, 1, 0, 0, 0, 0, 1, 1, 1,\n",
       "       0, 1, 1, 1, 1, 1, 1, 1, 0, 0, 0, 0, 1, 1, 0, 1, 0, 0, 1, 0, 1, 0,\n",
       "       1, 0, 0, 0, 0, 1, 1, 1, 0, 1, 0, 1, 0, 0, 0, 0, 1, 1, 1, 0, 1, 0,\n",
       "       0, 1, 1, 1, 0, 1, 1, 0, 1, 0, 1, 1, 0, 0, 1, 1, 0, 1, 1, 1, 1, 1,\n",
       "       1, 0, 0, 1, 0, 1, 0, 0, 1, 1, 1, 1, 1, 0, 1, 1, 1, 0, 0, 1, 1, 0,\n",
       "       1, 1, 1, 0, 0, 0, 1, 0, 0, 0, 0, 0, 0, 1, 1, 1, 0, 0, 1, 1, 1, 0,\n",
       "       1, 0, 1, 0, 1, 1, 1, 0, 1, 0, 0, 1, 0, 1, 0, 0, 1, 0, 0, 0, 0, 0,\n",
       "       0, 0, 0, 0, 1, 0, 1, 1, 0, 1, 1, 1, 0, 0, 1, 1, 1, 1, 0, 1, 0, 1,\n",
       "       0, 0, 0, 0, 1, 1, 1, 1, 1, 0, 1, 0, 1, 0, 1, 0, 1, 1, 0, 0, 0, 1,\n",
       "       1, 1, 0, 0, 1, 0, 0, 1, 0, 0, 0, 1, 0, 1, 0, 1, 0, 1, 1, 0, 0, 1,\n",
       "       0, 1, 0, 1, 0, 0, 0, 0, 1, 1, 0, 1, 0, 1, 1, 0, 1, 0, 0, 0, 0, 0,\n",
       "       1, 1, 0, 0, 0, 0, 1, 1, 0, 0, 1, 0, 1, 1, 1, 1, 1, 1, 1, 1, 1, 1,\n",
       "       1, 0, 0, 1, 1, 1, 1, 0, 0, 1, 0, 0, 1, 0, 1, 0, 1, 0, 0, 1, 0, 0,\n",
       "       0, 0, 0, 1, 0, 1, 0, 0, 1, 1, 1, 1, 0, 0, 1, 0, 1, 1, 1, 1, 0, 0,\n",
       "       1, 0, 0, 1, 1, 1, 0, 0, 0, 1, 1, 0, 1, 0, 0, 0, 1, 1, 0, 1, 0, 1,\n",
       "       0, 0, 1, 0, 0, 0, 0, 0, 1, 1, 1, 1, 1, 1, 1, 1, 0, 0, 0, 0, 1, 1,\n",
       "       1, 1, 0, 1, 0, 0, 1, 1, 1, 0, 1, 1, 1, 0, 1, 1, 1, 1, 1, 0, 0, 1,\n",
       "       0, 0, 0, 1, 0, 1, 0, 1, 0, 1, 1, 0, 1, 0, 0, 0, 1, 0, 1, 0, 1, 1,\n",
       "       0, 1, 1, 0, 1, 1, 1, 1, 1, 0, 0, 1, 1, 1, 1, 0, 1, 0, 0, 1, 0, 1,\n",
       "       0, 1, 1, 0, 1, 1, 0, 1, 0, 0, 0, 0, 1, 0, 0, 1, 0, 0, 0, 1, 0, 1,\n",
       "       0, 0, 0, 0, 1, 1, 1, 0, 0, 1, 1, 0, 1, 1, 0, 1, 1, 0, 1, 0, 1, 1,\n",
       "       0, 0, 0, 0, 1, 1, 0, 0, 1, 1, 0, 0, 0, 1, 0, 1, 0, 0, 1, 0, 0, 0,\n",
       "       1, 1, 0, 0, 0, 1, 0, 0, 1, 0, 1, 0, 0, 1, 1, 0, 0, 1, 1, 1, 0, 0,\n",
       "       0, 0, 0, 1, 0, 0, 0, 0, 0, 1, 1, 1, 1, 1, 0, 0, 1, 1, 1, 1, 1, 1,\n",
       "       1, 1, 0, 0, 0, 1, 1, 1, 1, 0, 0, 1, 0, 1, 1, 1, 1, 1, 0, 0, 0, 0,\n",
       "       1, 0, 0, 0, 0, 1, 1, 1, 1, 1, 0, 1, 0, 0, 1, 1, 1, 1, 1, 0, 0, 1,\n",
       "       0, 0, 1, 1, 1, 0, 0, 1, 1, 0, 0, 0, 1, 1, 0, 1, 0, 1, 0, 1, 1, 1,\n",
       "       1, 0, 0, 0, 1, 1, 1, 1, 0, 0, 0, 0, 0, 0, 1, 1, 0, 1, 0, 0, 1, 0,\n",
       "       1, 0, 0, 0, 0, 1, 0, 0, 1, 1, 0, 0, 1, 0, 1, 0, 1, 0, 1, 1, 1, 0,\n",
       "       1, 0, 1, 1, 0, 0, 0, 1, 1, 0, 0, 0, 0, 0, 0, 1, 0, 0, 0, 0, 1, 0,\n",
       "       0, 0, 1, 1, 0, 1, 0, 0, 0, 1, 0, 0, 0, 1, 1, 1, 0, 0, 1, 0, 1, 1,\n",
       "       0, 0, 0, 0, 0, 0, 0, 0, 1, 0])"
      ]
     },
     "execution_count": 33,
     "metadata": {},
     "output_type": "execute_result"
    }
   ],
   "source": [
    "draws"
   ]
  },
  {
   "cell_type": "code",
   "execution_count": 34,
   "id": "782d89f2",
   "metadata": {},
   "outputs": [
    {
     "data": {
      "text/plain": [
       "array([-1,  1,  1, -1,  1,  1,  1,  1,  1,  1,  1, -1, -1,  1, -1, -1, -1,\n",
       "       -1, -1,  1, -1,  1,  1, -1, -1,  1,  1,  1,  1, -1,  1, -1,  1, -1,\n",
       "        1,  1, -1,  1,  1, -1, -1,  1, -1,  1,  1,  1,  1,  1, -1,  1, -1,\n",
       "        1,  1,  1,  1, -1,  1, -1, -1,  1,  1, -1,  1, -1,  1, -1, -1, -1,\n",
       "       -1, -1,  1,  1, -1, -1, -1,  1,  1, -1,  1, -1, -1,  1, -1,  1,  1,\n",
       "        1,  1,  1,  1, -1,  1,  1, -1, -1,  1, -1, -1,  1,  1, -1,  1, -1,\n",
       "       -1,  1, -1, -1, -1,  1,  1, -1,  1, -1, -1, -1, -1, -1,  1, -1,  1,\n",
       "       -1,  1,  1,  1,  1,  1, -1,  1,  1,  1,  1, -1,  1,  1, -1, -1,  1,\n",
       "       -1, -1, -1, -1,  1,  1, -1, -1,  1, -1,  1,  1,  1,  1, -1, -1, -1,\n",
       "        1, -1,  1,  1,  1, -1,  1, -1, -1,  1, -1,  1,  1, -1, -1,  1, -1,\n",
       "        1, -1,  1, -1,  1, -1,  1, -1, -1, -1,  1, -1,  1, -1,  1, -1, -1,\n",
       "       -1, -1, -1,  1, -1, -1,  1, -1, -1, -1,  1, -1, -1,  1, -1,  1, -1,\n",
       "       -1,  1,  1, -1, -1, -1,  1,  1, -1, -1, -1, -1, -1,  1, -1,  1, -1,\n",
       "       -1, -1,  1,  1,  1, -1, -1,  1,  1,  1,  1, -1, -1, -1,  1,  1, -1,\n",
       "        1, -1, -1,  1, -1,  1,  1,  1,  1, -1, -1, -1,  1,  1,  1, -1,  1,\n",
       "        1,  1,  1, -1, -1,  1,  1, -1, -1, -1,  1,  1, -1,  1,  1,  1,  1,\n",
       "        1, -1, -1, -1,  1, -1,  1, -1,  1,  1, -1, -1, -1,  1, -1, -1,  1,\n",
       "        1,  1,  1, -1,  1, -1, -1, -1, -1,  1,  1,  1, -1,  1, -1, -1,  1,\n",
       "        1,  1,  1,  1,  1, -1, -1,  1,  1,  1,  1,  1,  1,  1,  1,  1,  1,\n",
       "       -1, -1, -1, -1,  1,  1,  1, -1,  1,  1,  1,  1,  1,  1,  1, -1, -1,\n",
       "       -1, -1,  1,  1, -1,  1, -1, -1,  1, -1,  1, -1,  1, -1, -1, -1, -1,\n",
       "        1,  1,  1, -1,  1, -1,  1, -1, -1, -1, -1,  1,  1,  1, -1,  1, -1,\n",
       "       -1,  1,  1,  1, -1,  1,  1, -1,  1, -1,  1,  1, -1, -1,  1,  1, -1,\n",
       "        1,  1,  1,  1,  1,  1, -1, -1,  1, -1,  1, -1, -1,  1,  1,  1,  1,\n",
       "        1, -1,  1,  1,  1, -1, -1,  1,  1, -1,  1,  1,  1, -1, -1, -1,  1,\n",
       "       -1, -1, -1, -1, -1, -1,  1,  1,  1, -1, -1,  1,  1,  1, -1,  1, -1,\n",
       "        1, -1,  1,  1,  1, -1,  1, -1, -1,  1, -1,  1, -1, -1,  1, -1, -1,\n",
       "       -1, -1, -1, -1, -1, -1, -1,  1, -1,  1,  1, -1,  1,  1,  1, -1, -1,\n",
       "        1,  1,  1,  1, -1,  1, -1,  1, -1, -1, -1, -1,  1,  1,  1,  1,  1,\n",
       "       -1,  1, -1,  1, -1,  1, -1,  1,  1, -1, -1, -1,  1,  1,  1, -1, -1,\n",
       "        1, -1, -1,  1, -1, -1, -1,  1, -1,  1, -1,  1, -1,  1,  1, -1, -1,\n",
       "        1, -1,  1, -1,  1, -1, -1, -1, -1,  1,  1, -1,  1, -1,  1,  1, -1,\n",
       "        1, -1, -1, -1, -1, -1,  1,  1, -1, -1, -1, -1,  1,  1, -1, -1,  1,\n",
       "       -1,  1,  1,  1,  1,  1,  1,  1,  1,  1,  1,  1, -1, -1,  1,  1,  1,\n",
       "        1, -1, -1,  1, -1, -1,  1, -1,  1, -1,  1, -1, -1,  1, -1, -1, -1,\n",
       "       -1, -1,  1, -1,  1, -1, -1,  1,  1,  1,  1, -1, -1,  1, -1,  1,  1,\n",
       "        1,  1, -1, -1,  1, -1, -1,  1,  1,  1, -1, -1, -1,  1,  1, -1,  1,\n",
       "       -1, -1, -1,  1,  1, -1,  1, -1,  1, -1, -1,  1, -1, -1, -1, -1, -1,\n",
       "        1,  1,  1,  1,  1,  1,  1,  1, -1, -1, -1, -1,  1,  1,  1,  1, -1,\n",
       "        1, -1, -1,  1,  1,  1, -1,  1,  1,  1, -1,  1,  1,  1,  1,  1, -1,\n",
       "       -1,  1, -1, -1, -1,  1, -1,  1, -1,  1, -1,  1,  1, -1,  1, -1, -1,\n",
       "       -1,  1, -1,  1, -1,  1,  1, -1,  1,  1, -1,  1,  1,  1,  1,  1, -1,\n",
       "       -1,  1,  1,  1,  1, -1,  1, -1, -1,  1, -1,  1, -1,  1,  1, -1,  1,\n",
       "        1, -1,  1, -1, -1, -1, -1,  1, -1, -1,  1, -1, -1, -1,  1, -1,  1,\n",
       "       -1, -1, -1, -1,  1,  1,  1, -1, -1,  1,  1, -1,  1,  1, -1,  1,  1,\n",
       "       -1,  1, -1,  1,  1, -1, -1, -1, -1,  1,  1, -1, -1,  1,  1, -1, -1,\n",
       "       -1,  1, -1,  1, -1, -1,  1, -1, -1, -1,  1,  1, -1, -1, -1,  1, -1,\n",
       "       -1,  1, -1,  1, -1, -1,  1,  1, -1, -1,  1,  1,  1, -1, -1, -1, -1,\n",
       "       -1,  1, -1, -1, -1, -1, -1,  1,  1,  1,  1,  1, -1, -1,  1,  1,  1,\n",
       "        1,  1,  1,  1,  1, -1, -1, -1,  1,  1,  1,  1, -1, -1,  1, -1,  1,\n",
       "        1,  1,  1,  1, -1, -1, -1, -1,  1, -1, -1, -1, -1,  1,  1,  1,  1,\n",
       "        1, -1,  1, -1, -1,  1,  1,  1,  1,  1, -1, -1,  1, -1, -1,  1,  1,\n",
       "        1, -1, -1,  1,  1, -1, -1, -1,  1,  1, -1,  1, -1,  1, -1,  1,  1,\n",
       "        1,  1, -1, -1, -1,  1,  1,  1,  1, -1, -1, -1, -1, -1, -1,  1,  1,\n",
       "       -1,  1, -1, -1,  1, -1,  1, -1, -1, -1, -1,  1, -1, -1,  1,  1, -1,\n",
       "       -1,  1, -1,  1, -1,  1, -1,  1,  1,  1, -1,  1, -1,  1,  1, -1, -1,\n",
       "       -1,  1,  1, -1, -1, -1, -1, -1, -1,  1, -1, -1, -1, -1,  1, -1, -1,\n",
       "       -1,  1,  1, -1,  1, -1, -1, -1,  1, -1, -1, -1,  1,  1,  1, -1, -1,\n",
       "        1, -1,  1,  1, -1, -1, -1, -1, -1, -1, -1, -1,  1, -1])"
      ]
     },
     "execution_count": 34,
     "metadata": {},
     "output_type": "execute_result"
    }
   ],
   "source": [
    "steps"
   ]
  },
  {
   "cell_type": "code",
   "execution_count": 35,
   "id": "7a16de22",
   "metadata": {},
   "outputs": [
    {
     "data": {
      "text/plain": [
       "array([-1,  0,  1,  0,  1,  2,  3,  4,  5,  6,  7,  6,  5,  6,  5,  4,  3,\n",
       "        2,  1,  2,  1,  2,  3,  2,  1,  2,  3,  4,  5,  4,  5,  4,  5,  4,\n",
       "        5,  6,  5,  6,  7,  6,  5,  6,  5,  6,  7,  8,  9, 10,  9, 10,  9,\n",
       "       10, 11, 12, 13, 12, 13, 12, 11, 12, 13, 12, 13, 12, 13, 12, 11, 10,\n",
       "        9,  8,  9, 10,  9,  8,  7,  8,  9,  8,  9,  8,  7,  8,  7,  8,  9,\n",
       "       10, 11, 12, 13, 12, 13, 14, 13, 12, 13, 12, 11, 12, 13, 12, 13, 12,\n",
       "       11, 12, 11, 10,  9, 10, 11, 10, 11, 10,  9,  8,  7,  6,  7,  6,  7,\n",
       "        6,  7,  8,  9, 10, 11, 10, 11, 12, 13, 14, 13, 14, 15, 14, 13, 14,\n",
       "       13, 12, 11, 10, 11, 12, 11, 10, 11, 10, 11, 12, 13, 14, 13, 12, 11,\n",
       "       12, 11, 12, 13, 14, 13, 14, 13, 12, 13, 12, 13, 14, 13, 12, 13, 12,\n",
       "       13, 12, 13, 12, 13, 12, 13, 12, 11, 10, 11, 10, 11, 10, 11, 10,  9,\n",
       "        8,  7,  6,  7,  6,  5,  6,  5,  4,  3,  4,  3,  2,  3,  2,  3,  2,\n",
       "        1,  2,  3,  2,  1,  0,  1,  2,  1,  0, -1, -2, -3, -2, -3, -2, -3,\n",
       "       -4, -5, -4, -3, -2, -3, -4, -3, -2, -1,  0, -1, -2, -3, -2, -1, -2,\n",
       "       -1, -2, -3, -2, -3, -2, -1,  0,  1,  0, -1, -2, -1,  0,  1,  0,  1,\n",
       "        2,  3,  4,  3,  2,  3,  4,  3,  2,  1,  2,  3,  2,  3,  4,  5,  6,\n",
       "        7,  6,  5,  4,  5,  4,  5,  4,  5,  6,  5,  4,  3,  4,  3,  2,  3,\n",
       "        4,  5,  6,  5,  6,  5,  4,  3,  2,  3,  4,  5,  4,  5,  4,  3,  4,\n",
       "        5,  6,  7,  8,  9,  8,  7,  8,  9, 10, 11, 12, 13, 14, 15, 16, 17,\n",
       "       16, 15, 14, 13, 14, 15, 16, 15, 16, 17, 18, 19, 20, 21, 22, 21, 20,\n",
       "       19, 18, 19, 20, 19, 20, 19, 18, 19, 18, 19, 18, 19, 18, 17, 16, 15,\n",
       "       16, 17, 18, 17, 18, 17, 18, 17, 16, 15, 14, 15, 16, 17, 16, 17, 16,\n",
       "       15, 16, 17, 18, 17, 18, 19, 18, 19, 18, 19, 20, 19, 18, 19, 20, 19,\n",
       "       20, 21, 22, 23, 24, 25, 24, 23, 24, 23, 24, 23, 22, 23, 24, 25, 26,\n",
       "       27, 26, 27, 28, 29, 28, 27, 28, 29, 28, 29, 30, 31, 30, 29, 28, 29,\n",
       "       28, 27, 26, 25, 24, 23, 24, 25, 26, 25, 24, 25, 26, 27, 26, 27, 26,\n",
       "       27, 26, 27, 28, 29, 28, 29, 28, 27, 28, 27, 28, 27, 26, 27, 26, 25,\n",
       "       24, 23, 22, 21, 20, 19, 18, 19, 18, 19, 20, 19, 20, 21, 22, 21, 20,\n",
       "       21, 22, 23, 24, 23, 24, 23, 24, 23, 22, 21, 20, 21, 22, 23, 24, 25,\n",
       "       24, 25, 24, 25, 24, 25, 24, 25, 26, 25, 24, 23, 24, 25, 26, 25, 24,\n",
       "       25, 24, 23, 24, 23, 22, 21, 22, 21, 22, 21, 22, 21, 22, 23, 22, 21,\n",
       "       22, 21, 22, 21, 22, 21, 20, 19, 18, 19, 20, 19, 20, 19, 20, 21, 20,\n",
       "       21, 20, 19, 18, 17, 16, 17, 18, 17, 16, 15, 14, 15, 16, 15, 14, 15,\n",
       "       14, 15, 16, 17, 18, 19, 20, 21, 22, 23, 24, 25, 24, 23, 24, 25, 26,\n",
       "       27, 26, 25, 26, 25, 24, 25, 24, 25, 24, 25, 24, 23, 24, 23, 22, 21,\n",
       "       20, 19, 20, 19, 20, 19, 18, 19, 20, 21, 22, 21, 20, 21, 20, 21, 22,\n",
       "       23, 24, 23, 22, 23, 22, 21, 22, 23, 24, 23, 22, 21, 22, 23, 22, 23,\n",
       "       22, 21, 20, 21, 22, 21, 22, 21, 22, 21, 20, 21, 20, 19, 18, 17, 16,\n",
       "       17, 18, 19, 20, 21, 22, 23, 24, 23, 22, 21, 20, 21, 22, 23, 24, 23,\n",
       "       24, 23, 22, 23, 24, 25, 24, 25, 26, 27, 26, 27, 28, 29, 30, 31, 30,\n",
       "       29, 30, 29, 28, 27, 28, 27, 28, 27, 28, 27, 28, 29, 28, 29, 28, 27,\n",
       "       26, 27, 26, 27, 26, 27, 28, 27, 28, 29, 28, 29, 30, 31, 32, 33, 32,\n",
       "       31, 32, 33, 34, 35, 34, 35, 34, 33, 34, 33, 34, 33, 34, 35, 34, 35,\n",
       "       36, 35, 36, 35, 34, 33, 32, 33, 32, 31, 32, 31, 30, 29, 30, 29, 30,\n",
       "       29, 28, 27, 26, 27, 28, 29, 28, 27, 28, 29, 28, 29, 30, 29, 30, 31,\n",
       "       30, 31, 30, 31, 32, 31, 30, 29, 28, 29, 30, 29, 28, 29, 30, 29, 28,\n",
       "       27, 28, 27, 28, 27, 26, 27, 26, 25, 24, 25, 26, 25, 24, 23, 24, 23,\n",
       "       22, 23, 22, 23, 22, 21, 22, 23, 22, 21, 22, 23, 24, 23, 22, 21, 20,\n",
       "       19, 20, 19, 18, 17, 16, 15, 16, 17, 18, 19, 20, 19, 18, 19, 20, 21,\n",
       "       22, 23, 24, 25, 26, 25, 24, 23, 24, 25, 26, 27, 26, 25, 26, 25, 26,\n",
       "       27, 28, 29, 30, 29, 28, 27, 26, 27, 26, 25, 24, 23, 24, 25, 26, 27,\n",
       "       28, 27, 28, 27, 26, 27, 28, 29, 30, 31, 30, 29, 30, 29, 28, 29, 30,\n",
       "       31, 30, 29, 30, 31, 30, 29, 28, 29, 30, 29, 30, 29, 30, 29, 30, 31,\n",
       "       32, 33, 32, 31, 30, 31, 32, 33, 34, 33, 32, 31, 30, 29, 28, 29, 30,\n",
       "       29, 30, 29, 28, 29, 28, 29, 28, 27, 26, 25, 26, 25, 24, 25, 26, 25,\n",
       "       24, 25, 24, 25, 24, 25, 24, 25, 26, 27, 26, 27, 26, 27, 28, 27, 26,\n",
       "       25, 26, 27, 26, 25, 24, 23, 22, 21, 22, 21, 20, 19, 18, 19, 18, 17,\n",
       "       16, 17, 18, 17, 18, 17, 16, 15, 16, 15, 14, 13, 14, 15, 16, 15, 14,\n",
       "       15, 14, 15, 16, 15, 14, 13, 12, 11, 10,  9,  8,  9,  8],\n",
       "      dtype=int32)"
      ]
     },
     "execution_count": 35,
     "metadata": {},
     "output_type": "execute_result"
    }
   ],
   "source": [
    "walk"
   ]
  },
  {
   "cell_type": "code",
   "execution_count": 38,
   "id": "47208553",
   "metadata": {},
   "outputs": [
    {
     "data": {
      "text/plain": [
       "array([False, False, False, False, False, False, False, False, False,\n",
       "       False, False, False, False, False, False, False, False, False,\n",
       "       False, False, False, False, False, False, False, False, False,\n",
       "       False, False, False, False, False, False, False, False, False,\n",
       "       False, False, False, False, False, False, False, False, False,\n",
       "       False, False,  True, False,  True, False,  True,  True,  True,\n",
       "        True,  True,  True,  True,  True,  True,  True,  True,  True,\n",
       "        True,  True,  True,  True,  True, False, False, False,  True,\n",
       "       False, False, False, False, False, False, False, False, False,\n",
       "       False, False, False, False,  True,  True,  True,  True,  True,\n",
       "        True,  True,  True,  True,  True,  True,  True,  True,  True,\n",
       "        True,  True,  True,  True,  True,  True,  True, False,  True,\n",
       "        True,  True,  True,  True, False, False, False, False, False,\n",
       "       False, False, False, False, False, False,  True,  True,  True,\n",
       "        True,  True,  True,  True,  True,  True,  True,  True,  True,\n",
       "        True,  True,  True,  True,  True,  True,  True,  True,  True,\n",
       "        True,  True,  True,  True,  True,  True,  True,  True,  True,\n",
       "        True,  True,  True,  True,  True,  True,  True,  True,  True,\n",
       "        True,  True,  True,  True,  True,  True,  True,  True,  True,\n",
       "        True,  True,  True,  True,  True,  True,  True,  True,  True,\n",
       "        True,  True,  True,  True,  True,  True, False, False, False,\n",
       "       False, False, False, False, False, False, False, False, False,\n",
       "       False, False, False, False, False, False, False, False, False,\n",
       "       False, False, False, False, False, False, False, False, False,\n",
       "       False, False, False, False, False, False, False, False, False,\n",
       "       False, False, False, False, False, False, False, False, False,\n",
       "       False, False, False, False, False, False, False, False, False,\n",
       "       False, False, False, False, False, False, False, False, False,\n",
       "       False, False, False, False, False, False, False, False, False,\n",
       "       False, False, False, False, False, False, False, False, False,\n",
       "       False, False, False, False, False, False, False, False, False,\n",
       "       False, False, False, False, False, False, False, False, False,\n",
       "       False, False, False, False, False, False, False, False, False,\n",
       "       False, False, False, False, False, False, False, False, False,\n",
       "       False, False, False, False, False, False, False, False, False,\n",
       "        True,  True,  True,  True,  True,  True,  True,  True,  True,\n",
       "        True,  True,  True,  True,  True,  True,  True,  True,  True,\n",
       "        True,  True,  True,  True,  True,  True,  True,  True,  True,\n",
       "        True,  True,  True,  True,  True,  True,  True,  True,  True,\n",
       "        True,  True,  True,  True,  True,  True,  True,  True,  True,\n",
       "        True,  True,  True,  True,  True,  True,  True,  True,  True,\n",
       "        True,  True,  True,  True,  True,  True,  True,  True,  True,\n",
       "        True,  True,  True,  True,  True,  True,  True,  True,  True,\n",
       "        True,  True,  True,  True,  True,  True,  True,  True,  True,\n",
       "        True,  True,  True,  True,  True,  True,  True,  True,  True,\n",
       "        True,  True,  True,  True,  True,  True,  True,  True,  True,\n",
       "        True,  True,  True,  True,  True,  True,  True,  True,  True,\n",
       "        True,  True,  True,  True,  True,  True,  True,  True,  True,\n",
       "        True,  True,  True,  True,  True,  True,  True,  True,  True,\n",
       "        True,  True,  True,  True,  True,  True,  True,  True,  True,\n",
       "        True,  True,  True,  True,  True,  True,  True,  True,  True,\n",
       "        True,  True,  True,  True,  True,  True,  True,  True,  True,\n",
       "        True,  True,  True,  True,  True,  True,  True,  True,  True,\n",
       "        True,  True,  True,  True,  True,  True,  True,  True,  True,\n",
       "        True,  True,  True,  True,  True,  True,  True,  True,  True,\n",
       "        True,  True,  True,  True,  True,  True,  True,  True,  True,\n",
       "        True,  True,  True,  True,  True,  True,  True,  True,  True,\n",
       "        True,  True,  True,  True,  True,  True,  True,  True,  True,\n",
       "        True,  True,  True,  True,  True,  True,  True,  True,  True,\n",
       "        True,  True,  True,  True,  True,  True,  True,  True,  True,\n",
       "        True,  True,  True,  True,  True,  True,  True,  True,  True,\n",
       "        True,  True,  True,  True,  True,  True,  True,  True,  True,\n",
       "        True,  True,  True,  True,  True,  True,  True,  True,  True,\n",
       "        True,  True,  True,  True,  True,  True,  True,  True,  True,\n",
       "        True,  True,  True,  True,  True,  True,  True,  True,  True,\n",
       "        True,  True,  True,  True,  True,  True,  True,  True,  True,\n",
       "        True,  True,  True,  True,  True,  True,  True,  True,  True,\n",
       "        True,  True,  True,  True,  True,  True,  True,  True,  True,\n",
       "        True,  True,  True,  True,  True,  True,  True,  True,  True,\n",
       "        True,  True,  True,  True,  True,  True,  True,  True,  True,\n",
       "        True,  True,  True,  True,  True,  True,  True,  True,  True,\n",
       "        True,  True,  True,  True,  True,  True,  True,  True,  True,\n",
       "        True,  True,  True,  True,  True,  True,  True,  True,  True,\n",
       "        True,  True,  True,  True,  True,  True,  True,  True,  True,\n",
       "        True,  True,  True,  True,  True,  True,  True,  True,  True,\n",
       "        True,  True,  True,  True,  True,  True,  True,  True,  True,\n",
       "        True,  True,  True,  True,  True,  True,  True,  True,  True,\n",
       "        True,  True,  True,  True,  True,  True,  True,  True,  True,\n",
       "        True,  True,  True,  True,  True,  True,  True,  True,  True,\n",
       "        True,  True,  True,  True,  True,  True,  True,  True,  True,\n",
       "        True,  True,  True,  True,  True,  True,  True,  True,  True,\n",
       "        True,  True,  True,  True,  True,  True,  True,  True,  True,\n",
       "        True,  True,  True,  True,  True,  True,  True,  True,  True,\n",
       "        True,  True,  True,  True,  True,  True,  True,  True,  True,\n",
       "        True,  True,  True,  True,  True,  True,  True,  True,  True,\n",
       "        True,  True,  True,  True,  True,  True,  True,  True,  True,\n",
       "        True,  True,  True,  True,  True,  True,  True,  True,  True,\n",
       "        True,  True,  True,  True,  True,  True,  True,  True,  True,\n",
       "        True,  True,  True,  True,  True,  True,  True,  True,  True,\n",
       "        True,  True,  True,  True,  True,  True,  True,  True,  True,\n",
       "        True,  True,  True,  True,  True,  True,  True,  True,  True,\n",
       "        True,  True,  True,  True,  True,  True,  True,  True,  True,\n",
       "        True,  True,  True,  True,  True,  True,  True,  True,  True,\n",
       "        True,  True,  True,  True,  True,  True,  True,  True,  True,\n",
       "        True,  True,  True,  True,  True,  True,  True,  True,  True,\n",
       "        True,  True,  True,  True,  True,  True,  True,  True,  True,\n",
       "        True,  True,  True,  True,  True,  True,  True,  True,  True,\n",
       "        True,  True,  True,  True,  True,  True,  True,  True,  True,\n",
       "        True,  True,  True,  True,  True,  True,  True,  True,  True,\n",
       "        True,  True,  True,  True,  True,  True,  True,  True,  True,\n",
       "        True,  True,  True,  True,  True,  True,  True,  True,  True,\n",
       "        True,  True,  True,  True,  True,  True,  True,  True,  True,\n",
       "        True,  True,  True,  True,  True,  True,  True,  True,  True,\n",
       "        True,  True,  True,  True,  True,  True,  True,  True,  True,\n",
       "        True,  True,  True,  True,  True,  True,  True,  True,  True,\n",
       "        True,  True,  True,  True,  True,  True,  True,  True,  True,\n",
       "        True,  True,  True,  True,  True,  True,  True,  True,  True,\n",
       "        True,  True,  True,  True,  True,  True,  True,  True,  True,\n",
       "        True,  True,  True,  True,  True,  True,  True,  True,  True,\n",
       "        True,  True,  True,  True,  True,  True,  True,  True,  True,\n",
       "        True,  True,  True,  True,  True,  True, False, False, False,\n",
       "       False])"
      ]
     },
     "execution_count": 38,
     "metadata": {},
     "output_type": "execute_result"
    }
   ],
   "source": [
    "(np.abs(walk) >= 10)"
   ]
  },
  {
   "cell_type": "code",
   "execution_count": 39,
   "id": "d00c8ede",
   "metadata": {},
   "outputs": [
    {
     "data": {
      "text/plain": [
       "47"
      ]
     },
     "execution_count": 39,
     "metadata": {},
     "output_type": "execute_result"
    }
   ],
   "source": [
    "(np.abs(walk) >= 10).argmax()"
   ]
  },
  {
   "cell_type": "code",
   "execution_count": 61,
   "id": "5fa6e7af",
   "metadata": {},
   "outputs": [
    {
     "data": {
      "text/plain": [
       "array([[-1, -2, -1,  0, -1],\n",
       "       [-1, -2, -3, -4, -5],\n",
       "       [ 1,  0, -1, -2, -1],\n",
       "       [ 1,  2,  3,  4,  5],\n",
       "       [-1,  0, -1, -2, -1],\n",
       "       [-1, -2, -3, -4, -3],\n",
       "       [ 1,  2,  1,  2,  1],\n",
       "       [-1, -2, -3, -4, -3],\n",
       "       [-1, -2, -1,  0,  1],\n",
       "       [ 1,  2,  1,  2,  1]], dtype=int32)"
      ]
     },
     "execution_count": 61,
     "metadata": {},
     "output_type": "execute_result"
    }
   ],
   "source": [
    "nwalks = 10\n",
    "nsteps = 5\n",
    "draws = np.random.randint(0, 2, size = (nwalks, nsteps)) # 0 or 1\n",
    "steps = np.where(draws > 0, 1, -1)\n",
    "walks = steps.cumsum(1)\n",
    "walks"
   ]
  },
  {
   "cell_type": "code",
   "execution_count": 62,
   "id": "a78da649",
   "metadata": {},
   "outputs": [
    {
     "data": {
      "text/plain": [
       "array([[0, 0, 1, 1, 0],\n",
       "       [0, 0, 0, 0, 0],\n",
       "       [1, 0, 0, 0, 1],\n",
       "       [1, 1, 1, 1, 1],\n",
       "       [0, 1, 0, 0, 1],\n",
       "       [0, 0, 0, 0, 1],\n",
       "       [1, 1, 0, 1, 0],\n",
       "       [0, 0, 0, 0, 1],\n",
       "       [0, 0, 1, 1, 1],\n",
       "       [1, 1, 0, 1, 0]])"
      ]
     },
     "execution_count": 62,
     "metadata": {},
     "output_type": "execute_result"
    }
   ],
   "source": [
    "draws"
   ]
  },
  {
   "cell_type": "code",
   "execution_count": 63,
   "id": "35c8beca",
   "metadata": {},
   "outputs": [
    {
     "data": {
      "text/plain": [
       "array([[-1, -1,  1,  1, -1],\n",
       "       [-1, -1, -1, -1, -1],\n",
       "       [ 1, -1, -1, -1,  1],\n",
       "       [ 1,  1,  1,  1,  1],\n",
       "       [-1,  1, -1, -1,  1],\n",
       "       [-1, -1, -1, -1,  1],\n",
       "       [ 1,  1, -1,  1, -1],\n",
       "       [-1, -1, -1, -1,  1],\n",
       "       [-1, -1,  1,  1,  1],\n",
       "       [ 1,  1, -1,  1, -1]])"
      ]
     },
     "execution_count": 63,
     "metadata": {},
     "output_type": "execute_result"
    }
   ],
   "source": [
    "steps"
   ]
  },
  {
   "cell_type": "code",
   "execution_count": 64,
   "id": "fc1002ae",
   "metadata": {},
   "outputs": [
    {
     "data": {
      "text/plain": [
       "-5"
      ]
     },
     "execution_count": 64,
     "metadata": {},
     "output_type": "execute_result"
    }
   ],
   "source": [
    "walks.min()"
   ]
  },
  {
   "cell_type": "code",
   "execution_count": 65,
   "id": "ad9f9e1e",
   "metadata": {},
   "outputs": [
    {
     "data": {
      "text/plain": [
       "5"
      ]
     },
     "execution_count": 65,
     "metadata": {},
     "output_type": "execute_result"
    }
   ],
   "source": [
    "walks.max()"
   ]
  },
  {
   "cell_type": "code",
   "execution_count": 66,
   "id": "dcb1f4a7",
   "metadata": {},
   "outputs": [
    {
     "data": {
      "text/plain": [
       "9"
      ]
     },
     "execution_count": 66,
     "metadata": {},
     "output_type": "execute_result"
    }
   ],
   "source": [
    "(np.abs(walks) >= 5).argmax()"
   ]
  },
  {
   "cell_type": "code",
   "execution_count": 70,
   "id": "c26f0960",
   "metadata": {},
   "outputs": [
    {
     "data": {
      "text/plain": [
       "array([False,  True, False,  True, False, False, False, False, False,\n",
       "       False])"
      ]
     },
     "execution_count": 70,
     "metadata": {},
     "output_type": "execute_result"
    }
   ],
   "source": [
    "hits5 = (np.abs(walks) >= 5).any(1)\n",
    "hits5"
   ]
  },
  {
   "cell_type": "code",
   "execution_count": 71,
   "id": "fc191575",
   "metadata": {},
   "outputs": [
    {
     "data": {
      "text/plain": [
       "2"
      ]
     },
     "execution_count": 71,
     "metadata": {},
     "output_type": "execute_result"
    }
   ],
   "source": [
    "hits5.sum()"
   ]
  },
  {
   "cell_type": "code",
   "execution_count": 73,
   "id": "3f1c6ab8",
   "metadata": {},
   "outputs": [
    {
     "data": {
      "text/plain": [
       "4.0"
      ]
     },
     "execution_count": 73,
     "metadata": {},
     "output_type": "execute_result"
    }
   ],
   "source": [
    "crossing_times = (np.abs(walks[hits5]) >= 5).argmax(1)\n",
    "crossing_times.mean()"
   ]
  },
  {
   "cell_type": "code",
   "execution_count": 77,
   "id": "28e26eba",
   "metadata": {},
   "outputs": [],
   "source": [
    "?np.argmax"
   ]
  },
  {
   "cell_type": "code",
   "execution_count": 78,
   "id": "d27c5f42",
   "metadata": {},
   "outputs": [],
   "source": [
    "steps = np.random.normal(loc=0, scale=0.25,\n",
    "                         size=(nwalks, nsteps))"
   ]
  },
  {
   "cell_type": "code",
   "execution_count": 79,
   "id": "6406023e",
   "metadata": {},
   "outputs": [
    {
     "data": {
      "text/plain": [
       "array([[ 0.20437992,  0.02307897, -0.18238106,  0.17758365,  0.07141747],\n",
       "       [ 0.12667566,  0.15430062, -0.17245924,  0.68927027, -0.20072986],\n",
       "       [-0.18160615, -0.29082503,  0.36041555, -0.21657708,  0.73816274],\n",
       "       [-0.23756302, -0.05959835, -0.07252497, -0.10348805,  0.16120224],\n",
       "       [-0.22371743, -0.05922896,  0.09120209, -0.11222148,  0.33403883],\n",
       "       [ 0.33316319,  0.40922269,  0.38273163, -0.37016771,  0.02275939],\n",
       "       [-0.41172524, -0.47717869,  0.30633245, -0.24689153,  0.14064361],\n",
       "       [-0.42061397,  0.06711803,  0.19117857,  0.10563146,  0.2376414 ],\n",
       "       [-0.35968937,  0.20491611, -0.00718257,  0.03770737, -0.00201864],\n",
       "       [ 0.18171817, -0.23020034, -0.07054335,  0.00259929,  0.05230917]])"
      ]
     },
     "execution_count": 79,
     "metadata": {},
     "output_type": "execute_result"
    }
   ],
   "source": [
    "steps"
   ]
  },
  {
   "cell_type": "code",
   "execution_count": null,
   "id": "fa4e404d",
   "metadata": {},
   "outputs": [],
   "source": []
  }
 ],
 "metadata": {
  "kernelspec": {
   "display_name": "Python 3 (ipykernel)",
   "language": "python",
   "name": "python3"
  },
  "language_info": {
   "codemirror_mode": {
    "name": "ipython",
    "version": 3
   },
   "file_extension": ".py",
   "mimetype": "text/x-python",
   "name": "python",
   "nbconvert_exporter": "python",
   "pygments_lexer": "ipython3",
   "version": "3.9.12"
  }
 },
 "nbformat": 4,
 "nbformat_minor": 5
}
