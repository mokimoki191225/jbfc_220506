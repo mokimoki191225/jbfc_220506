{
 "cells": [
  {
   "cell_type": "code",
   "execution_count": 126,
   "id": "3e98d651",
   "metadata": {},
   "outputs": [],
   "source": [
    "class Stack:\n",
    "    \n",
    "    def __init__(self):\n",
    "        self.stack_items=[]\n",
    "\n",
    "    def pop(self):\n",
    "        \n",
    "        if len(self.stack_items)==0:\n",
    "            print('empty!')\n",
    "            return False\n",
    "        else:\n",
    "            result = self.stack_items[len(self.stack_items)-1]\n",
    "            del self.stack_items[len(self.stack_items)-1]\n",
    "        return result\n",
    "            \n",
    "    def push(self,x):\n",
    "        self.stack_items.append(x)\n",
    "\n",
    "    def is_empty(self):# isEmpty 기능 구현\n",
    "        return not self.stack_items\n",
    "        # result = bool()\n",
    "        # if len(self.stack_items) == 0:\n",
    "        #     else:\n",
    "        # return result\n",
    "        \n",
    "    def chk_stack(self):\n",
    "        print(\"Stack = {}\".format(self.stack_items))"
   ]
  },
  {
   "cell_type": "code",
   "execution_count": 118,
   "id": "f97fb430",
   "metadata": {},
   "outputs": [
    {
     "name": "stdout",
     "output_type": "stream",
     "text": [
      "Stack = [3]\n"
     ]
    }
   ],
   "source": [
    "stack = Stack()\n",
    "stack.push(3)\n",
    "stack.chk_stack()"
   ]
  },
  {
   "cell_type": "code",
   "execution_count": 119,
   "id": "0a825907",
   "metadata": {},
   "outputs": [
    {
     "name": "stdout",
     "output_type": "stream",
     "text": [
      "Stack = [3]\n"
     ]
    }
   ],
   "source": [
    "stack.is_empty()\n",
    "stack.chk_stack()"
   ]
  },
  {
   "cell_type": "code",
   "execution_count": 122,
   "id": "a8a93c80",
   "metadata": {},
   "outputs": [
    {
     "name": "stdout",
     "output_type": "stream",
     "text": [
      "empty!\n",
      "Stack = []\n"
     ]
    }
   ],
   "source": [
    "stack.pop()\n",
    "stack.chk_stack()"
   ]
  },
  {
   "cell_type": "code",
   "execution_count": 127,
   "id": "4993823f",
   "metadata": {},
   "outputs": [
    {
     "name": "stdout",
     "output_type": "stream",
     "text": [
      "[]\n",
      "[0]\n",
      "[0, 2]\n",
      "[0, 2, 4, 6, 8]\n",
      "False\n",
      "8\n",
      "6\n",
      "4\n",
      "2\n",
      "0\n",
      "empty!\n",
      "False\n",
      "True\n"
     ]
    }
   ],
   "source": [
    "testStack = Stack()\n",
    "print(testStack.stack_items)\n",
    "testStack.push(0)\n",
    "print(testStack.stack_items)\n",
    "testStack.push(2)\n",
    "print(testStack.stack_items)\n",
    "testStack.push(4)\n",
    "testStack.push(6)\n",
    "testStack.push(8)\n",
    "print(testStack.stack_items)\n",
    "print(testStack.is_empty())\n",
    "print(testStack.pop())\n",
    "print(testStack.pop())\n",
    "print(testStack.pop())\n",
    "print(testStack.pop())\n",
    "print(testStack.pop())\n",
    "print(testStack.pop())\n",
    "print(testStack.is_empty())"
   ]
  },
  {
   "cell_type": "code",
   "execution_count": null,
   "id": "73c7ead3",
   "metadata": {},
   "outputs": [],
   "source": []
  }
 ],
 "metadata": {
  "kernelspec": {
   "display_name": "Python 3 (ipykernel)",
   "language": "python",
   "name": "python3"
  },
  "language_info": {
   "codemirror_mode": {
    "name": "ipython",
    "version": 3
   },
   "file_extension": ".py",
   "mimetype": "text/x-python",
   "name": "python",
   "nbconvert_exporter": "python",
   "pygments_lexer": "ipython3",
   "version": "3.9.12"
  }
 },
 "nbformat": 4,
 "nbformat_minor": 5
}
