{
 "cells": [
  {
   "cell_type": "code",
   "execution_count": 15,
   "id": "c9e52eaf",
   "metadata": {},
   "outputs": [],
   "source": [
    "class Queue:\n",
    "    \n",
    "    def __init__(self):\n",
    "        self.queue_items = []\n",
    "\n",
    "    def enqueue(self, x):\n",
    "        self.queue_items.append(x)\n",
    "\n",
    "    def dequeue(self):\n",
    "        \n",
    "        if len(self.queue_items)==0:\n",
    "            print('empty!')\n",
    "            return False\n",
    "        else:\n",
    "            result = self.queue_items[0]\n",
    "            del self.queue_items[0]      \n",
    "        return result\n",
    "\n",
    "    def is_empty(self):\n",
    "        return not self.queue_items\n",
    "\n",
    "    def chk_state(self):\n",
    "        print(\"Queue = {}\".format(self.queue_items))\n",
    "        "
   ]
  },
  {
   "cell_type": "code",
   "execution_count": 22,
   "id": "0561d21d",
   "metadata": {},
   "outputs": [],
   "source": [
    "class Queue:\n",
    "    \n",
    "    def __init__(self):\n",
    "        self.queue_items = []\n",
    "\n",
    "    def enqueue(self, x):\n",
    "        self.queue_items.append(x)\n",
    "\n",
    "    def dequeue(self):\n",
    "        \n",
    "        if len(self.queue_items)==0:\n",
    "            print('empty!')\n",
    "            return False\n",
    "        else:\n",
    "            rever  = self.queue_items[::-1]\n",
    "            del rever[len(self.queue_items)-1] \n",
    "            result = rever[::-1]\n",
    "        return result\n",
    "\n",
    "    def is_empty(self):\n",
    "        return not self.queue_items\n",
    "\n",
    "    def chk_state(self):\n",
    "        print(\"Queue = {}\".format(self.queue_items))"
   ]
  },
  {
   "cell_type": "code",
   "execution_count": 23,
   "id": "7c304d89",
   "metadata": {},
   "outputs": [
    {
     "name": "stdout",
     "output_type": "stream",
     "text": [
      "Queue = []\n"
     ]
    }
   ],
   "source": [
    "queue = Queue()\n",
    "queue.chk_state()"
   ]
  },
  {
   "cell_type": "code",
   "execution_count": 24,
   "id": "494d3b1d",
   "metadata": {},
   "outputs": [
    {
     "data": {
      "text/plain": [
       "True"
      ]
     },
     "execution_count": 24,
     "metadata": {},
     "output_type": "execute_result"
    }
   ],
   "source": [
    "queue.is_empty()"
   ]
  },
  {
   "cell_type": "code",
   "execution_count": 25,
   "id": "95ecf0be",
   "metadata": {},
   "outputs": [
    {
     "name": "stdout",
     "output_type": "stream",
     "text": [
      "Queue = [1]\n"
     ]
    }
   ],
   "source": [
    "queue.enqueue(1)\n",
    "queue.chk_state()"
   ]
  },
  {
   "cell_type": "code",
   "execution_count": 26,
   "id": "729b5f03",
   "metadata": {},
   "outputs": [
    {
     "name": "stdout",
     "output_type": "stream",
     "text": [
      "Queue = [1, 2]\n"
     ]
    }
   ],
   "source": [
    "queue.enqueue(2)\n",
    "queue.chk_state()"
   ]
  },
  {
   "cell_type": "code",
   "execution_count": 27,
   "id": "f819ac51",
   "metadata": {},
   "outputs": [
    {
     "name": "stdout",
     "output_type": "stream",
     "text": [
      "Queue = [1, 2]\n"
     ]
    }
   ],
   "source": [
    "queue.dequeue()\n",
    "queue.chk_state()"
   ]
  },
  {
   "cell_type": "code",
   "execution_count": 21,
   "id": "b59692f6",
   "metadata": {},
   "outputs": [
    {
     "name": "stdout",
     "output_type": "stream",
     "text": [
      "[]\n",
      "['찬영']\n",
      "찬영\n",
      "['준영', '채영', '예영', '민영']\n",
      "준영\n",
      "채영\n",
      "['예영', '민영']\n",
      "예영\n",
      "민영\n",
      "empty!\n",
      "False\n",
      "True\n"
     ]
    }
   ],
   "source": [
    "testQueue = Queue()\n",
    "print(testQueue.queue_items)\n",
    "testQueue.enqueue('찬영')\n",
    "print(testQueue.queue_items)\n",
    "print(testQueue.dequeue())\n",
    "testQueue.enqueue('준영')\n",
    "testQueue.enqueue('채영')\n",
    "testQueue.enqueue('예영')\n",
    "testQueue.enqueue('민영')\n",
    "print(testQueue.queue_items)\n",
    "print(testQueue.dequeue())\n",
    "print(testQueue.dequeue())\n",
    "print(testQueue.queue_items)\n",
    "print(testQueue.dequeue())\n",
    "print(testQueue.dequeue())\n",
    "print(testQueue.dequeue())\n",
    "print(testQueue.is_empty())"
   ]
  },
  {
   "cell_type": "code",
   "execution_count": null,
   "id": "16a4fce9",
   "metadata": {},
   "outputs": [],
   "source": []
  }
 ],
 "metadata": {
  "kernelspec": {
   "display_name": "Python 3 (ipykernel)",
   "language": "python",
   "name": "python3"
  },
  "language_info": {
   "codemirror_mode": {
    "name": "ipython",
    "version": 3
   },
   "file_extension": ".py",
   "mimetype": "text/x-python",
   "name": "python",
   "nbconvert_exporter": "python",
   "pygments_lexer": "ipython3",
   "version": "3.9.12"
  }
 },
 "nbformat": 4,
 "nbformat_minor": 5
}
