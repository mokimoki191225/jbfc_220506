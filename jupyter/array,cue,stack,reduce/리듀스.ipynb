{
 "cells": [
  {
   "cell_type": "code",
   "execution_count": null,
   "id": "71bfc920",
   "metadata": {},
   "outputs": [],
   "source": [
    "def get_positive_list(numbers):\n",
    "    elements = []\n",
    "    for number in numbers:\n",
    "        if number > 0:\n",
    "            elements.append(number)\n",
    "    return elements    "
   ]
  },
  {
   "cell_type": "code",
   "execution_count": null,
   "id": "49730d52",
   "metadata": {},
   "outputs": [],
   "source": [
    "numbers = [1, -2, 3, -4, 5]\n",
    "get_positive_list(numbers)"
   ]
  },
  {
   "cell_type": "code",
   "execution_count": null,
   "id": "a1cd86e3",
   "metadata": {},
   "outputs": [],
   "source": [
    "numbers = [1, -2,  3, -4,  5]\n",
    "\n",
    "list(map(\n",
    "    lambda x: x > 0,\n",
    "    numbers,\n",
    ")) "
   ]
  },
  {
   "cell_type": "code",
   "execution_count": null,
   "id": "9fc3791f",
   "metadata": {},
   "outputs": [],
   "source": [
    "list(filter(\n",
    "    lambda x: x > 0,\n",
    "    numbers,\n",
    "))"
   ]
  },
  {
   "cell_type": "code",
   "execution_count": null,
   "id": "d8a357e6",
   "metadata": {},
   "outputs": [],
   "source": [
    "def get_positive_list(numbers):\n",
    "    elements = []\n",
    "    for number in numbers:\n",
    "        if number > 0:               # False, False, True, True\n",
    "            elements.append(number)\n",
    "    return elements\n",
    "\n",
    "get_positive_list(numbers)"
   ]
  },
  {
   "cell_type": "code",
   "execution_count": null,
   "id": "89f44125",
   "metadata": {},
   "outputs": [],
   "source": [
    "numbers = [1, -2,  3, -4,  5]"
   ]
  },
  {
   "cell_type": "code",
   "execution_count": null,
   "id": "6f493ebc",
   "metadata": {},
   "outputs": [],
   "source": [
    "list(filter(lambda x: x>0, numbers,))"
   ]
  },
  {
   "cell_type": "code",
   "execution_count": null,
   "id": "8addee86",
   "metadata": {},
   "outputs": [],
   "source": [
    "def get_p(numbers):\n",
    "    return list(filter(lambda x:x>0, numbers))\n",
    "\n",
    "get_p([1,-2,3,-4,5])"
   ]
  },
  {
   "cell_type": "code",
   "execution_count": null,
   "id": "997d2b34",
   "metadata": {},
   "outputs": [],
   "source": [
    "get_p = lambda numbers : list(filter(lambda x :x >0, numbers))"
   ]
  },
  {
   "cell_type": "code",
   "execution_count": null,
   "id": "580ce79f",
   "metadata": {},
   "outputs": [],
   "source": [
    "get_p([1,-2,3,-4,5])"
   ]
  },
  {
   "cell_type": "code",
   "execution_count": null,
   "id": "cf3133d5",
   "metadata": {},
   "outputs": [],
   "source": [
    "numbers = [1, -2,  3, -4,  5]"
   ]
  },
  {
   "cell_type": "markdown",
   "id": "7b7c82f2",
   "metadata": {},
   "source": [
    "*filter는 True와 False 중 선택해야하니까 논리형 수식"
   ]
  },
  {
   "cell_type": "markdown",
   "id": "03ef7c45",
   "metadata": {},
   "source": [
    "*map은 개수가 맞아야 되니까 수식형 로직에 쓰임"
   ]
  },
  {
   "cell_type": "code",
   "execution_count": null,
   "id": "96ff2f09",
   "metadata": {},
   "outputs": [],
   "source": [
    "list(filter(lambda x :x==1,numbers))"
   ]
  },
  {
   "cell_type": "code",
   "execution_count": null,
   "id": "037d334a",
   "metadata": {},
   "outputs": [],
   "source": [
    "list(map(lambda x :x**2,numbers))"
   ]
  },
  {
   "cell_type": "code",
   "execution_count": null,
   "id": "eb002807",
   "metadata": {},
   "outputs": [],
   "source": [
    "def get_p2(numbers):\n",
    "    return list(map(lambda x :x**2,numbers))\n",
    "\n",
    "get_p2([1,-2,3,-4,5])"
   ]
  },
  {
   "cell_type": "code",
   "execution_count": null,
   "id": "a566716c",
   "metadata": {},
   "outputs": [],
   "source": [
    "get_p2 = lambda numbers : list(map(lambda x :x**2,numbers))"
   ]
  },
  {
   "cell_type": "code",
   "execution_count": null,
   "id": "22d92d05",
   "metadata": {},
   "outputs": [],
   "source": [
    "get_p2([1,-2,3,-4,5])"
   ]
  },
  {
   "cell_type": "code",
   "execution_count": null,
   "id": "48dda08a",
   "metadata": {},
   "outputs": [],
   "source": [
    "?lambda"
   ]
  },
  {
   "cell_type": "code",
   "execution_count": null,
   "id": "e933d115",
   "metadata": {},
   "outputs": [],
   "source": [
    "help(lambda x)"
   ]
  },
  {
   "cell_type": "code",
   "execution_count": null,
   "id": "645d8384",
   "metadata": {},
   "outputs": [],
   "source": [
    "filter(lambda x :x%2, range(10))"
   ]
  },
  {
   "cell_type": "code",
   "execution_count": null,
   "id": "ce6bdc76",
   "metadata": {},
   "outputs": [],
   "source": [
    "list(filter(lambda x :x%2, range(10)))"
   ]
  },
  {
   "cell_type": "code",
   "execution_count": null,
   "id": "e41a78ce",
   "metadata": {},
   "outputs": [],
   "source": [
    "set(filter(lambda x :x%2, range(10)))"
   ]
  },
  {
   "cell_type": "code",
   "execution_count": null,
   "id": "f02eb803",
   "metadata": {},
   "outputs": [],
   "source": [
    "tuple(filter(lambda x :x%2, range(10)))"
   ]
  },
  {
   "cell_type": "code",
   "execution_count": null,
   "id": "c0e04bdf",
   "metadata": {},
   "outputs": [],
   "source": [
    "dict(filter(lambda x :x%2, range(10)))"
   ]
  },
  {
   "cell_type": "code",
   "execution_count": null,
   "id": "c930da69",
   "metadata": {},
   "outputs": [],
   "source": [
    "int(filter(lambda x :x%2, range(10)))"
   ]
  },
  {
   "cell_type": "code",
   "execution_count": null,
   "id": "ab7d3a7d",
   "metadata": {},
   "outputs": [],
   "source": [
    "set(filter(lambda x :x%2, range(10)))"
   ]
  },
  {
   "cell_type": "code",
   "execution_count": null,
   "id": "0f072b40",
   "metadata": {},
   "outputs": [],
   "source": [
    "set(filter(lambda i :i%2, for i in range(10))))"
   ]
  },
  {
   "cell_type": "code",
   "execution_count": null,
   "id": "db4c16e1",
   "metadata": {},
   "outputs": [],
   "source": [
    "def get_multiply(numbers):\n",
    "    result = 1\n",
    "    for number in numbers:\n",
    "        result *= number\n",
    "    return result\n",
    "\n",
    "get_multiply([1, 2, 3, 4,5,6,7])"
   ]
  },
  {
   "cell_type": "markdown",
   "id": "5313d20b",
   "metadata": {},
   "source": [
    "* 2. 리스트를 받아서, 리스트 중에서 제일 큰 수 | [-1, 0, 2, 4, 3] => 4"
   ]
  },
  {
   "cell_type": "code",
   "execution_count": null,
   "id": "69607cb4",
   "metadata": {},
   "outputs": [],
   "source": [
    "def get_max(numbers):\n",
    "    result = numbers[0]  # 만약에, 0이라고 했을 때 => 음수의 리스트 \n",
    "    for number in numbers:\n",
    "        if result < number:\n",
    "            result = number\n",
    "    return result\n",
    "\n",
    "get_max([3, -1, 5, -6])"
   ]
  },
  {
   "cell_type": "code",
   "execution_count": null,
   "id": "641c751d",
   "metadata": {},
   "outputs": [],
   "source": [
    "def multiply(a, b):\n",
    "    print('{} x {} = {}'.format(a,b,a*b))\n",
    "    return a * b\n",
    "\n",
    "reduce(\n",
    "    multiply,\n",
    "    [1, 2, 3, 4, 5],\n",
    "    1,               # 기본값!!! (*)\n",
    ")"
   ]
  },
  {
   "cell_type": "code",
   "execution_count": null,
   "id": "eee7fce0",
   "metadata": {},
   "outputs": [],
   "source": [
    "def get_bigger(a, b):\n",
    "    return a if a > b else b\n",
    "\n",
    "reduce(\n",
    "    get_bigger,\n",
    "    [3, -1, 5, -6],\n",
    ")                     # get_max"
   ]
  },
  {
   "cell_type": "code",
   "execution_count": null,
   "id": "7f0ca2d9",
   "metadata": {},
   "outputs": [],
   "source": [
    "from functools import *"
   ]
  },
  {
   "cell_type": "code",
   "execution_count": null,
   "id": "21ef5bf9",
   "metadata": {},
   "outputs": [],
   "source": [
    "def get_bigger(a, b):\n",
    "    return a if a > b else b\n",
    "\n",
    "reduce(\n",
    "    get_bigger,\n",
    "    [3, -1, 5, -6],\n",
    ") # get_max\n",
    "\n",
    "reduce(\n",
    "    lambda x,y : x if x > y else y,\n",
    "    [3,-1,5,-6],\n",
    ")\n",
    "\n",
    "def get_max(numbers):\n",
    "    return reduce(lambda x,y : x if x > y else y,numbers)\n",
    "\n",
    "get_max([3,-1,5,-6])"
   ]
  },
  {
   "cell_type": "code",
   "execution_count": null,
   "id": "2301f52e",
   "metadata": {},
   "outputs": [],
   "source": [
    "get_max = lambda numbers : reduce(lambda x,y : x if x > y else y,numbers)"
   ]
  },
  {
   "cell_type": "code",
   "execution_count": null,
   "id": "c0105280",
   "metadata": {},
   "outputs": [],
   "source": [
    "get_max([3,-1,5,-6])"
   ]
  },
  {
   "cell_type": "code",
   "execution_count": null,
   "id": "b17eb84c",
   "metadata": {},
   "outputs": [],
   "source": [
    "?reduce"
   ]
  },
  {
   "cell_type": "code",
   "execution_count": null,
   "id": "88f96afd",
   "metadata": {},
   "outputs": [],
   "source": [
    "?filter"
   ]
  },
  {
   "cell_type": "code",
   "execution_count": null,
   "id": "aa74ed42",
   "metadata": {},
   "outputs": [],
   "source": [
    "data = [\"cat\", \"cat\", \"cat\", \"sheep\", \"sheep\", \"duck\", \"duck\", \"duck\", \"duck\" ]"
   ]
  },
  {
   "cell_type": "code",
   "execution_count": null,
   "id": "8af4e974",
   "metadata": {},
   "outputs": [],
   "source": [
    "from functools import *"
   ]
  },
  {
   "cell_type": "code",
   "execution_count": null,
   "id": "abdf02d5",
   "metadata": {},
   "outputs": [],
   "source": [
    "data = [\"cat\", \"cat\", \"cat\", \"sheep\", \"sheep\", \"duck\", \"duck\", \"duck\", \"duck\" ]"
   ]
  },
  {
   "cell_type": "code",
   "execution_count": null,
   "id": "4d17c683",
   "metadata": {},
   "outputs": [],
   "source": [
    "data[0]"
   ]
  },
  {
   "cell_type": "code",
   "execution_count": null,
   "id": "71186893",
   "metadata": {},
   "outputs": [],
   "source": [
    "len(data)"
   ]
  },
  {
   "cell_type": "code",
   "execution_count": null,
   "id": "e01d52ac",
   "metadata": {},
   "outputs": [],
   "source": [
    "data.count('cat')"
   ]
  },
  {
   "cell_type": "code",
   "execution_count": 14,
   "id": "6fa2af0b",
   "metadata": {},
   "outputs": [],
   "source": [
    "from functools import reduce"
   ]
  },
  {
   "cell_type": "code",
   "execution_count": 18,
   "id": "610f35a7",
   "metadata": {},
   "outputs": [],
   "source": [
    "# cnt = dict()\n",
    "\n",
    "def histo_dict(data):\n",
    "    \n",
    "    histogram_dict = dict()\n",
    "    cnt            = int()\n",
    "    \n",
    "    for i in range(len(data)-1):\n",
    "        \n",
    "#         print(\"data[{}] = {}\".format(i, data[i] ))\n",
    "        \n",
    "        cnt = data.count(data[i])\n",
    "        histogram_dict[data[i]] = cnt\n",
    "#         print(\"cnt : {}, histogram_dict : {}\".format(cnt, histogram_dict))\n",
    "        \n",
    "    return histogram_dict\n",
    "\n",
    "def histo_draw(data):\n",
    "    \n",
    "    for key, value in histo_dict(data).items():\n",
    "        print('%s\\t : %s' %(key, value*'='))\n",
    "        "
   ]
  },
  {
   "cell_type": "code",
   "execution_count": 19,
   "id": "fa0a84ce",
   "metadata": {},
   "outputs": [
    {
     "data": {
      "text/plain": [
       "{'cat': 3, 'sheep': 2, 'duck': 4}"
      ]
     },
     "execution_count": 19,
     "metadata": {},
     "output_type": "execute_result"
    }
   ],
   "source": [
    "histo_dict([\"cat\", \"cat\", \"cat\", \"sheep\", \"sheep\", \"duck\", \"duck\", \"duck\", \"duck\" ])"
   ]
  },
  {
   "cell_type": "code",
   "execution_count": 20,
   "id": "3f478a68",
   "metadata": {},
   "outputs": [
    {
     "name": "stdout",
     "output_type": "stream",
     "text": [
      "cat\t : ===\n",
      "sheep\t : ==\n",
      "duck\t : ====\n"
     ]
    }
   ],
   "source": [
    "histo_draw([\"cat\", \"cat\", \"cat\", \"sheep\", \"sheep\", \"duck\", \"duck\", \"duck\", \"duck\" ])"
   ]
  },
  {
   "cell_type": "code",
   "execution_count": 29,
   "id": "a643407d",
   "metadata": {},
   "outputs": [],
   "source": [
    "\n",
    "\n",
    "def histo_dict(histogram_dict, data): #(최종 담을 변수, data 하나씩 가져올 변수)\n",
    "    \n",
    "    key = data\n",
    "    \n",
    "    if key in list(histogram_dict.keys()):\n",
    "        \n",
    "        histogram_dict[key] += 1\n",
    "\n",
    "    else:\n",
    "        \n",
    "        histogram_dict[key] = 1\n",
    "        \n",
    "#     print(histogram_dict)\n",
    "        \n",
    "    return histogram_dict\n"
   ]
  },
  {
   "cell_type": "code",
   "execution_count": 30,
   "id": "c6458d8c",
   "metadata": {},
   "outputs": [
    {
     "name": "stdout",
     "output_type": "stream",
     "text": [
      "{'cat': 1}\n",
      "{'cat': 2}\n",
      "{'cat': 3}\n",
      "{'cat': 3, 'sheep': 1}\n",
      "{'cat': 3, 'sheep': 2}\n",
      "{'cat': 3, 'sheep': 2, 'duck': 1}\n",
      "{'cat': 3, 'sheep': 2, 'duck': 2}\n",
      "{'cat': 3, 'sheep': 2, 'duck': 3}\n",
      "{'cat': 3, 'sheep': 2, 'duck': 4}\n"
     ]
    }
   ],
   "source": [
    "data = [\"cat\", \"cat\", \"cat\", \"sheep\", \"sheep\", \"duck\", \"duck\", \"duck\", \"duck\" ]\n",
    "\n",
    "his_dict = reduce(\n",
    "    histo_dict,\n",
    "    data,\n",
    "    dict()\n",
    ")"
   ]
  },
  {
   "cell_type": "code",
   "execution_count": 28,
   "id": "bbb33f91",
   "metadata": {},
   "outputs": [
    {
     "data": {
      "text/plain": [
       "{'cat': '===', 'sheep': '==', 'duck': '===='}"
      ]
     },
     "execution_count": 28,
     "metadata": {},
     "output_type": "execute_result"
    }
   ],
   "source": [
    "his_dict"
   ]
  },
  {
   "cell_type": "markdown",
   "id": "10780d87",
   "metadata": {},
   "source": [
    "*교수님 따라하기"
   ]
  },
  {
   "cell_type": "code",
   "execution_count": 6,
   "id": "55117d97",
   "metadata": {},
   "outputs": [],
   "source": [
    "from functools import reduce"
   ]
  },
  {
   "cell_type": "code",
   "execution_count": 38,
   "id": "985e400d",
   "metadata": {},
   "outputs": [],
   "source": [
    "def histo(histo_dict,data):\n",
    "    key = data\n",
    "    if key in list(histo_dict.keys()):\n",
    "        histo_dict[key] += 1*'='  \n",
    "    else:\n",
    "        histo_dict[key] = 1*'='\n",
    "#     print(histo_dict)    \n",
    "    return histo_dict"
   ]
  },
  {
   "cell_type": "code",
   "execution_count": 39,
   "id": "865c4e73",
   "metadata": {},
   "outputs": [],
   "source": [
    "data = [\"cat\", \"cat\", \"cat\", \"sheep\", \"sheep\", \"duck\", \"duck\", \"duck\", \"duck\" ]"
   ]
  },
  {
   "cell_type": "code",
   "execution_count": 37,
   "id": "68c66828",
   "metadata": {},
   "outputs": [
    {
     "ename": "ValueError",
     "evalue": "dictionary update sequence element #0 has length 3; 2 is required",
     "output_type": "error",
     "traceback": [
      "\u001b[1;31m---------------------------------------------------------------------------\u001b[0m",
      "\u001b[1;31mValueError\u001b[0m                                Traceback (most recent call last)",
      "Input \u001b[1;32mIn [37]\u001b[0m, in \u001b[0;36m<cell line: 1>\u001b[1;34m()\u001b[0m\n\u001b[1;32m----> 1\u001b[0m \u001b[38;5;28mprint\u001b[39m(\u001b[38;5;28;43mdict\u001b[39;49m\u001b[43m(\u001b[49m\u001b[43mdata\u001b[49m\u001b[43m)\u001b[49m)\n",
      "\u001b[1;31mValueError\u001b[0m: dictionary update sequence element #0 has length 3; 2 is required"
     ]
    }
   ],
   "source": [
    "lambda x,y :  "
   ]
  },
  {
   "cell_type": "code",
   "execution_count": 40,
   "id": "42453731",
   "metadata": {},
   "outputs": [],
   "source": [
    "data = [\"cat\", \"cat\", \"cat\", \"sheep\", \"sheep\", \"duck\", \"duck\", \"duck\", \"duck\" ]\n",
    "\n",
    "result1 = reduce (\n",
    "    histo,\n",
    "    data,\n",
    "    dict()\n",
    ")\n"
   ]
  },
  {
   "cell_type": "code",
   "execution_count": 41,
   "id": "421e029d",
   "metadata": {},
   "outputs": [
    {
     "data": {
      "text/plain": [
       "{'cat': '===', 'sheep': '==', 'duck': '===='}"
      ]
     },
     "execution_count": 41,
     "metadata": {},
     "output_type": "execute_result"
    }
   ],
   "source": [
    "result1"
   ]
  },
  {
   "cell_type": "code",
   "execution_count": 46,
   "id": "1b2127c7",
   "metadata": {},
   "outputs": [
    {
     "data": {
      "text/plain": [
       "{'cat': '===', 'sheep': '==', 'duck': '===='}"
      ]
     },
     "execution_count": 46,
     "metadata": {},
     "output_type": "execute_result"
    }
   ],
   "source": [
    "his_dict"
   ]
  },
  {
   "cell_type": "code",
   "execution_count": 16,
   "id": "b8b8a75c",
   "metadata": {},
   "outputs": [
    {
     "name": "stdout",
     "output_type": "stream",
     "text": [
      "키값 부재\n",
      "cnt : 1, histogram_dict : {'cat': 1}\n",
      "키값 존재\n",
      "cnt : 2, histogram_dict : {'cat': 2}\n",
      "키값 존재\n",
      "cnt : 3, histogram_dict : {'cat': 3}\n",
      "키값 부재\n",
      "cnt : 4, histogram_dict : {'cat': 3, 'sheep': 1}\n",
      "키값 존재\n",
      "cnt : 5, histogram_dict : {'cat': 3, 'sheep': 2}\n",
      "키값 부재\n",
      "cnt : 6, histogram_dict : {'cat': 3, 'sheep': 2, 'duck': 1}\n",
      "키값 존재\n",
      "cnt : 7, histogram_dict : {'cat': 3, 'sheep': 2, 'duck': 2}\n",
      "키값 존재\n",
      "cnt : 8, histogram_dict : {'cat': 3, 'sheep': 2, 'duck': 3}\n"
     ]
    },
    {
     "data": {
      "text/plain": [
       "{'cat': 3, 'sheep': 2, 'duck': 3}"
      ]
     },
     "execution_count": 16,
     "metadata": {},
     "output_type": "execute_result"
    }
   ],
   "source": [
    "data = [\"cat\", \"cat\", \"cat\", \"sheep\", \"sheep\", \"duck\", \"duck\", \"duck\", \"duck\" ]\n",
    "his_dict = histo_dict(data)\n",
    "his_dict"
   ]
  },
  {
   "cell_type": "code",
   "execution_count": 3,
   "id": "65f59b2b",
   "metadata": {},
   "outputs": [
    {
     "name": "stdout",
     "output_type": "stream",
     "text": [
      "cat\t : ===\n",
      "sheep\t : ==\n",
      "duck\t : ====\n"
     ]
    }
   ],
   "source": [
    "his_res = histo_draw([\"cat\", \"cat\", \"cat\", \"sheep\", \"sheep\", \"duck\", \"duck\", \"duck\", \"duck\" ])\n",
    "his_res"
   ]
  },
  {
   "cell_type": "code",
   "execution_count": 53,
   "id": "f879b37f",
   "metadata": {},
   "outputs": [],
   "source": [
    "def get_histogram_dict(data):\n",
    "    def get_count(result, element):\n",
    "        if result.get(element):\n",
    "            result[element] += 1\n",
    "        else:\n",
    "            result[element] = 1\n",
    "        return result\n",
    "    return reduce( get_count, data, dict() )\n",
    "\n",
    "def print_histogram(get_histogram_dict):    \n",
    "    rows = []\n",
    "    for key, value in get_histogram_dict.items():\n",
    "        row = \"{key}{spaces}{value_count}\".format(\n",
    "            key         =  key,\n",
    "            spaces      =  \" \" * (7 - len(key)),\n",
    "            value_count =  \"=\" * value,\n",
    "        )\n",
    "        rows.append(row)\n",
    "    print(\"\\n\".join(rows))\n",
    "    \n",
    "def draw_histogram(data):\n",
    "    histogram_dict = get_histogram_dict(data)\n",
    "    print_histogram(histogram_dict)\n"
   ]
  },
  {
   "cell_type": "code",
   "execution_count": 54,
   "id": "e1d77766",
   "metadata": {},
   "outputs": [
    {
     "data": {
      "text/plain": [
       "{'cat': 3, 'sheep': 2, 'duck': 4}"
      ]
     },
     "execution_count": 54,
     "metadata": {},
     "output_type": "execute_result"
    }
   ],
   "source": [
    "data = [\"cat\", \"cat\", \"cat\", \"sheep\", \"sheep\", \"duck\", \"duck\", \"duck\", \"duck\" ]\n",
    "histogram_dict = get_histogram_dict(data)\n",
    "histogram_dict"
   ]
  },
  {
   "cell_type": "code",
   "execution_count": 55,
   "id": "5e43b9cf",
   "metadata": {},
   "outputs": [],
   "source": [
    "from random import *\n",
    "\n",
    "candidate = ['빨강생 후보', '노랑색 후보', '파랑색 후보', '초록색 후보', '하얀색 후보']\n",
    "num_of_voters = 100"
   ]
  },
  {
   "cell_type": "code",
   "execution_count": 56,
   "id": "8f6a5cf0",
   "metadata": {},
   "outputs": [
    {
     "name": "stdout",
     "output_type": "stream",
     "text": [
      "초록색 후보 =======================\n",
      "노랑색 후보 =======================\n",
      "하얀색 후보 ================\n",
      "빨강생 후보 ====================\n",
      "파랑색 후보 ==================\n"
     ]
    }
   ],
   "source": [
    "voting_result = list()\n",
    "for _ in range(num_of_voters):\n",
    "    c_num = randint(0, 4)\n",
    "    voting_result.append(candidate[c_num])\n",
    "\n",
    "draw_histogram(voting_result)"
   ]
  }
 ],
 "metadata": {
  "kernelspec": {
   "display_name": "Python 3 (ipykernel)",
   "language": "python",
   "name": "python3"
  },
  "language_info": {
   "codemirror_mode": {
    "name": "ipython",
    "version": 3
   },
   "file_extension": ".py",
   "mimetype": "text/x-python",
   "name": "python",
   "nbconvert_exporter": "python",
   "pygments_lexer": "ipython3",
   "version": "3.9.12"
  }
 },
 "nbformat": 4,
 "nbformat_minor": 5
}
