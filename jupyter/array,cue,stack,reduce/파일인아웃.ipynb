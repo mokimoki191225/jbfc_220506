{
 "cells": [
  {
   "cell_type": "code",
   "execution_count": 1,
   "id": "3995ccc3",
   "metadata": {},
   "outputs": [],
   "source": [
    "# NumPy Basics\n",
    "from IPython.display import Image "
   ]
  },
  {
   "cell_type": "code",
   "execution_count": 2,
   "id": "aaa9eee7",
   "metadata": {},
   "outputs": [],
   "source": [
    "from numpy.random import randn\n",
    "import numpy as np\n"
   ]
  },
  {
   "cell_type": "code",
   "execution_count": 3,
   "id": "1b03a765",
   "metadata": {},
   "outputs": [],
   "source": [
    "from os.path import exists\n",
    "from os import remove"
   ]
  },
  {
   "cell_type": "code",
   "execution_count": 4,
   "id": "81f34efe",
   "metadata": {},
   "outputs": [],
   "source": [
    "def delete_file(filename):\n",
    "    if exists(filename): \n",
    "        remove(filename) \n",
    "        ret_msg = filename + ' is deleted !'\n",
    "    else: \n",
    "        ret_msg = filename + ' is not exist.'\n",
    "    \n",
    "    return ret_msg"
   ]
  },
  {
   "cell_type": "code",
   "execution_count": 5,
   "id": "b01fa3ed",
   "metadata": {},
   "outputs": [
    {
     "data": {
      "text/plain": [
       "'some_array.npy is not exist.'"
      ]
     },
     "execution_count": 5,
     "metadata": {},
     "output_type": "execute_result"
    }
   ],
   "source": [
    "delete_file('some_array.npy')"
   ]
  },
  {
   "cell_type": "code",
   "execution_count": 6,
   "id": "6420ce95",
   "metadata": {},
   "outputs": [
    {
     "data": {
      "text/plain": [
       "'array_archive.npz is not exist.'"
      ]
     },
     "execution_count": 6,
     "metadata": {},
     "output_type": "execute_result"
    }
   ],
   "source": [
    "delete_file('array_archive.npz')"
   ]
  },
  {
   "cell_type": "code",
   "execution_count": 7,
   "id": "4b4cfc16",
   "metadata": {
    "scrolled": true
   },
   "outputs": [
    {
     "data": {
      "text/plain": [
       "array([0, 1, 2, 3, 4, 5, 6, 7, 8, 9])"
      ]
     },
     "execution_count": 7,
     "metadata": {},
     "output_type": "execute_result"
    }
   ],
   "source": [
    "arr = np.arange(10)\n",
    "arr"
   ]
  },
  {
   "cell_type": "code",
   "execution_count": 8,
   "id": "4d801ea5",
   "metadata": {},
   "outputs": [],
   "source": [
    "np.save('some_array', arr)"
   ]
  },
  {
   "cell_type": "code",
   "execution_count": 27,
   "id": "8757d322",
   "metadata": {},
   "outputs": [
    {
     "name": "stdout",
     "output_type": "stream",
     "text": [
      " C 드라이브의 볼륨에는 이름이 없습니다.\n",
      " 볼륨 일련 번호: 78D5-6279\n",
      "\n",
      " C:\\Users\\student\\Anaconda_src\\S01_Pyton_Review 디렉터리\n",
      "\n",
      "2022-05-27  오전 09:20               930 array_archive.npz\n",
      "2022-05-27  오전 09:17               168 some_array.npy\n",
      "               2개 파일               1,098 바이트\n",
      "               0개 디렉터리  206,269,853,696 바이트 남음\n"
     ]
    }
   ],
   "source": [
    "!dir *.np*"
   ]
  },
  {
   "cell_type": "code",
   "execution_count": 9,
   "id": "3129f35d",
   "metadata": {
    "scrolled": true
   },
   "outputs": [
    {
     "name": "stdout",
     "output_type": "stream",
     "text": [
      " C 드라이브의 볼륨에는 이름이 없습니다.\n",
      " 볼륨 일련 번호: 78D5-6279\n",
      "\n",
      " C:\\Users\\student\\Anaconda_src\\S01_Pyton_Review 디렉터리\n",
      "\n",
      "2022-05-27  오전 09:17               168 some_array.npy\n",
      "               1개 파일                 168 바이트\n",
      "               0개 디렉터리  206,270,164,992 바이트 남음\n"
     ]
    }
   ],
   "source": [
    "%ls *.np*"
   ]
  },
  {
   "cell_type": "code",
   "execution_count": 25,
   "id": "fb24d261",
   "metadata": {},
   "outputs": [
    {
     "data": {
      "text/plain": [
       "'C:\\\\Users\\\\student\\\\Anaconda_src\\\\S01_Pyton_Review'"
      ]
     },
     "execution_count": 25,
     "metadata": {},
     "output_type": "execute_result"
    }
   ],
   "source": [
    "%pwd"
   ]
  },
  {
   "cell_type": "code",
   "execution_count": 10,
   "id": "e7698300",
   "metadata": {},
   "outputs": [
    {
     "data": {
      "text/plain": [
       "array([0, 1, 2, 3, 4, 5, 6, 7, 8, 9])"
      ]
     },
     "execution_count": 10,
     "metadata": {},
     "output_type": "execute_result"
    }
   ],
   "source": [
    "np.load('some_array.npy')"
   ]
  },
  {
   "cell_type": "code",
   "execution_count": 17,
   "id": "84f8c9a0",
   "metadata": {},
   "outputs": [
    {
     "data": {
      "text/plain": [
       "array([ 0,  1,  2,  3,  4,  5,  6,  7,  8,  9, 10, 11, 12, 13, 14, 15, 16,\n",
       "       17, 18, 19, 20, 21, 22, 23, 24, 25, 26, 27, 28, 29, 30, 31, 32, 33,\n",
       "       34, 35, 36, 37, 38, 39, 40, 41, 42, 43, 44, 45, 46, 47, 48, 49, 50,\n",
       "       51, 52, 53, 54, 55, 56, 57, 58, 59, 60, 61, 62, 63, 64, 65, 66, 67,\n",
       "       68, 69, 70, 71, 72, 73, 74, 75, 76, 77, 78, 79, 80, 81, 82, 83, 84,\n",
       "       85, 86, 87, 88, 89, 90, 91, 92, 93, 94, 95, 96, 97, 98, 99])"
      ]
     },
     "execution_count": 17,
     "metadata": {},
     "output_type": "execute_result"
    }
   ],
   "source": [
    "arr2 = np.arange(100)\n",
    "arr2"
   ]
  },
  {
   "cell_type": "code",
   "execution_count": 18,
   "id": "696dd7e3",
   "metadata": {},
   "outputs": [],
   "source": [
    "np.savez('array_archive.npz', a = arr, b = arr2)"
   ]
  },
  {
   "cell_type": "code",
   "execution_count": 13,
   "id": "49caebbc",
   "metadata": {},
   "outputs": [
    {
     "name": "stdout",
     "output_type": "stream",
     "text": [
      " C 드라이브의 볼륨에는 이름이 없습니다.\n",
      " 볼륨 일련 번호: 78D5-6279\n",
      "\n",
      " C:\\Users\\student\\Anaconda_src\\S01_Pyton_Review 디렉터리\n",
      "\n",
      "2022-05-27  오전 09:18               570 array_archive.npz\n",
      "2022-05-27  오전 09:17               168 some_array.npy\n",
      "               2개 파일                 738 바이트\n",
      "               0개 디렉터리  206,270,054,400 바이트 남음\n"
     ]
    }
   ],
   "source": [
    "%ls *.np*"
   ]
  },
  {
   "cell_type": "code",
   "execution_count": 23,
   "id": "73db718d",
   "metadata": {},
   "outputs": [
    {
     "name": "stdout",
     "output_type": "stream",
     "text": [
      "<class 'numpy.lib.npyio.NpzFile'>\n"
     ]
    },
    {
     "data": {
      "text/plain": [
       "array([0, 1, 2, 3, 4, 5, 6, 7, 8, 9])"
      ]
     },
     "execution_count": 23,
     "metadata": {},
     "output_type": "execute_result"
    }
   ],
   "source": [
    "arch = np.load('array_archive.npz')\n",
    "print(type(arch))\n",
    "arch['a']"
   ]
  },
  {
   "cell_type": "code",
   "execution_count": 15,
   "id": "2c79ab0f",
   "metadata": {},
   "outputs": [
    {
     "name": "stdout",
     "output_type": "stream",
     "text": [
      "Help on function load in module numpy:\n",
      "\n",
      "load(file, mmap_mode=None, allow_pickle=False, fix_imports=True, encoding='ASCII')\n",
      "    Load arrays or pickled objects from ``.npy``, ``.npz`` or pickled files.\n",
      "    \n",
      "    .. warning:: Loading files that contain object arrays uses the ``pickle``\n",
      "                 module, which is not secure against erroneous or maliciously\n",
      "                 constructed data. Consider passing ``allow_pickle=False`` to\n",
      "                 load data that is known not to contain object arrays for the\n",
      "                 safer handling of untrusted sources.\n",
      "    \n",
      "    Parameters\n",
      "    ----------\n",
      "    file : file-like object, string, or pathlib.Path\n",
      "        The file to read. File-like objects must support the\n",
      "        ``seek()`` and ``read()`` methods. Pickled files require that the\n",
      "        file-like object support the ``readline()`` method as well.\n",
      "    mmap_mode : {None, 'r+', 'r', 'w+', 'c'}, optional\n",
      "        If not None, then memory-map the file, using the given mode (see\n",
      "        `numpy.memmap` for a detailed description of the modes).  A\n",
      "        memory-mapped array is kept on disk. However, it can be accessed\n",
      "        and sliced like any ndarray.  Memory mapping is especially useful\n",
      "        for accessing small fragments of large files without reading the\n",
      "        entire file into memory.\n",
      "    allow_pickle : bool, optional\n",
      "        Allow loading pickled object arrays stored in npy files. Reasons for\n",
      "        disallowing pickles include security, as loading pickled data can\n",
      "        execute arbitrary code. If pickles are disallowed, loading object\n",
      "        arrays will fail. Default: False\n",
      "    \n",
      "        .. versionchanged:: 1.16.3\n",
      "            Made default False in response to CVE-2019-6446.\n",
      "    \n",
      "    fix_imports : bool, optional\n",
      "        Only useful when loading Python 2 generated pickled files on Python 3,\n",
      "        which includes npy/npz files containing object arrays. If `fix_imports`\n",
      "        is True, pickle will try to map the old Python 2 names to the new names\n",
      "        used in Python 3.\n",
      "    encoding : str, optional\n",
      "        What encoding to use when reading Python 2 strings. Only useful when\n",
      "        loading Python 2 generated pickled files in Python 3, which includes\n",
      "        npy/npz files containing object arrays. Values other than 'latin1',\n",
      "        'ASCII', and 'bytes' are not allowed, as they can corrupt numerical\n",
      "        data. Default: 'ASCII'\n",
      "    \n",
      "    Returns\n",
      "    -------\n",
      "    result : array, tuple, dict, etc.\n",
      "        Data stored in the file. For ``.npz`` files, the returned instance\n",
      "        of NpzFile class must be closed to avoid leaking file descriptors.\n",
      "    \n",
      "    Raises\n",
      "    ------\n",
      "    IOError\n",
      "        If the input file does not exist or cannot be read.\n",
      "    ValueError\n",
      "        The file contains an object array, but allow_pickle=False given.\n",
      "    \n",
      "    See Also\n",
      "    --------\n",
      "    save, savez, savez_compressed, loadtxt\n",
      "    memmap : Create a memory-map to an array stored in a file on disk.\n",
      "    lib.format.open_memmap : Create or load a memory-mapped ``.npy`` file.\n",
      "    \n",
      "    Notes\n",
      "    -----\n",
      "    - If the file contains pickle data, then whatever object is stored\n",
      "      in the pickle is returned.\n",
      "    - If the file is a ``.npy`` file, then a single array is returned.\n",
      "    - If the file is a ``.npz`` file, then a dictionary-like object is\n",
      "      returned, containing ``{filename: array}`` key-value pairs, one for\n",
      "      each file in the archive.\n",
      "    - If the file is a ``.npz`` file, the returned value supports the\n",
      "      context manager protocol in a similar fashion to the open function::\n",
      "    \n",
      "        with load('foo.npz') as data:\n",
      "            a = data['a']\n",
      "    \n",
      "      The underlying file descriptor is closed when exiting the 'with'\n",
      "      block.\n",
      "    \n",
      "    Examples\n",
      "    --------\n",
      "    Store data to disk, and load it again:\n",
      "    \n",
      "    >>> np.save('/tmp/123', np.array([[1, 2, 3], [4, 5, 6]]))\n",
      "    >>> np.load('/tmp/123.npy')\n",
      "    array([[1, 2, 3],\n",
      "           [4, 5, 6]])\n",
      "    \n",
      "    Store compressed data to disk, and load it again:\n",
      "    \n",
      "    >>> a=np.array([[1, 2, 3], [4, 5, 6]])\n",
      "    >>> b=np.array([1, 2])\n",
      "    >>> np.savez('/tmp/123.npz', a=a, b=b)\n",
      "    >>> data = np.load('/tmp/123.npz')\n",
      "    >>> data['a']\n",
      "    array([[1, 2, 3],\n",
      "           [4, 5, 6]])\n",
      "    >>> data['b']\n",
      "    array([1, 2])\n",
      "    >>> data.close()\n",
      "    \n",
      "    Mem-map the stored array, and then access the second row\n",
      "    directly from disk:\n",
      "    \n",
      "    >>> X = np.load('/tmp/123.npy', mmap_mode='r')\n",
      "    >>> X[1, :]\n",
      "    memmap([4, 5, 6])\n",
      "\n"
     ]
    }
   ],
   "source": [
    "help(np.load)"
   ]
  },
  {
   "cell_type": "code",
   "execution_count": 37,
   "id": "fdd6826d",
   "metadata": {},
   "outputs": [],
   "source": [
    "!mkdir data"
   ]
  },
  {
   "cell_type": "code",
   "execution_count": 38,
   "id": "337abb10",
   "metadata": {},
   "outputs": [],
   "source": [
    "filename = 'data/array_ex.csv'"
   ]
  },
  {
   "cell_type": "markdown",
   "id": "2ca951f2",
   "metadata": {},
   "source": [
    "*미리 확인하고 들어간다"
   ]
  },
  {
   "cell_type": "code",
   "execution_count": 42,
   "id": "e890e459",
   "metadata": {},
   "outputs": [
    {
     "data": {
      "text/plain": [
       "'data/array_ex.csv is deleted !'"
      ]
     },
     "execution_count": 42,
     "metadata": {},
     "output_type": "execute_result"
    }
   ],
   "source": [
    "delete_file(filename)"
   ]
  },
  {
   "cell_type": "code",
   "execution_count": 43,
   "id": "928575c4",
   "metadata": {},
   "outputs": [],
   "source": [
    "data = '''\\\n",
    " 0.580052,  0.186730,  1.040717,  1.134411\n",
    " 0.194163, -0.636917, -0.938659,  0.124094\n",
    "-0.126410,  0.268607, -0.695724,  0.047428\n",
    "-1.484413,  0.004176, -0.744203,  0.005487\n",
    " 2.302869,  0.200131,  1.670238, -1.881090\n",
    "-0.193230,  1.047233,  0.482803,  0.960334\\\n",
    "'''\n",
    "with open(filename, 'w') as fp:\n",
    "    fp.write(data)\n",
    "    \n",
    "with open(filename, 'w') as fp:\n",
    "    fp.write(data)"
   ]
  },
  {
   "cell_type": "code",
   "execution_count": 44,
   "id": "d34d7ff6",
   "metadata": {},
   "outputs": [
    {
     "name": "stdout",
     "output_type": "stream",
     "text": [
      " 0.580052,  0.186730,  1.040717,  1.134411\n",
      " 0.194163, -0.636917, -0.938659,  0.124094\n",
      "-0.126410,  0.268607, -0.695724,  0.047428\n",
      "-1.484413,  0.004176, -0.744203,  0.005487\n",
      " 2.302869,  0.200131,  1.670238, -1.881090\n",
      "-0.193230,  1.047233,  0.482803,  0.960334\n"
     ]
    }
   ],
   "source": [
    "with open(filename, 'r') as fp:    \n",
    "    data = fp.read()\n",
    "    \n",
    "with open(filename, 'r') as fp:\n",
    "    data = fp.read()\n",
    "    \n",
    "print(data)\n"
   ]
  },
  {
   "cell_type": "markdown",
   "id": "df0a3efc",
   "metadata": {},
   "source": [
    "*array로 불러올 수 있는 방법"
   ]
  },
  {
   "cell_type": "code",
   "execution_count": 45,
   "id": "251b8d34",
   "metadata": {},
   "outputs": [
    {
     "data": {
      "text/plain": [
       "array([[ 0.580052,  0.18673 ,  1.040717,  1.134411],\n",
       "       [ 0.194163, -0.636917, -0.938659,  0.124094],\n",
       "       [-0.12641 ,  0.268607, -0.695724,  0.047428],\n",
       "       [-1.484413,  0.004176, -0.744203,  0.005487],\n",
       "       [ 2.302869,  0.200131,  1.670238, -1.88109 ],\n",
       "       [-0.19323 ,  1.047233,  0.482803,  0.960334]])"
      ]
     },
     "execution_count": 45,
     "metadata": {},
     "output_type": "execute_result"
    }
   ],
   "source": [
    "arr = np.loadtxt(filename, delimiter=',')\n",
    "arr = np.loadtxt(filename, delimiter=',')"
   ]
  },
  {
   "cell_type": "code",
   "execution_count": 46,
   "id": "28ac6639",
   "metadata": {},
   "outputs": [
    {
     "data": {
      "text/plain": [
       "array([[1., 2., 3.],\n",
       "       [4., 5., 6.]])"
      ]
     },
     "execution_count": 46,
     "metadata": {},
     "output_type": "execute_result"
    }
   ],
   "source": [
    "x = np.array([[1., 2., 3.], [4., 5., 6.]])\n",
    "x"
   ]
  },
  {
   "cell_type": "code",
   "execution_count": 47,
   "id": "5d90810f",
   "metadata": {},
   "outputs": [
    {
     "data": {
      "text/plain": [
       "array([[ 6., 23.],\n",
       "       [-1.,  7.],\n",
       "       [ 8.,  9.]])"
      ]
     },
     "execution_count": 47,
     "metadata": {},
     "output_type": "execute_result"
    }
   ],
   "source": [
    "y = np.array([[6., 23.], [-1, 7], [8, 9]])\n",
    "y"
   ]
  },
  {
   "cell_type": "code",
   "execution_count": 48,
   "id": "66bfd22a",
   "metadata": {},
   "outputs": [
    {
     "data": {
      "text/plain": [
       "array([[ 28.,  64.],\n",
       "       [ 67., 181.]])"
      ]
     },
     "execution_count": 48,
     "metadata": {},
     "output_type": "execute_result"
    }
   ],
   "source": [
    "x.dot(y)  # equivalently np.dot(x, y)"
   ]
  },
  {
   "cell_type": "code",
   "execution_count": 51,
   "id": "07af963a",
   "metadata": {},
   "outputs": [
    {
     "data": {
      "text/plain": [
       "array([[1., 2., 3.],\n",
       "       [4., 5., 6.]])"
      ]
     },
     "execution_count": 51,
     "metadata": {},
     "output_type": "execute_result"
    }
   ],
   "source": [
    "x"
   ]
  },
  {
   "cell_type": "code",
   "execution_count": 52,
   "id": "9318f8fa",
   "metadata": {},
   "outputs": [
    {
     "data": {
      "text/plain": [
       "array([[ 6., 23.],\n",
       "       [-1.,  7.],\n",
       "       [ 8.,  9.]])"
      ]
     },
     "execution_count": 52,
     "metadata": {},
     "output_type": "execute_result"
    }
   ],
   "source": [
    "y"
   ]
  },
  {
   "cell_type": "code",
   "execution_count": 54,
   "id": "2204d737",
   "metadata": {},
   "outputs": [
    {
     "data": {
      "text/plain": [
       "array([[ 28.,  64.],\n",
       "       [ 67., 181.]])"
      ]
     },
     "execution_count": 54,
     "metadata": {},
     "output_type": "execute_result"
    }
   ],
   "source": [
    "x@y"
   ]
  },
  {
   "cell_type": "code",
   "execution_count": 61,
   "id": "361dd2cc",
   "metadata": {
    "scrolled": true
   },
   "outputs": [
    {
     "data": {
      "text/plain": [
       "array([ 6., 15.])"
      ]
     },
     "execution_count": 61,
     "metadata": {},
     "output_type": "execute_result"
    }
   ],
   "source": [
    "np.dot(x, np.ones(3))"
   ]
  },
  {
   "cell_type": "code",
   "execution_count": 108,
   "id": "2095e2f1",
   "metadata": {},
   "outputs": [
    {
     "data": {
      "text/plain": [
       "array([29.,  6., 17.])"
      ]
     },
     "execution_count": 108,
     "metadata": {},
     "output_type": "execute_result"
    }
   ],
   "source": [
    "np.dot(y, np.ones(2))"
   ]
  },
  {
   "cell_type": "code",
   "execution_count": 109,
   "id": "1c7277f2",
   "metadata": {},
   "outputs": [
    {
     "data": {
      "text/plain": [
       "array([1., 1.])"
      ]
     },
     "execution_count": 109,
     "metadata": {},
     "output_type": "execute_result"
    }
   ],
   "source": [
    "np.ones(2)"
   ]
  },
  {
   "cell_type": "code",
   "execution_count": 56,
   "id": "e332abdd",
   "metadata": {},
   "outputs": [],
   "source": [
    "? np.ones"
   ]
  },
  {
   "cell_type": "code",
   "execution_count": 107,
   "id": "af8b0e7c",
   "metadata": {},
   "outputs": [
    {
     "data": {
      "text/plain": [
       "array([37, 12, 72,  9, 75,  5])"
      ]
     },
     "execution_count": 107,
     "metadata": {},
     "output_type": "execute_result"
    }
   ],
   "source": [
    "np.random.seed(1)\n",
    "arr = np.random.randint(99,size = 6)\n",
    "arr"
   ]
  },
  {
   "cell_type": "code",
   "execution_count": 79,
   "id": "fa540833",
   "metadata": {},
   "outputs": [],
   "source": [
    "from random import normalvariate\n",
    "N = 1000000"
   ]
  },
  {
   "cell_type": "code",
   "execution_count": 71,
   "id": "c880711b",
   "metadata": {},
   "outputs": [
    {
     "name": "stdout",
     "output_type": "stream",
     "text": [
      "663 ms ± 2.86 ms per loop (mean ± std. dev. of 7 runs, 1 loop each)\n"
     ]
    }
   ],
   "source": [
    "%timeit samples = [normalvariate(0, 1) for _ in range(N)]"
   ]
  },
  {
   "cell_type": "code",
   "execution_count": 72,
   "id": "72641d7d",
   "metadata": {},
   "outputs": [
    {
     "name": "stdout",
     "output_type": "stream",
     "text": [
      "22.3 ms ± 31.9 µs per loop (mean ± std. dev. of 7 runs, 10 loops each)\n"
     ]
    }
   ],
   "source": [
    "%timeit np.random.normal(size = N)"
   ]
  },
  {
   "cell_type": "code",
   "execution_count": null,
   "id": "edc275ac",
   "metadata": {},
   "outputs": [],
   "source": []
  }
 ],
 "metadata": {
  "kernelspec": {
   "display_name": "Python 3 (ipykernel)",
   "language": "python",
   "name": "python3"
  },
  "language_info": {
   "codemirror_mode": {
    "name": "ipython",
    "version": 3
   },
   "file_extension": ".py",
   "mimetype": "text/x-python",
   "name": "python",
   "nbconvert_exporter": "python",
   "pygments_lexer": "ipython3",
   "version": "3.9.12"
  }
 },
 "nbformat": 4,
 "nbformat_minor": 5
}
