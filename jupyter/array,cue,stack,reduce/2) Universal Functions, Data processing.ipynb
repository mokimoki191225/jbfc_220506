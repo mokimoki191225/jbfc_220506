{
 "cells": [
  {
   "cell_type": "code",
   "execution_count": 1,
   "id": "50b05b25",
   "metadata": {},
   "outputs": [
    {
     "name": "stdout",
     "output_type": "stream",
     "text": [
      "졸립다\n"
     ]
    }
   ],
   "source": [
    "print('졸립다')"
   ]
  },
  {
   "cell_type": "code",
   "execution_count": 1,
   "id": "397dc4aa",
   "metadata": {},
   "outputs": [],
   "source": [
    "from numpy.random import randn\n",
    "import numpy as np"
   ]
  },
  {
   "cell_type": "code",
   "execution_count": 3,
   "id": "ac8c6efe",
   "metadata": {},
   "outputs": [
    {
     "data": {
      "text/plain": [
       "array([0, 1, 2, 3, 4, 5, 6, 7, 8, 9])"
      ]
     },
     "execution_count": 3,
     "metadata": {},
     "output_type": "execute_result"
    }
   ],
   "source": [
    "arr = np.arange(10)\n",
    "arr"
   ]
  },
  {
   "cell_type": "code",
   "execution_count": 4,
   "id": "139baebc",
   "metadata": {},
   "outputs": [
    {
     "data": {
      "text/plain": [
       "array([0.        , 1.        , 1.41421356, 1.73205081, 2.        ,\n",
       "       2.23606798, 2.44948974, 2.64575131, 2.82842712, 3.        ])"
      ]
     },
     "execution_count": 4,
     "metadata": {},
     "output_type": "execute_result"
    }
   ],
   "source": [
    "np.sqrt(arr)"
   ]
  },
  {
   "cell_type": "code",
   "execution_count": 5,
   "id": "86bac124",
   "metadata": {},
   "outputs": [
    {
     "data": {
      "text/plain": [
       "array([1.00000000e+00, 2.71828183e+00, 7.38905610e+00, 2.00855369e+01,\n",
       "       5.45981500e+01, 1.48413159e+02, 4.03428793e+02, 1.09663316e+03,\n",
       "       2.98095799e+03, 8.10308393e+03])"
      ]
     },
     "execution_count": 5,
     "metadata": {},
     "output_type": "execute_result"
    }
   ],
   "source": [
    "np.exp(arr)"
   ]
  },
  {
   "cell_type": "code",
   "execution_count": 6,
   "id": "4f8b58fa",
   "metadata": {},
   "outputs": [
    {
     "data": {
      "text/plain": [
       "array([-0.17232333, -0.37100773,  0.06908523,  1.10874762, -0.94015886,\n",
       "       -0.68989155,  1.08545118,  0.91056103])"
      ]
     },
     "execution_count": 6,
     "metadata": {},
     "output_type": "execute_result"
    }
   ],
   "source": [
    "x = randn(8)\n",
    "x"
   ]
  },
  {
   "cell_type": "code",
   "execution_count": 7,
   "id": "49fdbf72",
   "metadata": {},
   "outputs": [
    {
     "data": {
      "text/plain": [
       "array([-0.70249477, -2.16102667, -1.19949877,  1.02973779,  0.27824077,\n",
       "        2.07973824,  0.63645205,  0.85127638])"
      ]
     },
     "execution_count": 7,
     "metadata": {},
     "output_type": "execute_result"
    }
   ],
   "source": [
    "y = randn(8)\n",
    "y"
   ]
  },
  {
   "cell_type": "code",
   "execution_count": 8,
   "id": "c9b5b90d",
   "metadata": {},
   "outputs": [
    {
     "data": {
      "text/plain": [
       "array([-0.17232333, -0.37100773,  0.06908523,  1.10874762,  0.27824077,\n",
       "        2.07973824,  1.08545118,  0.91056103])"
      ]
     },
     "execution_count": 8,
     "metadata": {},
     "output_type": "execute_result"
    }
   ],
   "source": [
    "np.maximum(x, y) # element-wise maximum"
   ]
  },
  {
   "cell_type": "code",
   "execution_count": 9,
   "id": "3fae90d5",
   "metadata": {},
   "outputs": [
    {
     "data": {
      "text/plain": [
       "array([ 8.13567871, -3.02322165, -1.46796639, -5.2760341 ,  5.14750921,\n",
       "        3.86895967, -0.25928173])"
      ]
     },
     "execution_count": 9,
     "metadata": {},
     "output_type": "execute_result"
    }
   ],
   "source": [
    "arr = randn(7) * 5\n",
    "arr"
   ]
  },
  {
   "cell_type": "code",
   "execution_count": 10,
   "id": "8c5656d0",
   "metadata": {},
   "outputs": [
    {
     "name": "stdout",
     "output_type": "stream",
     "text": [
      "Object `np.modf(arr)` not found.\n"
     ]
    }
   ],
   "source": [
    "?np.modf(arr)"
   ]
  },
  {
   "cell_type": "code",
   "execution_count": 11,
   "id": "1676dd38",
   "metadata": {},
   "outputs": [
    {
     "data": {
      "text/plain": [
       "(array([ 0.13567871, -0.02322165, -0.46796639, -0.2760341 ,  0.14750921,\n",
       "         0.86895967, -0.25928173]),\n",
       " array([ 8., -3., -1., -5.,  5.,  3., -0.]))"
      ]
     },
     "execution_count": 11,
     "metadata": {},
     "output_type": "execute_result"
    }
   ],
   "source": [
    "np.modf(arr)"
   ]
  },
  {
   "cell_type": "code",
   "execution_count": 12,
   "id": "fc974a34",
   "metadata": {},
   "outputs": [
    {
     "name": "stderr",
     "output_type": "stream",
     "text": [
      "C:\\Users\\student\\AppData\\Local\\Temp\\ipykernel_1740\\1530458482.py:1: RuntimeWarning: invalid value encountered in power\n",
      "  np.power(x, y) # element-wise maximum\n"
     ]
    },
    {
     "data": {
      "text/plain": [
       "array([        nan,         nan, 24.66925268,  1.11215655,         nan,\n",
       "               nan,  1.05357206,  0.92333812])"
      ]
     },
     "execution_count": 12,
     "metadata": {},
     "output_type": "execute_result"
    }
   ],
   "source": [
    "np.power(x, y) # element-wise maximum"
   ]
  },
  {
   "cell_type": "code",
   "execution_count": 13,
   "id": "67e75360",
   "metadata": {},
   "outputs": [
    {
     "data": {
      "text/plain": [
       "3"
      ]
     },
     "execution_count": 13,
     "metadata": {},
     "output_type": "execute_result"
    }
   ],
   "source": [
    "np.argmax(x)"
   ]
  },
  {
   "cell_type": "code",
   "execution_count": 1,
   "id": "fc36fbd3",
   "metadata": {},
   "outputs": [
    {
     "ename": "NameError",
     "evalue": "name 'np' is not defined",
     "output_type": "error",
     "traceback": [
      "\u001b[1;31m---------------------------------------------------------------------------\u001b[0m",
      "\u001b[1;31mNameError\u001b[0m                                 Traceback (most recent call last)",
      "Input \u001b[1;32mIn [1]\u001b[0m, in \u001b[0;36m<cell line: 1>\u001b[1;34m()\u001b[0m\n\u001b[1;32m----> 1\u001b[0m points \u001b[38;5;241m=\u001b[39m \u001b[43mnp\u001b[49m\u001b[38;5;241m.\u001b[39marange(\u001b[38;5;241m-\u001b[39m\u001b[38;5;241m5\u001b[39m, \u001b[38;5;241m5\u001b[39m, \u001b[38;5;241m0.01\u001b[39m) \u001b[38;5;66;03m# 1000 equally spaced points \u001b[39;00m\n\u001b[0;32m      2\u001b[0m points\n",
      "\u001b[1;31mNameError\u001b[0m: name 'np' is not defined"
     ]
    }
   ],
   "source": [
    "points = np.arange(-5, 5, 0.01) # 1000 equally spaced points \n",
    "points"
   ]
  },
  {
   "cell_type": "code",
   "execution_count": 2,
   "id": "aa2259ce",
   "metadata": {},
   "outputs": [],
   "source": [
    "from numpy.random import randn\n",
    "import numpy as np"
   ]
  },
  {
   "cell_type": "code",
   "execution_count": 21,
   "id": "7d3f013c",
   "metadata": {},
   "outputs": [
    {
     "data": {
      "text/plain": [
       "array([-1.00000000e+01, -9.90000000e+00, -9.80000000e+00, -9.70000000e+00,\n",
       "       -9.60000000e+00, -9.50000000e+00, -9.40000000e+00, -9.30000000e+00,\n",
       "       -9.20000000e+00, -9.10000000e+00, -9.00000000e+00, -8.90000000e+00,\n",
       "       -8.80000000e+00, -8.70000000e+00, -8.60000000e+00, -8.50000000e+00,\n",
       "       -8.40000000e+00, -8.30000000e+00, -8.20000000e+00, -8.10000000e+00,\n",
       "       -8.00000000e+00, -7.90000000e+00, -7.80000000e+00, -7.70000000e+00,\n",
       "       -7.60000000e+00, -7.50000000e+00, -7.40000000e+00, -7.30000000e+00,\n",
       "       -7.20000000e+00, -7.10000000e+00, -7.00000000e+00, -6.90000000e+00,\n",
       "       -6.80000000e+00, -6.70000000e+00, -6.60000000e+00, -6.50000000e+00,\n",
       "       -6.40000000e+00, -6.30000000e+00, -6.20000000e+00, -6.10000000e+00,\n",
       "       -6.00000000e+00, -5.90000000e+00, -5.80000000e+00, -5.70000000e+00,\n",
       "       -5.60000000e+00, -5.50000000e+00, -5.40000000e+00, -5.30000000e+00,\n",
       "       -5.20000000e+00, -5.10000000e+00, -5.00000000e+00, -4.90000000e+00,\n",
       "       -4.80000000e+00, -4.70000000e+00, -4.60000000e+00, -4.50000000e+00,\n",
       "       -4.40000000e+00, -4.30000000e+00, -4.20000000e+00, -4.10000000e+00,\n",
       "       -4.00000000e+00, -3.90000000e+00, -3.80000000e+00, -3.70000000e+00,\n",
       "       -3.60000000e+00, -3.50000000e+00, -3.40000000e+00, -3.30000000e+00,\n",
       "       -3.20000000e+00, -3.10000000e+00, -3.00000000e+00, -2.90000000e+00,\n",
       "       -2.80000000e+00, -2.70000000e+00, -2.60000000e+00, -2.50000000e+00,\n",
       "       -2.40000000e+00, -2.30000000e+00, -2.20000000e+00, -2.10000000e+00,\n",
       "       -2.00000000e+00, -1.90000000e+00, -1.80000000e+00, -1.70000000e+00,\n",
       "       -1.60000000e+00, -1.50000000e+00, -1.40000000e+00, -1.30000000e+00,\n",
       "       -1.20000000e+00, -1.10000000e+00, -1.00000000e+00, -9.00000000e-01,\n",
       "       -8.00000000e-01, -7.00000000e-01, -6.00000000e-01, -5.00000000e-01,\n",
       "       -4.00000000e-01, -3.00000000e-01, -2.00000000e-01, -1.00000000e-01,\n",
       "       -3.55271368e-14,  1.00000000e-01,  2.00000000e-01,  3.00000000e-01,\n",
       "        4.00000000e-01,  5.00000000e-01,  6.00000000e-01,  7.00000000e-01,\n",
       "        8.00000000e-01,  9.00000000e-01,  1.00000000e+00,  1.10000000e+00,\n",
       "        1.20000000e+00,  1.30000000e+00,  1.40000000e+00,  1.50000000e+00,\n",
       "        1.60000000e+00,  1.70000000e+00,  1.80000000e+00,  1.90000000e+00,\n",
       "        2.00000000e+00,  2.10000000e+00,  2.20000000e+00,  2.30000000e+00,\n",
       "        2.40000000e+00,  2.50000000e+00,  2.60000000e+00,  2.70000000e+00,\n",
       "        2.80000000e+00,  2.90000000e+00,  3.00000000e+00,  3.10000000e+00,\n",
       "        3.20000000e+00,  3.30000000e+00,  3.40000000e+00,  3.50000000e+00,\n",
       "        3.60000000e+00,  3.70000000e+00,  3.80000000e+00,  3.90000000e+00,\n",
       "        4.00000000e+00,  4.10000000e+00,  4.20000000e+00,  4.30000000e+00,\n",
       "        4.40000000e+00,  4.50000000e+00,  4.60000000e+00,  4.70000000e+00,\n",
       "        4.80000000e+00,  4.90000000e+00,  5.00000000e+00,  5.10000000e+00,\n",
       "        5.20000000e+00,  5.30000000e+00,  5.40000000e+00,  5.50000000e+00,\n",
       "        5.60000000e+00,  5.70000000e+00,  5.80000000e+00,  5.90000000e+00,\n",
       "        6.00000000e+00,  6.10000000e+00,  6.20000000e+00,  6.30000000e+00,\n",
       "        6.40000000e+00,  6.50000000e+00,  6.60000000e+00,  6.70000000e+00,\n",
       "        6.80000000e+00,  6.90000000e+00,  7.00000000e+00,  7.10000000e+00,\n",
       "        7.20000000e+00,  7.30000000e+00,  7.40000000e+00,  7.50000000e+00,\n",
       "        7.60000000e+00,  7.70000000e+00,  7.80000000e+00,  7.90000000e+00,\n",
       "        8.00000000e+00,  8.10000000e+00,  8.20000000e+00,  8.30000000e+00,\n",
       "        8.40000000e+00,  8.50000000e+00,  8.60000000e+00,  8.70000000e+00,\n",
       "        8.80000000e+00,  8.90000000e+00,  9.00000000e+00,  9.10000000e+00,\n",
       "        9.20000000e+00,  9.30000000e+00,  9.40000000e+00,  9.50000000e+00,\n",
       "        9.60000000e+00,  9.70000000e+00,  9.80000000e+00,  9.90000000e+00])"
      ]
     },
     "execution_count": 21,
     "metadata": {},
     "output_type": "execute_result"
    }
   ],
   "source": [
    "points = np.arange(-10, 10, 0.1) # 1000 equally spaced points \n",
    "points"
   ]
  },
  {
   "cell_type": "code",
   "execution_count": 4,
   "id": "e375069f",
   "metadata": {},
   "outputs": [
    {
     "data": {
      "text/plain": [
       "array([0, 1, 2, 3, 4, 5, 6, 7, 8, 9])"
      ]
     },
     "execution_count": 4,
     "metadata": {},
     "output_type": "execute_result"
    }
   ],
   "source": [
    "arr = np.arange(10)\n",
    "arr"
   ]
  },
  {
   "cell_type": "code",
   "execution_count": 19,
   "id": "8266e2a0",
   "metadata": {},
   "outputs": [
    {
     "data": {
      "text/plain": [
       "array([0.        , 1.        , 1.41421356, 1.73205081, 2.        ,\n",
       "       2.23606798, 2.44948974, 2.64575131, 2.82842712, 3.        ])"
      ]
     },
     "execution_count": 19,
     "metadata": {},
     "output_type": "execute_result"
    }
   ],
   "source": [
    "np.sqrt(arr)"
   ]
  },
  {
   "cell_type": "code",
   "execution_count": 6,
   "id": "2c1d6b68",
   "metadata": {},
   "outputs": [
    {
     "data": {
      "text/plain": [
       "array([1.00000000e+00, 2.71828183e+00, 7.38905610e+00, 2.00855369e+01,\n",
       "       5.45981500e+01, 1.48413159e+02, 4.03428793e+02, 1.09663316e+03,\n",
       "       2.98095799e+03, 8.10308393e+03])"
      ]
     },
     "execution_count": 6,
     "metadata": {},
     "output_type": "execute_result"
    }
   ],
   "source": [
    "np.exp(arr)"
   ]
  },
  {
   "cell_type": "code",
   "execution_count": 7,
   "id": "b1c98d75",
   "metadata": {},
   "outputs": [
    {
     "data": {
      "text/plain": [
       "array([ 0.8258775 , -1.30038205,  1.30376923, -2.1624158 , -0.50966776,\n",
       "       -0.71173559, -1.20741226, -0.91004727])"
      ]
     },
     "execution_count": 7,
     "metadata": {},
     "output_type": "execute_result"
    }
   ],
   "source": [
    "x = randn(8)\n",
    "x"
   ]
  },
  {
   "cell_type": "code",
   "execution_count": 8,
   "id": "0bb8cd9d",
   "metadata": {},
   "outputs": [
    {
     "data": {
      "text/plain": [
       "array([-2.19995205,  0.18751383,  0.24498548, -0.39536916, -1.01234353,\n",
       "       -2.00162946,  0.66691664,  0.14285823])"
      ]
     },
     "execution_count": 8,
     "metadata": {},
     "output_type": "execute_result"
    }
   ],
   "source": [
    "y = randn(8)\n",
    "y"
   ]
  },
  {
   "cell_type": "code",
   "execution_count": 22,
   "id": "d3368ffc",
   "metadata": {},
   "outputs": [],
   "source": [
    "xs, ys = np.meshgrid(points, points)"
   ]
  },
  {
   "cell_type": "code",
   "execution_count": 23,
   "id": "036a64e2",
   "metadata": {},
   "outputs": [
    {
     "data": {
      "text/plain": [
       "array([[-10. ,  -9.9,  -9.8, ...,   9.7,   9.8,   9.9],\n",
       "       [-10. ,  -9.9,  -9.8, ...,   9.7,   9.8,   9.9],\n",
       "       [-10. ,  -9.9,  -9.8, ...,   9.7,   9.8,   9.9],\n",
       "       ...,\n",
       "       [-10. ,  -9.9,  -9.8, ...,   9.7,   9.8,   9.9],\n",
       "       [-10. ,  -9.9,  -9.8, ...,   9.7,   9.8,   9.9],\n",
       "       [-10. ,  -9.9,  -9.8, ...,   9.7,   9.8,   9.9]])"
      ]
     },
     "execution_count": 23,
     "metadata": {},
     "output_type": "execute_result"
    }
   ],
   "source": [
    "xs"
   ]
  },
  {
   "cell_type": "code",
   "execution_count": 24,
   "id": "42e9a2b2",
   "metadata": {},
   "outputs": [],
   "source": [
    "from matplotlib.pyplot import imshow, title\n",
    "import matplotlib.pyplot as plt"
   ]
  },
  {
   "cell_type": "code",
   "execution_count": 25,
   "id": "e454e296",
   "metadata": {},
   "outputs": [
    {
     "data": {
      "text/plain": [
       "array([[14.14213562, 14.07160261, 14.0014285 , ..., 13.93161871,\n",
       "        14.0014285 , 14.07160261],\n",
       "       [14.07160261, 14.00071427, 13.93018306, ..., 13.86001443,\n",
       "        13.93018306, 14.00071427],\n",
       "       [14.0014285 , 13.93018306, 13.85929291, ..., 13.78876354,\n",
       "        13.85929291, 13.93018306],\n",
       "       ...,\n",
       "       [13.93161871, 13.86001443, 13.78876354, ..., 13.71787156,\n",
       "        13.78876354, 13.86001443],\n",
       "       [14.0014285 , 13.93018306, 13.85929291, ..., 13.78876354,\n",
       "        13.85929291, 13.93018306],\n",
       "       [14.07160261, 14.00071427, 13.93018306, ..., 13.86001443,\n",
       "        13.93018306, 14.00071427]])"
      ]
     },
     "execution_count": 25,
     "metadata": {},
     "output_type": "execute_result"
    }
   ],
   "source": [
    "z = np.sqrt(xs ** 2 + ys ** 2)\n",
    "z"
   ]
  },
  {
   "cell_type": "code",
   "execution_count": 26,
   "id": "57fb6f3f",
   "metadata": {},
   "outputs": [
    {
     "data": {
      "text/plain": [
       "<matplotlib.colorbar.Colorbar at 0x15d49ace5b0>"
      ]
     },
     "execution_count": 26,
     "metadata": {},
     "output_type": "execute_result"
    },
    {
     "data": {
      "image/png": "[encoded data removed]",
      "text/plain": [
       "<Figure size 432x288 with 2 Axes>"
      ]
     },
     "metadata": {
      "needs_background": "light"
     },
     "output_type": "display_data"
    }
   ],
   "source": [
    "plt.imshow(z, cmap=plt.cm.gray)\n",
    "plt.colorbar()"
   ]
  },
  {
   "cell_type": "code",
   "execution_count": 27,
   "id": "11913d39",
   "metadata": {},
   "outputs": [
    {
     "data": {
      "text/plain": [
       "Text(0.5, 1.0, 'Image plot of $\\\\sqrt{x^2 + y^2}$ for a grid of values')"
      ]
     },
     "execution_count": 27,
     "metadata": {},
     "output_type": "execute_result"
    },
    {
     "data": {
      "image/png": "[encoded data removed]",
      "text/plain": [
       "<Figure size 432x288 with 1 Axes>"
      ]
     },
     "metadata": {
      "needs_background": "light"
     },
     "output_type": "display_data"
    }
   ],
   "source": [
    "plt.title(\"Image plot of $\\sqrt{x^2 + y^2}$ for a grid of values\")"
   ]
  },
  {
   "cell_type": "code",
   "execution_count": 28,
   "id": "e142ae73",
   "metadata": {},
   "outputs": [
    {
     "data": {
      "image/png": "[encoded data removed]",
      "text/plain": [
       "<Figure size 432x288 with 2 Axes>"
      ]
     },
     "metadata": {
      "needs_background": "light"
     },
     "output_type": "display_data"
    }
   ],
   "source": [
    "plt.imshow(z, cmap=plt.cm.gray)\n",
    "plt.colorbar()\n",
    "plt.title(\"Image plot of $\\sqrt{x^2 + y^2}$ for a grid of values\")\n",
    "plt.draw()"
   ]
  },
  {
   "cell_type": "code",
   "execution_count": 29,
   "id": "33987881",
   "metadata": {},
   "outputs": [],
   "source": [
    "xarr = np.array([1.1, 1.2, 1.3, 1.4, 1.5])\n",
    "yarr = np.array([2.1, 2.2, 2.3, 2.4, 2.5])\n",
    "cond = np.array([True, False, True, True, False])"
   ]
  },
  {
   "cell_type": "markdown",
   "id": "ec7ebad5",
   "metadata": {},
   "source": [
    "* zip : 리스트별로 묶어서 반환한다."
   ]
  },
  {
   "cell_type": "code",
   "execution_count": 30,
   "id": "13383c1f",
   "metadata": {},
   "outputs": [
    {
     "data": {
      "text/plain": [
       "[1.1, 2.2, 1.3, 1.4, 2.5]"
      ]
     },
     "execution_count": 30,
     "metadata": {},
     "output_type": "execute_result"
    }
   ],
   "source": [
    "result = [(x if c else y)\n",
    "          for x, y, c in zip(xarr, yarr, cond)]\n",
    "result"
   ]
  },
  {
   "cell_type": "markdown",
   "id": "c72b4d4b",
   "metadata": {},
   "source": [
    "*where(bool, 참일때반환, 거짓일때 반환)"
   ]
  },
  {
   "cell_type": "code",
   "execution_count": 31,
   "id": "e4a71a80",
   "metadata": {},
   "outputs": [
    {
     "data": {
      "text/plain": [
       "array([1.1, 2.2, 1.3, 1.4, 2.5])"
      ]
     },
     "execution_count": 31,
     "metadata": {},
     "output_type": "execute_result"
    }
   ],
   "source": [
    "result = np.where(cond, xarr, yarr)\n",
    "result"
   ]
  },
  {
   "cell_type": "code",
   "execution_count": 32,
   "id": "063798cd",
   "metadata": {},
   "outputs": [
    {
     "data": {
      "text/plain": [
       "array([-2,  2,  2,  2,  2,  2,  2,  2,  2,  2])"
      ]
     },
     "execution_count": 32,
     "metadata": {},
     "output_type": "execute_result"
    }
   ],
   "source": [
    "np.where(arr > 0, 2, -2)"
   ]
  },
  {
   "cell_type": "code",
   "execution_count": 34,
   "id": "fca3b9c3",
   "metadata": {},
   "outputs": [
    {
     "data": {
      "text/plain": [
       "array([0, 2, 2, 2, 2, 2, 2, 2, 2, 2])"
      ]
     },
     "execution_count": 34,
     "metadata": {},
     "output_type": "execute_result"
    }
   ],
   "source": [
    "np.where(arr > 0, 2, arr) # set only positive values to 2"
   ]
  },
  {
   "cell_type": "code",
   "execution_count": 35,
   "id": "93fea0f7",
   "metadata": {},
   "outputs": [
    {
     "data": {
      "text/plain": [
       "array([[ 1.03784921, -0.61314197,  0.13077816,  0.17888535],\n",
       "       [ 0.9682655 , -0.33045262, -1.81681311,  0.5240922 ],\n",
       "       [-0.18136527, -0.2170431 , -0.71781517,  1.55062534],\n",
       "       [-0.72168479, -0.8588384 ,  0.78065943, -0.30038927]])"
      ]
     },
     "execution_count": 35,
     "metadata": {},
     "output_type": "execute_result"
    }
   ],
   "source": [
    "arr = randn(4, 4)\n",
    "arr"
   ]
  },
  {
   "cell_type": "code",
   "execution_count": 36,
   "id": "55fbbd9c",
   "metadata": {},
   "outputs": [
    {
     "data": {
      "text/plain": [
       "array([[ 2, -2,  2,  2],\n",
       "       [ 2, -2, -2,  2],\n",
       "       [-2, -2, -2,  2],\n",
       "       [-2, -2,  2, -2]])"
      ]
     },
     "execution_count": 36,
     "metadata": {},
     "output_type": "execute_result"
    }
   ],
   "source": [
    "np.where(arr > 0, 2, -2)"
   ]
  },
  {
   "cell_type": "code",
   "execution_count": 37,
   "id": "bb394bab",
   "metadata": {},
   "outputs": [
    {
     "data": {
      "text/plain": [
       "array([['양수', '음수', '양수', '양수'],\n",
       "       ['양수', '음수', '음수', '양수'],\n",
       "       ['음수', '음수', '음수', '양수'],\n",
       "       ['음수', '음수', '양수', '음수']], dtype='<U2')"
      ]
     },
     "execution_count": 37,
     "metadata": {},
     "output_type": "execute_result"
    }
   ],
   "source": [
    "np.where(arr > 0, '양수', '음수') # set only positive values to 2"
   ]
  },
  {
   "cell_type": "code",
   "execution_count": 38,
   "id": "50b45a65",
   "metadata": {},
   "outputs": [
    {
     "data": {
      "text/plain": [
       "array([[ 2.        , -0.61314197,  2.        ,  2.        ],\n",
       "       [ 2.        , -0.33045262, -1.81681311,  2.        ],\n",
       "       [-0.18136527, -0.2170431 , -0.71781517,  2.        ],\n",
       "       [-0.72168479, -0.8588384 ,  2.        , -0.30038927]])"
      ]
     },
     "execution_count": 38,
     "metadata": {},
     "output_type": "execute_result"
    }
   ],
   "source": [
    "np.where(arr > 0, 2, arr) # set only positive values to 2"
   ]
  },
  {
   "cell_type": "code",
   "execution_count": 43,
   "id": "bc7898c1",
   "metadata": {},
   "outputs": [
    {
     "data": {
      "text/plain": [
       "array([[-0.95018118,  1.86864301, -0.25571899, -0.86919937],\n",
       "       [-0.41172081, -0.97830521,  0.15718782,  0.34408054],\n",
       "       [ 0.13084592,  0.43406399, -0.41785598,  1.29225096],\n",
       "       [-1.00055593, -0.55228523,  0.41843829, -1.07112964],\n",
       "       [-1.18570331, -0.91486594, -0.18235692, -0.65956242]])"
      ]
     },
     "execution_count": 43,
     "metadata": {},
     "output_type": "execute_result"
    }
   ],
   "source": [
    "arr"
   ]
  },
  {
   "cell_type": "code",
   "execution_count": 40,
   "id": "65b87a28",
   "metadata": {},
   "outputs": [
    {
     "data": {
      "text/plain": [
       "-0.2401965182954533"
      ]
     },
     "execution_count": 40,
     "metadata": {},
     "output_type": "execute_result"
    }
   ],
   "source": [
    "arr.mean()"
   ]
  },
  {
   "cell_type": "code",
   "execution_count": 44,
   "id": "9b7c1555",
   "metadata": {},
   "outputs": [
    {
     "data": {
      "text/plain": [
       "1"
      ]
     },
     "execution_count": 44,
     "metadata": {},
     "output_type": "execute_result"
    }
   ],
   "source": [
    "arr.argmax()"
   ]
  },
  {
   "cell_type": "code",
   "execution_count": 42,
   "id": "05e0b8e6",
   "metadata": {},
   "outputs": [
    {
     "data": {
      "text/plain": [
       "array([-0.95018118,  0.91846184,  0.66274285, -0.20645652, -0.61817733,\n",
       "       -1.59648253, -1.43929472, -1.09521417, -0.96436825, -0.53030426,\n",
       "       -0.94816024,  0.34409073, -0.6564652 , -1.20875043, -0.79031214,\n",
       "       -1.86144177, -3.04714508, -3.96201102, -4.14436794, -4.80393037])"
      ]
     },
     "execution_count": 42,
     "metadata": {},
     "output_type": "execute_result"
    }
   ],
   "source": [
    "arr.cumsum()"
   ]
  },
  {
   "cell_type": "code",
   "execution_count": null,
   "id": "106d1607",
   "metadata": {},
   "outputs": [],
   "source": []
  },
  {
   "cell_type": "code",
   "execution_count": 39,
   "id": "8fa792da",
   "metadata": {},
   "outputs": [
    {
     "data": {
      "text/plain": [
       "array([[-0.95018118,  1.86864301, -0.25571899, -0.86919937],\n",
       "       [-0.41172081, -0.97830521,  0.15718782,  0.34408054],\n",
       "       [ 0.13084592,  0.43406399, -0.41785598,  1.29225096],\n",
       "       [-1.00055593, -0.55228523,  0.41843829, -1.07112964],\n",
       "       [-1.18570331, -0.91486594, -0.18235692, -0.65956242]])"
      ]
     },
     "execution_count": 39,
     "metadata": {},
     "output_type": "execute_result"
    }
   ],
   "source": [
    "arr = np.random.randn(5, 4) # normally-distributed data\n",
    "arr"
   ]
  },
  {
   "cell_type": "code",
   "execution_count": 45,
   "id": "6dfccd1e",
   "metadata": {},
   "outputs": [],
   "source": [
    "arr = np.random.randn(5,4)"
   ]
  },
  {
   "cell_type": "code",
   "execution_count": 46,
   "id": "4a290164",
   "metadata": {},
   "outputs": [
    {
     "data": {
      "text/plain": [
       "array([[-0.30614753, -0.65058005,  1.21483464, -0.41502752],\n",
       "       [ 1.84723303, -0.28840417,  0.68585471, -0.76452468],\n",
       "       [-0.6150129 ,  1.25909515,  1.27023293,  0.57603008],\n",
       "       [ 0.29110502, -0.264374  , -0.47373219, -1.57686503],\n",
       "       [-0.94393371,  0.63597387, -0.91057872, -1.32813947]])"
      ]
     },
     "execution_count": 46,
     "metadata": {},
     "output_type": "execute_result"
    }
   ],
   "source": [
    "arr"
   ]
  },
  {
   "cell_type": "code",
   "execution_count": 51,
   "id": "1833789f",
   "metadata": {},
   "outputs": [
    {
     "data": {
      "text/plain": [
       "array([ 0.08896797, -0.59293158, -0.23148799,  0.67739316,  0.23132694])"
      ]
     },
     "execution_count": 51,
     "metadata": {},
     "output_type": "execute_result"
    }
   ],
   "source": [
    "arr.mean(axis=1)"
   ]
  },
  {
   "cell_type": "code",
   "execution_count": 53,
   "id": "9da34349",
   "metadata": {},
   "outputs": [
    {
     "data": {
      "text/plain": [
       "array([ 0.36245518,  0.52623541,  0.55181271, -0.74742933])"
      ]
     },
     "execution_count": 53,
     "metadata": {},
     "output_type": "execute_result"
    }
   ],
   "source": [
    "arr.sum(0)"
   ]
  },
  {
   "cell_type": "code",
   "execution_count": 54,
   "id": "1d7ba39f",
   "metadata": {},
   "outputs": [
    {
     "data": {
      "text/plain": [
       "array([[0, 1, 2],\n",
       "       [3, 4, 5],\n",
       "       [6, 7, 8]])"
      ]
     },
     "execution_count": 54,
     "metadata": {},
     "output_type": "execute_result"
    }
   ],
   "source": [
    "arr = np.array([[0, 1, 2], [3, 4, 5], [6, 7, 8]])\n",
    "arr"
   ]
  },
  {
   "cell_type": "code",
   "execution_count": 55,
   "id": "1a0011fe",
   "metadata": {},
   "outputs": [
    {
     "data": {
      "text/plain": [
       "array([[ 0,  1,  2],\n",
       "       [ 3,  5,  7],\n",
       "       [ 9, 12, 15]], dtype=int32)"
      ]
     },
     "execution_count": 55,
     "metadata": {},
     "output_type": "execute_result"
    }
   ],
   "source": [
    "# 각 원소의 누적 합, axis=0을 기준으로 누적 더한다.\n",
    "arr.cumsum(0)"
   ]
  },
  {
   "cell_type": "code",
   "execution_count": 57,
   "id": "ef8f8b0d",
   "metadata": {},
   "outputs": [
    {
     "data": {
      "text/plain": [
       "array([[  0,   0,   0],\n",
       "       [  3,  12,  60],\n",
       "       [  6,  42, 336]], dtype=int32)"
      ]
     },
     "execution_count": 57,
     "metadata": {},
     "output_type": "execute_result"
    }
   ],
   "source": [
    "# 각 원소의 누적 곱, axis=1을 기준으로 누적 곱한다.\n",
    "arr.cumprod(1)"
   ]
  },
  {
   "cell_type": "markdown",
   "id": "41524fe4",
   "metadata": {},
   "source": [
    "*내가 예제"
   ]
  },
  {
   "cell_type": "code",
   "execution_count": 59,
   "id": "96be4aeb",
   "metadata": {},
   "outputs": [
    {
     "data": {
      "text/plain": [
       "array([[ 0,  1,  2,  9],\n",
       "       [ 3,  4,  5, 10],\n",
       "       [ 6,  7,  8, 11]])"
      ]
     },
     "execution_count": 59,
     "metadata": {},
     "output_type": "execute_result"
    }
   ],
   "source": [
    "arr = np.array([[0, 1, 2, 9], [3, 4, 5, 10], [6, 7, 8, 11]])\n",
    "arr"
   ]
  },
  {
   "cell_type": "code",
   "execution_count": 60,
   "id": "159c0dc4",
   "metadata": {},
   "outputs": [
    {
     "data": {
      "text/plain": [
       "array([[ 0,  1,  2,  9],\n",
       "       [ 3,  5,  7, 19],\n",
       "       [ 9, 12, 15, 30]], dtype=int32)"
      ]
     },
     "execution_count": 60,
     "metadata": {},
     "output_type": "execute_result"
    }
   ],
   "source": [
    "arr.cumsum(0)"
   ]
  },
  {
   "cell_type": "markdown",
   "id": "210385fd",
   "metadata": {},
   "source": [
    "*가로로 더한다."
   ]
  },
  {
   "cell_type": "code",
   "execution_count": 64,
   "id": "1dea06a8",
   "metadata": {},
   "outputs": [
    {
     "data": {
      "text/plain": [
       "array([[ 0,  1,  3, 12],\n",
       "       [ 3,  7, 12, 22],\n",
       "       [ 6, 13, 21, 32]], dtype=int32)"
      ]
     },
     "execution_count": 64,
     "metadata": {},
     "output_type": "execute_result"
    }
   ],
   "source": [
    "arr.cumsum(1)"
   ]
  },
  {
   "cell_type": "markdown",
   "id": "645a3aa4",
   "metadata": {},
   "source": [
    "*세로로 곱한다."
   ]
  },
  {
   "cell_type": "code",
   "execution_count": 62,
   "id": "2ab89ecc",
   "metadata": {},
   "outputs": [
    {
     "data": {
      "text/plain": [
       "array([[  0,   1,   2,   9],\n",
       "       [  0,   4,  10,  90],\n",
       "       [  0,  28,  80, 990]], dtype=int32)"
      ]
     },
     "execution_count": 62,
     "metadata": {},
     "output_type": "execute_result"
    }
   ],
   "source": [
    "arr.cumprod(0)"
   ]
  },
  {
   "cell_type": "markdown",
   "id": "5ab77e25",
   "metadata": {},
   "source": [
    "*블리언 배열"
   ]
  },
  {
   "cell_type": "code",
   "execution_count": 65,
   "id": "157748fd",
   "metadata": {},
   "outputs": [
    {
     "data": {
      "text/plain": [
       "array([ 0.11552393, -0.46944679, -0.5506094 , -0.74422187, -0.2093099 ,\n",
       "        0.48063616,  0.68931496, -2.69700472,  1.26536954, -0.98027483,\n",
       "       -0.02135969,  0.69097033,  0.52788968,  0.97703456,  0.98378231,\n",
       "        0.87462354,  0.31202959,  0.01894943,  0.55589791,  0.16878461,\n",
       "        0.10014951, -0.60818609,  1.87403467, -0.64033658, -1.40871154,\n",
       "        0.9597082 ,  0.20656792, -0.6373906 , -0.77940928,  0.58029716,\n",
       "       -0.45451506, -0.18557537,  0.73121123, -1.41612051, -1.0396203 ,\n",
       "        0.07845263,  1.70214909, -1.72435257,  1.65567944, -1.11295625,\n",
       "        0.70740188,  0.73386001,  0.50854083, -0.77343531,  2.42638266,\n",
       "        0.24810804,  0.27349693,  0.96175237, -0.48910258, -2.7021245 ,\n",
       "       -1.65589578, -0.37574025, -1.44580151,  0.47834885, -0.58598773,\n",
       "       -0.40249449, -0.38706792, -0.57806868, -0.86991175,  0.45221579,\n",
       "       -1.10003515, -2.87753439, -1.05698169, -0.42489315, -0.9015377 ,\n",
       "       -0.06310086,  0.15291149, -0.80570347, -1.93970596, -0.20513828,\n",
       "        1.40291901,  0.42656849, -0.40072721,  0.82446728, -0.73352673,\n",
       "       -1.12263668,  2.38526514, -1.12539827, -0.74379539,  4.44473014,\n",
       "       -0.04233065, -0.40659324,  0.92988841, -1.56141568, -1.417504  ,\n",
       "        0.25603029,  0.80992534,  0.94231918,  1.84888675,  0.61175456,\n",
       "        0.30459492, -1.03958987,  0.0523219 , -1.20767455, -1.37191871,\n",
       "       -0.4511794 , -0.42598663,  0.29614393, -0.89440814,  1.76770014])"
      ]
     },
     "execution_count": 65,
     "metadata": {},
     "output_type": "execute_result"
    }
   ],
   "source": [
    "arr = randn(100)\n",
    "arr"
   ]
  },
  {
   "cell_type": "code",
   "execution_count": 66,
   "id": "893df8e1",
   "metadata": {},
   "outputs": [
    {
     "data": {
      "text/plain": [
       "47"
      ]
     },
     "execution_count": 66,
     "metadata": {},
     "output_type": "execute_result"
    }
   ],
   "source": [
    "(arr > 0).sum() # Number of positive values"
   ]
  },
  {
   "cell_type": "code",
   "execution_count": 71,
   "id": "e07f7a6a",
   "metadata": {},
   "outputs": [
    {
     "data": {
      "text/plain": [
       "53"
      ]
     },
     "execution_count": 71,
     "metadata": {},
     "output_type": "execute_result"
    }
   ],
   "source": [
    "(arr<0).sum()"
   ]
  },
  {
   "cell_type": "code",
   "execution_count": 67,
   "id": "a643403b",
   "metadata": {},
   "outputs": [
    {
     "data": {
      "text/plain": [
       "array([False, False,  True, False])"
      ]
     },
     "execution_count": 67,
     "metadata": {},
     "output_type": "execute_result"
    }
   ],
   "source": [
    "bools = np.array([False, False, True, False])\n",
    "bools"
   ]
  },
  {
   "cell_type": "markdown",
   "id": "f2363d0e",
   "metadata": {},
   "source": [
    "* 한개라도 True이면 True 이다..."
   ]
  },
  {
   "cell_type": "code",
   "execution_count": 72,
   "id": "bf1c788f",
   "metadata": {},
   "outputs": [
    {
     "data": {
      "text/plain": [
       "True"
      ]
     },
     "execution_count": 72,
     "metadata": {},
     "output_type": "execute_result"
    }
   ],
   "source": [
    "bools.any()"
   ]
  },
  {
   "cell_type": "code",
   "execution_count": 73,
   "id": "d089fb0f",
   "metadata": {},
   "outputs": [
    {
     "data": {
      "text/plain": [
       "False"
      ]
     },
     "execution_count": 73,
     "metadata": {},
     "output_type": "execute_result"
    }
   ],
   "source": [
    "bools.all()"
   ]
  },
  {
   "cell_type": "raw",
   "id": "334ea2cf",
   "metadata": {},
   "source": [
    "# sorting"
   ]
  },
  {
   "cell_type": "code",
   "execution_count": 74,
   "id": "0174ba9d",
   "metadata": {},
   "outputs": [
    {
     "data": {
      "text/plain": [
       "array([ 0.72147451, -1.33036559, -0.42764868,  0.04290389, -0.87374968,\n",
       "       -0.25199975, -1.06694308,  0.01334373])"
      ]
     },
     "execution_count": 74,
     "metadata": {},
     "output_type": "execute_result"
    }
   ],
   "source": [
    "arr = randn(8)\n",
    "arr"
   ]
  },
  {
   "cell_type": "code",
   "execution_count": 75,
   "id": "35883e6a",
   "metadata": {},
   "outputs": [
    {
     "data": {
      "text/plain": [
       "array([-1.33036559, -1.06694308, -0.87374968, -0.42764868, -0.25199975,\n",
       "        0.01334373,  0.04290389,  0.72147451])"
      ]
     },
     "execution_count": 75,
     "metadata": {},
     "output_type": "execute_result"
    }
   ],
   "source": [
    "arr.sort()\n",
    "arr"
   ]
  },
  {
   "cell_type": "code",
   "execution_count": 76,
   "id": "6d004a33",
   "metadata": {},
   "outputs": [
    {
     "data": {
      "text/plain": [
       "array([[-0.02486417, -0.06790265,  0.59061613],\n",
       "       [ 1.0506028 ,  0.87583823, -0.12435166],\n",
       "       [ 0.34227092,  0.00554032, -1.11546283],\n",
       "       [-0.4770919 ,  1.4832892 ,  0.41018593],\n",
       "       [ 0.30051286, -0.82110135, -0.59053012]])"
      ]
     },
     "execution_count": 76,
     "metadata": {},
     "output_type": "execute_result"
    }
   ],
   "source": [
    "arr = randn(5, 3)\n",
    "arr"
   ]
  },
  {
   "cell_type": "code",
   "execution_count": 93,
   "id": "935a142b",
   "metadata": {},
   "outputs": [
    {
     "data": {
      "text/plain": [
       "array([[ 1.55243907, -0.07032014,  0.27328099,  0.70664788],\n",
       "       [ 0.39327502, -0.6346214 ,  0.20769791, -0.06358229],\n",
       "       [-0.59712064, -1.13775319,  0.4471821 , -0.68167663],\n",
       "       [ 0.77494114, -0.71030745, -1.10507004,  0.7863255 ],\n",
       "       [-0.02990851, -1.10092136,  1.367627  , -0.62580176]])"
      ]
     },
     "execution_count": 93,
     "metadata": {},
     "output_type": "execute_result"
    }
   ],
   "source": [
    "arr = np.random.randn(5,4)\n",
    "arr"
   ]
  },
  {
   "cell_type": "code",
   "execution_count": 81,
   "id": "7507c1d8",
   "metadata": {},
   "outputs": [
    {
     "data": {
      "text/plain": [
       "array([[-0.44353102,  0.00733457,  0.01428172,  0.31202044],\n",
       "       [-0.19293067,  0.0288197 ,  0.03336301,  0.49337016],\n",
       "       [-1.57082777, -1.23607492, -1.18092044,  1.10213195],\n",
       "       [-0.72865354, -0.01188402, -0.00258954,  1.25656708],\n",
       "       [-0.57752657, -0.2583718 ,  1.08474508,  1.17337452]])"
      ]
     },
     "execution_count": 81,
     "metadata": {},
     "output_type": "execute_result"
    }
   ],
   "source": [
    "arr.sort(1) # 세로기준으로 정렬\n",
    "arr"
   ]
  },
  {
   "cell_type": "code",
   "execution_count": 82,
   "id": "d26c7a01",
   "metadata": {},
   "outputs": [
    {
     "data": {
      "text/plain": [
       "array([[-1.57082777, -1.23607492, -1.18092044,  0.31202044],\n",
       "       [-0.72865354, -0.2583718 , -0.00258954,  0.49337016],\n",
       "       [-0.57752657, -0.01188402,  0.01428172,  1.10213195],\n",
       "       [-0.44353102,  0.00733457,  0.03336301,  1.17337452],\n",
       "       [-0.19293067,  0.0288197 ,  1.08474508,  1.25656708]])"
      ]
     },
     "execution_count": 82,
     "metadata": {},
     "output_type": "execute_result"
    }
   ],
   "source": [
    "arr.sort(0) # 가로기준으로 정렬\n",
    "arr"
   ]
  },
  {
   "cell_type": "code",
   "execution_count": 83,
   "id": "4fbdcdc3",
   "metadata": {},
   "outputs": [
    {
     "data": {
      "text/plain": [
       "array([ 6.52486465e-01,  6.82988357e-01,  1.99275135e-01,  3.84092843e-01,\n",
       "        5.37685238e-01, -1.52686749e+00,  1.36293619e+00,  2.87552587e-01,\n",
       "       -1.02365838e+00,  1.19803445e+00,  3.50697033e-01, -4.33975481e-01,\n",
       "        1.73902931e-01,  6.63644199e-01, -8.62800351e-02,  1.05389089e+00,\n",
       "        1.26260614e+00,  5.96433607e-01,  1.58059696e+00, -5.22170786e-02,\n",
       "        1.17650656e+00,  1.73491582e+00, -6.93931805e-01,  1.31294339e+00,\n",
       "       -2.21680339e-01, -4.34858923e-01, -5.19257680e-01,  4.14057317e-02,\n",
       "       -5.24979804e-01, -9.97363434e-01,  9.92628648e-01, -5.12092881e-01,\n",
       "        9.66653899e-02, -6.73177594e-01, -2.12440067e-01,  1.05665003e+00,\n",
       "       -4.43286910e-01,  2.10128290e+00, -1.82093134e+00,  1.93655638e-01,\n",
       "       -1.10531213e+00,  3.81147343e-01, -1.19055679e+00,  3.70778473e-01,\n",
       "        1.17695689e-01, -8.52157861e-02,  7.48432018e-01,  1.23453319e+00,\n",
       "       -8.42531893e-02,  4.06965095e-01, -1.32288999e+00,  1.04979877e-01,\n",
       "        1.06931226e+00,  1.86960006e-01,  2.73102504e-01, -7.66413085e-01,\n",
       "        2.35761109e+00, -1.12674785e+00,  2.61845015e-01,  1.50842254e-01,\n",
       "        5.37340193e-01,  4.59635672e-02, -5.98915779e-01, -3.35172023e-01,\n",
       "        5.12196208e-01, -1.37743598e+00,  3.44568254e-01,  5.13622285e-01,\n",
       "       -7.98791684e-01,  1.32586518e-01, -8.79479771e-02,  7.97900372e-01,\n",
       "       -1.65036283e+00, -9.91364619e-01, -8.99474650e-01, -2.34409647e-01,\n",
       "        3.88826470e-01,  1.14460711e+00,  1.59861493e+00,  1.80940777e+00,\n",
       "       -1.31469120e+00, -2.54042797e-01,  2.61623201e+00, -4.63289534e-01,\n",
       "        1.63756152e+00,  1.05585089e+00, -5.42836869e-01, -8.67581456e-02,\n",
       "       -1.44980176e+00, -3.12558232e-01,  6.03055432e-01, -7.33777505e-01,\n",
       "        5.41678247e-02,  1.63326424e+00,  5.43322213e-01,  7.33846971e-01,\n",
       "       -6.43809177e-01,  3.24446923e-02, -1.30974527e+00,  1.98313755e+00,\n",
       "        1.11908616e+00, -7.64995613e-01,  3.67795286e-01,  1.45434222e+00,\n",
       "       -1.39783871e+00, -1.33756452e-01,  1.32589256e+00,  3.37447025e+00,\n",
       "       -3.23390077e-01,  1.31855695e-01,  5.78438118e-01,  9.18013772e-01,\n",
       "       -6.97259285e-01,  1.46678406e+00, -2.29139396e-01, -8.12198582e-01,\n",
       "        1.26269435e+00,  2.55108254e-01, -2.84814223e+00, -8.88421587e-01,\n",
       "       -2.97595787e+00, -3.59050699e-01,  1.71438320e-02,  2.68288274e-01,\n",
       "       -1.18194542e+00, -9.76820767e-01,  5.42710996e-02,  1.09909392e-01,\n",
       "       -5.36009385e-02,  9.11485966e-01, -1.68024676e+00,  5.67215234e-01,\n",
       "       -1.16558174e+00,  8.47484414e-01,  7.31677870e-01, -9.38224100e-01,\n",
       "        1.42394018e+00, -3.06277411e-01, -2.56138852e-01, -4.61506290e-01,\n",
       "       -1.34610598e+00, -8.78944662e-01, -1.51293472e+00,  1.38589533e+00,\n",
       "        3.56454170e-01,  6.54292274e-01, -6.38539956e-01, -1.64613082e-01,\n",
       "        5.92426618e-01,  3.95427494e-01,  3.16977497e-01,  1.67743035e+00,\n",
       "       -8.65306316e-02,  8.52391683e-01,  5.18298970e-01,  3.82913169e-01,\n",
       "       -6.99029954e-01, -1.04350226e+00, -1.71268430e-02,  1.29159382e-01,\n",
       "       -2.03342960e-01, -1.68194638e+00, -4.01944865e-01, -6.58583630e-01,\n",
       "        9.24500903e-01, -1.72038089e+00,  9.24250736e-01,  1.12484436e+00,\n",
       "       -6.74336986e-01, -3.65679194e-01, -1.61663907e+00, -2.16403441e+00,\n",
       "        7.95875844e-02, -1.23529597e+00,  3.91803290e-01, -5.06168151e-01,\n",
       "        1.15216031e+00, -1.91127164e+00,  6.66128087e-02,  3.21336994e+00,\n",
       "       -8.12454517e-01, -1.42542337e+00, -1.08068803e+00,  2.44797811e-01,\n",
       "       -1.01241785e+00, -4.96714286e-01, -9.62610739e-01, -2.69862220e+00,\n",
       "       -2.80895481e-01,  1.41630723e+00,  1.03388650e+00,  2.15150572e+00,\n",
       "       -1.90101352e+00,  1.71491335e+00,  1.45399989e+00, -1.69570715e-02,\n",
       "       -1.24341305e+00,  1.43550467e+00, -4.44104914e-01, -8.90640549e-01,\n",
       "       -9.53239048e-01,  2.23630846e+00,  1.78863048e-01, -4.58170418e-01,\n",
       "        7.58057918e-01, -7.88058527e-01,  2.20142395e-01,  1.59678883e+00,\n",
       "        5.58030744e-01,  8.44489962e-02, -1.45515766e+00,  1.71719237e+00,\n",
       "       -9.86011044e-01,  2.18817060e+00,  2.68083177e+00, -1.99674491e+00,\n",
       "       -2.61724022e-02,  9.85820517e-01, -1.29327415e-01, -1.51399943e+00,\n",
       "        2.86562823e-05, -4.77078369e-02, -8.66240407e-01, -2.52913290e-01,\n",
       "       -6.40440443e-01,  1.14205627e+00, -1.18124544e+00, -1.18614143e+00,\n",
       "        1.86531863e+00, -3.00725314e-02, -7.88650027e-01,  9.17844692e-01,\n",
       "        3.75819488e-01,  1.52580975e-01,  1.43349183e+00, -1.41756063e-01,\n",
       "       -1.35621878e+00,  1.27072909e+00,  5.38970216e-01, -8.13181182e-01,\n",
       "       -1.68489387e-01,  7.17720776e-01, -4.23956328e-01, -1.08876330e+00,\n",
       "        1.57635839e+00, -6.11107884e-01, -7.89108184e-01,  3.20193192e-01,\n",
       "       -1.76783535e+00, -5.53583218e-01,  1.16731304e+00,  2.94295973e-02,\n",
       "        9.68460800e-01, -8.83341829e-01, -1.64027492e+00,  5.01590958e-01,\n",
       "       -3.22486827e-01,  1.11677839e+00, -1.63472856e+00, -1.45291897e+00,\n",
       "        3.67547253e-01,  8.68144068e-01, -2.69536066e+00,  7.74357089e-01,\n",
       "       -2.26156272e-01,  3.40583205e-02,  2.12318337e+00, -6.89964895e-01,\n",
       "        1.66889524e+00,  8.44323473e-01, -9.16789903e-01,  3.76967440e-02,\n",
       "        3.25678817e-01,  3.45861092e-01,  2.15293518e+00,  7.15138220e-01,\n",
       "       -7.43175928e-01,  1.63148604e+00,  3.04005468e-01,  1.20984686e+00,\n",
       "       -4.54730537e-01, -1.23793112e+00,  3.98159116e-01,  3.44684036e-01,\n",
       "       -6.64089642e-01,  6.81178756e-01, -7.16440120e-01, -4.79748769e-01,\n",
       "       -1.01933153e+00,  6.01740064e-01,  3.74053961e-01, -1.01208555e-01,\n",
       "       -3.42643068e-01,  9.38627149e-02,  2.37087567e-01, -1.08820596e+00,\n",
       "        4.68602094e-01,  1.08975779e+00,  6.05228670e-02, -1.24723963e+00,\n",
       "       -1.34220031e-01,  1.61673261e+00, -1.49525882e+00, -3.98626648e-01,\n",
       "       -1.90446792e+00,  9.71805144e-02, -5.69612745e-01,  1.19741165e+00,\n",
       "        1.79372318e-02, -8.57574053e-01, -2.25270120e-01,  9.13664663e-01,\n",
       "       -8.63291912e-01, -3.30466233e-01,  2.24826928e-01,  7.13532090e-01,\n",
       "        2.10770505e+00, -1.59805563e+00, -2.18048480e-01, -7.47330042e-01,\n",
       "        4.35993898e-01,  2.47496335e-01,  4.99543037e-01, -6.94304858e-01,\n",
       "       -5.99235296e-01,  2.68438999e-01,  1.69652534e-02,  1.10164910e+00,\n",
       "       -5.03589004e-01,  1.05313958e+00, -1.30992960e+00, -7.39670795e-01,\n",
       "        1.68269372e-01,  1.77972687e-01, -1.54096219e+00, -7.96292780e-02,\n",
       "       -1.57374272e+00, -1.56110394e+00, -2.16274870e+00, -1.63089611e-01,\n",
       "       -1.30208530e+00,  1.45181518e+00, -8.15490052e-03, -5.99825500e-01,\n",
       "        1.01429668e+00, -5.92207086e-01, -1.66828569e+00,  3.67855940e-01,\n",
       "       -2.07822139e+00, -1.06678653e-01,  6.40445626e-01, -1.26087702e+00,\n",
       "        1.97374636e-01,  3.87205356e-01, -2.81944576e-01,  1.00060099e+00,\n",
       "       -2.14277487e+00, -8.10851096e-01,  1.18803484e+00, -1.46373634e-01,\n",
       "        2.17441418e+00,  2.82588703e-01, -4.74916521e-01, -1.83962166e+00,\n",
       "        1.00475407e-01, -7.46347954e-01,  8.80410775e-01, -2.40451571e-01,\n",
       "       -1.29028752e+00, -1.03024391e+00, -1.31962294e+00, -4.86066354e-01,\n",
       "        1.66869259e+00,  7.84341842e-01, -5.18614635e-02,  1.33754125e-01,\n",
       "        2.18043320e+00,  1.10362913e+00, -5.00141075e-01, -2.22030762e-01,\n",
       "       -1.88125612e-01,  1.86525472e-01,  1.12690261e-01, -1.41503257e+00,\n",
       "       -1.41565066e+00,  1.12792486e+00,  9.80958322e-01, -2.73786597e-01,\n",
       "        1.15460808e-01, -9.11628536e-01, -1.06369136e+00,  5.47860443e-01,\n",
       "        1.75634797e+00, -7.74047500e-01,  5.50332710e-01,  2.12640074e+00,\n",
       "        7.65932195e-01,  1.20136538e-01, -1.11394719e+00,  1.07790571e+00,\n",
       "        1.81694618e-01, -2.95756032e-01, -5.73173606e-01,  2.11173420e-01,\n",
       "        6.18353083e-01,  6.20534155e-01,  1.21682898e+00,  2.89288725e+00,\n",
       "       -2.26085563e-01, -7.21966847e-01,  4.58095219e-01,  8.38058629e-01,\n",
       "        9.35032766e-01, -1.67365487e+00,  1.18704061e+00, -7.67307811e-02,\n",
       "       -4.02926443e-01,  5.26824436e-01,  9.22858495e-01,  1.42205277e+00,\n",
       "       -1.87367471e+00, -1.18485702e+00,  5.32996219e-01, -9.75518353e-01,\n",
       "       -2.00645809e-02,  9.66041694e-01,  2.21536139e-01,  1.38955282e+00,\n",
       "       -6.91899386e-01, -6.07122272e-01,  4.01138694e-01,  1.80820654e+00,\n",
       "       -1.50780919e+00,  1.79888892e+00,  1.34327072e+00,  6.96450399e-02,\n",
       "        1.30247207e-01, -4.06622411e-01, -3.71711377e-01, -6.40195807e-01,\n",
       "        1.54992259e+00, -2.47023964e-01, -1.74109804e-01, -1.15209121e-01,\n",
       "        2.57424637e-01,  1.07170562e+00,  1.63964689e+00, -1.11457232e-01,\n",
       "       -6.31518146e-01, -6.61496568e-01, -1.56165899e+00, -9.76364204e-01,\n",
       "       -1.54614208e-01,  6.79970488e-01,  3.06075673e-01, -2.95937598e-01,\n",
       "       -1.21648965e-01,  8.61133784e-01, -6.26781324e-02, -1.66063270e-01,\n",
       "       -4.31451493e-01,  1.06230732e+00, -9.24524701e-01,  9.84182987e-01,\n",
       "        4.59947481e-01, -1.37791528e-01,  2.62382124e+00, -1.32908297e+00,\n",
       "       -2.09733971e+00,  1.27883869e+00,  4.48136820e-01, -6.20598650e-01,\n",
       "        1.16333070e+00,  1.53120549e-01,  6.78279123e-01, -1.44651103e+00,\n",
       "        8.19831407e-01, -5.70611186e-01, -1.56385065e+00, -9.72887023e-01,\n",
       "       -7.13811966e-01,  8.02552861e-01, -4.70347293e-01, -1.15195814e+00,\n",
       "       -7.52761943e-01,  3.08679244e-01,  2.57941642e+00, -5.40180065e-01,\n",
       "       -1.83172554e+00,  1.14198760e+00, -1.27003219e+00, -3.72144099e-01,\n",
       "        8.94342811e-01,  1.33884440e+00, -4.22973319e-01,  7.44130919e-01,\n",
       "       -5.85945803e-01,  1.02709735e+00,  5.25261770e-01, -6.23968412e-01,\n",
       "       -2.23681424e-01,  1.07764508e+00, -1.16491351e+00, -1.99076768e+00,\n",
       "       -1.01929395e+00, -1.67646644e+00,  1.47078891e+00, -3.40646812e-01,\n",
       "        1.77711900e-01,  1.44523667e-01,  5.11803444e-01, -4.81986036e-01,\n",
       "       -2.66878279e+00,  2.15717516e-01,  1.07072563e+00, -4.37468134e-01,\n",
       "        7.36030408e-01,  2.65596621e-01, -2.98074996e-01, -1.57850038e+00,\n",
       "        1.94540476e+00, -8.61204876e-01, -2.52513146e-01, -1.09437475e+00,\n",
       "        1.44813632e+00,  1.68468101e+00,  2.06188890e-01,  7.91791911e-01,\n",
       "       -2.18799743e-02, -1.06397909e+00,  1.30664881e+00,  6.03445330e-01,\n",
       "       -1.42896026e+00, -3.29936761e-01,  1.29905377e-01, -2.64641685e+00,\n",
       "       -8.77202470e-01, -7.46787770e-02, -7.06237875e-01, -1.12036232e-01,\n",
       "       -5.05755741e-02, -5.35619466e-01,  1.78634828e+00, -7.38618553e-01,\n",
       "        1.17473188e-01,  1.09699208e+00,  1.73174986e-01,  1.98720889e-01,\n",
       "       -8.88107793e-02, -1.22364479e+00, -7.63918894e-01,  3.67916339e-01,\n",
       "        2.99463267e-01,  4.15343904e-01,  6.30166364e-01,  1.87568671e+00,\n",
       "        2.00075352e+00,  2.26594115e-01, -2.22499097e+00, -7.74966162e-01,\n",
       "        8.73717898e-01,  9.85688534e-01, -9.49831988e-01, -6.30665105e-01,\n",
       "        4.40607172e-01,  7.57449770e-01,  2.06645860e+00, -1.04173472e+00,\n",
       "        1.08472844e+00, -1.16050802e+00,  1.79447909e+00,  1.76342920e+00,\n",
       "       -2.05173245e+00, -1.43786941e+00, -3.70905991e-01,  2.32106774e-01,\n",
       "        1.34463182e+00, -1.01495840e-01, -1.21992158e+00, -5.85756837e-01,\n",
       "       -1.78059748e-01, -6.67578360e-01,  5.27790426e-01,  2.92289136e-02,\n",
       "       -8.72067950e-01,  7.94675336e-01,  3.50248518e-01,  1.35650414e+00,\n",
       "        1.06670395e+00, -8.18962554e-01, -1.33835556e+00, -1.69757505e+00,\n",
       "        4.09694021e-01,  5.38452561e-01, -4.32457945e-01, -8.01621019e-01,\n",
       "       -1.17353886e+00,  8.89099474e-01,  3.58523151e-01,  8.53525970e-01,\n",
       "        1.06100357e+00,  4.69964233e-01,  7.68699230e-01, -1.20835061e+00,\n",
       "        3.10449327e-01, -5.36206876e-01,  5.20363044e-01,  2.98710572e-01,\n",
       "       -5.53037578e-01,  4.02033436e-01,  3.88451793e-01, -6.11124223e-01,\n",
       "        8.44111282e-02,  1.94548788e-01, -1.36629399e-01,  1.34946553e+00,\n",
       "        3.67338473e-01,  5.35820888e-01, -1.57124973e+00,  6.19057386e-01,\n",
       "       -1.17309636e+00,  1.75617894e+00, -1.05223704e+00,  1.05087667e+00,\n",
       "       -3.19939849e-01,  7.52333768e-01, -1.02795430e+00, -2.40969220e+00,\n",
       "       -1.76710214e+00, -1.08749396e+00, -9.39848436e-02, -1.08173838e+00,\n",
       "        2.91939346e-01, -1.97219185e-01, -2.47054513e-01, -9.53474476e-01,\n",
       "       -1.05836995e+00,  1.45609520e+00,  4.93913788e-01, -3.56378529e-02,\n",
       "        5.57892325e-02,  5.18765653e-01, -3.19351977e-02,  5.96790231e-01,\n",
       "       -7.84651961e-01,  6.77185850e-01, -6.69736805e-02, -1.24952226e+00,\n",
       "       -1.04218720e-01,  7.11321903e-01, -2.27256000e-01,  2.05725418e-01,\n",
       "       -6.57259990e-03,  2.29366128e-01, -1.40404539e+00, -8.16103674e-01,\n",
       "        1.98744416e+00,  4.18763620e-01,  9.57468726e-03, -1.05723225e+00,\n",
       "       -2.66673687e-01, -5.55012300e-01,  6.52143463e-01,  2.02476151e+00,\n",
       "       -1.12458030e+00,  1.91017831e+00,  1.58683256e-01,  1.70184162e+00,\n",
       "        1.08087463e+00, -8.86318797e-01, -4.88619693e-02,  1.77269878e+00,\n",
       "        8.69828298e-01, -3.24310824e-01, -3.93248597e-01, -5.70819939e-01,\n",
       "       -4.36227508e-01, -1.57649238e+00, -9.09334699e-02, -3.03878095e-01,\n",
       "        1.59808285e-01,  6.36025221e-02, -7.59138249e-02, -1.56047618e-02,\n",
       "       -1.31830454e+00,  1.18209076e+00, -3.58052240e-01,  1.53145945e+00,\n",
       "       -4.39276773e-01,  5.37218654e-01,  1.46253176e+00, -2.45702924e-01,\n",
       "       -5.44645250e-01, -5.62905019e-01,  3.06518876e-01, -1.18978189e+00,\n",
       "       -4.63206244e-01, -4.63570080e-01, -5.15550635e-01,  8.86555297e-02,\n",
       "        9.25347472e-03, -8.38086747e-01,  5.44896220e-01, -5.45577780e-01,\n",
       "       -1.48034197e-01,  1.83480693e-01, -1.21846984e+00, -1.50600146e-01,\n",
       "        1.55283832e+00,  3.79076554e-01, -7.76370514e-01, -6.57092701e-01,\n",
       "       -5.07677422e-01,  2.93577776e-01, -1.53094772e+00, -2.13201343e-01,\n",
       "        4.06152751e-01,  2.74834541e-01, -3.22237123e-01, -7.25438114e-01,\n",
       "       -8.72461389e-02,  1.73843364e+00, -9.82001444e-01, -1.28043188e+00,\n",
       "       -1.92887405e+00,  1.77007380e-01,  2.60490012e+00,  1.51364638e+00,\n",
       "       -1.53980419e+00,  1.54515119e+00, -4.73719853e-01,  1.88824014e-01,\n",
       "       -1.42164995e+00, -6.30162453e-01,  9.77846539e-01, -1.36127162e+00,\n",
       "        2.96494264e-01, -1.35842554e-01, -2.49688465e-01,  3.96073601e-01,\n",
       "        1.97486900e-01, -2.02794038e-01,  6.11063969e-01, -1.18485404e-01,\n",
       "       -2.06070949e+00, -1.58795337e+00,  1.97425530e+00, -9.74680931e-02,\n",
       "       -1.74569814e-01,  2.71832848e-02,  7.68425324e-01,  6.65065605e-01,\n",
       "        7.32655455e-01,  1.91232812e-01, -2.33586226e-01,  1.34135423e+00,\n",
       "        2.91971834e-01,  6.05665708e-01, -5.68637351e-01,  1.52293632e-01,\n",
       "       -2.39930289e-02,  1.21529716e-01,  2.65535934e-01, -7.50581181e-02,\n",
       "        4.30627362e-01,  2.01401501e-01,  2.51985895e+00,  4.14596275e-01,\n",
       "       -6.67640852e-01,  7.41763639e-01,  8.66481116e-01,  1.11195317e+00,\n",
       "        5.22183054e-01,  3.09358464e-01,  1.57226256e-01, -1.28440153e+00,\n",
       "        1.02005799e+00, -7.21049367e-01, -7.93979025e-01,  1.31102526e+00,\n",
       "        1.46705748e-01,  1.06106910e+00,  1.89455517e-01,  1.03136072e+00,\n",
       "        6.68625785e-01, -6.70757503e-01, -7.16560424e-01, -9.97031386e-01,\n",
       "        7.77185587e-01,  1.11848927e+00, -8.32810312e-01, -1.08185874e+00,\n",
       "       -1.59383929e+00,  5.36034599e-01,  7.05548092e-01,  1.95144649e+00,\n",
       "        5.09668616e-01,  2.31301288e-01,  1.10190035e-01, -4.86739424e-02,\n",
       "       -1.24610671e+00, -8.02381077e-01, -1.27322223e-01, -2.27586529e+00,\n",
       "        7.09947406e-01, -4.61137238e-01,  1.97240490e+00, -1.48932367e+00,\n",
       "        1.22026524e+00,  1.52717642e-01,  1.04680583e-01,  9.12843327e-01,\n",
       "        1.57311904e+00, -3.34968536e-01,  6.97831116e-02,  7.91729404e-01,\n",
       "       -3.27130311e-01,  1.67369491e+00, -3.55562475e-02, -4.09749934e-01,\n",
       "       -1.09411574e+00,  1.02168082e+00, -1.38598734e+00, -6.25454872e-01,\n",
       "       -9.65216386e-01, -6.78095311e-01, -1.55885720e+00,  9.45654713e-02,\n",
       "       -3.20701854e-01,  1.18583673e+00, -1.62785957e+00,  7.45143266e-01,\n",
       "       -1.01760985e+00,  3.21431387e-02,  3.01122874e-01,  5.70257061e-01,\n",
       "       -4.28720928e-01,  1.06463170e-01, -2.39487709e-01, -5.27487519e-01,\n",
       "        1.07925306e-01,  1.39183073e+00, -1.29058523e+00,  1.07873944e+00,\n",
       "        1.24195356e+00,  1.37903832e+00,  5.59933843e-01, -2.70747176e-02,\n",
       "       -1.95552914e-01, -2.15242150e+00,  6.89221883e-01,  9.77363631e-01,\n",
       "        2.86900637e-01,  1.03072410e+00, -3.13093959e-01, -1.63606910e-01,\n",
       "        4.53965669e-01,  1.01838597e+00,  5.41054862e-01, -6.15764047e-01,\n",
       "        6.66459668e-01, -1.73697770e+00,  2.24510695e+00,  1.17185351e+00,\n",
       "        8.90516586e-01,  1.69998663e-01, -1.48132858e-01,  1.03050860e+00,\n",
       "        9.30207529e-01, -1.52513429e+00, -1.30349507e+00, -1.45766445e+00,\n",
       "       -6.37266287e-01,  1.35543047e+00,  4.39672606e-01,  3.89659506e-01,\n",
       "        7.20662502e-02, -5.39239685e-01, -1.49115653e+00, -9.49531459e-01,\n",
       "        1.53525267e+00,  2.19954140e-02, -2.36232961e+00, -4.59372570e-01,\n",
       "       -1.27240942e+00,  7.76423053e-03,  7.12716841e-01, -1.46641062e+00,\n",
       "       -3.15745304e-01, -4.59007679e-03,  1.49108391e-01, -9.94761712e-01,\n",
       "       -9.79371869e-01,  1.45852683e-01, -4.00094700e-01, -8.78909678e-01,\n",
       "       -1.90867973e-01,  8.47500929e-01,  1.00095047e+00,  1.79365129e-01,\n",
       "       -2.28497772e-01,  9.21640005e-02, -3.75436452e-01, -1.78437268e+00,\n",
       "       -2.19862160e+00, -7.64022310e-01,  6.67643239e-01, -1.34610009e+00,\n",
       "        5.50724866e-02,  1.15471335e+00,  1.31913371e+00,  1.40142182e+00,\n",
       "        3.82887587e-01, -6.98229957e-01,  2.35928071e-01,  9.09435615e-02,\n",
       "       -1.18826031e+00, -7.10063428e-01,  2.35234384e-01,  1.58138155e+00,\n",
       "       -4.05594490e-01, -1.45808376e+00, -7.55941746e-01,  5.03099618e-01,\n",
       "       -4.64935933e-01, -2.55161709e-01, -1.99546052e-01, -5.40855372e-01,\n",
       "        2.66858548e+00,  1.06421363e+00, -1.18462133e+00,  1.00385547e-01,\n",
       "       -1.29480096e+00, -5.03359977e-01,  1.32821520e+00, -1.00357768e-01,\n",
       "       -2.02908330e+00,  8.84483898e-01,  1.30817046e-01,  7.65478201e-01,\n",
       "        6.80749479e-01, -4.65722071e-01, -1.07221994e+00,  4.86231003e-01,\n",
       "       -2.39632994e+00, -9.13228383e-01, -3.31539130e-01, -2.62673390e+00,\n",
       "       -2.09223350e+00, -1.07850760e-02, -1.00966168e+00, -4.61376930e-01,\n",
       "        1.38645860e+00, -3.58038749e-01,  2.30687575e+00,  1.44926244e+00,\n",
       "       -2.24523764e-01, -6.72515532e-01,  8.63817368e-01, -1.19458496e+00,\n",
       "       -3.07952077e-01,  1.49034305e+00, -1.34105505e+00, -2.51732571e-01,\n",
       "        9.79937818e-01, -6.17696309e-01,  3.35128037e-01,  3.94487157e-02,\n",
       "       -1.55027279e+00, -4.60779511e-01, -4.56442676e-01, -6.37199941e-01,\n",
       "        6.68614427e-01,  2.27353924e-01,  2.22500893e-01,  9.30311148e-01,\n",
       "        1.79764815e-02, -5.23028344e-01,  9.29438699e-01, -1.18027891e-02,\n",
       "       -8.08410740e-01,  6.84413772e-01,  4.48306920e-01, -1.50925198e+00,\n",
       "        1.49146019e+00,  6.53271253e-01,  1.33951586e+00, -1.25848295e+00,\n",
       "        1.03383543e+00,  4.47707050e-01, -1.26658900e+00,  1.50249097e+00,\n",
       "        9.89673827e-01,  9.04180493e-01,  2.50189843e-01, -5.31046221e-01,\n",
       "       -9.41383940e-01, -5.41928984e-01, -1.71393362e-01,  1.05671970e+00])"
      ]
     },
     "execution_count": 83,
     "metadata": {},
     "output_type": "execute_result"
    }
   ],
   "source": [
    "large_arr = randn(1000)\n",
    "large_arr"
   ]
  },
  {
   "cell_type": "code",
   "execution_count": 84,
   "id": "423dfce2",
   "metadata": {},
   "outputs": [
    {
     "data": {
      "text/plain": [
       "array([-2.97595787e+00, -2.84814223e+00, -2.69862220e+00, -2.69536066e+00,\n",
       "       -2.66878279e+00, -2.64641685e+00, -2.62673390e+00, -2.40969220e+00,\n",
       "       -2.39632994e+00, -2.36232961e+00, -2.27586529e+00, -2.22499097e+00,\n",
       "       -2.19862160e+00, -2.16403441e+00, -2.16274870e+00, -2.15242150e+00,\n",
       "       -2.14277487e+00, -2.09733971e+00, -2.09223350e+00, -2.07822139e+00,\n",
       "       -2.06070949e+00, -2.05173245e+00, -2.02908330e+00, -1.99674491e+00,\n",
       "       -1.99076768e+00, -1.92887405e+00, -1.91127164e+00, -1.90446792e+00,\n",
       "       -1.90101352e+00, -1.87367471e+00, -1.83962166e+00, -1.83172554e+00,\n",
       "       -1.82093134e+00, -1.78437268e+00, -1.76783535e+00, -1.76710214e+00,\n",
       "       -1.73697770e+00, -1.72038089e+00, -1.69757505e+00, -1.68194638e+00,\n",
       "       -1.68024676e+00, -1.67646644e+00, -1.67365487e+00, -1.66828569e+00,\n",
       "       -1.65036283e+00, -1.64027492e+00, -1.63472856e+00, -1.62785957e+00,\n",
       "       -1.61663907e+00, -1.59805563e+00, -1.59383929e+00, -1.58795337e+00,\n",
       "       -1.57850038e+00, -1.57649238e+00, -1.57374272e+00, -1.57124973e+00,\n",
       "       -1.56385065e+00, -1.56165899e+00, -1.56110394e+00, -1.55885720e+00,\n",
       "       -1.55027279e+00, -1.54096219e+00, -1.53980419e+00, -1.53094772e+00,\n",
       "       -1.52686749e+00, -1.52513429e+00, -1.51399943e+00, -1.51293472e+00,\n",
       "       -1.50925198e+00, -1.50780919e+00, -1.49525882e+00, -1.49115653e+00,\n",
       "       -1.48932367e+00, -1.46641062e+00, -1.45808376e+00, -1.45766445e+00,\n",
       "       -1.45515766e+00, -1.45291897e+00, -1.44980176e+00, -1.44651103e+00,\n",
       "       -1.43786941e+00, -1.42896026e+00, -1.42542337e+00, -1.42164995e+00,\n",
       "       -1.41565066e+00, -1.41503257e+00, -1.40404539e+00, -1.39783871e+00,\n",
       "       -1.38598734e+00, -1.37743598e+00, -1.36127162e+00, -1.35621878e+00,\n",
       "       -1.34610598e+00, -1.34610009e+00, -1.34105505e+00, -1.33835556e+00,\n",
       "       -1.32908297e+00, -1.32288999e+00, -1.31962294e+00, -1.31830454e+00,\n",
       "       -1.31469120e+00, -1.30992960e+00, -1.30974527e+00, -1.30349507e+00,\n",
       "       -1.30208530e+00, -1.29480096e+00, -1.29058523e+00, -1.29028752e+00,\n",
       "       -1.28440153e+00, -1.28043188e+00, -1.27240942e+00, -1.27003219e+00,\n",
       "       -1.26658900e+00, -1.26087702e+00, -1.25848295e+00, -1.24952226e+00,\n",
       "       -1.24723963e+00, -1.24610671e+00, -1.24341305e+00, -1.23793112e+00,\n",
       "       -1.23529597e+00, -1.22364479e+00, -1.21992158e+00, -1.21846984e+00,\n",
       "       -1.20835061e+00, -1.19458496e+00, -1.19055679e+00, -1.18978189e+00,\n",
       "       -1.18826031e+00, -1.18614143e+00, -1.18485702e+00, -1.18462133e+00,\n",
       "       -1.18194542e+00, -1.18124544e+00, -1.17353886e+00, -1.17309636e+00,\n",
       "       -1.16558174e+00, -1.16491351e+00, -1.16050802e+00, -1.15195814e+00,\n",
       "       -1.12674785e+00, -1.12458030e+00, -1.11394719e+00, -1.10531213e+00,\n",
       "       -1.09437475e+00, -1.09411574e+00, -1.08876330e+00, -1.08820596e+00,\n",
       "       -1.08749396e+00, -1.08185874e+00, -1.08173838e+00, -1.08068803e+00,\n",
       "       -1.07221994e+00, -1.06397909e+00, -1.06369136e+00, -1.05836995e+00,\n",
       "       -1.05723225e+00, -1.05223704e+00, -1.04350226e+00, -1.04173472e+00,\n",
       "       -1.03024391e+00, -1.02795430e+00, -1.02365838e+00, -1.01933153e+00,\n",
       "       -1.01929395e+00, -1.01760985e+00, -1.01241785e+00, -1.00966168e+00,\n",
       "       -9.97363434e-01, -9.97031386e-01, -9.94761712e-01, -9.91364619e-01,\n",
       "       -9.86011044e-01, -9.82001444e-01, -9.79371869e-01, -9.76820767e-01,\n",
       "       -9.76364204e-01, -9.75518353e-01, -9.72887023e-01, -9.65216386e-01,\n",
       "       -9.62610739e-01, -9.53474476e-01, -9.53239048e-01, -9.49831988e-01,\n",
       "       -9.49531459e-01, -9.41383940e-01, -9.38224100e-01, -9.24524701e-01,\n",
       "       -9.16789903e-01, -9.13228383e-01, -9.11628536e-01, -8.99474650e-01,\n",
       "       -8.90640549e-01, -8.88421587e-01, -8.86318797e-01, -8.83341829e-01,\n",
       "       -8.78944662e-01, -8.78909678e-01, -8.77202470e-01, -8.72067950e-01,\n",
       "       -8.66240407e-01, -8.63291912e-01, -8.61204876e-01, -8.57574053e-01,\n",
       "       -8.38086747e-01, -8.32810312e-01, -8.18962554e-01, -8.16103674e-01,\n",
       "       -8.13181182e-01, -8.12454517e-01, -8.12198582e-01, -8.10851096e-01,\n",
       "       -8.08410740e-01, -8.02381077e-01, -8.01621019e-01, -7.98791684e-01,\n",
       "       -7.93979025e-01, -7.89108184e-01, -7.88650027e-01, -7.88058527e-01,\n",
       "       -7.84651961e-01, -7.76370514e-01, -7.74966162e-01, -7.74047500e-01,\n",
       "       -7.66413085e-01, -7.64995613e-01, -7.64022310e-01, -7.63918894e-01,\n",
       "       -7.55941746e-01, -7.52761943e-01, -7.47330042e-01, -7.46347954e-01,\n",
       "       -7.43175928e-01, -7.39670795e-01, -7.38618553e-01, -7.33777505e-01,\n",
       "       -7.25438114e-01, -7.21966847e-01, -7.21049367e-01, -7.16560424e-01,\n",
       "       -7.16440120e-01, -7.13811966e-01, -7.10063428e-01, -7.06237875e-01,\n",
       "       -6.99029954e-01, -6.98229957e-01, -6.97259285e-01, -6.94304858e-01,\n",
       "       -6.93931805e-01, -6.91899386e-01, -6.89964895e-01, -6.78095311e-01,\n",
       "       -6.74336986e-01, -6.73177594e-01, -6.72515532e-01, -6.70757503e-01,\n",
       "       -6.67640852e-01, -6.67578360e-01, -6.64089642e-01, -6.61496568e-01,\n",
       "       -6.58583630e-01, -6.57092701e-01, -6.43809177e-01, -6.40440443e-01,\n",
       "       -6.40195807e-01, -6.38539956e-01, -6.37266287e-01, -6.37199941e-01,\n",
       "       -6.31518146e-01, -6.30665105e-01, -6.30162453e-01, -6.25454872e-01,\n",
       "       -6.23968412e-01, -6.20598650e-01, -6.17696309e-01, -6.15764047e-01,\n",
       "       -6.11124223e-01, -6.11107884e-01, -6.07122272e-01, -5.99825500e-01,\n",
       "       -5.99235296e-01, -5.98915779e-01, -5.92207086e-01, -5.85945803e-01,\n",
       "       -5.85756837e-01, -5.73173606e-01, -5.70819939e-01, -5.70611186e-01,\n",
       "       -5.69612745e-01, -5.68637351e-01, -5.62905019e-01, -5.55012300e-01,\n",
       "       -5.53583218e-01, -5.53037578e-01, -5.45577780e-01, -5.44645250e-01,\n",
       "       -5.42836869e-01, -5.41928984e-01, -5.40855372e-01, -5.40180065e-01,\n",
       "       -5.39239685e-01, -5.36206876e-01, -5.35619466e-01, -5.31046221e-01,\n",
       "       -5.27487519e-01, -5.24979804e-01, -5.23028344e-01, -5.19257680e-01,\n",
       "       -5.15550635e-01, -5.12092881e-01, -5.07677422e-01, -5.06168151e-01,\n",
       "       -5.03589004e-01, -5.03359977e-01, -5.00141075e-01, -4.96714286e-01,\n",
       "       -4.86066354e-01, -4.81986036e-01, -4.79748769e-01, -4.74916521e-01,\n",
       "       -4.73719853e-01, -4.70347293e-01, -4.65722071e-01, -4.64935933e-01,\n",
       "       -4.63570080e-01, -4.63289534e-01, -4.63206244e-01, -4.61506290e-01,\n",
       "       -4.61376930e-01, -4.61137238e-01, -4.60779511e-01, -4.59372570e-01,\n",
       "       -4.58170418e-01, -4.56442676e-01, -4.54730537e-01, -4.44104914e-01,\n",
       "       -4.43286910e-01, -4.39276773e-01, -4.37468134e-01, -4.36227508e-01,\n",
       "       -4.34858923e-01, -4.33975481e-01, -4.32457945e-01, -4.31451493e-01,\n",
       "       -4.28720928e-01, -4.23956328e-01, -4.22973319e-01, -4.09749934e-01,\n",
       "       -4.06622411e-01, -4.05594490e-01, -4.02926443e-01, -4.01944865e-01,\n",
       "       -4.00094700e-01, -3.98626648e-01, -3.93248597e-01, -3.75436452e-01,\n",
       "       -3.72144099e-01, -3.71711377e-01, -3.70905991e-01, -3.65679194e-01,\n",
       "       -3.59050699e-01, -3.58052240e-01, -3.58038749e-01, -3.42643068e-01,\n",
       "       -3.40646812e-01, -3.35172023e-01, -3.34968536e-01, -3.31539130e-01,\n",
       "       -3.30466233e-01, -3.29936761e-01, -3.27130311e-01, -3.24310824e-01,\n",
       "       -3.23390077e-01, -3.22486827e-01, -3.22237123e-01, -3.20701854e-01,\n",
       "       -3.19939849e-01, -3.15745304e-01, -3.13093959e-01, -3.12558232e-01,\n",
       "       -3.07952077e-01, -3.06277411e-01, -3.03878095e-01, -2.98074996e-01,\n",
       "       -2.95937598e-01, -2.95756032e-01, -2.81944576e-01, -2.80895481e-01,\n",
       "       -2.73786597e-01, -2.66673687e-01, -2.56138852e-01, -2.55161709e-01,\n",
       "       -2.54042797e-01, -2.52913290e-01, -2.52513146e-01, -2.51732571e-01,\n",
       "       -2.49688465e-01, -2.47054513e-01, -2.47023964e-01, -2.45702924e-01,\n",
       "       -2.40451571e-01, -2.39487709e-01, -2.34409647e-01, -2.33586226e-01,\n",
       "       -2.29139396e-01, -2.28497772e-01, -2.27256000e-01, -2.26156272e-01,\n",
       "       -2.26085563e-01, -2.25270120e-01, -2.24523764e-01, -2.23681424e-01,\n",
       "       -2.22030762e-01, -2.21680339e-01, -2.18048480e-01, -2.13201343e-01,\n",
       "       -2.12440067e-01, -2.03342960e-01, -2.02794038e-01, -1.99546052e-01,\n",
       "       -1.97219185e-01, -1.95552914e-01, -1.90867973e-01, -1.88125612e-01,\n",
       "       -1.78059748e-01, -1.74569814e-01, -1.74109804e-01, -1.71393362e-01,\n",
       "       -1.68489387e-01, -1.66063270e-01, -1.64613082e-01, -1.63606910e-01,\n",
       "       -1.63089611e-01, -1.54614208e-01, -1.50600146e-01, -1.48132858e-01,\n",
       "       -1.48034197e-01, -1.46373634e-01, -1.41756063e-01, -1.37791528e-01,\n",
       "       -1.36629399e-01, -1.35842554e-01, -1.34220031e-01, -1.33756452e-01,\n",
       "       -1.29327415e-01, -1.27322223e-01, -1.21648965e-01, -1.18485404e-01,\n",
       "       -1.15209121e-01, -1.12036232e-01, -1.11457232e-01, -1.06678653e-01,\n",
       "       -1.04218720e-01, -1.01495840e-01, -1.01208555e-01, -1.00357768e-01,\n",
       "       -9.74680931e-02, -9.39848436e-02, -9.09334699e-02, -8.88107793e-02,\n",
       "       -8.79479771e-02, -8.72461389e-02, -8.67581456e-02, -8.65306316e-02,\n",
       "       -8.62800351e-02, -8.52157861e-02, -8.42531893e-02, -7.96292780e-02,\n",
       "       -7.67307811e-02, -7.59138249e-02, -7.50581181e-02, -7.46787770e-02,\n",
       "       -6.69736805e-02, -6.26781324e-02, -5.36009385e-02, -5.22170786e-02,\n",
       "       -5.18614635e-02, -5.05755741e-02, -4.88619693e-02, -4.86739424e-02,\n",
       "       -4.77078369e-02, -3.56378529e-02, -3.55562475e-02, -3.19351977e-02,\n",
       "       -3.00725314e-02, -2.70747176e-02, -2.61724022e-02, -2.39930289e-02,\n",
       "       -2.18799743e-02, -2.00645809e-02, -1.71268430e-02, -1.69570715e-02,\n",
       "       -1.56047618e-02, -1.18027891e-02, -1.07850760e-02, -8.15490052e-03,\n",
       "       -6.57259990e-03, -4.59007679e-03,  2.86562823e-05,  7.76423053e-03,\n",
       "        9.25347472e-03,  9.57468726e-03,  1.69652534e-02,  1.71438320e-02,\n",
       "        1.79372318e-02,  1.79764815e-02,  2.19954140e-02,  2.71832848e-02,\n",
       "        2.92289136e-02,  2.94295973e-02,  3.21431387e-02,  3.24446923e-02,\n",
       "        3.40583205e-02,  3.76967440e-02,  3.94487157e-02,  4.14057317e-02,\n",
       "        4.59635672e-02,  5.41678247e-02,  5.42710996e-02,  5.50724866e-02,\n",
       "        5.57892325e-02,  6.05228670e-02,  6.36025221e-02,  6.66128087e-02,\n",
       "        6.96450399e-02,  6.97831116e-02,  7.20662502e-02,  7.95875844e-02,\n",
       "        8.44111282e-02,  8.44489962e-02,  8.86555297e-02,  9.09435615e-02,\n",
       "        9.21640005e-02,  9.38627149e-02,  9.45654713e-02,  9.66653899e-02,\n",
       "        9.71805144e-02,  1.00385547e-01,  1.00475407e-01,  1.04680583e-01,\n",
       "        1.04979877e-01,  1.06463170e-01,  1.07925306e-01,  1.09909392e-01,\n",
       "        1.10190035e-01,  1.12690261e-01,  1.15460808e-01,  1.17473188e-01,\n",
       "        1.17695689e-01,  1.20136538e-01,  1.21529716e-01,  1.29159382e-01,\n",
       "        1.29905377e-01,  1.30247207e-01,  1.30817046e-01,  1.31855695e-01,\n",
       "        1.32586518e-01,  1.33754125e-01,  1.44523667e-01,  1.45852683e-01,\n",
       "        1.46705748e-01,  1.49108391e-01,  1.50842254e-01,  1.52293632e-01,\n",
       "        1.52580975e-01,  1.52717642e-01,  1.53120549e-01,  1.57226256e-01,\n",
       "        1.58683256e-01,  1.59808285e-01,  1.68269372e-01,  1.69998663e-01,\n",
       "        1.73174986e-01,  1.73902931e-01,  1.77007380e-01,  1.77711900e-01,\n",
       "        1.77972687e-01,  1.78863048e-01,  1.79365129e-01,  1.81694618e-01,\n",
       "        1.83480693e-01,  1.86525472e-01,  1.86960006e-01,  1.88824014e-01,\n",
       "        1.89455517e-01,  1.91232812e-01,  1.93655638e-01,  1.94548788e-01,\n",
       "        1.97374636e-01,  1.97486900e-01,  1.98720889e-01,  1.99275135e-01,\n",
       "        2.01401501e-01,  2.05725418e-01,  2.06188890e-01,  2.11173420e-01,\n",
       "        2.15717516e-01,  2.20142395e-01,  2.21536139e-01,  2.22500893e-01,\n",
       "        2.24826928e-01,  2.26594115e-01,  2.27353924e-01,  2.29366128e-01,\n",
       "        2.31301288e-01,  2.32106774e-01,  2.35234384e-01,  2.35928071e-01,\n",
       "        2.37087567e-01,  2.44797811e-01,  2.47496335e-01,  2.50189843e-01,\n",
       "        2.55108254e-01,  2.57424637e-01,  2.61845015e-01,  2.65535934e-01,\n",
       "        2.65596621e-01,  2.68288274e-01,  2.68438999e-01,  2.73102504e-01,\n",
       "        2.74834541e-01,  2.82588703e-01,  2.86900637e-01,  2.87552587e-01,\n",
       "        2.91939346e-01,  2.91971834e-01,  2.93577776e-01,  2.96494264e-01,\n",
       "        2.98710572e-01,  2.99463267e-01,  3.01122874e-01,  3.04005468e-01,\n",
       "        3.06075673e-01,  3.06518876e-01,  3.08679244e-01,  3.09358464e-01,\n",
       "        3.10449327e-01,  3.16977497e-01,  3.20193192e-01,  3.25678817e-01,\n",
       "        3.35128037e-01,  3.44568254e-01,  3.44684036e-01,  3.45861092e-01,\n",
       "        3.50248518e-01,  3.50697033e-01,  3.56454170e-01,  3.58523151e-01,\n",
       "        3.67338473e-01,  3.67547253e-01,  3.67795286e-01,  3.67855940e-01,\n",
       "        3.67916339e-01,  3.70778473e-01,  3.74053961e-01,  3.75819488e-01,\n",
       "        3.79076554e-01,  3.81147343e-01,  3.82887587e-01,  3.82913169e-01,\n",
       "        3.84092843e-01,  3.87205356e-01,  3.88451793e-01,  3.88826470e-01,\n",
       "        3.89659506e-01,  3.91803290e-01,  3.95427494e-01,  3.96073601e-01,\n",
       "        3.98159116e-01,  4.01138694e-01,  4.02033436e-01,  4.06152751e-01,\n",
       "        4.06965095e-01,  4.09694021e-01,  4.14596275e-01,  4.15343904e-01,\n",
       "        4.18763620e-01,  4.30627362e-01,  4.35993898e-01,  4.39672606e-01,\n",
       "        4.40607172e-01,  4.47707050e-01,  4.48136820e-01,  4.48306920e-01,\n",
       "        4.53965669e-01,  4.58095219e-01,  4.59947481e-01,  4.68602094e-01,\n",
       "        4.69964233e-01,  4.86231003e-01,  4.93913788e-01,  4.99543037e-01,\n",
       "        5.01590958e-01,  5.03099618e-01,  5.09668616e-01,  5.11803444e-01,\n",
       "        5.12196208e-01,  5.13622285e-01,  5.18298970e-01,  5.18765653e-01,\n",
       "        5.20363044e-01,  5.22183054e-01,  5.25261770e-01,  5.26824436e-01,\n",
       "        5.27790426e-01,  5.32996219e-01,  5.35820888e-01,  5.36034599e-01,\n",
       "        5.37218654e-01,  5.37340193e-01,  5.37685238e-01,  5.38452561e-01,\n",
       "        5.38970216e-01,  5.41054862e-01,  5.43322213e-01,  5.44896220e-01,\n",
       "        5.47860443e-01,  5.50332710e-01,  5.58030744e-01,  5.59933843e-01,\n",
       "        5.67215234e-01,  5.70257061e-01,  5.78438118e-01,  5.92426618e-01,\n",
       "        5.96433607e-01,  5.96790231e-01,  6.01740064e-01,  6.03055432e-01,\n",
       "        6.03445330e-01,  6.05665708e-01,  6.11063969e-01,  6.18353083e-01,\n",
       "        6.19057386e-01,  6.20534155e-01,  6.30166364e-01,  6.40445626e-01,\n",
       "        6.52143463e-01,  6.52486465e-01,  6.53271253e-01,  6.54292274e-01,\n",
       "        6.63644199e-01,  6.65065605e-01,  6.66459668e-01,  6.67643239e-01,\n",
       "        6.68614427e-01,  6.68625785e-01,  6.77185850e-01,  6.78279123e-01,\n",
       "        6.79970488e-01,  6.80749479e-01,  6.81178756e-01,  6.82988357e-01,\n",
       "        6.84413772e-01,  6.89221883e-01,  7.05548092e-01,  7.09947406e-01,\n",
       "        7.11321903e-01,  7.12716841e-01,  7.13532090e-01,  7.15138220e-01,\n",
       "        7.17720776e-01,  7.31677870e-01,  7.32655455e-01,  7.33846971e-01,\n",
       "        7.36030408e-01,  7.41763639e-01,  7.44130919e-01,  7.45143266e-01,\n",
       "        7.48432018e-01,  7.52333768e-01,  7.57449770e-01,  7.58057918e-01,\n",
       "        7.65478201e-01,  7.65932195e-01,  7.68425324e-01,  7.68699230e-01,\n",
       "        7.74357089e-01,  7.77185587e-01,  7.84341842e-01,  7.91729404e-01,\n",
       "        7.91791911e-01,  7.94675336e-01,  7.97900372e-01,  8.02552861e-01,\n",
       "        8.19831407e-01,  8.38058629e-01,  8.44323473e-01,  8.47484414e-01,\n",
       "        8.47500929e-01,  8.52391683e-01,  8.53525970e-01,  8.61133784e-01,\n",
       "        8.63817368e-01,  8.66481116e-01,  8.68144068e-01,  8.69828298e-01,\n",
       "        8.73717898e-01,  8.80410775e-01,  8.84483898e-01,  8.89099474e-01,\n",
       "        8.90516586e-01,  8.94342811e-01,  9.04180493e-01,  9.11485966e-01,\n",
       "        9.12843327e-01,  9.13664663e-01,  9.17844692e-01,  9.18013772e-01,\n",
       "        9.22858495e-01,  9.24250736e-01,  9.24500903e-01,  9.29438699e-01,\n",
       "        9.30207529e-01,  9.30311148e-01,  9.35032766e-01,  9.66041694e-01,\n",
       "        9.68460800e-01,  9.77363631e-01,  9.77846539e-01,  9.79937818e-01,\n",
       "        9.80958322e-01,  9.84182987e-01,  9.85688534e-01,  9.85820517e-01,\n",
       "        9.89673827e-01,  9.92628648e-01,  1.00060099e+00,  1.00095047e+00,\n",
       "        1.01429668e+00,  1.01838597e+00,  1.02005799e+00,  1.02168082e+00,\n",
       "        1.02709735e+00,  1.03050860e+00,  1.03072410e+00,  1.03136072e+00,\n",
       "        1.03383543e+00,  1.03388650e+00,  1.05087667e+00,  1.05313958e+00,\n",
       "        1.05389089e+00,  1.05585089e+00,  1.05665003e+00,  1.05671970e+00,\n",
       "        1.06100357e+00,  1.06106910e+00,  1.06230732e+00,  1.06421363e+00,\n",
       "        1.06670395e+00,  1.06931226e+00,  1.07072563e+00,  1.07170562e+00,\n",
       "        1.07764508e+00,  1.07790571e+00,  1.07873944e+00,  1.08087463e+00,\n",
       "        1.08472844e+00,  1.08975779e+00,  1.09699208e+00,  1.10164910e+00,\n",
       "        1.10362913e+00,  1.11195317e+00,  1.11677839e+00,  1.11848927e+00,\n",
       "        1.11908616e+00,  1.12484436e+00,  1.12792486e+00,  1.14198760e+00,\n",
       "        1.14205627e+00,  1.14460711e+00,  1.15216031e+00,  1.15471335e+00,\n",
       "        1.16333070e+00,  1.16731304e+00,  1.17185351e+00,  1.17650656e+00,\n",
       "        1.18209076e+00,  1.18583673e+00,  1.18704061e+00,  1.18803484e+00,\n",
       "        1.19741165e+00,  1.19803445e+00,  1.20984686e+00,  1.21682898e+00,\n",
       "        1.22026524e+00,  1.23453319e+00,  1.24195356e+00,  1.26260614e+00,\n",
       "        1.26269435e+00,  1.27072909e+00,  1.27883869e+00,  1.30664881e+00,\n",
       "        1.31102526e+00,  1.31294339e+00,  1.31913371e+00,  1.32589256e+00,\n",
       "        1.32821520e+00,  1.33884440e+00,  1.33951586e+00,  1.34135423e+00,\n",
       "        1.34327072e+00,  1.34463182e+00,  1.34946553e+00,  1.35543047e+00,\n",
       "        1.35650414e+00,  1.36293619e+00,  1.37903832e+00,  1.38589533e+00,\n",
       "        1.38645860e+00,  1.38955282e+00,  1.39183073e+00,  1.40142182e+00,\n",
       "        1.41630723e+00,  1.42205277e+00,  1.42394018e+00,  1.43349183e+00,\n",
       "        1.43550467e+00,  1.44813632e+00,  1.44926244e+00,  1.45181518e+00,\n",
       "        1.45399989e+00,  1.45434222e+00,  1.45609520e+00,  1.46253176e+00,\n",
       "        1.46678406e+00,  1.47078891e+00,  1.49034305e+00,  1.49146019e+00,\n",
       "        1.50249097e+00,  1.51364638e+00,  1.53145945e+00,  1.53525267e+00,\n",
       "        1.54515119e+00,  1.54992259e+00,  1.55283832e+00,  1.57311904e+00,\n",
       "        1.57635839e+00,  1.58059696e+00,  1.58138155e+00,  1.59678883e+00,\n",
       "        1.59861493e+00,  1.61673261e+00,  1.63148604e+00,  1.63326424e+00,\n",
       "        1.63756152e+00,  1.63964689e+00,  1.66869259e+00,  1.66889524e+00,\n",
       "        1.67369491e+00,  1.67743035e+00,  1.68468101e+00,  1.70184162e+00,\n",
       "        1.71491335e+00,  1.71719237e+00,  1.73491582e+00,  1.73843364e+00,\n",
       "        1.75617894e+00,  1.75634797e+00,  1.76342920e+00,  1.77269878e+00,\n",
       "        1.78634828e+00,  1.79447909e+00,  1.79888892e+00,  1.80820654e+00,\n",
       "        1.80940777e+00,  1.86531863e+00,  1.87568671e+00,  1.91017831e+00,\n",
       "        1.94540476e+00,  1.95144649e+00,  1.97240490e+00,  1.97425530e+00,\n",
       "        1.98313755e+00,  1.98744416e+00,  2.00075352e+00,  2.02476151e+00,\n",
       "        2.06645860e+00,  2.10128290e+00,  2.10770505e+00,  2.12318337e+00,\n",
       "        2.12640074e+00,  2.15150572e+00,  2.15293518e+00,  2.17441418e+00,\n",
       "        2.18043320e+00,  2.18817060e+00,  2.23630846e+00,  2.24510695e+00,\n",
       "        2.30687575e+00,  2.35761109e+00,  2.51985895e+00,  2.57941642e+00,\n",
       "        2.60490012e+00,  2.61623201e+00,  2.62382124e+00,  2.66858548e+00,\n",
       "        2.68083177e+00,  2.89288725e+00,  3.21336994e+00,  3.37447025e+00])"
      ]
     },
     "execution_count": 84,
     "metadata": {},
     "output_type": "execute_result"
    }
   ],
   "source": [
    "large_arr.sort()\n",
    "large_arr"
   ]
  },
  {
   "cell_type": "code",
   "execution_count": 85,
   "id": "f15d0635",
   "metadata": {},
   "outputs": [
    {
     "data": {
      "text/plain": [
       "-1.593839294090547"
      ]
     },
     "execution_count": 85,
     "metadata": {},
     "output_type": "execute_result"
    }
   ],
   "source": [
    "large_arr[int(0.05 * len(large_arr))] # 5% quantile"
   ]
  },
  {
   "cell_type": "code",
   "execution_count": 91,
   "id": "2641323d",
   "metadata": {},
   "outputs": [
    {
     "data": {
      "text/plain": [
       "array([-2.28931667, -1.95006861, -1.89768768, -1.72638223, -1.67526739,\n",
       "       -1.39982876, -1.27196049, -1.14639181, -1.11027846, -1.10008757,\n",
       "       -1.06807073, -1.04594262, -1.04302197, -1.03378325, -0.95023734,\n",
       "       -0.94231407, -0.90041564, -0.89716436, -0.89487216, -0.85589448,\n",
       "       -0.79152306, -0.77727616, -0.69827173, -0.65452218, -0.53439111,\n",
       "       -0.43468029, -0.42262508, -0.41197417, -0.40845076, -0.35355401,\n",
       "       -0.32178975, -0.2376757 , -0.22910419, -0.22846373, -0.20176713,\n",
       "       -0.19563899, -0.17968823, -0.16891242, -0.15739943, -0.13261955,\n",
       "       -0.1224328 , -0.10054569, -0.05185065, -0.04255921, -0.03347225,\n",
       "       -0.01442681, -0.01108029,  0.02896873,  0.07441107,  0.11128064,\n",
       "        0.13311104,  0.15895977,  0.15897985,  0.1633754 ,  0.19507795,\n",
       "        0.19950523,  0.22585513,  0.22755275,  0.25254122,  0.28538001,\n",
       "        0.33314968,  0.34626144,  0.3550109 ,  0.36572259,  0.38546778,\n",
       "        0.39981396,  0.44083826,  0.48953477,  0.67048096,  0.71524999,\n",
       "        0.73203739,  0.75855022,  0.79333016,  0.80669805,  0.86577603,\n",
       "        0.8988546 ,  0.90291552,  0.90909728,  0.92999406,  0.9764634 ,\n",
       "        0.98119862,  1.11950017,  1.14481156,  1.20150492,  1.34434982,\n",
       "        1.36638526,  1.3736102 ,  1.45065615,  1.45620529,  1.4568016 ,\n",
       "        1.48650634,  1.49339713,  1.55667296,  1.59982984,  1.69810963,\n",
       "        1.81770988,  1.83198344,  1.87086839,  1.94875513,  2.07570568])"
      ]
     },
     "execution_count": 91,
     "metadata": {},
     "output_type": "execute_result"
    }
   ],
   "source": [
    "large_arr = np.sort(randn(100))\n",
    "large_arr"
   ]
  },
  {
   "cell_type": "markdown",
   "id": "390ba553",
   "metadata": {},
   "source": [
    "#\n",
    "집합함수"
   ]
  },
  {
   "cell_type": "code",
   "execution_count": 86,
   "id": "18eaed7d",
   "metadata": {},
   "outputs": [
    {
     "data": {
      "text/plain": [
       "array(['Bob', 'Joe', 'Will', 'Bob', 'Will', 'Joe', 'Joe'], dtype='<U4')"
      ]
     },
     "execution_count": 86,
     "metadata": {},
     "output_type": "execute_result"
    }
   ],
   "source": [
    "names = np.array(['Bob', 'Joe', 'Will', 'Bob', 'Will', 'Joe', 'Joe'])\n",
    "names"
   ]
  },
  {
   "cell_type": "code",
   "execution_count": 87,
   "id": "52a7c28e",
   "metadata": {},
   "outputs": [
    {
     "data": {
      "text/plain": [
       "array(['Bob', 'Joe', 'Will'], dtype='<U4')"
      ]
     },
     "execution_count": 87,
     "metadata": {},
     "output_type": "execute_result"
    }
   ],
   "source": [
    "np.unique(names)"
   ]
  },
  {
   "cell_type": "code",
   "execution_count": 94,
   "id": "531b17e9",
   "metadata": {},
   "outputs": [
    {
     "data": {
      "text/plain": [
       "['Bob', 'Joe', 'Will']"
      ]
     },
     "execution_count": 94,
     "metadata": {},
     "output_type": "execute_result"
    }
   ],
   "source": [
    "sorted(set(names))"
   ]
  },
  {
   "cell_type": "code",
   "execution_count": 96,
   "id": "635589f9",
   "metadata": {},
   "outputs": [
    {
     "data": {
      "text/plain": [
       "array([3, 3, 3, 2, 2, 1, 1, 4, 4])"
      ]
     },
     "execution_count": 96,
     "metadata": {},
     "output_type": "execute_result"
    }
   ],
   "source": [
    "ints = np.array([3, 3, 3, 2, 2, 1, 1, 4, 4])\n",
    "ints"
   ]
  },
  {
   "cell_type": "code",
   "execution_count": 97,
   "id": "82350b67",
   "metadata": {},
   "outputs": [
    {
     "data": {
      "text/plain": [
       "array([1, 2, 3, 4])"
      ]
     },
     "execution_count": 97,
     "metadata": {},
     "output_type": "execute_result"
    }
   ],
   "source": [
    "np.unique(ints)"
   ]
  },
  {
   "cell_type": "code",
   "execution_count": 114,
   "id": "c554272a",
   "metadata": {
    "scrolled": true
   },
   "outputs": [
    {
     "data": {
      "text/plain": [
       "array([[-0.49649625,  0.16159806,  1.17311671],\n",
       "       [ 0.14823593, -0.57024586,  0.21443223]])"
      ]
     },
     "execution_count": 114,
     "metadata": {},
     "output_type": "execute_result"
    }
   ],
   "source": [
    "values = np.random.randn(2,3)\n",
    "values"
   ]
  },
  {
   "cell_type": "code",
   "execution_count": 117,
   "id": "8706e98b",
   "metadata": {},
   "outputs": [
    {
     "data": {
      "text/plain": [
       "array([[-0.57024586,  0.14823593,  0.21443223],\n",
       "       [-0.49649625,  0.16159806,  1.17311671]])"
      ]
     },
     "execution_count": 117,
     "metadata": {},
     "output_type": "execute_result"
    }
   ],
   "source": [
    "values.sort(0)\n",
    "values"
   ]
  },
  {
   "cell_type": "code",
   "execution_count": 113,
   "id": "1c07709a",
   "metadata": {},
   "outputs": [
    {
     "ename": "AxisError",
     "evalue": "axis -1 is out of bounds for array of dimension 0",
     "output_type": "error",
     "traceback": [
      "\u001b[1;31m---------------------------------------------------------------------------\u001b[0m",
      "\u001b[1;31mAxisError\u001b[0m                                 Traceback (most recent call last)",
      "Input \u001b[1;32mIn [113]\u001b[0m, in \u001b[0;36m<cell line: 1>\u001b[1;34m()\u001b[0m\n\u001b[1;32m----> 1\u001b[0m a \u001b[38;5;241m=\u001b[39m \u001b[43mnp\u001b[49m\u001b[38;5;241;43m.\u001b[39;49m\u001b[43msort\u001b[49m\u001b[43m(\u001b[49m\u001b[38;5;241;43m0\u001b[39;49m\u001b[43m)\u001b[49m\n",
      "File \u001b[1;32m<__array_function__ internals>:5\u001b[0m, in \u001b[0;36msort\u001b[1;34m(*args, **kwargs)\u001b[0m\n",
      "File \u001b[1;32mC:\\Python\\anaconda3\\lib\\site-packages\\numpy\\core\\fromnumeric.py:998\u001b[0m, in \u001b[0;36msort\u001b[1;34m(a, axis, kind, order)\u001b[0m\n\u001b[0;32m    996\u001b[0m \u001b[38;5;28;01melse\u001b[39;00m:\n\u001b[0;32m    997\u001b[0m     a \u001b[38;5;241m=\u001b[39m asanyarray(a)\u001b[38;5;241m.\u001b[39mcopy(order\u001b[38;5;241m=\u001b[39m\u001b[38;5;124m\"\u001b[39m\u001b[38;5;124mK\u001b[39m\u001b[38;5;124m\"\u001b[39m)\n\u001b[1;32m--> 998\u001b[0m \u001b[43ma\u001b[49m\u001b[38;5;241;43m.\u001b[39;49m\u001b[43msort\u001b[49m\u001b[43m(\u001b[49m\u001b[43maxis\u001b[49m\u001b[38;5;241;43m=\u001b[39;49m\u001b[43maxis\u001b[49m\u001b[43m,\u001b[49m\u001b[43m \u001b[49m\u001b[43mkind\u001b[49m\u001b[38;5;241;43m=\u001b[39;49m\u001b[43mkind\u001b[49m\u001b[43m,\u001b[49m\u001b[43m \u001b[49m\u001b[43morder\u001b[49m\u001b[38;5;241;43m=\u001b[39;49m\u001b[43morder\u001b[49m\u001b[43m)\u001b[49m\n\u001b[0;32m    999\u001b[0m \u001b[38;5;28;01mreturn\u001b[39;00m a\n",
      "\u001b[1;31mAxisError\u001b[0m: axis -1 is out of bounds for array of dimension 0"
     ]
    }
   ],
   "source": [
    "a = np.sort(0)"
   ]
  },
  {
   "cell_type": "markdown",
   "id": "1051db4c",
   "metadata": {},
   "source": [
    "$$ inld : 값들 중 두번째 컴마 값이 있으면 True, 없으면 False"
   ]
  },
  {
   "cell_type": "code",
   "execution_count": 99,
   "id": "cee7582c",
   "metadata": {},
   "outputs": [
    {
     "data": {
      "text/plain": [
       "array([ True, False, False,  True,  True, False,  True])"
      ]
     },
     "execution_count": 99,
     "metadata": {},
     "output_type": "execute_result"
    }
   ],
   "source": [
    "np.in1d(values, [2, 3, 6])"
   ]
  },
  {
   "cell_type": "code",
   "execution_count": 100,
   "id": "f6b36764",
   "metadata": {},
   "outputs": [
    {
     "name": "stdout",
     "output_type": "stream",
     "text": [
      "Object `sort` not found.\n"
     ]
    }
   ],
   "source": [
    "?sort"
   ]
  },
  {
   "cell_type": "code",
   "execution_count": 104,
   "id": "04cca58d",
   "metadata": {},
   "outputs": [],
   "source": [
    "?np.sort"
   ]
  },
  {
   "cell_type": "code",
   "execution_count": 2,
   "id": "7a95bb0f",
   "metadata": {},
   "outputs": [
    {
     "data": {
      "text/plain": [
       "array([[ 0.92322312, -0.48305422, -1.22587121,  0.59852655],\n",
       "       [ 0.46087885,  0.04790632, -0.13209721, -0.45345132],\n",
       "       [-0.44533953,  1.12519998,  2.15966522, -0.33360321],\n",
       "       [ 0.76672921, -0.85316821,  0.27445781, -0.7942358 ],\n",
       "       [-0.96099867, -1.39634466,  0.55868953, -0.24288929]])"
      ]
     },
     "execution_count": 2,
     "metadata": {},
     "output_type": "execute_result"
    }
   ],
   "source": [
    "arr = np.random.randn(5, 4) # normally-distributed data\n",
    "arr"
   ]
  },
  {
   "cell_type": "code",
   "execution_count": 3,
   "id": "f3560fd1",
   "metadata": {},
   "outputs": [
    {
     "data": {
      "text/plain": [
       "-0.40577672974354195"
      ]
     },
     "execution_count": 3,
     "metadata": {},
     "output_type": "execute_result"
    }
   ],
   "source": [
    "arr.sum()"
   ]
  },
  {
   "cell_type": "code",
   "execution_count": 4,
   "id": "3192de67",
   "metadata": {},
   "outputs": [
    {
     "data": {
      "text/plain": [
       "array([ 0.74449298, -1.55946078,  1.63484415, -1.22565307])"
      ]
     },
     "execution_count": 4,
     "metadata": {},
     "output_type": "execute_result"
    }
   ],
   "source": [
    "arr.sum(0)"
   ]
  },
  {
   "cell_type": "code",
   "execution_count": null,
   "id": "68e015fb",
   "metadata": {},
   "outputs": [],
   "source": []
  }
 ],
 "metadata": {
  "kernelspec": {
   "display_name": "Python 3 (ipykernel)",
   "language": "python",
   "name": "python3"
  },
  "language_info": {
   "codemirror_mode": {
    "name": "ipython",
    "version": 3
   },
   "file_extension": ".py",
   "mimetype": "text/x-python",
   "name": "python",
   "nbconvert_exporter": "python",
   "pygments_lexer": "ipython3",
   "version": "3.9.12"
  }
 },
 "nbformat": 4,
 "nbformat_minor": 5
}
