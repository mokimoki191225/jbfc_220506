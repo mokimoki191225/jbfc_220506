{
 "cells": [
  {
   "cell_type": "code",
   "execution_count": null,
   "id": "61aac7c6",
   "metadata": {},
   "outputs": [],
   "source": [
    "# Python Iterator\n",
    "from images.util import Figure as _Figure_"
   ]
  },
  {
   "cell_type": "code",
   "execution_count": null,
   "id": "54641a7d",
   "metadata": {},
   "outputs": [],
   "source": [
    "_Figure_('이터레이터')"
   ]
  },
  {
   "cell_type": "code",
   "execution_count": null,
   "id": "6fbaa55b",
   "metadata": {},
   "outputs": [],
   "source": [
    "ds_elements = 1, 2, 3,4,5,6,7,8,9\n",
    "ds_elements"
   ]
  },
  {
   "cell_type": "markdown",
   "id": "7dc42f6d",
   "metadata": {},
   "source": [
    "*iter() 이트레이터 함수"
   ]
  },
  {
   "cell_type": "code",
   "execution_count": null,
   "id": "4fb8fde2",
   "metadata": {},
   "outputs": [],
   "source": [
    "ds_iterator = iter(ds_elements)\n",
    "ds_iterator"
   ]
  },
  {
   "cell_type": "code",
   "execution_count": null,
   "id": "ff5cb408",
   "metadata": {},
   "outputs": [],
   "source": [
    "print(ds_iterator.__next__())\n",
    "print(ds_iterator.__next__())\n",
    "print(ds_iterator.__next__())"
   ]
  },
  {
   "cell_type": "code",
   "execution_count": null,
   "id": "098c6803",
   "metadata": {},
   "outputs": [],
   "source": [
    "# Exception 발생 : StopIteration\n",
    "print(ds_iterator.__next__())"
   ]
  },
  {
   "cell_type": "code",
   "execution_count": null,
   "id": "377deade",
   "metadata": {},
   "outputs": [],
   "source": [
    "print(ds_iterator.__next__())\n",
    "print(ds_iterator.__next__())\n",
    "print(ds_iterator.__next__())\n",
    "print(ds_iterator.__next__())\n",
    "print(ds_iterator.__next__())\n",
    "print(ds_iterator.__next__()) ##9번까지가 끝이다.\n",
    "print(ds_iterator.__next__())\n",
    "print(ds_iterator.__next__())"
   ]
  },
  {
   "cell_type": "code",
   "execution_count": null,
   "id": "8df6ce3a",
   "metadata": {},
   "outputs": [],
   "source": [
    "from IPython.display import image "
   ]
  },
  {
   "cell_type": "code",
   "execution_count": null,
   "id": "c9bb7370",
   "metadata": {},
   "outputs": [],
   "source": [
    "<img src=''>"
   ]
  },
  {
   "cell_type": "code",
   "execution_count": 1,
   "id": "a6857382",
   "metadata": {},
   "outputs": [],
   "source": [
    "class IterClass(object):\n",
    "    \n",
    "    \n",
    "    def __init__(self, start, last):\n",
    "        self.current = start\n",
    "        self.max = last\n",
    "        \n",
    "    # 없으면 'object is not iterable' Exception 발생\n",
    "    def __iter__(self):       \n",
    "        return self\n",
    "    \n",
    "    def __next__(self):\n",
    "        if self.current > self.max:\n",
    "            raise StopIteration\n",
    "        else:\n",
    "            self.current += 1\n",
    "            return self.current-1"
   ]
  },
  {
   "cell_type": "code",
   "execution_count": null,
   "id": "d8cc7778",
   "metadata": {},
   "outputs": [],
   "source": [
    "iterClass = IterClass(1, 10)"
   ]
  },
  {
   "cell_type": "code",
   "execution_count": null,
   "id": "380c20ec",
   "metadata": {},
   "outputs": [],
   "source": [
    "type(iterClass)"
   ]
  },
  {
   "cell_type": "code",
   "execution_count": null,
   "id": "2123764c",
   "metadata": {},
   "outputs": [],
   "source": [
    "print(iterClass.__next__())\n",
    "print(iterClass.__next__())\n",
    "print(iterClass.__next__())\n",
    "print(iterClass.__next__())\n",
    "print(iterClass.__next__())"
   ]
  },
  {
   "cell_type": "code",
   "execution_count": null,
   "id": "e0af551d",
   "metadata": {},
   "outputs": [],
   "source": [
    "print(iterClass.__next__())\n",
    "print(iterClass.__next__())\n",
    "print(iterClass.__next__())\n",
    "print(iterClass.__next__())\n",
    "print(iterClass.__next__())"
   ]
  },
  {
   "cell_type": "code",
   "execution_count": null,
   "id": "3a002901",
   "metadata": {},
   "outputs": [],
   "source": [
    "print(iterClass.__next__())"
   ]
  },
  {
   "cell_type": "code",
   "execution_count": null,
   "id": "75a46698",
   "metadata": {},
   "outputs": [],
   "source": [
    "class IterClass(object):\n",
    "    \n",
    "    def __init__(self, start, last):\n",
    "        self.current = start\n",
    "        self.max     = last\n",
    "    \n",
    "    def __iter__(self):\n",
    "        return self\n",
    "    \n",
    "    def __next__(self):\n",
    "        if self.current > self.max:\n",
    "            raise Stoplteration\n",
    "        else:\n",
    "            self.currnet = self.current + 1\n",
    "            return self.current-1"
   ]
  },
  {
   "cell_type": "code",
   "execution_count": null,
   "id": "44bb331a",
   "metadata": {},
   "outputs": [],
   "source": [
    "iterClass = IterClass(1, 10)"
   ]
  },
  {
   "cell_type": "code",
   "execution_count": 2,
   "id": "2d9d2ced",
   "metadata": {},
   "outputs": [],
   "source": [
    "n_list = IterClass(1, 30)"
   ]
  },
  {
   "cell_type": "code",
   "execution_count": 3,
   "id": "698cc081",
   "metadata": {},
   "outputs": [
    {
     "name": "stdout",
     "output_type": "stream",
     "text": [
      "[1, 2, 3, 4, 5, 6, 7, 8, 9, 10, 11, 12, 13, 14, 15, 16, 17, 18, 19, 20, 21, 22, 23, 24, 25, 26, 27, 28, 29, 30]\n"
     ]
    }
   ],
   "source": [
    "print(list(n_list))"
   ]
  },
  {
   "cell_type": "code",
   "execution_count": 6,
   "id": "e78eec26",
   "metadata": {},
   "outputs": [
    {
     "ename": "StopIteration",
     "evalue": "",
     "output_type": "error",
     "traceback": [
      "\u001b[1;31m---------------------------------------------------------------------------\u001b[0m",
      "\u001b[1;31mStopIteration\u001b[0m                             Traceback (most recent call last)",
      "Input \u001b[1;32mIn [6]\u001b[0m, in \u001b[0;36m<cell line: 1>\u001b[1;34m()\u001b[0m\n\u001b[1;32m----> 1\u001b[0m \u001b[43mn_list\u001b[49m\u001b[38;5;241;43m.\u001b[39;49m\u001b[38;5;21;43m__next__\u001b[39;49m\u001b[43m(\u001b[49m\u001b[43m)\u001b[49m\n",
      "Input \u001b[1;32mIn [1]\u001b[0m, in \u001b[0;36mIterClass.__next__\u001b[1;34m(self)\u001b[0m\n\u001b[0;32m     12\u001b[0m \u001b[38;5;28;01mdef\u001b[39;00m \u001b[38;5;21m__next__\u001b[39m(\u001b[38;5;28mself\u001b[39m):\n\u001b[0;32m     13\u001b[0m     \u001b[38;5;28;01mif\u001b[39;00m \u001b[38;5;28mself\u001b[39m\u001b[38;5;241m.\u001b[39mcurrent \u001b[38;5;241m>\u001b[39m \u001b[38;5;28mself\u001b[39m\u001b[38;5;241m.\u001b[39mmax:\n\u001b[1;32m---> 14\u001b[0m         \u001b[38;5;28;01mraise\u001b[39;00m \u001b[38;5;167;01mStopIteration\u001b[39;00m\n\u001b[0;32m     15\u001b[0m     \u001b[38;5;28;01melse\u001b[39;00m:\n\u001b[0;32m     16\u001b[0m         \u001b[38;5;28mself\u001b[39m\u001b[38;5;241m.\u001b[39mcurrent \u001b[38;5;241m+\u001b[39m\u001b[38;5;241m=\u001b[39m \u001b[38;5;241m1\u001b[39m\n",
      "\u001b[1;31mStopIteration\u001b[0m: "
     ]
    }
   ],
   "source": [
    "n_list.__next__()"
   ]
  },
  {
   "cell_type": "code",
   "execution_count": 8,
   "id": "8b8cf752",
   "metadata": {},
   "outputs": [
    {
     "name": "stdout",
     "output_type": "stream",
     "text": [
      "\n"
     ]
    }
   ],
   "source": [
    "try:\n",
    "    n_list.__next__()\n",
    "except Exception as err:\n",
    "    print('StopIteration 발생!!')\n",
    "# print(err)\n",
    "    pass"
   ]
  },
  {
   "cell_type": "code",
   "execution_count": null,
   "id": "f29230ba",
   "metadata": {},
   "outputs": [],
   "source": []
  }
 ],
 "metadata": {
  "kernelspec": {
   "display_name": "Python 3 (ipykernel)",
   "language": "python",
   "name": "python3"
  },
  "language_info": {
   "codemirror_mode": {
    "name": "ipython",
    "version": 3
   },
   "file_extension": ".py",
   "mimetype": "text/x-python",
   "name": "python",
   "nbconvert_exporter": "python",
   "pygments_lexer": "ipython3",
   "version": "3.9.12"
  }
 },
 "nbformat": 4,
 "nbformat_minor": 5
}
