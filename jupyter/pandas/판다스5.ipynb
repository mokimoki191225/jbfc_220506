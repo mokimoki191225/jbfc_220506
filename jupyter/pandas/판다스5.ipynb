{
 "cells": [
  {
   "cell_type": "code",
   "execution_count": 1,
   "id": "11ff26d1",
   "metadata": {},
   "outputs": [],
   "source": [
    "# Pandas Basics\n",
    "from IPython.display import Image \n",
    "\n",
    "from pandas import Series, DataFrame\n",
    "import pandas as pd\n",
    "import numpy as np"
   ]
  },
  {
   "cell_type": "markdown",
   "id": "14d7c972",
   "metadata": {},
   "source": [
    "* 누락된 데이터 처리하기"
   ]
  },
  {
   "cell_type": "code",
   "execution_count": null,
   "id": "2be6194b",
   "metadata": {},
   "outputs": [],
   "source": [
    "string_data = Series(['aardvark', 'artichoke', np.nan, 'avocado'])\n",
    "string_data"
   ]
  },
  {
   "cell_type": "code",
   "execution_count": null,
   "id": "5e6bc1ae",
   "metadata": {},
   "outputs": [],
   "source": [
    "string_data.isnull()"
   ]
  },
  {
   "cell_type": "code",
   "execution_count": null,
   "id": "5f4bb3c1",
   "metadata": {},
   "outputs": [],
   "source": [
    "string_data[0] = None\n",
    "string_data.isnull()"
   ]
  },
  {
   "cell_type": "code",
   "execution_count": null,
   "id": "8cf069c4",
   "metadata": {},
   "outputs": [],
   "source": [
    "from numpy import nan as NA\n",
    "data = Series([1, NA, 3.5, NA, 7])\n",
    "data.dropna() #na 데이터 날리기"
   ]
  },
  {
   "cell_type": "code",
   "execution_count": null,
   "id": "cbfb5934",
   "metadata": {},
   "outputs": [],
   "source": [
    "data[data.notnull()]"
   ]
  },
  {
   "cell_type": "code",
   "execution_count": null,
   "id": "43aa41b2",
   "metadata": {},
   "outputs": [],
   "source": [
    "data = DataFrame([[1., 6.5, 3.], [1., NA, NA], [NA, NA, NA], [NA, 6.5, 3.]])\n",
    "data"
   ]
  },
  {
   "cell_type": "code",
   "execution_count": null,
   "id": "6d314192",
   "metadata": {},
   "outputs": [],
   "source": [
    "cleaned = data.dropna()\n",
    "cleaned # dataframe은 하나라도 있으면 다 날린다."
   ]
  },
  {
   "cell_type": "code",
   "execution_count": null,
   "id": "df04822c",
   "metadata": {},
   "outputs": [],
   "source": [
    "# 모든 값이 NA인 로우만 제외\n",
    "data.dropna(how = 'all')"
   ]
  },
  {
   "cell_type": "code",
   "execution_count": null,
   "id": "92c864f4",
   "metadata": {},
   "outputs": [],
   "source": [
    "data[4] = NA\n",
    "data"
   ]
  },
  {
   "cell_type": "code",
   "execution_count": null,
   "id": "b375851c",
   "metadata": {},
   "outputs": [],
   "source": [
    "data.dropna(axis = 1, how = 'all') #세로로 모두 nan인것만 제외"
   ]
  },
  {
   "cell_type": "code",
   "execution_count": null,
   "id": "050b207e",
   "metadata": {},
   "outputs": [],
   "source": [
    "?data.dropna"
   ]
  },
  {
   "cell_type": "code",
   "execution_count": null,
   "id": "762f0962",
   "metadata": {},
   "outputs": [],
   "source": [
    "data.dropna(axis = 1) #세로로 모두 nan인것만 가져옴, "
   ]
  },
  {
   "cell_type": "code",
   "execution_count": null,
   "id": "aea55df3",
   "metadata": {},
   "outputs": [],
   "source": [
    "df = DataFrame(np.random.randn(7, 3))\n",
    "df"
   ]
  },
  {
   "cell_type": "code",
   "execution_count": null,
   "id": "13dfb484",
   "metadata": {},
   "outputs": [],
   "source": [
    "# colmns가 문자이면 슬라이싱으로 찾기 안됨"
   ]
  },
  {
   "cell_type": "code",
   "execution_count": null,
   "id": "fd39b10b",
   "metadata": {},
   "outputs": [],
   "source": [
    "df2 = DataFrame(np.random.randn(4, 3), index=['a', 'a', 'b', 'b'])\n",
    "df2"
   ]
  },
  {
   "cell_type": "code",
   "execution_count": null,
   "id": "bc5f1db2",
   "metadata": {},
   "outputs": [],
   "source": [
    "df2.iloc[:4, 1] = NA \n",
    "df2.iloc[:2, 2] = NA\n",
    "df2"
   ]
  },
  {
   "cell_type": "code",
   "execution_count": null,
   "id": "0f96cb56",
   "metadata": {},
   "outputs": [],
   "source": [
    "df.iloc[:4, 1] = NA \n",
    "df.iloc[:2, 2] = NA\n",
    "df"
   ]
  },
  {
   "cell_type": "code",
   "execution_count": null,
   "id": "4fc95908",
   "metadata": {},
   "outputs": [],
   "source": [
    "# thresh : 몇 개 이상의 값이 들어있는 로우만 살펴보고 싶을때 넣는 인자 값\n",
    "df.dropna(thresh = 3)"
   ]
  },
  {
   "cell_type": "code",
   "execution_count": null,
   "id": "c6b4d6b0",
   "metadata": {},
   "outputs": [],
   "source": [
    "df.dropna(thresh = 2)"
   ]
  },
  {
   "cell_type": "code",
   "execution_count": null,
   "id": "3cd91430",
   "metadata": {},
   "outputs": [],
   "source": [
    "df.dropna(thresh=1)"
   ]
  },
  {
   "cell_type": "code",
   "execution_count": null,
   "id": "c57457f5",
   "metadata": {},
   "outputs": [],
   "source": [
    "df"
   ]
  },
  {
   "cell_type": "code",
   "execution_count": null,
   "id": "d565be11",
   "metadata": {},
   "outputs": [],
   "source": [
    "df.fillna(0)"
   ]
  },
  {
   "cell_type": "code",
   "execution_count": null,
   "id": "e67060fa",
   "metadata": {},
   "outputs": [],
   "source": [
    "# fillna에 사전값을 넣어서 각 칼럼마다 다른값을 채워넣을수도 있다.\n",
    "df.fillna({1: 0.5, 3: -1})"
   ]
  },
  {
   "cell_type": "code",
   "execution_count": null,
   "id": "b625d288",
   "metadata": {},
   "outputs": [],
   "source": [
    "# fillna는 값을 채워 넣은 객체의 참조를 반환한다.\n",
    "_ = df.fillna(0, inplace=True)\n",
    "df"
   ]
  },
  {
   "cell_type": "code",
   "execution_count": null,
   "id": "148e98fe",
   "metadata": {},
   "outputs": [],
   "source": [
    "df = DataFrame(np.random.randn(6, 3))\n",
    "df.iloc[2:, 1] = NA \n",
    "df.iloc[4:, 2] = NA\n",
    "df"
   ]
  },
  {
   "cell_type": "code",
   "execution_count": null,
   "id": "6b1efd4b",
   "metadata": {},
   "outputs": [],
   "source": [
    "df.fillna(method='ffill')"
   ]
  },
  {
   "cell_type": "code",
   "execution_count": null,
   "id": "a83b4ad8",
   "metadata": {},
   "outputs": [],
   "source": [
    "df.fillna(method='ffill', limit=2)"
   ]
  },
  {
   "cell_type": "code",
   "execution_count": null,
   "id": "7790e239",
   "metadata": {},
   "outputs": [],
   "source": [
    "data = Series([1., NA, 3.5, NA, 7])\n",
    "data.fillna(data.mean())"
   ]
  }
 ],
 "metadata": {
  "kernelspec": {
   "display_name": "Python 3 (ipykernel)",
   "language": "python",
   "name": "python3"
  },
  "language_info": {
   "codemirror_mode": {
    "name": "ipython",
    "version": 3
   },
   "file_extension": ".py",
   "mimetype": "text/x-python",
   "name": "python",
   "nbconvert_exporter": "python",
   "pygments_lexer": "ipython3",
   "version": "3.9.12"
  }
 },
 "nbformat": 4,
 "nbformat_minor": 5
}
