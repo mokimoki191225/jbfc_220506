{
 "cells": [
  {
   "cell_type": "markdown",
   "id": "a1acd030",
   "metadata": {},
   "source": [
    "## 영화랭킹 TOP10 정보 크롤링\n",
    "> 데이터수집 : 순위, 영화명, 변동폭, 평점(관람객/평론가/네티즌), 장르, 감독, 출연, 등급"
   ]
  },
  {
   "cell_type": "code",
   "execution_count": 1,
   "id": "7b7a0ac2",
   "metadata": {},
   "outputs": [],
   "source": [
    "# class ac 영화순위\n",
    "# class title 영화명\n",
    "# class tit3 영화링크\n",
    "# calss rang_ac 순위\n",
    "# calss ac na 동일\n",
    "# calss ac up 중가\n",
    "# calss range ac 변동폭\n",
    "\n",
    "# 0.선언\n",
    "from bs4 import BeautifulSoup \n",
    "from urllib.request import Request, urlopen"
   ]
  },
  {
   "cell_type": "code",
   "execution_count": 2,
   "id": "1de02eed",
   "metadata": {},
   "outputs": [
    {
     "data": {
      "text/plain": [
       "<title>랭킹 : 네이버 영화</title>"
      ]
     },
     "execution_count": 2,
     "metadata": {},
     "output_type": "execute_result"
    }
   ],
   "source": [
    "url = 'https://movie.naver.com/movie/sdb/rank/rmovie.naver'\n",
    "req = Request(url, headers={'User-Agent': 'Mozilla/5.0'})\n",
    "html = urlopen(req).read()\n",
    "soup = BeautifulSoup(html, \"lxml\")\n",
    "soup.title"
   ]
  },
  {
   "cell_type": "markdown",
   "id": "fe556af1",
   "metadata": {},
   "source": [
    "### 랭킹페이지 : 순위, 영화명, 변동폭, 링크"
   ]
  },
  {
   "cell_type": "code",
   "execution_count": 3,
   "id": "10276054",
   "metadata": {},
   "outputs": [
    {
     "data": {
      "text/plain": [
       "<table cellspacing=\"0\" class=\"list_ranking\">\n",
       "<caption class=\"blind\">랭킹 테이블</caption>\n",
       "<col width=\"6%\"/><col width=\"*\"/><col width=\"2%\"/><col width=\"4%\"/>\n",
       "<thead>\n",
       "<tr>\n",
       "<th scope=\"col\">순위</th>\n",
       "<th scope=\"col\">영화명</th>\n",
       "<th colspan=\"2\" scope=\"col\">변동폭</th>\n",
       "</tr>\n",
       "</thead>\n",
       "<tbody>\n",
       "<tr><td class=\"blank01\" colspan=\"8\"></td></tr>\n",
       "<!-- 예제\n",
       "\t\t\t\t<tr>\n",
       "\t\t\t\t\t<td class=\"ac\"><img src=\"https://ssl.pstatic.net/imgmovie/2007/img/common/bullet_r_g50.gif\" alt=\"50\" width=\"14\" height=\"13\"></td>\n",
       "\t\t\t\t\t<td class=\"title\"><a href=\"#\">트랜스포머</a></td>\n",
       "\t\t\t\t\t<td class=\"ac\"><img src=\"https://ssl.pstatic.net/imgmovie/2007/img/common/icon_down_1.gif\" alt=\"down\" width=\"7\" height=\"10\"></td>\n",
       "\t\t\t\t\t<td class=\"range ac\">7</td>\n",
       "\t\t\t\t</tr>\n",
       "\t\t\t\t-->\n",
       "<tr>\n",
       "<td class=\"ac\"><img alt=\"01\" height=\"13\" src=\"https://ssl.pstatic.net/imgmovie/2007/img/common/bullet_r_r01.gif\" width=\"14\"/></td>\n",
       "<td class=\"title\">\n",
       "<div class=\"tit3\">\n",
       "<a href=\"/movie/bi/mi/basic.naver?code=192608\" title=\"범죄도시2\">범죄도시2</a>\n",
       "</div>\n",
       "</td>\n",
       "<!-- 평점순일 때 평점 추가하기  -->\n",
       "<!----------------------------------------->\n",
       "<td class=\"ac\"><img alt=\"na\" class=\"arrow\" height=\"10\" src=\"https://ssl.pstatic.net/imgmovie/2007/img/common/icon_na_1.gif\" width=\"7\"/></td>\n",
       "<td class=\"range ac\">0</td>\n",
       "</tr>\n",
       "<tr>\n",
       "<td class=\"ac\"><img alt=\"02\" height=\"13\" src=\"https://ssl.pstatic.net/imgmovie/2007/img/common/bullet_r_r02.gif\" width=\"14\"/></td>\n",
       "<td class=\"title\">\n",
       "<div class=\"tit3\">\n",
       "<a href=\"/movie/bi/mi/basic.naver?code=191646\" title=\"쥬라기 월드: 도미니언\">쥬라기 월드: 도미니언</a>\n",
       "</div>\n",
       "</td>\n",
       "<!-- 평점순일 때 평점 추가하기  -->\n",
       "<!----------------------------------------->\n",
       "<td class=\"ac\"><img alt=\"na\" class=\"arrow\" height=\"10\" src=\"https://ssl.pstatic.net/imgmovie/2007/img/common/icon_na_1.gif\" width=\"7\"/></td>\n",
       "<td class=\"range ac\">0</td>\n",
       "</tr>\n",
       "<tr>\n",
       "<td class=\"ac\"><img alt=\"03\" height=\"13\" src=\"https://ssl.pstatic.net/imgmovie/2007/img/common/bullet_r_r03.gif\" width=\"14\"/></td>\n",
       "<td class=\"title\">\n",
       "<div class=\"tit3\">\n",
       "<a href=\"/movie/bi/mi/basic.naver?code=196854\" title=\"브로커\">브로커</a>\n",
       "</div>\n",
       "</td>\n",
       "<!-- 평점순일 때 평점 추가하기  -->\n",
       "<!----------------------------------------->\n",
       "<td class=\"ac\"><img alt=\"na\" class=\"arrow\" height=\"10\" src=\"https://ssl.pstatic.net/imgmovie/2007/img/common/icon_na_1.gif\" width=\"7\"/></td>\n",
       "<td class=\"range ac\">0</td>\n",
       "</tr>\n",
       "<tr>\n",
       "<td class=\"ac\"><img alt=\"04\" height=\"13\" src=\"https://ssl.pstatic.net/imgmovie/2007/img/common/bullet_r_r04.gif\" width=\"14\"/></td>\n",
       "<td class=\"title\">\n",
       "<div class=\"tit3\">\n",
       "<a href=\"/movie/bi/mi/basic.naver?code=182016\" title=\"닥터 스트레인지: 대혼돈의 멀티버스\">닥터 스트레인지: 대혼돈의 멀티버스</a>\n",
       "</div>\n",
       "</td>\n",
       "<!-- 평점순일 때 평점 추가하기  -->\n",
       "<!----------------------------------------->\n",
       "<td class=\"ac\"><img alt=\"na\" class=\"arrow\" height=\"10\" src=\"https://ssl.pstatic.net/imgmovie/2007/img/common/icon_na_1.gif\" width=\"7\"/></td>\n",
       "<td class=\"range ac\">0</td>\n",
       "</tr>\n",
       "<tr>\n",
       "<td class=\"ac\"><img alt=\"05\" height=\"13\" src=\"https://ssl.pstatic.net/imgmovie/2007/img/common/bullet_r_r05.gif\" width=\"14\"/></td>\n",
       "<td class=\"title\">\n",
       "<div class=\"tit3\">\n",
       "<a href=\"/movie/bi/mi/basic.naver?code=159812\" title=\"니 부모 얼굴이 보고 싶다\">니 부모 얼굴이 보고 싶다</a>\n",
       "</div>\n",
       "</td>\n",
       "<!-- 평점순일 때 평점 추가하기  -->\n",
       "<!----------------------------------------->\n",
       "<td class=\"ac\"><img alt=\"up\" class=\"arrow\" height=\"10\" src=\"https://ssl.pstatic.net/imgmovie/2007/img/common/icon_up_1.gif\" width=\"7\"/></td>\n",
       "<td class=\"range ac\">1</td>\n",
       "</tr>\n",
       "<tr>\n",
       "<td class=\"ac\"><img alt=\"06\" height=\"13\" src=\"https://ssl.pstatic.net/imgmovie/2007/img/common/bullet_r_r06.gif\" width=\"14\"/></td>\n",
       "<td class=\"title\">\n",
       "<div class=\"tit3\">\n",
       "<a href=\"/movie/bi/mi/basic.naver?code=216100\" title=\"그대가 조국\">그대가 조국</a>\n",
       "</div>\n",
       "</td>\n",
       "<!-- 평점순일 때 평점 추가하기  -->\n",
       "<!----------------------------------------->\n",
       "<td class=\"ac\"><img alt=\"down\" class=\"arrow\" height=\"10\" src=\"https://ssl.pstatic.net/imgmovie/2007/img/common/icon_down_1.gif\" width=\"7\"/></td>\n",
       "<td class=\"range ac\">1</td>\n",
       "</tr>\n",
       "<tr>\n",
       "<td class=\"ac\"><img alt=\"07\" height=\"13\" src=\"https://ssl.pstatic.net/imgmovie/2007/img/common/bullet_r_r07.gif\" width=\"14\"/></td>\n",
       "<td class=\"title\">\n",
       "<div class=\"tit3\">\n",
       "<a href=\"/movie/bi/mi/basic.naver?code=196367\" title=\"마녀(魔女) Part2. The Other One\">마녀(魔女) Part2. The Other One</a>\n",
       "</div>\n",
       "</td>\n",
       "<!-- 평점순일 때 평점 추가하기  -->\n",
       "<!----------------------------------------->\n",
       "<td class=\"ac\"><img alt=\"na\" class=\"arrow\" height=\"10\" src=\"https://ssl.pstatic.net/imgmovie/2007/img/common/icon_na_1.gif\" width=\"7\"/></td>\n",
       "<td class=\"range ac\">0</td>\n",
       "</tr>\n",
       "<tr>\n",
       "<td class=\"ac\"><img alt=\"08\" height=\"13\" src=\"https://ssl.pstatic.net/imgmovie/2007/img/common/bullet_r_r08.gif\" width=\"14\"/></td>\n",
       "<td class=\"title\">\n",
       "<div class=\"tit3\">\n",
       "<a href=\"/movie/bi/mi/basic.naver?code=208772\" title=\"카시오페아\">카시오페아</a>\n",
       "</div>\n",
       "</td>\n",
       "<!-- 평점순일 때 평점 추가하기  -->\n",
       "<!----------------------------------------->\n",
       "<td class=\"ac\"><img alt=\"na\" class=\"arrow\" height=\"10\" src=\"https://ssl.pstatic.net/imgmovie/2007/img/common/icon_na_1.gif\" width=\"7\"/></td>\n",
       "<td class=\"range ac\">0</td>\n",
       "</tr>\n",
       "<tr>\n",
       "<td class=\"ac\"><img alt=\"09\" height=\"13\" src=\"https://ssl.pstatic.net/imgmovie/2007/img/common/bullet_r_r09.gif\" width=\"14\"/></td>\n",
       "<td class=\"title\">\n",
       "<div class=\"tit3\">\n",
       "<a href=\"/movie/bi/mi/basic.naver?code=81888\" title=\"탑건: 매버릭\">탑건: 매버릭</a>\n",
       "</div>\n",
       "</td>\n",
       "<!-- 평점순일 때 평점 추가하기  -->\n",
       "<!----------------------------------------->\n",
       "<td class=\"ac\"><img alt=\"na\" class=\"arrow\" height=\"10\" src=\"https://ssl.pstatic.net/imgmovie/2007/img/common/icon_na_1.gif\" width=\"7\"/></td>\n",
       "<td class=\"range ac\">0</td>\n",
       "</tr>\n",
       "<tr>\n",
       "<td class=\"ac\"><img alt=\"010\" height=\"13\" src=\"https://ssl.pstatic.net/imgmovie/2007/img/common/bullet_r_r10.gif\" width=\"14\"/></td>\n",
       "<td class=\"title\">\n",
       "<div class=\"tit3\">\n",
       "<a href=\"/movie/bi/mi/basic.naver?code=50368\" title=\"극장판 포켓몬스터DP: 기라티나와 하늘의 꽃다발 쉐이미\">극장판 포켓몬스터DP: 기라티나와 하늘의 꽃다발 쉐이미</a>\n",
       "</div>\n",
       "</td>\n",
       "<!-- 평점순일 때 평점 추가하기  -->\n",
       "<!----------------------------------------->\n",
       "<td class=\"ac\"><img alt=\"na\" class=\"arrow\" height=\"10\" src=\"https://ssl.pstatic.net/imgmovie/2007/img/common/icon_na_1.gif\" width=\"7\"/></td>\n",
       "<td class=\"range ac\">0</td>\n",
       "</tr>\n",
       "<tr><td class=\"line01\" colspan=\"8\"></td></tr>\n",
       "<tr>\n",
       "<td class=\"ac\"><img alt=\"11\" height=\"13\" src=\"https://ssl.pstatic.net/imgmovie/2007/img/common/bullet_r_g11.gif\" width=\"14\"/></td>\n",
       "<td class=\"title\">\n",
       "<div class=\"tit3\">\n",
       "<a href=\"/movie/bi/mi/basic.naver?code=206637\" title=\"애프터 양\">애프터 양</a>\n",
       "</div>\n",
       "</td>\n",
       "<!-- 평점순일 때 평점 추가하기  -->\n",
       "<!----------------------------------------->\n",
       "<td class=\"ac\"><img alt=\"up\" class=\"arrow\" height=\"10\" src=\"https://ssl.pstatic.net/imgmovie/2007/img/common/icon_up_1.gif\" width=\"7\"/></td>\n",
       "<td class=\"range ac\">2</td>\n",
       "</tr>\n",
       "<tr>\n",
       "<td class=\"ac\"><img alt=\"12\" height=\"13\" src=\"https://ssl.pstatic.net/imgmovie/2007/img/common/bullet_r_g12.gif\" width=\"14\"/></td>\n",
       "<td class=\"title\">\n",
       "<div class=\"tit3\">\n",
       "<a href=\"/movie/bi/mi/basic.naver?code=215579\" title=\"피는 물보다 진하다\">피는 물보다 진하다</a>\n",
       "</div>\n",
       "</td>\n",
       "<!-- 평점순일 때 평점 추가하기  -->\n",
       "<!----------------------------------------->\n",
       "<td class=\"ac\"><img alt=\"up\" class=\"arrow\" height=\"10\" src=\"https://ssl.pstatic.net/imgmovie/2007/img/common/icon_up_1.gif\" width=\"7\"/></td>\n",
       "<td class=\"range ac\">3</td>\n",
       "</tr>\n",
       "<tr>\n",
       "<td class=\"ac\"><img alt=\"13\" height=\"13\" src=\"https://ssl.pstatic.net/imgmovie/2007/img/common/bullet_r_g13.gif\" width=\"14\"/></td>\n",
       "<td class=\"title\">\n",
       "<div class=\"tit3\">\n",
       "<a href=\"/movie/bi/mi/basic.naver?code=214603\" title=\"버즈 라이트이어\">버즈 라이트이어</a>\n",
       "</div>\n",
       "</td>\n",
       "<!-- 평점순일 때 평점 추가하기  -->\n",
       "<!----------------------------------------->\n",
       "<td class=\"ac\"><img alt=\"down\" class=\"arrow\" height=\"10\" src=\"https://ssl.pstatic.net/imgmovie/2007/img/common/icon_down_1.gif\" width=\"7\"/></td>\n",
       "<td class=\"range ac\">1</td>\n",
       "</tr>\n",
       "<tr>\n",
       "<td class=\"ac\"><img alt=\"14\" height=\"13\" src=\"https://ssl.pstatic.net/imgmovie/2007/img/common/bullet_r_g14.gif\" width=\"14\"/></td>\n",
       "<td class=\"title\">\n",
       "<div class=\"tit3\">\n",
       "<a href=\"/movie/bi/mi/basic.naver?code=217034\" title=\"히든\">히든</a>\n",
       "</div>\n",
       "</td>\n",
       "<!-- 평점순일 때 평점 추가하기  -->\n",
       "<!----------------------------------------->\n",
       "<td class=\"ac\"><img alt=\"down\" class=\"arrow\" height=\"10\" src=\"https://ssl.pstatic.net/imgmovie/2007/img/common/icon_down_1.gif\" width=\"7\"/></td>\n",
       "<td class=\"range ac\">3</td>\n",
       "</tr>\n",
       "<tr>\n",
       "<td class=\"ac\"><img alt=\"15\" height=\"13\" src=\"https://ssl.pstatic.net/imgmovie/2007/img/common/bullet_r_g15.gif\" width=\"14\"/></td>\n",
       "<td class=\"title\">\n",
       "<div class=\"tit3\">\n",
       "<a href=\"/movie/bi/mi/basic.naver?code=198413\" title=\"헤어질 결심\">헤어질 결심</a>\n",
       "</div>\n",
       "</td>\n",
       "<!-- 평점순일 때 평점 추가하기  -->\n",
       "<!----------------------------------------->\n",
       "<td class=\"ac\"><img alt=\"down\" class=\"arrow\" height=\"10\" src=\"https://ssl.pstatic.net/imgmovie/2007/img/common/icon_down_1.gif\" width=\"7\"/></td>\n",
       "<td class=\"range ac\">1</td>\n",
       "</tr>\n",
       "<tr>\n",
       "<td class=\"ac\"><img alt=\"16\" height=\"13\" src=\"https://ssl.pstatic.net/imgmovie/2007/img/common/bullet_r_g16.gif\" width=\"14\"/></td>\n",
       "<td class=\"title\">\n",
       "<div class=\"tit3\">\n",
       "<a href=\"/movie/bi/mi/basic.naver?code=183862\" title=\"뜨거운 피\">뜨거운 피</a>\n",
       "</div>\n",
       "</td>\n",
       "<!-- 평점순일 때 평점 추가하기  -->\n",
       "<!----------------------------------------->\n",
       "<td class=\"ac\"><img alt=\"na\" class=\"arrow\" height=\"10\" src=\"https://ssl.pstatic.net/imgmovie/2007/img/common/icon_na_1.gif\" width=\"7\"/></td>\n",
       "<td class=\"range ac\">0</td>\n",
       "</tr>\n",
       "<tr>\n",
       "<td class=\"ac\"><img alt=\"17\" height=\"13\" src=\"https://ssl.pstatic.net/imgmovie/2007/img/common/bullet_r_g17.gif\" width=\"14\"/></td>\n",
       "<td class=\"title\">\n",
       "<div class=\"tit3\">\n",
       "<a href=\"/movie/bi/mi/basic.naver?code=217023\" title=\"이공삼칠\">이공삼칠</a>\n",
       "</div>\n",
       "</td>\n",
       "<!-- 평점순일 때 평점 추가하기  -->\n",
       "<!----------------------------------------->\n",
       "<td class=\"ac\"><img alt=\"up\" class=\"arrow\" height=\"10\" src=\"https://ssl.pstatic.net/imgmovie/2007/img/common/icon_up_1.gif\" width=\"7\"/></td>\n",
       "<td class=\"range ac\">10</td>\n",
       "</tr>\n",
       "<tr>\n",
       "<td class=\"ac\"><img alt=\"18\" height=\"13\" src=\"https://ssl.pstatic.net/imgmovie/2007/img/common/bullet_r_g18.gif\" width=\"14\"/></td>\n",
       "<td class=\"title\">\n",
       "<div class=\"tit3\">\n",
       "<a href=\"/movie/bi/mi/basic.naver?code=194196\" title=\"한산: 용의 출현\">한산: 용의 출현</a>\n",
       "</div>\n",
       "</td>\n",
       "<!-- 평점순일 때 평점 추가하기  -->\n",
       "<!----------------------------------------->\n",
       "<td class=\"ac\"><img alt=\"down\" class=\"arrow\" height=\"10\" src=\"https://ssl.pstatic.net/imgmovie/2007/img/common/icon_down_1.gif\" width=\"7\"/></td>\n",
       "<td class=\"range ac\">1</td>\n",
       "</tr>\n",
       "<tr>\n",
       "<td class=\"ac\"><img alt=\"19\" height=\"13\" src=\"https://ssl.pstatic.net/imgmovie/2007/img/common/bullet_r_g19.gif\" width=\"14\"/></td>\n",
       "<td class=\"title\">\n",
       "<div class=\"tit3\">\n",
       "<a href=\"/movie/bi/mi/basic.naver?code=213494\" title=\"홀덤킹 : 에어라인\">홀덤킹 : 에어라인</a>\n",
       "</div>\n",
       "</td>\n",
       "<!-- 평점순일 때 평점 추가하기  -->\n",
       "<!----------------------------------------->\n",
       "<td class=\"ac\"><img alt=\"up\" class=\"arrow\" height=\"10\" src=\"https://ssl.pstatic.net/imgmovie/2007/img/common/icon_up_1.gif\" width=\"7\"/></td>\n",
       "<td class=\"range ac\">2</td>\n",
       "</tr>\n",
       "<tr>\n",
       "<td class=\"ac\"><img alt=\"20\" height=\"13\" src=\"https://ssl.pstatic.net/imgmovie/2007/img/common/bullet_r_g20.gif\" width=\"14\"/></td>\n",
       "<td class=\"title\">\n",
       "<div class=\"tit3\">\n",
       "<a href=\"/movie/bi/mi/basic.naver?code=187347\" title=\"토르: 러브 앤 썬더\">토르: 러브 앤 썬더</a>\n",
       "</div>\n",
       "</td>\n",
       "<!-- 평점순일 때 평점 추가하기  -->\n",
       "<!----------------------------------------->\n",
       "<td class=\"ac\"><img alt=\"na\" class=\"arrow\" height=\"10\" src=\"https://ssl.pstatic.net/imgmovie/2007/img/common/icon_na_1.gif\" width=\"7\"/></td>\n",
       "<td class=\"range ac\">0</td>\n",
       "</tr>\n",
       "<tr><td class=\"line01\" colspan=\"8\"></td></tr>\n",
       "<tr>\n",
       "<td class=\"ac\"><img alt=\"21\" height=\"13\" src=\"https://ssl.pstatic.net/imgmovie/2007/img/common/bullet_r_g21.gif\" width=\"14\"/></td>\n",
       "<td class=\"title\">\n",
       "<div class=\"tit3\">\n",
       "<a href=\"/movie/bi/mi/basic.naver?code=173288\" title=\"이터널 로드\">이터널 로드</a>\n",
       "</div>\n",
       "</td>\n",
       "<!-- 평점순일 때 평점 추가하기  -->\n",
       "<!----------------------------------------->\n",
       "<td class=\"ac\"><img alt=\"down\" class=\"arrow\" height=\"10\" src=\"https://ssl.pstatic.net/imgmovie/2007/img/common/icon_down_1.gif\" width=\"7\"/></td>\n",
       "<td class=\"range ac\">3</td>\n",
       "</tr>\n",
       "<tr>\n",
       "<td class=\"ac\"><img alt=\"22\" height=\"13\" src=\"https://ssl.pstatic.net/imgmovie/2007/img/common/bullet_r_g22.gif\" width=\"14\"/></td>\n",
       "<td class=\"title\">\n",
       "<div class=\"tit3\">\n",
       "<a href=\"/movie/bi/mi/basic.naver?code=161242\" title=\"범죄도시\">범죄도시</a>\n",
       "</div>\n",
       "</td>\n",
       "<!-- 평점순일 때 평점 추가하기  -->\n",
       "<!----------------------------------------->\n",
       "<td class=\"ac\"><img alt=\"up\" class=\"arrow\" height=\"10\" src=\"https://ssl.pstatic.net/imgmovie/2007/img/common/icon_up_1.gif\" width=\"7\"/></td>\n",
       "<td class=\"range ac\">2</td>\n",
       "</tr>\n",
       "<tr>\n",
       "<td class=\"ac\"><img alt=\"23\" height=\"13\" src=\"https://ssl.pstatic.net/imgmovie/2007/img/common/bullet_r_g23.gif\" width=\"14\"/></td>\n",
       "<td class=\"title\">\n",
       "<div class=\"tit3\">\n",
       "<a href=\"/movie/bi/mi/basic.naver?code=210768\" title=\"오마주\">오마주</a>\n",
       "</div>\n",
       "</td>\n",
       "<!-- 평점순일 때 평점 추가하기  -->\n",
       "<!----------------------------------------->\n",
       "<td class=\"ac\"><img alt=\"down\" class=\"arrow\" height=\"10\" src=\"https://ssl.pstatic.net/imgmovie/2007/img/common/icon_down_1.gif\" width=\"7\"/></td>\n",
       "<td class=\"range ac\">1</td>\n",
       "</tr>\n",
       "<tr>\n",
       "<td class=\"ac\"><img alt=\"24\" height=\"13\" src=\"https://ssl.pstatic.net/imgmovie/2007/img/common/bullet_r_g24.gif\" width=\"14\"/></td>\n",
       "<td class=\"title\">\n",
       "<div class=\"tit3\">\n",
       "<a href=\"/movie/bi/mi/basic.naver?code=196047\" title=\"배드 가이즈\">배드 가이즈</a>\n",
       "</div>\n",
       "</td>\n",
       "<!-- 평점순일 때 평점 추가하기  -->\n",
       "<!----------------------------------------->\n",
       "<td class=\"ac\"><img alt=\"down\" class=\"arrow\" height=\"10\" src=\"https://ssl.pstatic.net/imgmovie/2007/img/common/icon_down_1.gif\" width=\"7\"/></td>\n",
       "<td class=\"range ac\">5</td>\n",
       "</tr>\n",
       "<tr>\n",
       "<td class=\"ac\"><img alt=\"25\" height=\"13\" src=\"https://ssl.pstatic.net/imgmovie/2007/img/common/bullet_r_g25.gif\" width=\"14\"/></td>\n",
       "<td class=\"title\">\n",
       "<div class=\"tit3\">\n",
       "<a href=\"/movie/bi/mi/basic.naver?code=190695\" title=\"모비우스\">모비우스</a>\n",
       "</div>\n",
       "</td>\n",
       "<!-- 평점순일 때 평점 추가하기  -->\n",
       "<!----------------------------------------->\n",
       "<td class=\"ac\"><img alt=\"na\" class=\"arrow\" height=\"10\" src=\"https://ssl.pstatic.net/imgmovie/2007/img/common/icon_na_1.gif\" width=\"7\"/></td>\n",
       "<td class=\"range ac\">0</td>\n",
       "</tr>\n",
       "<tr>\n",
       "<td class=\"ac\"><img alt=\"26\" height=\"13\" src=\"https://ssl.pstatic.net/imgmovie/2007/img/common/bullet_r_g26.gif\" width=\"14\"/></td>\n",
       "<td class=\"title\">\n",
       "<div class=\"tit3\">\n",
       "<a href=\"/movie/bi/mi/basic.naver?code=217024\" title=\"메모리\">메모리</a>\n",
       "</div>\n",
       "</td>\n",
       "<!-- 평점순일 때 평점 추가하기  -->\n",
       "<!----------------------------------------->\n",
       "<td class=\"ac\"><img alt=\"down\" class=\"arrow\" height=\"10\" src=\"https://ssl.pstatic.net/imgmovie/2007/img/common/icon_down_1.gif\" width=\"7\"/></td>\n",
       "<td class=\"range ac\">3</td>\n",
       "</tr>\n",
       "<tr>\n",
       "<td class=\"ac\"><img alt=\"27\" height=\"13\" src=\"https://ssl.pstatic.net/imgmovie/2007/img/common/bullet_r_g27.gif\" width=\"14\"/></td>\n",
       "<td class=\"title\">\n",
       "<div class=\"tit3\">\n",
       "<a href=\"/movie/bi/mi/basic.naver?code=216482\" title=\"미친 능력\">미친 능력</a>\n",
       "</div>\n",
       "</td>\n",
       "<!-- 평점순일 때 평점 추가하기  -->\n",
       "<!----------------------------------------->\n",
       "<td class=\"ac\"><img alt=\"up\" class=\"arrow\" height=\"10\" src=\"https://ssl.pstatic.net/imgmovie/2007/img/common/icon_up_1.gif\" width=\"7\"/></td>\n",
       "<td class=\"range ac\">4</td>\n",
       "</tr>\n",
       "<tr>\n",
       "<td class=\"ac\"></td>\n",
       "<td class=\"title\">\n",
       "<div class=\"tit3\">\n",
       "<a href=\"/movie/bi/mi/basic.naver?code=87717\" title=\"몬스터 싱어: 매직 인 파리\">몬스터 싱어: 매직 인 파리</a>\n",
       "</div>\n",
       "</td>\n",
       "<!-- 평점순일 때 평점 추가하기  -->\n",
       "<!----------------------------------------->\n",
       "<td class=\"ac\"><img alt=\"down\" class=\"arrow\" height=\"10\" src=\"https://ssl.pstatic.net/imgmovie/2007/img/common/icon_down_1.gif\" width=\"7\"/></td>\n",
       "<td class=\"range ac\">2</td>\n",
       "</tr>\n",
       "<tr>\n",
       "<td class=\"ac\"><img alt=\"29\" height=\"13\" src=\"https://ssl.pstatic.net/imgmovie/2007/img/common/bullet_r_g29.gif\" width=\"14\"/></td>\n",
       "<td class=\"title\">\n",
       "<div class=\"tit3\">\n",
       "<a href=\"/movie/bi/mi/basic.naver?code=217718\" title=\"인터셉터\">인터셉터</a>\n",
       "</div>\n",
       "</td>\n",
       "<!-- 평점순일 때 평점 추가하기  -->\n",
       "<!----------------------------------------->\n",
       "<td class=\"ac\"><img alt=\"up\" class=\"arrow\" height=\"10\" src=\"https://ssl.pstatic.net/imgmovie/2007/img/common/icon_up_1.gif\" width=\"7\"/></td>\n",
       "<td class=\"range ac\">2</td>\n",
       "</tr>\n",
       "<tr>\n",
       "<td class=\"ac\"><img alt=\"30\" height=\"13\" src=\"https://ssl.pstatic.net/imgmovie/2007/img/common/bullet_r_g30.gif\" width=\"14\"/></td>\n",
       "<td class=\"title\">\n",
       "<div class=\"tit3\">\n",
       "<a href=\"/movie/bi/mi/basic.naver?code=217276\" title=\"특수요원 빼꼼\">특수요원 빼꼼</a>\n",
       "</div>\n",
       "</td>\n",
       "<!-- 평점순일 때 평점 추가하기  -->\n",
       "<!----------------------------------------->\n",
       "<td class=\"ac\"><img alt=\"down\" class=\"arrow\" height=\"10\" src=\"https://ssl.pstatic.net/imgmovie/2007/img/common/icon_down_1.gif\" width=\"7\"/></td>\n",
       "<td class=\"range ac\">2</td>\n",
       "</tr>\n",
       "<tr><td class=\"line01\" colspan=\"8\"></td></tr>\n",
       "<tr>\n",
       "<td class=\"ac\"><img alt=\"31\" height=\"13\" src=\"https://ssl.pstatic.net/imgmovie/2007/img/common/bullet_r_g31.gif\" width=\"14\"/></td>\n",
       "<td class=\"title\">\n",
       "<div class=\"tit3\">\n",
       "<a href=\"/movie/bi/mi/basic.naver?code=201336\" title=\"매스\">매스</a>\n",
       "</div>\n",
       "</td>\n",
       "<!-- 평점순일 때 평점 추가하기  -->\n",
       "<!----------------------------------------->\n",
       "<td class=\"ac\"><img alt=\"up\" class=\"arrow\" height=\"10\" src=\"https://ssl.pstatic.net/imgmovie/2007/img/common/icon_up_1.gif\" width=\"7\"/></td>\n",
       "<td class=\"range ac\">14</td>\n",
       "</tr>\n",
       "<tr>\n",
       "<td class=\"ac\"><img alt=\"32\" height=\"13\" src=\"https://ssl.pstatic.net/imgmovie/2007/img/common/bullet_r_g32.gif\" width=\"14\"/></td>\n",
       "<td class=\"title\">\n",
       "<div class=\"tit3\">\n",
       "<a href=\"/movie/bi/mi/basic.naver?code=191613\" title=\"클라우스\">클라우스</a>\n",
       "</div>\n",
       "</td>\n",
       "<!-- 평점순일 때 평점 추가하기  -->\n",
       "<!----------------------------------------->\n",
       "<td class=\"ac\"><img alt=\"up\" class=\"arrow\" height=\"10\" src=\"https://ssl.pstatic.net/imgmovie/2007/img/common/icon_up_1.gif\" width=\"7\"/></td>\n",
       "<td class=\"range ac\">2</td>\n",
       "</tr>\n",
       "<tr>\n",
       "<td class=\"ac\"><img alt=\"33\" height=\"13\" src=\"https://ssl.pstatic.net/imgmovie/2007/img/common/bullet_r_g33.gif\" width=\"14\"/></td>\n",
       "<td class=\"title\">\n",
       "<div class=\"tit3\">\n",
       "<a href=\"/movie/bi/mi/basic.naver?code=212159\" title=\"소설가의 영화\">소설가의 영화</a>\n",
       "</div>\n",
       "</td>\n",
       "<!-- 평점순일 때 평점 추가하기  -->\n",
       "<!----------------------------------------->\n",
       "<td class=\"ac\"><img alt=\"up\" class=\"arrow\" height=\"10\" src=\"https://ssl.pstatic.net/imgmovie/2007/img/common/icon_up_1.gif\" width=\"7\"/></td>\n",
       "<td class=\"range ac\">3</td>\n",
       "</tr>\n",
       "<tr>\n",
       "<td class=\"ac\"></td>\n",
       "<td class=\"title\">\n",
       "<div class=\"tit3\">\n",
       "<a href=\"/movie/bi/mi/basic.naver?code=161967\" title=\"기생충\">기생충</a>\n",
       "</div>\n",
       "</td>\n",
       "<!-- 평점순일 때 평점 추가하기  -->\n",
       "<!----------------------------------------->\n",
       "<td class=\"ac\"><img alt=\"up\" class=\"arrow\" height=\"10\" src=\"https://ssl.pstatic.net/imgmovie/2007/img/common/icon_up_1.gif\" width=\"7\"/></td>\n",
       "<td class=\"range ac\">5</td>\n",
       "</tr>\n",
       "<tr>\n",
       "<td class=\"ac\"></td>\n",
       "<td class=\"title\">\n",
       "<div class=\"tit3\">\n",
       "<a href=\"/movie/bi/mi/basic.naver?code=203461\" title=\"안녕하세요\">안녕하세요</a>\n",
       "</div>\n",
       "</td>\n",
       "<!-- 평점순일 때 평점 추가하기  -->\n",
       "<!----------------------------------------->\n",
       "<td class=\"ac\"><img alt=\"down\" class=\"arrow\" height=\"10\" src=\"https://ssl.pstatic.net/imgmovie/2007/img/common/icon_down_1.gif\" width=\"7\"/></td>\n",
       "<td class=\"range ac\">4</td>\n",
       "</tr>\n",
       "<tr>\n",
       "<td class=\"ac\"></td>\n",
       "<td class=\"title\">\n",
       "<div class=\"tit3\">\n",
       "<a href=\"/movie/bi/mi/basic.naver?code=150389\" title=\"올리 마키의 가장 행복한 날\">올리 마키의 가장 행복한 날</a>\n",
       "</div>\n",
       "</td>\n",
       "<!-- 평점순일 때 평점 추가하기  -->\n",
       "<!----------------------------------------->\n",
       "<td class=\"ac\"><img alt=\"up\" class=\"arrow\" height=\"10\" src=\"https://ssl.pstatic.net/imgmovie/2007/img/common/icon_up_1.gif\" width=\"7\"/></td>\n",
       "<td class=\"range ac\">5</td>\n",
       "</tr>\n",
       "<tr>\n",
       "<td class=\"ac\"><img alt=\"37\" height=\"13\" src=\"https://ssl.pstatic.net/imgmovie/2007/img/common/bullet_r_g37.gif\" width=\"14\"/></td>\n",
       "<td class=\"title\">\n",
       "<div class=\"tit3\">\n",
       "<a href=\"/movie/bi/mi/basic.naver?code=213733\" title=\"극장판 주술회전 0\">극장판 주술회전 0</a>\n",
       "</div>\n",
       "</td>\n",
       "<!-- 평점순일 때 평점 추가하기  -->\n",
       "<!----------------------------------------->\n",
       "<td class=\"ac\"><img alt=\"up\" class=\"arrow\" height=\"10\" src=\"https://ssl.pstatic.net/imgmovie/2007/img/common/icon_up_1.gif\" width=\"7\"/></td>\n",
       "<td class=\"range ac\">4</td>\n",
       "</tr>\n",
       "<tr>\n",
       "<td class=\"ac\"></td>\n",
       "<td class=\"title\">\n",
       "<div class=\"tit3\">\n",
       "<a href=\"/movie/bi/mi/basic.naver?code=217659\" title=\"에이전트 게임\">에이전트 게임</a>\n",
       "</div>\n",
       "</td>\n",
       "<!-- 평점순일 때 평점 추가하기  -->\n",
       "<!----------------------------------------->\n",
       "<td class=\"ac\"><img alt=\"down\" class=\"arrow\" height=\"10\" src=\"https://ssl.pstatic.net/imgmovie/2007/img/common/icon_down_1.gif\" width=\"7\"/></td>\n",
       "<td class=\"range ac\">7</td>\n",
       "</tr>\n",
       "<tr>\n",
       "<td class=\"ac\"></td>\n",
       "<td class=\"title\">\n",
       "<div class=\"tit3\">\n",
       "<a href=\"/movie/bi/mi/basic.naver?code=216495\" title=\"그레이 맨\">그레이 맨</a>\n",
       "</div>\n",
       "</td>\n",
       "<!-- 평점순일 때 평점 추가하기  -->\n",
       "<!----------------------------------------->\n",
       "<td class=\"ac\"><img alt=\"down\" class=\"arrow\" height=\"10\" src=\"https://ssl.pstatic.net/imgmovie/2007/img/common/icon_down_1.gif\" width=\"7\"/></td>\n",
       "<td class=\"range ac\">4</td>\n",
       "</tr>\n",
       "<tr>\n",
       "<td class=\"ac\"><img alt=\"40\" height=\"13\" src=\"https://ssl.pstatic.net/imgmovie/2007/img/common/bullet_r_g40.gif\" width=\"14\"/></td>\n",
       "<td class=\"title\">\n",
       "<div class=\"tit3\">\n",
       "<a href=\"/movie/bi/mi/basic.naver?code=213508\" title=\"셧 인\">셧 인</a>\n",
       "</div>\n",
       "</td>\n",
       "<!-- 평점순일 때 평점 추가하기  -->\n",
       "<!----------------------------------------->\n",
       "<td class=\"ac\"><img alt=\"down\" class=\"arrow\" height=\"10\" src=\"https://ssl.pstatic.net/imgmovie/2007/img/common/icon_down_1.gif\" width=\"7\"/></td>\n",
       "<td class=\"range ac\">2</td>\n",
       "</tr>\n",
       "<tr><td class=\"line01\" colspan=\"8\"></td></tr>\n",
       "<tr>\n",
       "<td class=\"ac\"><img alt=\"41\" height=\"13\" src=\"https://ssl.pstatic.net/imgmovie/2007/img/common/bullet_r_g41.gif\" width=\"14\"/></td>\n",
       "<td class=\"title\">\n",
       "<div class=\"tit3\">\n",
       "<a href=\"/movie/bi/mi/basic.naver?code=13500\" title=\"쥬라기 공원\">쥬라기 공원</a>\n",
       "</div>\n",
       "</td>\n",
       "<!-- 평점순일 때 평점 추가하기  -->\n",
       "<!----------------------------------------->\n",
       "<td class=\"ac\"><img alt=\"down\" class=\"arrow\" height=\"10\" src=\"https://ssl.pstatic.net/imgmovie/2007/img/common/icon_down_1.gif\" width=\"7\"/></td>\n",
       "<td class=\"range ac\">5</td>\n",
       "</tr>\n",
       "<tr>\n",
       "<td class=\"ac\"></td>\n",
       "<td class=\"title\">\n",
       "<div class=\"tit3\">\n",
       "<a href=\"/movie/bi/mi/basic.naver?code=216272\" title=\"경아의 딸\">경아의 딸</a>\n",
       "</div>\n",
       "</td>\n",
       "<!-- 평점순일 때 평점 추가하기  -->\n",
       "<!----------------------------------------->\n",
       "<td class=\"ac\"><img alt=\"na\" class=\"arrow\" height=\"10\" src=\"https://ssl.pstatic.net/imgmovie/2007/img/common/icon_na_1.gif\" width=\"7\"/></td>\n",
       "<td class=\"range ac\">0</td>\n",
       "</tr>\n",
       "<tr>\n",
       "<td class=\"ac\"><img alt=\"43\" height=\"13\" src=\"https://ssl.pstatic.net/imgmovie/2007/img/common/bullet_r_g43.gif\" width=\"14\"/></td>\n",
       "<td class=\"title\">\n",
       "<div class=\"tit3\">\n",
       "<a href=\"/movie/bi/mi/basic.naver?code=207202\" title=\"아치의 노래, 정태춘\">아치의 노래, 정태춘</a>\n",
       "</div>\n",
       "</td>\n",
       "<!-- 평점순일 때 평점 추가하기  -->\n",
       "<!----------------------------------------->\n",
       "<td class=\"ac\"><img alt=\"down\" class=\"arrow\" height=\"10\" src=\"https://ssl.pstatic.net/imgmovie/2007/img/common/icon_down_1.gif\" width=\"7\"/></td>\n",
       "<td class=\"range ac\">9</td>\n",
       "</tr>\n",
       "<tr>\n",
       "<td class=\"ac\"><img alt=\"44\" height=\"13\" src=\"https://ssl.pstatic.net/imgmovie/2007/img/common/bullet_r_g44.gif\" width=\"14\"/></td>\n",
       "<td class=\"title\">\n",
       "<div class=\"tit3\">\n",
       "<a href=\"/movie/bi/mi/basic.naver?code=210031\" title=\"실종\">실종</a>\n",
       "</div>\n",
       "</td>\n",
       "<!-- 평점순일 때 평점 추가하기  -->\n",
       "<!----------------------------------------->\n",
       "<td class=\"ac\"><img alt=\"up\" class=\"arrow\" height=\"10\" src=\"https://ssl.pstatic.net/imgmovie/2007/img/common/icon_up_1.gif\" width=\"7\"/></td>\n",
       "<td class=\"range ac\">5</td>\n",
       "</tr>\n",
       "<tr>\n",
       "<td class=\"ac\"><img alt=\"45\" height=\"13\" src=\"https://ssl.pstatic.net/imgmovie/2007/img/common/bullet_r_g45.gif\" width=\"14\"/></td>\n",
       "<td class=\"title\">\n",
       "<div class=\"tit3\">\n",
       "<a href=\"/movie/bi/mi/basic.naver?code=196809\" title=\"연애 빠진 로맨스\">연애 빠진 로맨스</a>\n",
       "</div>\n",
       "</td>\n",
       "<!-- 평점순일 때 평점 추가하기  -->\n",
       "<!----------------------------------------->\n",
       "<td class=\"ac\"><img alt=\"na\" class=\"arrow\" height=\"10\" src=\"https://ssl.pstatic.net/imgmovie/2007/img/common/icon_na_1.gif\" width=\"7\"/></td>\n",
       "<td class=\"range ac\">0</td>\n",
       "</tr>\n",
       "<tr>\n",
       "<td class=\"ac\"><img alt=\"46\" height=\"13\" src=\"https://ssl.pstatic.net/imgmovie/2007/img/common/bullet_r_g46.gif\" width=\"14\"/></td>\n",
       "<td class=\"title\">\n",
       "<div class=\"tit3\">\n",
       "<a href=\"/movie/bi/mi/basic.naver?code=213535\" title=\"더 렛지\">더 렛지</a>\n",
       "</div>\n",
       "</td>\n",
       "<!-- 평점순일 때 평점 추가하기  -->\n",
       "<!----------------------------------------->\n",
       "<td class=\"ac\"><img alt=\"up\" class=\"arrow\" height=\"10\" src=\"https://ssl.pstatic.net/imgmovie/2007/img/common/icon_up_1.gif\" width=\"7\"/></td>\n",
       "<td class=\"range ac\">1</td>\n",
       "</tr>\n",
       "<tr>\n",
       "<td class=\"ac\"><img alt=\"47\" height=\"13\" src=\"https://ssl.pstatic.net/imgmovie/2007/img/common/bullet_r_g47.gif\" width=\"14\"/></td>\n",
       "<td class=\"title\">\n",
       "<div class=\"tit3\">\n",
       "<a href=\"/movie/bi/mi/basic.naver?code=67786\" title=\"쥬라기 월드\">쥬라기 월드</a>\n",
       "</div>\n",
       "</td>\n",
       "<!-- 평점순일 때 평점 추가하기  -->\n",
       "<!----------------------------------------->\n",
       "<td class=\"ac\"><img alt=\"down\" class=\"arrow\" height=\"10\" src=\"https://ssl.pstatic.net/imgmovie/2007/img/common/icon_down_1.gif\" width=\"7\"/></td>\n",
       "<td class=\"range ac\">3</td>\n",
       "</tr>\n",
       "<tr>\n",
       "<td class=\"ac\"></td>\n",
       "<td class=\"title\">\n",
       "<div class=\"tit3\">\n",
       "<a href=\"/movie/bi/mi/basic.naver?code=214553\" title=\"앰뷸런스\">앰뷸런스</a>\n",
       "</div>\n",
       "</td>\n",
       "<!-- 평점순일 때 평점 추가하기  -->\n",
       "<!----------------------------------------->\n",
       "<td class=\"ac\"><img alt=\"up\" class=\"arrow\" height=\"10\" src=\"https://ssl.pstatic.net/imgmovie/2007/img/common/icon_up_1.gif\" width=\"7\"/></td>\n",
       "<td class=\"range ac\">2</td>\n",
       "</tr>\n",
       "<tr>\n",
       "<td class=\"ac\"><img alt=\"49\" height=\"13\" src=\"https://ssl.pstatic.net/imgmovie/2007/img/common/bullet_r_g49.gif\" width=\"14\"/></td>\n",
       "<td class=\"title\">\n",
       "<div class=\"tit3\">\n",
       "<a href=\"/movie/bi/mi/basic.naver?code=154285\" title=\"쥬라기 월드: 폴른 킹덤\">쥬라기 월드: 폴른 킹덤</a>\n",
       "</div>\n",
       "</td>\n",
       "<!-- 평점순일 때 평점 추가하기  -->\n",
       "<!----------------------------------------->\n",
       "<td class=\"ac\"><img alt=\"down\" class=\"arrow\" height=\"10\" src=\"https://ssl.pstatic.net/imgmovie/2007/img/common/icon_down_1.gif\" width=\"7\"/></td>\n",
       "<td class=\"range ac\">8</td>\n",
       "</tr>\n",
       "<tr>\n",
       "<td class=\"ac\"><img alt=\"50\" height=\"13\" src=\"https://ssl.pstatic.net/imgmovie/2007/img/common/bullet_r_g50.gif\" width=\"14\"/></td>\n",
       "<td class=\"title\">\n",
       "<div class=\"tit3\">\n",
       "<a href=\"/movie/bi/mi/basic.naver?code=196362\" title=\"공기살인\">공기살인</a>\n",
       "</div>\n",
       "</td>\n",
       "<!-- 평점순일 때 평점 추가하기  -->\n",
       "<!----------------------------------------->\n",
       "<td class=\"ac\"><img alt=\"down\" class=\"arrow\" height=\"10\" src=\"https://ssl.pstatic.net/imgmovie/2007/img/common/icon_down_1.gif\" width=\"7\"/></td>\n",
       "<td class=\"range ac\">2</td>\n",
       "</tr>\n",
       "<tr><td class=\"blank01\" colspan=\"8\"></td></tr>\n",
       "</tbody>\n",
       "</table>"
      ]
     },
     "execution_count": 3,
     "metadata": {},
     "output_type": "execute_result"
    }
   ],
   "source": [
    "# table, list_ranking\n",
    "list_ranking = soup.find('table', 'list_ranking')\n",
    "list_ranking\n"
   ]
  },
  {
   "cell_type": "code",
   "execution_count": 4,
   "id": "47636d33",
   "metadata": {},
   "outputs": [
    {
     "data": {
      "text/plain": [
       "bs4.element.Tag"
      ]
     },
     "execution_count": 4,
     "metadata": {},
     "output_type": "execute_result"
    }
   ],
   "source": [
    "type(list_ranking)"
   ]
  },
  {
   "cell_type": "code",
   "execution_count": 5,
   "id": "50804032",
   "metadata": {},
   "outputs": [
    {
     "data": {
      "text/plain": [
       "57"
      ]
     },
     "execution_count": 5,
     "metadata": {},
     "output_type": "execute_result"
    }
   ],
   "source": [
    "tr_tags = list_ranking.find_all('tr')\n",
    "len(tr_tags)"
   ]
  },
  {
   "cell_type": "code",
   "execution_count": 6,
   "id": "66d0beb0",
   "metadata": {},
   "outputs": [
    {
     "data": {
      "text/plain": [
       "<tr>\n",
       "<td class=\"ac\"><img alt=\"01\" height=\"13\" src=\"https://ssl.pstatic.net/imgmovie/2007/img/common/bullet_r_r01.gif\" width=\"14\"/></td>\n",
       "<td class=\"title\">\n",
       "<div class=\"tit3\">\n",
       "<a href=\"/movie/bi/mi/basic.naver?code=192608\" title=\"범죄도시2\">범죄도시2</a>\n",
       "</div>\n",
       "</td>\n",
       "<!-- 평점순일 때 평점 추가하기  -->\n",
       "<!----------------------------------------->\n",
       "<td class=\"ac\"><img alt=\"na\" class=\"arrow\" height=\"10\" src=\"https://ssl.pstatic.net/imgmovie/2007/img/common/icon_na_1.gif\" width=\"7\"/></td>\n",
       "<td class=\"range ac\">0</td>\n",
       "</tr>"
      ]
     },
     "execution_count": 6,
     "metadata": {},
     "output_type": "execute_result"
    }
   ],
   "source": [
    "tr_tag = tr_tags[2]    # 2~11\n",
    "tr_tag"
   ]
  },
  {
   "cell_type": "code",
   "execution_count": 7,
   "id": "8f1f7a68",
   "metadata": {},
   "outputs": [
    {
     "data": {
      "text/plain": [
       "bs4.element.Tag"
      ]
     },
     "execution_count": 7,
     "metadata": {},
     "output_type": "execute_result"
    }
   ],
   "source": [
    "type(tr_tag)"
   ]
  },
  {
   "cell_type": "code",
   "execution_count": 8,
   "id": "cb64051f",
   "metadata": {},
   "outputs": [
    {
     "data": {
      "text/plain": [
       "'01'"
      ]
     },
     "execution_count": 8,
     "metadata": {},
     "output_type": "execute_result"
    }
   ],
   "source": [
    "rank = tr_tag.find('img')\n",
    "# rank = rank.get_text()\n",
    "rank = rank['alt']\n",
    "rank"
   ]
  },
  {
   "cell_type": "code",
   "execution_count": 9,
   "id": "251ed186",
   "metadata": {},
   "outputs": [
    {
     "data": {
      "text/plain": [
       "'범죄도시2'"
      ]
     },
     "execution_count": 9,
     "metadata": {},
     "output_type": "execute_result"
    }
   ],
   "source": [
    "movie = tr_tag.find('a')\n",
    "title = movie.get_text()\n",
    "title"
   ]
  },
  {
   "cell_type": "code",
   "execution_count": 10,
   "id": "05fb2c87",
   "metadata": {},
   "outputs": [
    {
     "data": {
      "text/plain": [
       "'/movie/bi/mi/basic.naver?code=192608'"
      ]
     },
     "execution_count": 10,
     "metadata": {},
     "output_type": "execute_result"
    }
   ],
   "source": [
    "link = movie['href']\n",
    "link"
   ]
  },
  {
   "cell_type": "code",
   "execution_count": 11,
   "id": "eb816a64",
   "metadata": {},
   "outputs": [
    {
     "data": {
      "text/plain": [
       "''"
      ]
     },
     "execution_count": 11,
     "metadata": {},
     "output_type": "execute_result"
    }
   ],
   "source": [
    "range_ac1 = tr_tag.find_all('td', 'ac')[1]\n",
    "range_ac1 = range_ac1.find('img')['alt']\n",
    "range_ac1 = '-' if range_ac1=='down' else ''\n",
    "range_ac1"
   ]
  },
  {
   "cell_type": "code",
   "execution_count": 12,
   "id": "24567089",
   "metadata": {},
   "outputs": [
    {
     "data": {
      "text/plain": [
       "'0'"
      ]
     },
     "execution_count": 12,
     "metadata": {},
     "output_type": "execute_result"
    }
   ],
   "source": [
    "range_ac2 = tr_tag.find_all('td', 'ac')[2]\n",
    "range_ac2 = range_ac2.get_text()\n",
    "range_ac2"
   ]
  },
  {
   "cell_type": "code",
   "execution_count": 13,
   "id": "fd8b1644",
   "metadata": {},
   "outputs": [
    {
     "data": {
      "text/plain": [
       "'0'"
      ]
     },
     "execution_count": 13,
     "metadata": {},
     "output_type": "execute_result"
    }
   ],
   "source": [
    "range_ac = range_ac1 + range_ac2\n",
    "range_ac"
   ]
  },
  {
   "cell_type": "code",
   "execution_count": 14,
   "id": "630b0327",
   "metadata": {},
   "outputs": [],
   "source": [
    "arr_rank  = list()\n",
    "arr_title = list()\n",
    "arr_link  = list()\n",
    "arr_range_ac = list()\n",
    "\n",
    "for tr_tag in tr_tags[2:12]:\n",
    "    rank = tr_tag.find('img')\n",
    "    rank = rank['alt']\n",
    "\n",
    "    movie = tr_tag.find('a')\n",
    "    title = movie.get_text()\n",
    "    link = movie['href']\n",
    "    \n",
    "\n",
    "    range_ac1 = tr_tag.find_all('td', 'ac')[1]\n",
    "    range_ac1 = range_ac1.find('img')['alt']\n",
    "    range_ac1 = '-' if range_ac1=='down' else ''\n",
    "    range_ac2 = tr_tag.find_all('td', 'ac')[2]\n",
    "    range_ac2 = range_ac2.get_text()\n",
    "    range_ac = range_ac1 + range_ac2\n",
    "    \n",
    "    arr_rank.append(rank)\n",
    "    arr_title.append(title)\n",
    "    arr_link.append('https://movie.naver.com'+link)\n",
    "    arr_range_ac.append(range_ac)\n",
    "    \n",
    "    \n"
   ]
  },
  {
   "cell_type": "code",
   "execution_count": 15,
   "id": "49644300",
   "metadata": {},
   "outputs": [
    {
     "data": {
      "text/plain": [
       "['01', '02', '03', '04', '05', '06', '07', '08', '09', '010']"
      ]
     },
     "execution_count": 15,
     "metadata": {},
     "output_type": "execute_result"
    }
   ],
   "source": [
    "arr_rank"
   ]
  },
  {
   "cell_type": "code",
   "execution_count": 16,
   "id": "2d7114f2",
   "metadata": {},
   "outputs": [
    {
     "data": {
      "text/plain": [
       "['범죄도시2',\n",
       " '쥬라기 월드: 도미니언',\n",
       " '브로커',\n",
       " '닥터 스트레인지: 대혼돈의 멀티버스',\n",
       " '니 부모 얼굴이 보고 싶다',\n",
       " '그대가 조국',\n",
       " '마녀(魔女) Part2. The Other One',\n",
       " '카시오페아',\n",
       " '탑건: 매버릭',\n",
       " '극장판 포켓몬스터DP: 기라티나와 하늘의 꽃다발 쉐이미']"
      ]
     },
     "execution_count": 16,
     "metadata": {},
     "output_type": "execute_result"
    }
   ],
   "source": [
    "arr_title"
   ]
  },
  {
   "cell_type": "code",
   "execution_count": 17,
   "id": "8fd23c6b",
   "metadata": {},
   "outputs": [
    {
     "data": {
      "text/plain": [
       "['https://movie.naver.com/movie/bi/mi/basic.naver?code=192608',\n",
       " 'https://movie.naver.com/movie/bi/mi/basic.naver?code=191646',\n",
       " 'https://movie.naver.com/movie/bi/mi/basic.naver?code=196854',\n",
       " 'https://movie.naver.com/movie/bi/mi/basic.naver?code=182016',\n",
       " 'https://movie.naver.com/movie/bi/mi/basic.naver?code=159812',\n",
       " 'https://movie.naver.com/movie/bi/mi/basic.naver?code=216100',\n",
       " 'https://movie.naver.com/movie/bi/mi/basic.naver?code=196367',\n",
       " 'https://movie.naver.com/movie/bi/mi/basic.naver?code=208772',\n",
       " 'https://movie.naver.com/movie/bi/mi/basic.naver?code=81888',\n",
       " 'https://movie.naver.com/movie/bi/mi/basic.naver?code=50368']"
      ]
     },
     "execution_count": 17,
     "metadata": {},
     "output_type": "execute_result"
    }
   ],
   "source": [
    "arr_link"
   ]
  },
  {
   "cell_type": "code",
   "execution_count": 18,
   "id": "f2851342",
   "metadata": {},
   "outputs": [
    {
     "data": {
      "text/plain": [
       "['0', '0', '0', '0', '1', '-1', '0', '0', '0', '0']"
      ]
     },
     "execution_count": 18,
     "metadata": {},
     "output_type": "execute_result"
    }
   ],
   "source": [
    "arr_range_ac"
   ]
  },
  {
   "cell_type": "code",
   "execution_count": 19,
   "id": "d72fc992",
   "metadata": {},
   "outputs": [],
   "source": [
    "# 순위, 영화명, 변동폭, 링크\n",
    "\n",
    "import pandas as pd\n",
    "\n",
    "data = {'Rank':arr_rank, 'Movename':arr_title, 'Range':arr_range_ac, 'URL':arr_link}\n",
    "df = pd.DataFrame(data)"
   ]
  },
  {
   "cell_type": "code",
   "execution_count": 20,
   "id": "2bdf726f",
   "metadata": {},
   "outputs": [
    {
     "data": {
      "text/html": [
       "<div>\n",
       "<style scoped>\n",
       "    .dataframe tbody tr th:only-of-type {\n",
       "        vertical-align: middle;\n",
       "    }\n",
       "\n",
       "    .dataframe tbody tr th {\n",
       "        vertical-align: top;\n",
       "    }\n",
       "\n",
       "    .dataframe thead th {\n",
       "        text-align: right;\n",
       "    }\n",
       "</style>\n",
       "<table border=\"1\" class=\"dataframe\">\n",
       "  <thead>\n",
       "    <tr style=\"text-align: right;\">\n",
       "      <th></th>\n",
       "      <th>Rank</th>\n",
       "      <th>Movename</th>\n",
       "      <th>Range</th>\n",
       "      <th>URL</th>\n",
       "    </tr>\n",
       "  </thead>\n",
       "  <tbody>\n",
       "    <tr>\n",
       "      <th>0</th>\n",
       "      <td>01</td>\n",
       "      <td>범죄도시2</td>\n",
       "      <td>0</td>\n",
       "      <td>https://movie.naver.com/movie/bi/mi/basic.nave...</td>\n",
       "    </tr>\n",
       "    <tr>\n",
       "      <th>1</th>\n",
       "      <td>02</td>\n",
       "      <td>쥬라기 월드: 도미니언</td>\n",
       "      <td>0</td>\n",
       "      <td>https://movie.naver.com/movie/bi/mi/basic.nave...</td>\n",
       "    </tr>\n",
       "    <tr>\n",
       "      <th>2</th>\n",
       "      <td>03</td>\n",
       "      <td>브로커</td>\n",
       "      <td>0</td>\n",
       "      <td>https://movie.naver.com/movie/bi/mi/basic.nave...</td>\n",
       "    </tr>\n",
       "    <tr>\n",
       "      <th>3</th>\n",
       "      <td>04</td>\n",
       "      <td>닥터 스트레인지: 대혼돈의 멀티버스</td>\n",
       "      <td>0</td>\n",
       "      <td>https://movie.naver.com/movie/bi/mi/basic.nave...</td>\n",
       "    </tr>\n",
       "    <tr>\n",
       "      <th>4</th>\n",
       "      <td>05</td>\n",
       "      <td>니 부모 얼굴이 보고 싶다</td>\n",
       "      <td>1</td>\n",
       "      <td>https://movie.naver.com/movie/bi/mi/basic.nave...</td>\n",
       "    </tr>\n",
       "    <tr>\n",
       "      <th>5</th>\n",
       "      <td>06</td>\n",
       "      <td>그대가 조국</td>\n",
       "      <td>-1</td>\n",
       "      <td>https://movie.naver.com/movie/bi/mi/basic.nave...</td>\n",
       "    </tr>\n",
       "    <tr>\n",
       "      <th>6</th>\n",
       "      <td>07</td>\n",
       "      <td>마녀(魔女) Part2. The Other One</td>\n",
       "      <td>0</td>\n",
       "      <td>https://movie.naver.com/movie/bi/mi/basic.nave...</td>\n",
       "    </tr>\n",
       "    <tr>\n",
       "      <th>7</th>\n",
       "      <td>08</td>\n",
       "      <td>카시오페아</td>\n",
       "      <td>0</td>\n",
       "      <td>https://movie.naver.com/movie/bi/mi/basic.nave...</td>\n",
       "    </tr>\n",
       "    <tr>\n",
       "      <th>8</th>\n",
       "      <td>09</td>\n",
       "      <td>탑건: 매버릭</td>\n",
       "      <td>0</td>\n",
       "      <td>https://movie.naver.com/movie/bi/mi/basic.nave...</td>\n",
       "    </tr>\n",
       "    <tr>\n",
       "      <th>9</th>\n",
       "      <td>010</td>\n",
       "      <td>극장판 포켓몬스터DP: 기라티나와 하늘의 꽃다발 쉐이미</td>\n",
       "      <td>0</td>\n",
       "      <td>https://movie.naver.com/movie/bi/mi/basic.nave...</td>\n",
       "    </tr>\n",
       "  </tbody>\n",
       "</table>\n",
       "</div>"
      ],
      "text/plain": [
       "  Rank                        Movename Range  \\\n",
       "0   01                           범죄도시2     0   \n",
       "1   02                    쥬라기 월드: 도미니언     0   \n",
       "2   03                             브로커     0   \n",
       "3   04             닥터 스트레인지: 대혼돈의 멀티버스     0   \n",
       "4   05                  니 부모 얼굴이 보고 싶다     1   \n",
       "5   06                          그대가 조국    -1   \n",
       "6   07     마녀(魔女) Part2. The Other One     0   \n",
       "7   08                           카시오페아     0   \n",
       "8   09                         탑건: 매버릭     0   \n",
       "9  010  극장판 포켓몬스터DP: 기라티나와 하늘의 꽃다발 쉐이미     0   \n",
       "\n",
       "                                                 URL  \n",
       "0  https://movie.naver.com/movie/bi/mi/basic.nave...  \n",
       "1  https://movie.naver.com/movie/bi/mi/basic.nave...  \n",
       "2  https://movie.naver.com/movie/bi/mi/basic.nave...  \n",
       "3  https://movie.naver.com/movie/bi/mi/basic.nave...  \n",
       "4  https://movie.naver.com/movie/bi/mi/basic.nave...  \n",
       "5  https://movie.naver.com/movie/bi/mi/basic.nave...  \n",
       "6  https://movie.naver.com/movie/bi/mi/basic.nave...  \n",
       "7  https://movie.naver.com/movie/bi/mi/basic.nave...  \n",
       "8  https://movie.naver.com/movie/bi/mi/basic.nave...  \n",
       "9  https://movie.naver.com/movie/bi/mi/basic.nave...  "
      ]
     },
     "execution_count": 20,
     "metadata": {},
     "output_type": "execute_result"
    }
   ],
   "source": [
    "df.head(10)"
   ]
  },
  {
   "cell_type": "code",
   "execution_count": 21,
   "id": "450411a8",
   "metadata": {},
   "outputs": [
    {
     "data": {
      "text/html": [
       "<div>\n",
       "<style scoped>\n",
       "    .dataframe tbody tr th:only-of-type {\n",
       "        vertical-align: middle;\n",
       "    }\n",
       "\n",
       "    .dataframe tbody tr th {\n",
       "        vertical-align: top;\n",
       "    }\n",
       "\n",
       "    .dataframe thead th {\n",
       "        text-align: right;\n",
       "    }\n",
       "</style>\n",
       "<table border=\"1\" class=\"dataframe\">\n",
       "  <thead>\n",
       "    <tr style=\"text-align: right;\">\n",
       "      <th></th>\n",
       "      <th>Rank</th>\n",
       "      <th>Movename</th>\n",
       "      <th>URL</th>\n",
       "      <th>Range</th>\n",
       "    </tr>\n",
       "  </thead>\n",
       "  <tbody>\n",
       "    <tr>\n",
       "      <th>0</th>\n",
       "      <td>01</td>\n",
       "      <td>범죄도시2</td>\n",
       "      <td>https://movie.naver.com/movie/bi/mi/basic.nave...</td>\n",
       "      <td>0</td>\n",
       "    </tr>\n",
       "    <tr>\n",
       "      <th>1</th>\n",
       "      <td>02</td>\n",
       "      <td>쥬라기 월드: 도미니언</td>\n",
       "      <td>https://movie.naver.com/movie/bi/mi/basic.nave...</td>\n",
       "      <td>0</td>\n",
       "    </tr>\n",
       "    <tr>\n",
       "      <th>2</th>\n",
       "      <td>03</td>\n",
       "      <td>브로커</td>\n",
       "      <td>https://movie.naver.com/movie/bi/mi/basic.nave...</td>\n",
       "      <td>0</td>\n",
       "    </tr>\n",
       "    <tr>\n",
       "      <th>3</th>\n",
       "      <td>04</td>\n",
       "      <td>닥터 스트레인지: 대혼돈의 멀티버스</td>\n",
       "      <td>https://movie.naver.com/movie/bi/mi/basic.nave...</td>\n",
       "      <td>0</td>\n",
       "    </tr>\n",
       "    <tr>\n",
       "      <th>4</th>\n",
       "      <td>05</td>\n",
       "      <td>니 부모 얼굴이 보고 싶다</td>\n",
       "      <td>https://movie.naver.com/movie/bi/mi/basic.nave...</td>\n",
       "      <td>1</td>\n",
       "    </tr>\n",
       "  </tbody>\n",
       "</table>\n",
       "</div>"
      ],
      "text/plain": [
       "  Rank             Movename  \\\n",
       "0   01                범죄도시2   \n",
       "1   02         쥬라기 월드: 도미니언   \n",
       "2   03                  브로커   \n",
       "3   04  닥터 스트레인지: 대혼돈의 멀티버스   \n",
       "4   05       니 부모 얼굴이 보고 싶다   \n",
       "\n",
       "                                                 URL Range  \n",
       "0  https://movie.naver.com/movie/bi/mi/basic.nave...     0  \n",
       "1  https://movie.naver.com/movie/bi/mi/basic.nave...     0  \n",
       "2  https://movie.naver.com/movie/bi/mi/basic.nave...     0  \n",
       "3  https://movie.naver.com/movie/bi/mi/basic.nave...     0  \n",
       "4  https://movie.naver.com/movie/bi/mi/basic.nave...     1  "
      ]
     },
     "execution_count": 21,
     "metadata": {},
     "output_type": "execute_result"
    }
   ],
   "source": [
    "df = pd.DataFrame(data, columns=['Rank','Movename','URL','Range'])\n",
    "df.head(5)"
   ]
  },
  {
   "cell_type": "code",
   "execution_count": 24,
   "id": "16fc03fc",
   "metadata": {},
   "outputs": [
    {
     "data": {
      "text/plain": [
       "'C:\\\\Users\\\\82106\\\\연습\\\\수업시간실습'"
      ]
     },
     "execution_count": 24,
     "metadata": {},
     "output_type": "execute_result"
    }
   ],
   "source": [
    "%pwd"
   ]
  },
  {
   "cell_type": "code",
   "execution_count": 25,
   "id": "037a3cba",
   "metadata": {},
   "outputs": [],
   "source": [
    "df.to_csv('data/moverank.csv', sep=',', encoding='utf-8')"
   ]
  },
  {
   "cell_type": "code",
   "execution_count": 26,
   "id": "75e8b827",
   "metadata": {},
   "outputs": [
    {
     "name": "stdout",
     "output_type": "stream",
     "text": [
      " C 드라이브의 볼륨에는 이름이 없습니다.\n",
      " 볼륨 일련 번호: ACD6-B35F\n",
      "\n",
      " C:\\Users\\82106\\연습\\수업시간실습\\data 디렉터리\n",
      "\n",
      "2022-06-09  오후 08:59             1,008 moverank.csv\n",
      "               1개 파일               1,008 바이트\n",
      "               0개 디렉터리  192,410,636,288 바이트 남음\n"
     ]
    }
   ],
   "source": [
    "%ls data\\m*.csv"
   ]
  },
  {
   "cell_type": "code",
   "execution_count": 6,
   "id": "3331c6c0",
   "metadata": {},
   "outputs": [],
   "source": [
    "import pandas as pd"
   ]
  },
  {
   "cell_type": "code",
   "execution_count": 7,
   "id": "b1ad7f18",
   "metadata": {},
   "outputs": [
    {
     "data": {
      "text/html": [
       "<div>\n",
       "<style scoped>\n",
       "    .dataframe tbody tr th:only-of-type {\n",
       "        vertical-align: middle;\n",
       "    }\n",
       "\n",
       "    .dataframe tbody tr th {\n",
       "        vertical-align: top;\n",
       "    }\n",
       "\n",
       "    .dataframe thead th {\n",
       "        text-align: right;\n",
       "    }\n",
       "</style>\n",
       "<table border=\"1\" class=\"dataframe\">\n",
       "  <thead>\n",
       "    <tr style=\"text-align: right;\">\n",
       "      <th></th>\n",
       "      <th>Unnamed: 0</th>\n",
       "      <th>Movename</th>\n",
       "      <th>URL</th>\n",
       "      <th>Range</th>\n",
       "    </tr>\n",
       "    <tr>\n",
       "      <th>Rank</th>\n",
       "      <th></th>\n",
       "      <th></th>\n",
       "      <th></th>\n",
       "      <th></th>\n",
       "    </tr>\n",
       "  </thead>\n",
       "  <tbody>\n",
       "    <tr>\n",
       "      <th>1</th>\n",
       "      <td>0</td>\n",
       "      <td>범죄도시2</td>\n",
       "      <td>https://movie.naver.com/movie/bi/mi/basic.nave...</td>\n",
       "      <td>0</td>\n",
       "    </tr>\n",
       "    <tr>\n",
       "      <th>2</th>\n",
       "      <td>1</td>\n",
       "      <td>쥬라기 월드: 도미니언</td>\n",
       "      <td>https://movie.naver.com/movie/bi/mi/basic.nave...</td>\n",
       "      <td>0</td>\n",
       "    </tr>\n",
       "    <tr>\n",
       "      <th>3</th>\n",
       "      <td>2</td>\n",
       "      <td>브로커</td>\n",
       "      <td>https://movie.naver.com/movie/bi/mi/basic.nave...</td>\n",
       "      <td>0</td>\n",
       "    </tr>\n",
       "    <tr>\n",
       "      <th>4</th>\n",
       "      <td>3</td>\n",
       "      <td>닥터 스트레인지: 대혼돈의 멀티버스</td>\n",
       "      <td>https://movie.naver.com/movie/bi/mi/basic.nave...</td>\n",
       "      <td>0</td>\n",
       "    </tr>\n",
       "    <tr>\n",
       "      <th>5</th>\n",
       "      <td>4</td>\n",
       "      <td>니 부모 얼굴이 보고 싶다</td>\n",
       "      <td>https://movie.naver.com/movie/bi/mi/basic.nave...</td>\n",
       "      <td>1</td>\n",
       "    </tr>\n",
       "    <tr>\n",
       "      <th>6</th>\n",
       "      <td>5</td>\n",
       "      <td>그대가 조국</td>\n",
       "      <td>https://movie.naver.com/movie/bi/mi/basic.nave...</td>\n",
       "      <td>-1</td>\n",
       "    </tr>\n",
       "    <tr>\n",
       "      <th>7</th>\n",
       "      <td>6</td>\n",
       "      <td>마녀(魔女) Part2. The Other One</td>\n",
       "      <td>https://movie.naver.com/movie/bi/mi/basic.nave...</td>\n",
       "      <td>0</td>\n",
       "    </tr>\n",
       "    <tr>\n",
       "      <th>8</th>\n",
       "      <td>7</td>\n",
       "      <td>카시오페아</td>\n",
       "      <td>https://movie.naver.com/movie/bi/mi/basic.nave...</td>\n",
       "      <td>0</td>\n",
       "    </tr>\n",
       "    <tr>\n",
       "      <th>9</th>\n",
       "      <td>8</td>\n",
       "      <td>탑건: 매버릭</td>\n",
       "      <td>https://movie.naver.com/movie/bi/mi/basic.nave...</td>\n",
       "      <td>0</td>\n",
       "    </tr>\n",
       "    <tr>\n",
       "      <th>10</th>\n",
       "      <td>9</td>\n",
       "      <td>극장판 포켓몬스터DP: 기라티나와 하늘의 꽃다발 쉐이미</td>\n",
       "      <td>https://movie.naver.com/movie/bi/mi/basic.nave...</td>\n",
       "      <td>0</td>\n",
       "    </tr>\n",
       "  </tbody>\n",
       "</table>\n",
       "</div>"
      ],
      "text/plain": [
       "      Unnamed: 0                        Movename  \\\n",
       "Rank                                               \n",
       "1              0                           범죄도시2   \n",
       "2              1                    쥬라기 월드: 도미니언   \n",
       "3              2                             브로커   \n",
       "4              3             닥터 스트레인지: 대혼돈의 멀티버스   \n",
       "5              4                  니 부모 얼굴이 보고 싶다   \n",
       "6              5                          그대가 조국   \n",
       "7              6     마녀(魔女) Part2. The Other One   \n",
       "8              7                           카시오페아   \n",
       "9              8                         탑건: 매버릭   \n",
       "10             9  극장판 포켓몬스터DP: 기라티나와 하늘의 꽃다발 쉐이미   \n",
       "\n",
       "                                                    URL  Range  \n",
       "Rank                                                            \n",
       "1     https://movie.naver.com/movie/bi/mi/basic.nave...      0  \n",
       "2     https://movie.naver.com/movie/bi/mi/basic.nave...      0  \n",
       "3     https://movie.naver.com/movie/bi/mi/basic.nave...      0  \n",
       "4     https://movie.naver.com/movie/bi/mi/basic.nave...      0  \n",
       "5     https://movie.naver.com/movie/bi/mi/basic.nave...      1  \n",
       "6     https://movie.naver.com/movie/bi/mi/basic.nave...     -1  \n",
       "7     https://movie.naver.com/movie/bi/mi/basic.nave...      0  \n",
       "8     https://movie.naver.com/movie/bi/mi/basic.nave...      0  \n",
       "9     https://movie.naver.com/movie/bi/mi/basic.nave...      0  \n",
       "10    https://movie.naver.com/movie/bi/mi/basic.nave...      0  "
      ]
     },
     "execution_count": 7,
     "metadata": {},
     "output_type": "execute_result"
    }
   ],
   "source": [
    "df = pd.read_csv('data/moverank.csv', index_col='Rank') \n",
    "df.head(10)"
   ]
  },
  {
   "cell_type": "code",
   "execution_count": 8,
   "id": "f7978c0b",
   "metadata": {},
   "outputs": [
    {
     "data": {
      "text/html": [
       "<div>\n",
       "<style scoped>\n",
       "    .dataframe tbody tr th:only-of-type {\n",
       "        vertical-align: middle;\n",
       "    }\n",
       "\n",
       "    .dataframe tbody tr th {\n",
       "        vertical-align: top;\n",
       "    }\n",
       "\n",
       "    .dataframe thead th {\n",
       "        text-align: right;\n",
       "    }\n",
       "</style>\n",
       "<table border=\"1\" class=\"dataframe\">\n",
       "  <thead>\n",
       "    <tr style=\"text-align: right;\">\n",
       "      <th></th>\n",
       "      <th>Movename</th>\n",
       "      <th>URL</th>\n",
       "      <th>Range</th>\n",
       "    </tr>\n",
       "    <tr>\n",
       "      <th>Rank</th>\n",
       "      <th></th>\n",
       "      <th></th>\n",
       "      <th></th>\n",
       "    </tr>\n",
       "  </thead>\n",
       "  <tbody>\n",
       "    <tr>\n",
       "      <th>1</th>\n",
       "      <td>범죄도시2</td>\n",
       "      <td>https://movie.naver.com/movie/bi/mi/basic.nave...</td>\n",
       "      <td>0</td>\n",
       "    </tr>\n",
       "    <tr>\n",
       "      <th>2</th>\n",
       "      <td>쥬라기 월드: 도미니언</td>\n",
       "      <td>https://movie.naver.com/movie/bi/mi/basic.nave...</td>\n",
       "      <td>0</td>\n",
       "    </tr>\n",
       "    <tr>\n",
       "      <th>3</th>\n",
       "      <td>브로커</td>\n",
       "      <td>https://movie.naver.com/movie/bi/mi/basic.nave...</td>\n",
       "      <td>0</td>\n",
       "    </tr>\n",
       "    <tr>\n",
       "      <th>4</th>\n",
       "      <td>닥터 스트레인지: 대혼돈의 멀티버스</td>\n",
       "      <td>https://movie.naver.com/movie/bi/mi/basic.nave...</td>\n",
       "      <td>0</td>\n",
       "    </tr>\n",
       "    <tr>\n",
       "      <th>5</th>\n",
       "      <td>니 부모 얼굴이 보고 싶다</td>\n",
       "      <td>https://movie.naver.com/movie/bi/mi/basic.nave...</td>\n",
       "      <td>1</td>\n",
       "    </tr>\n",
       "  </tbody>\n",
       "</table>\n",
       "</div>"
      ],
      "text/plain": [
       "                 Movename                                                URL  \\\n",
       "Rank                                                                           \n",
       "1                   범죄도시2  https://movie.naver.com/movie/bi/mi/basic.nave...   \n",
       "2            쥬라기 월드: 도미니언  https://movie.naver.com/movie/bi/mi/basic.nave...   \n",
       "3                     브로커  https://movie.naver.com/movie/bi/mi/basic.nave...   \n",
       "4     닥터 스트레인지: 대혼돈의 멀티버스  https://movie.naver.com/movie/bi/mi/basic.nave...   \n",
       "5          니 부모 얼굴이 보고 싶다  https://movie.naver.com/movie/bi/mi/basic.nave...   \n",
       "\n",
       "      Range  \n",
       "Rank         \n",
       "1         0  \n",
       "2         0  \n",
       "3         0  \n",
       "4         0  \n",
       "5         1  "
      ]
     },
     "execution_count": 8,
     "metadata": {},
     "output_type": "execute_result"
    }
   ],
   "source": [
    "# index_col='Unnamed: 0'') 삭제\n",
    "del df['Unnamed: 0']\n",
    "df.head()"
   ]
  },
  {
   "cell_type": "code",
   "execution_count": 9,
   "id": "0eb08daf",
   "metadata": {},
   "outputs": [
    {
     "name": "stdout",
     "output_type": "stream",
     "text": [
      "<class 'pandas.core.frame.DataFrame'>\n",
      "Int64Index: 10 entries, 1 to 10\n",
      "Data columns (total 3 columns):\n",
      " #   Column    Non-Null Count  Dtype \n",
      "---  ------    --------------  ----- \n",
      " 0   Movename  10 non-null     object\n",
      " 1   URL       10 non-null     object\n",
      " 2   Range     10 non-null     int64 \n",
      "dtypes: int64(1), object(2)\n",
      "memory usage: 320.0+ bytes\n"
     ]
    }
   ],
   "source": [
    "df.info()"
   ]
  },
  {
   "cell_type": "code",
   "execution_count": 10,
   "id": "efb30701",
   "metadata": {},
   "outputs": [],
   "source": [
    "# 0.선언\n",
    "from bs4 import BeautifulSoup \n",
    "from urllib.request import Request, urlopen"
   ]
  },
  {
   "cell_type": "code",
   "execution_count": 11,
   "id": "aaeeb4a9",
   "metadata": {},
   "outputs": [],
   "source": [
    "def get_read_web(url):    \n",
    "    req = Request(url, headers={'User-Agent': 'Mozilla/5.0'})\n",
    "    html = urlopen(req).read()\n",
    "    soup = BeautifulSoup(html, \"lxml\")    \n",
    "    return soup"
   ]
  },
  {
   "cell_type": "code",
   "execution_count": 12,
   "id": "be87c716",
   "metadata": {},
   "outputs": [
    {
     "data": {
      "text/plain": [
       "'https://movie.naver.com/movie/bi/mi/basic.naver?code=196854'"
      ]
     },
     "execution_count": 12,
     "metadata": {},
     "output_type": "execute_result"
    }
   ],
   "source": [
    "df['URL'][3]"
   ]
  },
  {
   "cell_type": "code",
   "execution_count": 13,
   "id": "f11b4160",
   "metadata": {},
   "outputs": [
    {
     "data": {
      "text/plain": [
       "<title>마녀(魔女) Part2. The Other One : 네이버 영화</title>"
      ]
     },
     "execution_count": 13,
     "metadata": {},
     "output_type": "execute_result"
    }
   ],
   "source": [
    "soup = get_read_web(df['URL'][7])\n",
    "soup.title"
   ]
  },
  {
   "cell_type": "code",
   "execution_count": 14,
   "id": "99d202da",
   "metadata": {},
   "outputs": [
    {
     "data": {
      "text/plain": [
       "<div class=\"mv_info\">\n",
       "<h3 class=\"h_movie\">\n",
       "<a href=\"./basic.naver?code=196367\">마녀(魔女) Part2. The Other One</a><!-- N=a:ifo.title -->\n",
       "<a class=\"dday_box\" href=\"/movie/running/premovie.naver\"><em class=\"blind\">개봉예정 D-day</em><span><span class=\"day5\"><em>5</em></span></span></a><!-- N=a:ifo.sbtn -->\n",
       "<strong class=\"h_movie2\" title=\"The Witch : Part2. The Other One\t\t\t\t\t\t\t\t\t\t, \t\t\t\t\t2021\">The Witch : Part2. The Other One\n",
       "\t\t\t\t\t\n",
       "\t\t\t\t\t, \n",
       "\t\t\t\t\t2021</strong>\n",
       "</h3>\n",
       "<div class=\"exp_score\">\n",
       "<div class=\"uio_wish_btn\">\n",
       "<span class=\"wish\"><em class=\"blind\">기대지수</em><a class=\"help\" href=\"#\" id=\"preference_help_show_wide\" title=\"기대지수 도움말 보기\">기대지수 도움말</a></span>\n",
       "<div class=\"ly_ntz\" id=\"preference_help_wide\" style=\"display:none\">\n",
       "<span></span>\n",
       "<h6 class=\"blind\">기대지수 도움말</h6>\n",
       "\t\t\t\t\t국내 미개봉작에 대한 기대지수입니다.<br/>'보고싶어요'와 '글쎄요' 중  원하시는 버튼을 선택해주세요.\n",
       "\t\t\t\t\t<button class=\"btn_close\" id=\"preference_help_close_wide\" type=\"button\"><em>닫기</em></button>\n",
       "</div>\n",
       "</div>\n",
       "<!-- 개봉후 영화인 경우, 기대지수를 보여주지 않는다.(넓게보기) -->\n",
       "<div class=\"exp_area\">\n",
       "<div class=\"exp_box\">\n",
       "<button class=\"btn_want\" id=\"btn_interest_wide\" type=\"button\">보고싶어요</button>\n",
       "<div class=\"exp_info\">\n",
       "<h4 class=\"blind\">기대지수 정보</h4>\n",
       "<span class=\"exp_cnt\" id=\"interest_cnt_wide\"><em class=\"blind\">보고싶어요</em>16,560</span>\n",
       "<span class=\"exp_cnt\" id=\"not_interest_cnt_wide\"><em class=\"blind\">글쎄요</em>790</span>\n",
       "<div class=\"exp_bar\">\n",
       "<span id=\"preference_graph_wide\" style=\"width:95.44668587896254%\"></span>\n",
       "</div>\n",
       "</div>\n",
       "<button class=\"btn_dnwant\" id=\"btn_notInterest_wide\" type=\"button\">글쎄요</button>\n",
       "</div>\n",
       "</div>\n",
       "</div>\n",
       "<p class=\"info_spec\">\n",
       "<span>\n",
       "<a href=\"/movie/sdb/browsing/bmovie.naver?genre=19\">액션</a>\n",
       "</span>\n",
       "<span>\n",
       "<a href=\"/movie/sdb/browsing/bmovie.naver?nation=KR\">한국</a>\n",
       "</span>\n",
       "<span>137분 </span>\n",
       "<span>\n",
       "<a href=\"/movie/sdb/browsing/bmovie.naver?open=2022\">2022</a>\n",
       "<a href=\"/movie/sdb/browsing/bmovie.naver?open=20220615\">.06.15</a> 개봉\n",
       "\t\t\t\t\t\n",
       "\t\t\t\t\t\n",
       "\t\t\t\t\n",
       "\t\t\t\t</span>\n",
       "<span>\n",
       "\t\t\t\t\t[국내]\n",
       "\t\t\t\t\t\t\n",
       "\t\t\t\t\t\t\t<a href=\"/movie/sdb/browsing/bmovie.naver?grade=1001003\">15세 관람가</a>\n",
       "</span>\n",
       "</p>\n",
       "<div class=\"info_spec2\">\n",
       "<dl class=\"step1\">\n",
       "<dt>감독</dt>\n",
       "<dd>\n",
       "<a href=\"/movie/bi/pi/basic.naver?code=102768\">박훈정</a>\n",
       "</dd>\n",
       "</dl>\n",
       "<dl class=\"step2\">\n",
       "<dt>출연</dt>\n",
       "<dd>\n",
       "<a href=\"/movie/bi/pi/basic.naver?code=441048\">신시아<span></span></a>,\n",
       "\t\t\t\t\t\t\t\t\n",
       "\t\t\t\t\t\t\t\t\n",
       "\t\t\t\t\t\t\t\n",
       "\t\t\t\t\t\t\n",
       "\t\t\t\t\t\n",
       "\t\t\t\t\t\t\n",
       "\t\t\t\t\t\t\n",
       "\t\t\t\t\t\t\t\n",
       "\t\t\t\t\t\t\t\t\n",
       "\t\t\t\t\t\t\t\t\t<a href=\"/movie/bi/pi/basic.naver?code=52734\">박은빈<span></span></a>,\n",
       "\t\t\t\t\t\t\t\t\n",
       "\t\t\t\t\t\t\t\t\n",
       "\t\t\t\t\t\t\t\n",
       "\t\t\t\t\t\t\n",
       "\t\t\t\t\t\n",
       "\t\t\t\t\t\t\n",
       "\t\t\t\t\t\t\n",
       "\t\t\t\t\t\t\t\n",
       "\t\t\t\t\t\t\t\t\n",
       "\t\t\t\t\t\t\t\t\t<a href=\"/movie/bi/pi/basic.naver?code=388571\">서은수<span></span></a>\n",
       "</dd>\n",
       "</dl>\n",
       "<a class=\"more\" href=\"./detail.naver?code=196367\" title=\"더보기\">더보기</a>\n",
       "</div>\n",
       "<div class=\"end_btn_area\">\n",
       "<ul>\n",
       "<li><a class=\"btn_rsv _reserveHelpWide\" href=\"/movie/bi/mi/running.naver?code=196367\" id=\"reserveWide\" title=\"예매하기\"><em>예매하기</em></a>\n",
       "<div class=\"ly_mileage _reserveHelpWide\" id=\"reserveHelpWide\" style=\"display:none\">\n",
       "<span></span>영화관람후 평점을 작성하시면 <em>네이버페이 포인트 500원</em>을 드립니다! <a class=\"btn_close _reserveHelpWide\" href=\"#\" id=\"reserveHelpWideCloseButton\"><em>닫기</em></a>\n",
       "</div>\n",
       "</li>\n",
       "<li>\n",
       "<!-- [D]btn_site_on 으로 컨트롤 -->\n",
       "<a class=\"btn_site\" href=\"javascript:displayMovieHomepageLayerW();\" id=\"movieHomePageButtonW\" title=\"공식사이트\"><em>공식사이트</em></a> <!-- 공식 사이트 레이어 -->\n",
       "<div class=\"ly_site\" id=\"movieHomePageLayerW\" style=\"display: none\">\n",
       "<p><a href=\"https://witch2.kr/\" target=\"_blank\" title=\"해당 URL로 가기\">https://witch2.kr/</a></p>\n",
       "<a class=\"btn_close\" href=\"javascript:hideMovieHomepageLayerW();\"><em>닫기</em></a>\n",
       "</div> <!-- //공식 사이트 레이어 -->\n",
       "</li>\n",
       "<li>\n",
       "<div class=\"u_likeit_module\"></div>\n",
       "</li>\n",
       "</ul>\n",
       "</div>\n",
       "<div class=\"spi_area\">\n",
       "<div class=\"naver-splugin\" data-me-display=\"off\" data-oninitialize=\"movie_oninitialize()\" data-style=\"standard-v1-text\" id=\"wideSpiLayer\"></div>\n",
       "</div>\n",
       "</div>"
      ]
     },
     "execution_count": 14,
     "metadata": {},
     "output_type": "execute_result"
    }
   ],
   "source": [
    "# 덩어리 정하는게 중요하다.\n",
    "# 가지고 올것, 평점(관람객/평론가/네티즌), 장르, 감독, 출연, 등급 \n",
    "# 평점정보\n",
    "\n",
    "# soup.find('div', 'my_info')\n",
    "total = soup.find('div', 'mv_info')\n",
    "total"
   ]
  },
  {
   "cell_type": "code",
   "execution_count": 15,
   "id": "39b8ce82",
   "metadata": {},
   "outputs": [
    {
     "data": {
      "text/plain": [
       "bs4.element.Tag"
      ]
     },
     "execution_count": 15,
     "metadata": {},
     "output_type": "execute_result"
    }
   ],
   "source": [
    "type(total)"
   ]
  },
  {
   "cell_type": "code",
   "execution_count": 16,
   "id": "59bd6eca",
   "metadata": {},
   "outputs": [],
   "source": [
    "# 평점\n",
    "# score_see 관람객평점\n",
    "# score_actor 기자평점\n",
    "# score_net 네티즌평점"
   ]
  },
  {
   "cell_type": "code",
   "execution_count": 17,
   "id": "8c3f66c3",
   "metadata": {},
   "outputs": [
    {
     "data": {
      "text/plain": [
       "'개봉예정 D-day'"
      ]
     },
     "execution_count": 17,
     "metadata": {},
     "output_type": "execute_result"
    }
   ],
   "source": [
    "score_see = total.find_all('em','blind')\n",
    "score_see[0].get_text()\n",
    "# score_see"
   ]
  },
  {
   "cell_type": "code",
   "execution_count": 18,
   "id": "b2a4e147",
   "metadata": {},
   "outputs": [
    {
     "name": "stdout",
     "output_type": "stream",
     "text": [
      "개봉예정\n"
     ]
    }
   ],
   "source": [
    "try:\n",
    "    score_val = total.find_all('div','star_score')\n",
    "#     score_val\n",
    "    score_see_val = score_val[0].find_all('em')\n",
    "\n",
    "    # score_see_val[0] #관람객 평점\n",
    "    # score_see_val[1] #기자평점\n",
    "    # score_see_val[2] #네티즌평점\n",
    "\n",
    "    score_see_val_1 = score_see_val[0].get_text()\n",
    "    score_see_val_2 = score_see_val[1].get_text()\n",
    "    score_see_val_3 = score_see_val[2].get_text()\n",
    "    score_see_val_4 = score_see_val[3].get_text()\n",
    "\n",
    "    score_see_val = score_see_val_1+score_see_val_2+score_see_val_3+score_see_val_4\n",
    "    score_see_val\n",
    "    # len(score_see_val)\n",
    "except Exception as err:\n",
    "    print('개봉예정')"
   ]
  },
  {
   "cell_type": "code",
   "execution_count": 19,
   "id": "356519f6",
   "metadata": {},
   "outputs": [],
   "source": [
    "# 장르"
   ]
  },
  {
   "cell_type": "code",
   "execution_count": 20,
   "id": "95ace5a5",
   "metadata": {},
   "outputs": [
    {
     "data": {
      "text/plain": [
       "'액션,한국'"
      ]
     },
     "execution_count": 20,
     "metadata": {},
     "output_type": "execute_result"
    }
   ],
   "source": [
    "jang = total.find('p','info_spec')\n",
    "jang1 = jang.find_all('a')[0].get_text()\n",
    "jang2 = jang.find_all('a')[1].get_text()\n",
    "jang3 = jang1 +','+jang2\n",
    "jang3"
   ]
  },
  {
   "cell_type": "code",
   "execution_count": 21,
   "id": "7c96b85f",
   "metadata": {},
   "outputs": [
    {
     "data": {
      "text/plain": [
       "'박훈정'"
      ]
     },
     "execution_count": 21,
     "metadata": {},
     "output_type": "execute_result"
    }
   ],
   "source": [
    "#감독\n",
    "director = total.find('dl','step1')\n",
    "director = director.find('a').get_text()\n",
    "director"
   ]
  },
  {
   "cell_type": "code",
   "execution_count": 22,
   "id": "83abe375",
   "metadata": {},
   "outputs": [],
   "source": [
    "#출연배우\n",
    "\n",
    "try:\n",
    "    \n",
    "    actor = total.find('dl','step2')\n",
    "\n",
    "    if len(actor.find_all('a'))==1:\n",
    "        actor = actor.find_all('a')[0].get_text()\n",
    "    elif len(actor.find_all('a'))==2:\n",
    "        actor1 = actor.find_all('a')[0].get_text()\n",
    "        actor2 = actor.find_all('a')[1].get_text()\n",
    "        actor = actor1 +','+ actor2\n",
    "    elif len(actor.find_all('a'))==3:\n",
    "        actor1 = actor.find_all('a')[0].get_text()\n",
    "        actor2 = actor.find_all('a')[1].get_text()\n",
    "        actor3 = actor.find_all('a')[2].get_text()\n",
    "        actor = actor1 +','+ actor2 +','+ actor3\n",
    "    else:\n",
    "        actor1 = actor.find_all('a')[0].get_text()\n",
    "        actor2 = actor.find_all('a')[1].get_text()\n",
    "        actor3 = actor.find_all('a')[2].get_text()\n",
    "        actor4 = actor.find_all('a')[3].get_text()\n",
    "        actor = actor1 +','+ actor2 +','+ actor3 +','+ actor4\n",
    "    \n",
    "except Exception as err:\n",
    "    \n",
    "    print('출연배우없음')\n",
    "#     print(err)\n",
    "# actor"
   ]
  },
  {
   "cell_type": "code",
   "execution_count": 23,
   "id": "b0979081",
   "metadata": {},
   "outputs": [
    {
     "data": {
      "text/plain": [
       "'15세 관람가'"
      ]
     },
     "execution_count": 23,
     "metadata": {},
     "output_type": "execute_result"
    }
   ],
   "source": [
    "#등급\n",
    "level = total.find('p','info_spec')\n",
    "level = level.find_all('span')[4]\n",
    "level = level.find('a').get_text()\n",
    "level"
   ]
  },
  {
   "cell_type": "code",
   "execution_count": 24,
   "id": "cfe224ca",
   "metadata": {},
   "outputs": [
    {
     "data": {
      "text/plain": [
       "Int64Index([1, 2, 3, 4, 5, 6, 7, 8, 9, 10], dtype='int64', name='Rank')"
      ]
     },
     "execution_count": 24,
     "metadata": {},
     "output_type": "execute_result"
    }
   ],
   "source": [
    "df.index"
   ]
  },
  {
   "cell_type": "code",
   "execution_count": 25,
   "id": "58d60c44",
   "metadata": {},
   "outputs": [
    {
     "name": "stdout",
     "output_type": "stream",
     "text": [
      "1\n",
      "2\n",
      "3\n",
      "4\n",
      "5\n",
      "6\n",
      "7\n",
      "8\n",
      "9\n",
      "10\n"
     ]
    }
   ],
   "source": [
    "arr_score_see  = list() #관람객 평점\n",
    "arr_score_aticle = list() #기자 평점\n",
    "arr_score_net = list() #네티즌 평점\n",
    "\n",
    "arr_jang = list()\n",
    "arr_director  = list()\n",
    "arr_actor  = list()\n",
    "arr_level = list()\n",
    "\n",
    "for n in df.index:\n",
    "    \n",
    "    soup = get_read_web(df['URL'][n])\n",
    "    \n",
    "    try:\n",
    "        score_val = soup.find_all('div','star_score')\n",
    "\n",
    "        score_see_val = score_val[0].find_all('em')\n",
    "        # score_val[0] #관람객 평점\n",
    "        # score_val[1] #기자평점\n",
    "        # score_val[2] #네티즌평점\n",
    "        score_see_val_1 = score_see_val[0].get_text()\n",
    "        score_see_val_2 = score_see_val[1].get_text()\n",
    "        score_see_val_3 = score_see_val[2].get_text()\n",
    "        score_see_val_4 = score_see_val[3].get_text()\n",
    "        score_see_val = score_see_val_1+score_see_val_2+score_see_val_3+score_see_val_4\n",
    "#         print(score_see_val)\n",
    "\n",
    "        score_aticle_val = score_val[1].find_all('em')\n",
    "        # score_val[0] #관람객 평점\n",
    "        # score_val[1] #기자평점\n",
    "        # score_val[2] #네티즌평점\n",
    "        score_aticle_val_1 = score_aticle_val[0].get_text()\n",
    "        score_aticle_val_2 = score_aticle_val[1].get_text()\n",
    "        score_aticle_val_3 = score_aticle_val[2].get_text()\n",
    "        score_aticle_val_4 = score_aticle_val[3].get_text()\n",
    "        score_aticle_val = score_aticle_val_1+score_aticle_val_2+score_aticle_val_3+score_aticle_val_4\n",
    "#         print(score_aticle_val)\n",
    "\n",
    "        score_net_val = score_val[2].find_all('em')\n",
    "        # score_val[0] #관람객 평점\n",
    "        # score_val[1] #기자평점\n",
    "        # score_val[2] #네티즌평점\n",
    "        score_net_val_1 = score_net_val[0].get_text()\n",
    "        score_net_val_2 = score_net_val[1].get_text()\n",
    "        score_net_val_3 = score_net_val[2].get_text()\n",
    "        score_net_val_4 = score_net_val[3].get_text()\n",
    "        score_net_val = score_net_val_1+score_net_val_2+score_net_val_3+score_net_val_4\n",
    "#         print(score_net_val)\n",
    "    except Exception as err:\n",
    "        score_see_val = '미존재'\n",
    "        score_aticle_val = '미존재'\n",
    "        score_net_val = '미존재'\n",
    "#         print('개봉예정')\n",
    "    \n",
    "#     print(soup.title)\n",
    "    \n",
    "    jang = soup.find('p','info_spec')\n",
    "    jang1 = jang.find_all('a')[0].get_text()\n",
    "    jang2 = jang.find_all('a')[1].get_text()\n",
    "    jang3 = jang1 +','+jang2\n",
    "    \n",
    "#     print(jang3)\n",
    "\n",
    "    director = soup.find('dl','step1')\n",
    "    director = director.find('a').get_text()\n",
    "\n",
    "    try:\n",
    "    \n",
    "        actor = soup.find('dl','step2')\n",
    "\n",
    "        if len(actor.find_all('a'))==1:\n",
    "            actor = actor.find_all('a')[0].get_text()\n",
    "        elif len(actor.find_all('a'))==2:\n",
    "            actor1 = actor.find_all('a')[0].get_text()\n",
    "            actor2 = actor.find_all('a')[1].get_text()\n",
    "            actor = actor1 +'/'+ actor2\n",
    "        elif len(actor.find_all('a'))==3:\n",
    "            actor1 = actor.find_all('a')[0].get_text()\n",
    "            actor2 = actor.find_all('a')[1].get_text()\n",
    "            actor3 = actor.find_all('a')[2].get_text()\n",
    "            actor = actor1 +'/'+ actor2 +'/'+ actor3\n",
    "        else:\n",
    "            actor1 = actor.find_all('a')[0].get_text()\n",
    "            actor2 = actor.find_all('a')[1].get_text()\n",
    "            actor3 = actor.find_all('a')[2].get_text()\n",
    "            actor4 = actor.find_all('a')[3].get_text()\n",
    "            actor = actor1 +'/'+ actor2 +'/'+ actor3 +'/'+ actor4\n",
    "#         print(actor)\n",
    "    except Exception as err:\n",
    "        actor = '출연배우없음'\n",
    "#         print('출연배우없음')\n",
    "    \n",
    "    \n",
    "    level = soup.find('p','info_spec')\n",
    "    level = level.find_all('span')[4]\n",
    "    level = level.find('a').get_text()\n",
    "    \n",
    "    arr_score_see.append(score_see_val)\n",
    "    arr_score_aticle.append(score_aticle_val)\n",
    "    arr_score_net.append(score_net_val)\n",
    "    arr_jang.append(jang3)\n",
    "    arr_director.append(director)\n",
    "    arr_actor.append(actor)\n",
    "    arr_level.append(level)\n",
    "    \n",
    "    print(n)"
   ]
  },
  {
   "cell_type": "code",
   "execution_count": 26,
   "id": "9bdb229b",
   "metadata": {},
   "outputs": [
    {
     "data": {
      "text/plain": [
       "['9.07', '6.84', '7.47', '7.79', '7.75', '9.80', '미존재', '8.38', '미존재', '7.97']"
      ]
     },
     "execution_count": 26,
     "metadata": {},
     "output_type": "execute_result"
    }
   ],
   "source": [
    "arr_score_see"
   ]
  },
  {
   "cell_type": "code",
   "execution_count": 27,
   "id": "a872c4b3",
   "metadata": {},
   "outputs": [
    {
     "data": {
      "text/plain": [
       "['6.56', '6.40', '6.80', '6.80', '6.14', '5.00', '미존재', '6.50', '미존재', '6.00']"
      ]
     },
     "execution_count": 27,
     "metadata": {},
     "output_type": "execute_result"
    }
   ],
   "source": [
    "arr_score_aticle"
   ]
  },
  {
   "cell_type": "code",
   "execution_count": 28,
   "id": "127e3eb4",
   "metadata": {},
   "outputs": [
    {
     "data": {
      "text/plain": [
       "['9.51', '6.18', '6.19', '7.33', '7.68', '7.21', '미존재', '9.22', '미존재', '7.13']"
      ]
     },
     "execution_count": 28,
     "metadata": {},
     "output_type": "execute_result"
    }
   ],
   "source": [
    "arr_score_net"
   ]
  },
  {
   "cell_type": "code",
   "execution_count": 29,
   "id": "cf813e40",
   "metadata": {},
   "outputs": [
    {
     "data": {
      "text/plain": [
       "['범죄,액션',\n",
       " '액션,모험',\n",
       " '드라마,한국',\n",
       " '액션,판타지',\n",
       " '드라마,한국',\n",
       " '다큐멘터리,한국',\n",
       " '액션,한국',\n",
       " '드라마,한국',\n",
       " '액션,미국',\n",
       " '애니메이션,일본']"
      ]
     },
     "execution_count": 29,
     "metadata": {},
     "output_type": "execute_result"
    }
   ],
   "source": [
    "arr_jang"
   ]
  },
  {
   "cell_type": "code",
   "execution_count": 30,
   "id": "f7a2fe06",
   "metadata": {},
   "outputs": [
    {
     "data": {
      "text/plain": [
       "['이상용',\n",
       " '콜린 트레보로우',\n",
       " '고레에다 히로카즈',\n",
       " '샘 레이미',\n",
       " '김지훈',\n",
       " '이승준',\n",
       " '박훈정',\n",
       " '신연식',\n",
       " '조셉 코신스키',\n",
       " '유야마 쿠니히코']"
      ]
     },
     "execution_count": 30,
     "metadata": {},
     "output_type": "execute_result"
    }
   ],
   "source": [
    "arr_director"
   ]
  },
  {
   "cell_type": "code",
   "execution_count": 31,
   "id": "0ca9fe2e",
   "metadata": {},
   "outputs": [
    {
     "data": {
      "text/plain": [
       "['마동석(마석도)/손석구(강해상)/최귀화(전일만)',\n",
       " '크리스 프랫(오웬 그래디)/브라이스 달라스 하워드(클레어 디어링)',\n",
       " '송강호/강동원/배두나',\n",
       " '베네딕트 컴버배치(닥터 스트레인지)/엘리자베스 올슨(완다 막시모프 / 스칼렛 위치)',\n",
       " '설경구',\n",
       " '출연배우없음',\n",
       " '신시아/박은빈/서은수',\n",
       " '안성기(인우)/서현진(수진)/주예림(지나)',\n",
       " '톰 크루즈(매버릭)/마일즈 텔러(루스터)/제니퍼 코넬리(페니)',\n",
       " '이선호/김영선/마츠모토 리카(사토시 목소리)']"
      ]
     },
     "execution_count": 31,
     "metadata": {},
     "output_type": "execute_result"
    }
   ],
   "source": [
    "arr_actor"
   ]
  },
  {
   "cell_type": "code",
   "execution_count": 32,
   "id": "0eabb22a",
   "metadata": {},
   "outputs": [
    {
     "data": {
      "text/plain": [
       "['15세 관람가',\n",
       " '12세 관람가',\n",
       " '12세 관람가',\n",
       " '12세 관람가',\n",
       " '15세 관람가',\n",
       " '12세 관람가',\n",
       " '15세 관람가',\n",
       " '12세 관람가',\n",
       " '12세 관람가',\n",
       " '전체 관람가']"
      ]
     },
     "execution_count": 32,
     "metadata": {},
     "output_type": "execute_result"
    }
   ],
   "source": [
    "arr_level"
   ]
  },
  {
   "cell_type": "code",
   "execution_count": 33,
   "id": "b87ee418",
   "metadata": {},
   "outputs": [
    {
     "data": {
      "text/html": [
       "<div>\n",
       "<style scoped>\n",
       "    .dataframe tbody tr th:only-of-type {\n",
       "        vertical-align: middle;\n",
       "    }\n",
       "\n",
       "    .dataframe tbody tr th {\n",
       "        vertical-align: top;\n",
       "    }\n",
       "\n",
       "    .dataframe thead th {\n",
       "        text-align: right;\n",
       "    }\n",
       "</style>\n",
       "<table border=\"1\" class=\"dataframe\">\n",
       "  <thead>\n",
       "    <tr style=\"text-align: right;\">\n",
       "      <th></th>\n",
       "      <th>Movename</th>\n",
       "      <th>URL</th>\n",
       "      <th>Range</th>\n",
       "    </tr>\n",
       "    <tr>\n",
       "      <th>Rank</th>\n",
       "      <th></th>\n",
       "      <th></th>\n",
       "      <th></th>\n",
       "    </tr>\n",
       "  </thead>\n",
       "  <tbody>\n",
       "    <tr>\n",
       "      <th>1</th>\n",
       "      <td>범죄도시2</td>\n",
       "      <td>https://movie.naver.com/movie/bi/mi/basic.nave...</td>\n",
       "      <td>0</td>\n",
       "    </tr>\n",
       "    <tr>\n",
       "      <th>2</th>\n",
       "      <td>쥬라기 월드: 도미니언</td>\n",
       "      <td>https://movie.naver.com/movie/bi/mi/basic.nave...</td>\n",
       "      <td>0</td>\n",
       "    </tr>\n",
       "    <tr>\n",
       "      <th>3</th>\n",
       "      <td>브로커</td>\n",
       "      <td>https://movie.naver.com/movie/bi/mi/basic.nave...</td>\n",
       "      <td>0</td>\n",
       "    </tr>\n",
       "    <tr>\n",
       "      <th>4</th>\n",
       "      <td>닥터 스트레인지: 대혼돈의 멀티버스</td>\n",
       "      <td>https://movie.naver.com/movie/bi/mi/basic.nave...</td>\n",
       "      <td>0</td>\n",
       "    </tr>\n",
       "    <tr>\n",
       "      <th>5</th>\n",
       "      <td>니 부모 얼굴이 보고 싶다</td>\n",
       "      <td>https://movie.naver.com/movie/bi/mi/basic.nave...</td>\n",
       "      <td>1</td>\n",
       "    </tr>\n",
       "    <tr>\n",
       "      <th>6</th>\n",
       "      <td>그대가 조국</td>\n",
       "      <td>https://movie.naver.com/movie/bi/mi/basic.nave...</td>\n",
       "      <td>-1</td>\n",
       "    </tr>\n",
       "    <tr>\n",
       "      <th>7</th>\n",
       "      <td>마녀(魔女) Part2. The Other One</td>\n",
       "      <td>https://movie.naver.com/movie/bi/mi/basic.nave...</td>\n",
       "      <td>0</td>\n",
       "    </tr>\n",
       "    <tr>\n",
       "      <th>8</th>\n",
       "      <td>카시오페아</td>\n",
       "      <td>https://movie.naver.com/movie/bi/mi/basic.nave...</td>\n",
       "      <td>0</td>\n",
       "    </tr>\n",
       "    <tr>\n",
       "      <th>9</th>\n",
       "      <td>탑건: 매버릭</td>\n",
       "      <td>https://movie.naver.com/movie/bi/mi/basic.nave...</td>\n",
       "      <td>0</td>\n",
       "    </tr>\n",
       "    <tr>\n",
       "      <th>10</th>\n",
       "      <td>극장판 포켓몬스터DP: 기라티나와 하늘의 꽃다발 쉐이미</td>\n",
       "      <td>https://movie.naver.com/movie/bi/mi/basic.nave...</td>\n",
       "      <td>0</td>\n",
       "    </tr>\n",
       "  </tbody>\n",
       "</table>\n",
       "</div>"
      ],
      "text/plain": [
       "                            Movename  \\\n",
       "Rank                                   \n",
       "1                              범죄도시2   \n",
       "2                       쥬라기 월드: 도미니언   \n",
       "3                                브로커   \n",
       "4                닥터 스트레인지: 대혼돈의 멀티버스   \n",
       "5                     니 부모 얼굴이 보고 싶다   \n",
       "6                             그대가 조국   \n",
       "7        마녀(魔女) Part2. The Other One   \n",
       "8                              카시오페아   \n",
       "9                            탑건: 매버릭   \n",
       "10    극장판 포켓몬스터DP: 기라티나와 하늘의 꽃다발 쉐이미   \n",
       "\n",
       "                                                    URL  Range  \n",
       "Rank                                                            \n",
       "1     https://movie.naver.com/movie/bi/mi/basic.nave...      0  \n",
       "2     https://movie.naver.com/movie/bi/mi/basic.nave...      0  \n",
       "3     https://movie.naver.com/movie/bi/mi/basic.nave...      0  \n",
       "4     https://movie.naver.com/movie/bi/mi/basic.nave...      0  \n",
       "5     https://movie.naver.com/movie/bi/mi/basic.nave...      1  \n",
       "6     https://movie.naver.com/movie/bi/mi/basic.nave...     -1  \n",
       "7     https://movie.naver.com/movie/bi/mi/basic.nave...      0  \n",
       "8     https://movie.naver.com/movie/bi/mi/basic.nave...      0  \n",
       "9     https://movie.naver.com/movie/bi/mi/basic.nave...      0  \n",
       "10    https://movie.naver.com/movie/bi/mi/basic.nave...      0  "
      ]
     },
     "execution_count": 33,
     "metadata": {},
     "output_type": "execute_result"
    }
   ],
   "source": [
    " df"
   ]
  },
  {
   "cell_type": "code",
   "execution_count": 34,
   "id": "9eb9b60a",
   "metadata": {},
   "outputs": [
    {
     "ename": "KeyError",
     "evalue": "'관람객평점'",
     "output_type": "error",
     "traceback": [
      "\u001b[1;31m---------------------------------------------------------------------------\u001b[0m",
      "\u001b[1;31mKeyError\u001b[0m                                  Traceback (most recent call last)",
      "File \u001b[1;32mC:\\Python\\anaconda3\\lib\\site-packages\\pandas\\core\\indexes\\base.py:3621\u001b[0m, in \u001b[0;36mIndex.get_loc\u001b[1;34m(self, key, method, tolerance)\u001b[0m\n\u001b[0;32m   3620\u001b[0m \u001b[38;5;28;01mtry\u001b[39;00m:\n\u001b[1;32m-> 3621\u001b[0m     \u001b[38;5;28;01mreturn\u001b[39;00m \u001b[38;5;28;43mself\u001b[39;49m\u001b[38;5;241;43m.\u001b[39;49m\u001b[43m_engine\u001b[49m\u001b[38;5;241;43m.\u001b[39;49m\u001b[43mget_loc\u001b[49m\u001b[43m(\u001b[49m\u001b[43mcasted_key\u001b[49m\u001b[43m)\u001b[49m\n\u001b[0;32m   3622\u001b[0m \u001b[38;5;28;01mexcept\u001b[39;00m \u001b[38;5;167;01mKeyError\u001b[39;00m \u001b[38;5;28;01mas\u001b[39;00m err:\n",
      "File \u001b[1;32mC:\\Python\\anaconda3\\lib\\site-packages\\pandas\\_libs\\index.pyx:136\u001b[0m, in \u001b[0;36mpandas._libs.index.IndexEngine.get_loc\u001b[1;34m()\u001b[0m\n",
      "File \u001b[1;32mC:\\Python\\anaconda3\\lib\\site-packages\\pandas\\_libs\\index.pyx:163\u001b[0m, in \u001b[0;36mpandas._libs.index.IndexEngine.get_loc\u001b[1;34m()\u001b[0m\n",
      "File \u001b[1;32mpandas\\_libs\\hashtable_class_helper.pxi:5198\u001b[0m, in \u001b[0;36mpandas._libs.hashtable.PyObjectHashTable.get_item\u001b[1;34m()\u001b[0m\n",
      "File \u001b[1;32mpandas\\_libs\\hashtable_class_helper.pxi:5206\u001b[0m, in \u001b[0;36mpandas._libs.hashtable.PyObjectHashTable.get_item\u001b[1;34m()\u001b[0m\n",
      "\u001b[1;31mKeyError\u001b[0m: '관람객평점'",
      "\nThe above exception was the direct cause of the following exception:\n",
      "\u001b[1;31mKeyError\u001b[0m                                  Traceback (most recent call last)",
      "Input \u001b[1;32mIn [34]\u001b[0m, in \u001b[0;36m<cell line: 1>\u001b[1;34m()\u001b[0m\n\u001b[1;32m----> 1\u001b[0m \u001b[38;5;28;01mdel\u001b[39;00m df[\u001b[38;5;124m'\u001b[39m\u001b[38;5;124m관람객평점\u001b[39m\u001b[38;5;124m'\u001b[39m]\n\u001b[0;32m      2\u001b[0m df\n",
      "File \u001b[1;32mC:\\Python\\anaconda3\\lib\\site-packages\\pandas\\core\\generic.py:4048\u001b[0m, in \u001b[0;36mNDFrame.__delitem__\u001b[1;34m(self, key)\u001b[0m\n\u001b[0;32m   4043\u001b[0m             deleted \u001b[38;5;241m=\u001b[39m \u001b[38;5;28;01mTrue\u001b[39;00m\n\u001b[0;32m   4044\u001b[0m \u001b[38;5;28;01mif\u001b[39;00m \u001b[38;5;129;01mnot\u001b[39;00m deleted:\n\u001b[0;32m   4045\u001b[0m     \u001b[38;5;66;03m# If the above loop ran and didn't delete anything because\u001b[39;00m\n\u001b[0;32m   4046\u001b[0m     \u001b[38;5;66;03m# there was no match, this call should raise the appropriate\u001b[39;00m\n\u001b[0;32m   4047\u001b[0m     \u001b[38;5;66;03m# exception:\u001b[39;00m\n\u001b[1;32m-> 4048\u001b[0m     loc \u001b[38;5;241m=\u001b[39m \u001b[38;5;28;43mself\u001b[39;49m\u001b[38;5;241;43m.\u001b[39;49m\u001b[43maxes\u001b[49m\u001b[43m[\u001b[49m\u001b[38;5;241;43m-\u001b[39;49m\u001b[38;5;241;43m1\u001b[39;49m\u001b[43m]\u001b[49m\u001b[38;5;241;43m.\u001b[39;49m\u001b[43mget_loc\u001b[49m\u001b[43m(\u001b[49m\u001b[43mkey\u001b[49m\u001b[43m)\u001b[49m\n\u001b[0;32m   4049\u001b[0m     \u001b[38;5;28mself\u001b[39m\u001b[38;5;241m.\u001b[39m_mgr \u001b[38;5;241m=\u001b[39m \u001b[38;5;28mself\u001b[39m\u001b[38;5;241m.\u001b[39m_mgr\u001b[38;5;241m.\u001b[39midelete(loc)\n\u001b[0;32m   4051\u001b[0m \u001b[38;5;66;03m# delete from the caches\u001b[39;00m\n",
      "File \u001b[1;32mC:\\Python\\anaconda3\\lib\\site-packages\\pandas\\core\\indexes\\base.py:3623\u001b[0m, in \u001b[0;36mIndex.get_loc\u001b[1;34m(self, key, method, tolerance)\u001b[0m\n\u001b[0;32m   3621\u001b[0m     \u001b[38;5;28;01mreturn\u001b[39;00m \u001b[38;5;28mself\u001b[39m\u001b[38;5;241m.\u001b[39m_engine\u001b[38;5;241m.\u001b[39mget_loc(casted_key)\n\u001b[0;32m   3622\u001b[0m \u001b[38;5;28;01mexcept\u001b[39;00m \u001b[38;5;167;01mKeyError\u001b[39;00m \u001b[38;5;28;01mas\u001b[39;00m err:\n\u001b[1;32m-> 3623\u001b[0m     \u001b[38;5;28;01mraise\u001b[39;00m \u001b[38;5;167;01mKeyError\u001b[39;00m(key) \u001b[38;5;28;01mfrom\u001b[39;00m \u001b[38;5;21;01merr\u001b[39;00m\n\u001b[0;32m   3624\u001b[0m \u001b[38;5;28;01mexcept\u001b[39;00m \u001b[38;5;167;01mTypeError\u001b[39;00m:\n\u001b[0;32m   3625\u001b[0m     \u001b[38;5;66;03m# If we have a listlike key, _check_indexing_error will raise\u001b[39;00m\n\u001b[0;32m   3626\u001b[0m     \u001b[38;5;66;03m#  InvalidIndexError. Otherwise we fall through and re-raise\u001b[39;00m\n\u001b[0;32m   3627\u001b[0m     \u001b[38;5;66;03m#  the TypeError.\u001b[39;00m\n\u001b[0;32m   3628\u001b[0m     \u001b[38;5;28mself\u001b[39m\u001b[38;5;241m.\u001b[39m_check_indexing_error(key)\n",
      "\u001b[1;31mKeyError\u001b[0m: '관람객평점'"
     ]
    }
   ],
   "source": [
    "del df['관람객평점']\n",
    "df"
   ]
  },
  {
   "cell_type": "code",
   "execution_count": 35,
   "id": "6eaf9a53",
   "metadata": {},
   "outputs": [
    {
     "data": {
      "text/html": [
       "<div>\n",
       "<style scoped>\n",
       "    .dataframe tbody tr th:only-of-type {\n",
       "        vertical-align: middle;\n",
       "    }\n",
       "\n",
       "    .dataframe tbody tr th {\n",
       "        vertical-align: top;\n",
       "    }\n",
       "\n",
       "    .dataframe thead th {\n",
       "        text-align: right;\n",
       "    }\n",
       "</style>\n",
       "<table border=\"1\" class=\"dataframe\">\n",
       "  <thead>\n",
       "    <tr style=\"text-align: right;\">\n",
       "      <th></th>\n",
       "      <th>Movename</th>\n",
       "      <th>URL</th>\n",
       "      <th>Range</th>\n",
       "      <th>기자</th>\n",
       "    </tr>\n",
       "    <tr>\n",
       "      <th>Rank</th>\n",
       "      <th></th>\n",
       "      <th></th>\n",
       "      <th></th>\n",
       "      <th></th>\n",
       "    </tr>\n",
       "  </thead>\n",
       "  <tbody>\n",
       "    <tr>\n",
       "      <th>1</th>\n",
       "      <td>범죄도시2</td>\n",
       "      <td>https://movie.naver.com/movie/bi/mi/basic.nave...</td>\n",
       "      <td>0</td>\n",
       "      <td>6.56</td>\n",
       "    </tr>\n",
       "    <tr>\n",
       "      <th>2</th>\n",
       "      <td>쥬라기 월드: 도미니언</td>\n",
       "      <td>https://movie.naver.com/movie/bi/mi/basic.nave...</td>\n",
       "      <td>0</td>\n",
       "      <td>6.40</td>\n",
       "    </tr>\n",
       "    <tr>\n",
       "      <th>3</th>\n",
       "      <td>브로커</td>\n",
       "      <td>https://movie.naver.com/movie/bi/mi/basic.nave...</td>\n",
       "      <td>0</td>\n",
       "      <td>6.80</td>\n",
       "    </tr>\n",
       "    <tr>\n",
       "      <th>4</th>\n",
       "      <td>닥터 스트레인지: 대혼돈의 멀티버스</td>\n",
       "      <td>https://movie.naver.com/movie/bi/mi/basic.nave...</td>\n",
       "      <td>0</td>\n",
       "      <td>6.80</td>\n",
       "    </tr>\n",
       "    <tr>\n",
       "      <th>5</th>\n",
       "      <td>니 부모 얼굴이 보고 싶다</td>\n",
       "      <td>https://movie.naver.com/movie/bi/mi/basic.nave...</td>\n",
       "      <td>1</td>\n",
       "      <td>6.14</td>\n",
       "    </tr>\n",
       "  </tbody>\n",
       "</table>\n",
       "</div>"
      ],
      "text/plain": [
       "                 Movename                                                URL  \\\n",
       "Rank                                                                           \n",
       "1                   범죄도시2  https://movie.naver.com/movie/bi/mi/basic.nave...   \n",
       "2            쥬라기 월드: 도미니언  https://movie.naver.com/movie/bi/mi/basic.nave...   \n",
       "3                     브로커  https://movie.naver.com/movie/bi/mi/basic.nave...   \n",
       "4     닥터 스트레인지: 대혼돈의 멀티버스  https://movie.naver.com/movie/bi/mi/basic.nave...   \n",
       "5          니 부모 얼굴이 보고 싶다  https://movie.naver.com/movie/bi/mi/basic.nave...   \n",
       "\n",
       "      Range    기자  \n",
       "Rank               \n",
       "1         0  6.56  \n",
       "2         0  6.40  \n",
       "3         0  6.80  \n",
       "4         0  6.80  \n",
       "5         1  6.14  "
      ]
     },
     "execution_count": 35,
     "metadata": {},
     "output_type": "execute_result"
    }
   ],
   "source": [
    "df['기자'] = arr_score_aticle\n",
    "df.head()"
   ]
  },
  {
   "cell_type": "code",
   "execution_count": 36,
   "id": "cb4ed13b",
   "metadata": {},
   "outputs": [
    {
     "data": {
      "text/html": [
       "<div>\n",
       "<style scoped>\n",
       "    .dataframe tbody tr th:only-of-type {\n",
       "        vertical-align: middle;\n",
       "    }\n",
       "\n",
       "    .dataframe tbody tr th {\n",
       "        vertical-align: top;\n",
       "    }\n",
       "\n",
       "    .dataframe thead th {\n",
       "        text-align: right;\n",
       "    }\n",
       "</style>\n",
       "<table border=\"1\" class=\"dataframe\">\n",
       "  <thead>\n",
       "    <tr style=\"text-align: right;\">\n",
       "      <th></th>\n",
       "      <th>Movename</th>\n",
       "      <th>URL</th>\n",
       "      <th>Range</th>\n",
       "      <th>기자</th>\n",
       "      <th>네티즌</th>\n",
       "    </tr>\n",
       "    <tr>\n",
       "      <th>Rank</th>\n",
       "      <th></th>\n",
       "      <th></th>\n",
       "      <th></th>\n",
       "      <th></th>\n",
       "      <th></th>\n",
       "    </tr>\n",
       "  </thead>\n",
       "  <tbody>\n",
       "    <tr>\n",
       "      <th>1</th>\n",
       "      <td>범죄도시2</td>\n",
       "      <td>https://movie.naver.com/movie/bi/mi/basic.nave...</td>\n",
       "      <td>0</td>\n",
       "      <td>6.56</td>\n",
       "      <td>9.51</td>\n",
       "    </tr>\n",
       "    <tr>\n",
       "      <th>2</th>\n",
       "      <td>쥬라기 월드: 도미니언</td>\n",
       "      <td>https://movie.naver.com/movie/bi/mi/basic.nave...</td>\n",
       "      <td>0</td>\n",
       "      <td>6.40</td>\n",
       "      <td>6.18</td>\n",
       "    </tr>\n",
       "    <tr>\n",
       "      <th>3</th>\n",
       "      <td>브로커</td>\n",
       "      <td>https://movie.naver.com/movie/bi/mi/basic.nave...</td>\n",
       "      <td>0</td>\n",
       "      <td>6.80</td>\n",
       "      <td>6.19</td>\n",
       "    </tr>\n",
       "    <tr>\n",
       "      <th>4</th>\n",
       "      <td>닥터 스트레인지: 대혼돈의 멀티버스</td>\n",
       "      <td>https://movie.naver.com/movie/bi/mi/basic.nave...</td>\n",
       "      <td>0</td>\n",
       "      <td>6.80</td>\n",
       "      <td>7.33</td>\n",
       "    </tr>\n",
       "    <tr>\n",
       "      <th>5</th>\n",
       "      <td>니 부모 얼굴이 보고 싶다</td>\n",
       "      <td>https://movie.naver.com/movie/bi/mi/basic.nave...</td>\n",
       "      <td>1</td>\n",
       "      <td>6.14</td>\n",
       "      <td>7.68</td>\n",
       "    </tr>\n",
       "  </tbody>\n",
       "</table>\n",
       "</div>"
      ],
      "text/plain": [
       "                 Movename                                                URL  \\\n",
       "Rank                                                                           \n",
       "1                   범죄도시2  https://movie.naver.com/movie/bi/mi/basic.nave...   \n",
       "2            쥬라기 월드: 도미니언  https://movie.naver.com/movie/bi/mi/basic.nave...   \n",
       "3                     브로커  https://movie.naver.com/movie/bi/mi/basic.nave...   \n",
       "4     닥터 스트레인지: 대혼돈의 멀티버스  https://movie.naver.com/movie/bi/mi/basic.nave...   \n",
       "5          니 부모 얼굴이 보고 싶다  https://movie.naver.com/movie/bi/mi/basic.nave...   \n",
       "\n",
       "      Range    기자   네티즌  \n",
       "Rank                     \n",
       "1         0  6.56  9.51  \n",
       "2         0  6.40  6.18  \n",
       "3         0  6.80  6.19  \n",
       "4         0  6.80  7.33  \n",
       "5         1  6.14  7.68  "
      ]
     },
     "execution_count": 36,
     "metadata": {},
     "output_type": "execute_result"
    }
   ],
   "source": [
    "df['네티즌'] = arr_score_net\n",
    "df.head()"
   ]
  },
  {
   "cell_type": "code",
   "execution_count": 37,
   "id": "6c84b0d4",
   "metadata": {},
   "outputs": [
    {
     "data": {
      "text/html": [
       "<div>\n",
       "<style scoped>\n",
       "    .dataframe tbody tr th:only-of-type {\n",
       "        vertical-align: middle;\n",
       "    }\n",
       "\n",
       "    .dataframe tbody tr th {\n",
       "        vertical-align: top;\n",
       "    }\n",
       "\n",
       "    .dataframe thead th {\n",
       "        text-align: right;\n",
       "    }\n",
       "</style>\n",
       "<table border=\"1\" class=\"dataframe\">\n",
       "  <thead>\n",
       "    <tr style=\"text-align: right;\">\n",
       "      <th></th>\n",
       "      <th>Movename</th>\n",
       "      <th>URL</th>\n",
       "      <th>Range</th>\n",
       "      <th>기자</th>\n",
       "      <th>네티즌</th>\n",
       "      <th>장르</th>\n",
       "    </tr>\n",
       "    <tr>\n",
       "      <th>Rank</th>\n",
       "      <th></th>\n",
       "      <th></th>\n",
       "      <th></th>\n",
       "      <th></th>\n",
       "      <th></th>\n",
       "      <th></th>\n",
       "    </tr>\n",
       "  </thead>\n",
       "  <tbody>\n",
       "    <tr>\n",
       "      <th>1</th>\n",
       "      <td>범죄도시2</td>\n",
       "      <td>https://movie.naver.com/movie/bi/mi/basic.nave...</td>\n",
       "      <td>0</td>\n",
       "      <td>6.56</td>\n",
       "      <td>9.51</td>\n",
       "      <td>범죄,액션</td>\n",
       "    </tr>\n",
       "    <tr>\n",
       "      <th>2</th>\n",
       "      <td>쥬라기 월드: 도미니언</td>\n",
       "      <td>https://movie.naver.com/movie/bi/mi/basic.nave...</td>\n",
       "      <td>0</td>\n",
       "      <td>6.40</td>\n",
       "      <td>6.18</td>\n",
       "      <td>액션,모험</td>\n",
       "    </tr>\n",
       "    <tr>\n",
       "      <th>3</th>\n",
       "      <td>브로커</td>\n",
       "      <td>https://movie.naver.com/movie/bi/mi/basic.nave...</td>\n",
       "      <td>0</td>\n",
       "      <td>6.80</td>\n",
       "      <td>6.19</td>\n",
       "      <td>드라마,한국</td>\n",
       "    </tr>\n",
       "    <tr>\n",
       "      <th>4</th>\n",
       "      <td>닥터 스트레인지: 대혼돈의 멀티버스</td>\n",
       "      <td>https://movie.naver.com/movie/bi/mi/basic.nave...</td>\n",
       "      <td>0</td>\n",
       "      <td>6.80</td>\n",
       "      <td>7.33</td>\n",
       "      <td>액션,판타지</td>\n",
       "    </tr>\n",
       "    <tr>\n",
       "      <th>5</th>\n",
       "      <td>니 부모 얼굴이 보고 싶다</td>\n",
       "      <td>https://movie.naver.com/movie/bi/mi/basic.nave...</td>\n",
       "      <td>1</td>\n",
       "      <td>6.14</td>\n",
       "      <td>7.68</td>\n",
       "      <td>드라마,한국</td>\n",
       "    </tr>\n",
       "  </tbody>\n",
       "</table>\n",
       "</div>"
      ],
      "text/plain": [
       "                 Movename                                                URL  \\\n",
       "Rank                                                                           \n",
       "1                   범죄도시2  https://movie.naver.com/movie/bi/mi/basic.nave...   \n",
       "2            쥬라기 월드: 도미니언  https://movie.naver.com/movie/bi/mi/basic.nave...   \n",
       "3                     브로커  https://movie.naver.com/movie/bi/mi/basic.nave...   \n",
       "4     닥터 스트레인지: 대혼돈의 멀티버스  https://movie.naver.com/movie/bi/mi/basic.nave...   \n",
       "5          니 부모 얼굴이 보고 싶다  https://movie.naver.com/movie/bi/mi/basic.nave...   \n",
       "\n",
       "      Range    기자   네티즌      장르  \n",
       "Rank                             \n",
       "1         0  6.56  9.51   범죄,액션  \n",
       "2         0  6.40  6.18   액션,모험  \n",
       "3         0  6.80  6.19  드라마,한국  \n",
       "4         0  6.80  7.33  액션,판타지  \n",
       "5         1  6.14  7.68  드라마,한국  "
      ]
     },
     "execution_count": 37,
     "metadata": {},
     "output_type": "execute_result"
    }
   ],
   "source": [
    "df['장르'] = arr_jang\n",
    "df.head()"
   ]
  },
  {
   "cell_type": "code",
   "execution_count": 38,
   "id": "cb0c5ff3",
   "metadata": {},
   "outputs": [
    {
     "data": {
      "text/html": [
       "<div>\n",
       "<style scoped>\n",
       "    .dataframe tbody tr th:only-of-type {\n",
       "        vertical-align: middle;\n",
       "    }\n",
       "\n",
       "    .dataframe tbody tr th {\n",
       "        vertical-align: top;\n",
       "    }\n",
       "\n",
       "    .dataframe thead th {\n",
       "        text-align: right;\n",
       "    }\n",
       "</style>\n",
       "<table border=\"1\" class=\"dataframe\">\n",
       "  <thead>\n",
       "    <tr style=\"text-align: right;\">\n",
       "      <th></th>\n",
       "      <th>Movename</th>\n",
       "      <th>URL</th>\n",
       "      <th>Range</th>\n",
       "      <th>기자</th>\n",
       "      <th>네티즌</th>\n",
       "      <th>장르</th>\n",
       "      <th>감독</th>\n",
       "      <th>주연배우</th>\n",
       "      <th>등급</th>\n",
       "    </tr>\n",
       "    <tr>\n",
       "      <th>Rank</th>\n",
       "      <th></th>\n",
       "      <th></th>\n",
       "      <th></th>\n",
       "      <th></th>\n",
       "      <th></th>\n",
       "      <th></th>\n",
       "      <th></th>\n",
       "      <th></th>\n",
       "      <th></th>\n",
       "    </tr>\n",
       "  </thead>\n",
       "  <tbody>\n",
       "    <tr>\n",
       "      <th>1</th>\n",
       "      <td>범죄도시2</td>\n",
       "      <td>https://movie.naver.com/movie/bi/mi/basic.nave...</td>\n",
       "      <td>0</td>\n",
       "      <td>6.56</td>\n",
       "      <td>9.51</td>\n",
       "      <td>범죄,액션</td>\n",
       "      <td>이상용</td>\n",
       "      <td>마동석(마석도)/손석구(강해상)/최귀화(전일만)</td>\n",
       "      <td>15세 관람가</td>\n",
       "    </tr>\n",
       "    <tr>\n",
       "      <th>2</th>\n",
       "      <td>쥬라기 월드: 도미니언</td>\n",
       "      <td>https://movie.naver.com/movie/bi/mi/basic.nave...</td>\n",
       "      <td>0</td>\n",
       "      <td>6.40</td>\n",
       "      <td>6.18</td>\n",
       "      <td>액션,모험</td>\n",
       "      <td>콜린 트레보로우</td>\n",
       "      <td>크리스 프랫(오웬 그래디)/브라이스 달라스 하워드(클레어 디어링)</td>\n",
       "      <td>12세 관람가</td>\n",
       "    </tr>\n",
       "    <tr>\n",
       "      <th>3</th>\n",
       "      <td>브로커</td>\n",
       "      <td>https://movie.naver.com/movie/bi/mi/basic.nave...</td>\n",
       "      <td>0</td>\n",
       "      <td>6.80</td>\n",
       "      <td>6.19</td>\n",
       "      <td>드라마,한국</td>\n",
       "      <td>고레에다 히로카즈</td>\n",
       "      <td>송강호/강동원/배두나</td>\n",
       "      <td>12세 관람가</td>\n",
       "    </tr>\n",
       "    <tr>\n",
       "      <th>4</th>\n",
       "      <td>닥터 스트레인지: 대혼돈의 멀티버스</td>\n",
       "      <td>https://movie.naver.com/movie/bi/mi/basic.nave...</td>\n",
       "      <td>0</td>\n",
       "      <td>6.80</td>\n",
       "      <td>7.33</td>\n",
       "      <td>액션,판타지</td>\n",
       "      <td>샘 레이미</td>\n",
       "      <td>베네딕트 컴버배치(닥터 스트레인지)/엘리자베스 올슨(완다 막시모프 / 스칼렛 위치)</td>\n",
       "      <td>12세 관람가</td>\n",
       "    </tr>\n",
       "    <tr>\n",
       "      <th>5</th>\n",
       "      <td>니 부모 얼굴이 보고 싶다</td>\n",
       "      <td>https://movie.naver.com/movie/bi/mi/basic.nave...</td>\n",
       "      <td>1</td>\n",
       "      <td>6.14</td>\n",
       "      <td>7.68</td>\n",
       "      <td>드라마,한국</td>\n",
       "      <td>김지훈</td>\n",
       "      <td>설경구</td>\n",
       "      <td>15세 관람가</td>\n",
       "    </tr>\n",
       "  </tbody>\n",
       "</table>\n",
       "</div>"
      ],
      "text/plain": [
       "                 Movename                                                URL  \\\n",
       "Rank                                                                           \n",
       "1                   범죄도시2  https://movie.naver.com/movie/bi/mi/basic.nave...   \n",
       "2            쥬라기 월드: 도미니언  https://movie.naver.com/movie/bi/mi/basic.nave...   \n",
       "3                     브로커  https://movie.naver.com/movie/bi/mi/basic.nave...   \n",
       "4     닥터 스트레인지: 대혼돈의 멀티버스  https://movie.naver.com/movie/bi/mi/basic.nave...   \n",
       "5          니 부모 얼굴이 보고 싶다  https://movie.naver.com/movie/bi/mi/basic.nave...   \n",
       "\n",
       "      Range    기자   네티즌      장르         감독  \\\n",
       "Rank                                         \n",
       "1         0  6.56  9.51   범죄,액션        이상용   \n",
       "2         0  6.40  6.18   액션,모험   콜린 트레보로우   \n",
       "3         0  6.80  6.19  드라마,한국  고레에다 히로카즈   \n",
       "4         0  6.80  7.33  액션,판타지      샘 레이미   \n",
       "5         1  6.14  7.68  드라마,한국        김지훈   \n",
       "\n",
       "                                                주연배우       등급  \n",
       "Rank                                                           \n",
       "1                         마동석(마석도)/손석구(강해상)/최귀화(전일만)  15세 관람가  \n",
       "2               크리스 프랫(오웬 그래디)/브라이스 달라스 하워드(클레어 디어링)  12세 관람가  \n",
       "3                                        송강호/강동원/배두나  12세 관람가  \n",
       "4     베네딕트 컴버배치(닥터 스트레인지)/엘리자베스 올슨(완다 막시모프 / 스칼렛 위치)  12세 관람가  \n",
       "5                                                설경구  15세 관람가  "
      ]
     },
     "execution_count": 38,
     "metadata": {},
     "output_type": "execute_result"
    }
   ],
   "source": [
    "df['감독'] = arr_director\n",
    "df['주연배우'] = arr_actor\n",
    "df['등급'] = arr_level\n",
    "df.head()"
   ]
  },
  {
   "cell_type": "code",
   "execution_count": 39,
   "id": "aa7078b4",
   "metadata": {},
   "outputs": [
    {
     "data": {
      "text/plain": [
       "['Movename', 'URL', 'Range', '기자', '네티즌', '장르', '감독', '주연배우', '등급']"
      ]
     },
     "execution_count": 39,
     "metadata": {},
     "output_type": "execute_result"
    }
   ],
   "source": [
    "cols = list(df)\n",
    "cols"
   ]
  },
  {
   "cell_type": "code",
   "execution_count": 40,
   "id": "66202280",
   "metadata": {},
   "outputs": [
    {
     "data": {
      "text/plain": [
       "['Movename', 'Range', '기자', '네티즌', '장르', '감독', '주연배우', '등급', 'URL']"
      ]
     },
     "execution_count": 40,
     "metadata": {},
     "output_type": "execute_result"
    }
   ],
   "source": [
    "cols.append(cols.pop(cols.index('URL'))) \n",
    "# pop : 인덱스로 삭제, remove : 이름으로 제거\n",
    "cols"
   ]
  },
  {
   "cell_type": "code",
   "execution_count": 41,
   "id": "e54b0d8f",
   "metadata": {},
   "outputs": [
    {
     "data": {
      "text/html": [
       "<div>\n",
       "<style scoped>\n",
       "    .dataframe tbody tr th:only-of-type {\n",
       "        vertical-align: middle;\n",
       "    }\n",
       "\n",
       "    .dataframe tbody tr th {\n",
       "        vertical-align: top;\n",
       "    }\n",
       "\n",
       "    .dataframe thead th {\n",
       "        text-align: right;\n",
       "    }\n",
       "</style>\n",
       "<table border=\"1\" class=\"dataframe\">\n",
       "  <thead>\n",
       "    <tr style=\"text-align: right;\">\n",
       "      <th></th>\n",
       "      <th>Movename</th>\n",
       "      <th>Range</th>\n",
       "      <th>기자</th>\n",
       "      <th>네티즌</th>\n",
       "      <th>장르</th>\n",
       "      <th>감독</th>\n",
       "      <th>주연배우</th>\n",
       "      <th>등급</th>\n",
       "      <th>URL</th>\n",
       "    </tr>\n",
       "    <tr>\n",
       "      <th>Rank</th>\n",
       "      <th></th>\n",
       "      <th></th>\n",
       "      <th></th>\n",
       "      <th></th>\n",
       "      <th></th>\n",
       "      <th></th>\n",
       "      <th></th>\n",
       "      <th></th>\n",
       "      <th></th>\n",
       "    </tr>\n",
       "  </thead>\n",
       "  <tbody>\n",
       "    <tr>\n",
       "      <th>1</th>\n",
       "      <td>범죄도시2</td>\n",
       "      <td>0</td>\n",
       "      <td>6.56</td>\n",
       "      <td>9.51</td>\n",
       "      <td>범죄,액션</td>\n",
       "      <td>이상용</td>\n",
       "      <td>마동석(마석도)/손석구(강해상)/최귀화(전일만)</td>\n",
       "      <td>15세 관람가</td>\n",
       "      <td>https://movie.naver.com/movie/bi/mi/basic.nave...</td>\n",
       "    </tr>\n",
       "    <tr>\n",
       "      <th>2</th>\n",
       "      <td>쥬라기 월드: 도미니언</td>\n",
       "      <td>0</td>\n",
       "      <td>6.40</td>\n",
       "      <td>6.18</td>\n",
       "      <td>액션,모험</td>\n",
       "      <td>콜린 트레보로우</td>\n",
       "      <td>크리스 프랫(오웬 그래디)/브라이스 달라스 하워드(클레어 디어링)</td>\n",
       "      <td>12세 관람가</td>\n",
       "      <td>https://movie.naver.com/movie/bi/mi/basic.nave...</td>\n",
       "    </tr>\n",
       "    <tr>\n",
       "      <th>3</th>\n",
       "      <td>브로커</td>\n",
       "      <td>0</td>\n",
       "      <td>6.80</td>\n",
       "      <td>6.19</td>\n",
       "      <td>드라마,한국</td>\n",
       "      <td>고레에다 히로카즈</td>\n",
       "      <td>송강호/강동원/배두나</td>\n",
       "      <td>12세 관람가</td>\n",
       "      <td>https://movie.naver.com/movie/bi/mi/basic.nave...</td>\n",
       "    </tr>\n",
       "    <tr>\n",
       "      <th>4</th>\n",
       "      <td>닥터 스트레인지: 대혼돈의 멀티버스</td>\n",
       "      <td>0</td>\n",
       "      <td>6.80</td>\n",
       "      <td>7.33</td>\n",
       "      <td>액션,판타지</td>\n",
       "      <td>샘 레이미</td>\n",
       "      <td>베네딕트 컴버배치(닥터 스트레인지)/엘리자베스 올슨(완다 막시모프 / 스칼렛 위치)</td>\n",
       "      <td>12세 관람가</td>\n",
       "      <td>https://movie.naver.com/movie/bi/mi/basic.nave...</td>\n",
       "    </tr>\n",
       "    <tr>\n",
       "      <th>5</th>\n",
       "      <td>니 부모 얼굴이 보고 싶다</td>\n",
       "      <td>1</td>\n",
       "      <td>6.14</td>\n",
       "      <td>7.68</td>\n",
       "      <td>드라마,한국</td>\n",
       "      <td>김지훈</td>\n",
       "      <td>설경구</td>\n",
       "      <td>15세 관람가</td>\n",
       "      <td>https://movie.naver.com/movie/bi/mi/basic.nave...</td>\n",
       "    </tr>\n",
       "  </tbody>\n",
       "</table>\n",
       "</div>"
      ],
      "text/plain": [
       "                 Movename  Range    기자   네티즌      장르         감독  \\\n",
       "Rank                                                              \n",
       "1                   범죄도시2      0  6.56  9.51   범죄,액션        이상용   \n",
       "2            쥬라기 월드: 도미니언      0  6.40  6.18   액션,모험   콜린 트레보로우   \n",
       "3                     브로커      0  6.80  6.19  드라마,한국  고레에다 히로카즈   \n",
       "4     닥터 스트레인지: 대혼돈의 멀티버스      0  6.80  7.33  액션,판타지      샘 레이미   \n",
       "5          니 부모 얼굴이 보고 싶다      1  6.14  7.68  드라마,한국        김지훈   \n",
       "\n",
       "                                                주연배우       등급  \\\n",
       "Rank                                                            \n",
       "1                         마동석(마석도)/손석구(강해상)/최귀화(전일만)  15세 관람가   \n",
       "2               크리스 프랫(오웬 그래디)/브라이스 달라스 하워드(클레어 디어링)  12세 관람가   \n",
       "3                                        송강호/강동원/배두나  12세 관람가   \n",
       "4     베네딕트 컴버배치(닥터 스트레인지)/엘리자베스 올슨(완다 막시모프 / 스칼렛 위치)  12세 관람가   \n",
       "5                                                설경구  15세 관람가   \n",
       "\n",
       "                                                    URL  \n",
       "Rank                                                     \n",
       "1     https://movie.naver.com/movie/bi/mi/basic.nave...  \n",
       "2     https://movie.naver.com/movie/bi/mi/basic.nave...  \n",
       "3     https://movie.naver.com/movie/bi/mi/basic.nave...  \n",
       "4     https://movie.naver.com/movie/bi/mi/basic.nave...  \n",
       "5     https://movie.naver.com/movie/bi/mi/basic.nave...  "
      ]
     },
     "execution_count": 41,
     "metadata": {},
     "output_type": "execute_result"
    }
   ],
   "source": [
    "df = df.loc[:,cols]\n",
    "df.head()"
   ]
  },
  {
   "cell_type": "code",
   "execution_count": 42,
   "id": "daef0959",
   "metadata": {},
   "outputs": [
    {
     "name": "stdout",
     "output_type": "stream",
     "text": [
      "<class 'pandas.core.frame.DataFrame'>\n",
      "Int64Index: 10 entries, 1 to 10\n",
      "Data columns (total 9 columns):\n",
      " #   Column    Non-Null Count  Dtype \n",
      "---  ------    --------------  ----- \n",
      " 0   Movename  10 non-null     object\n",
      " 1   Range     10 non-null     int64 \n",
      " 2   기자        10 non-null     object\n",
      " 3   네티즌       10 non-null     object\n",
      " 4   장르        10 non-null     object\n",
      " 5   감독        10 non-null     object\n",
      " 6   주연배우      10 non-null     object\n",
      " 7   등급        10 non-null     object\n",
      " 8   URL       10 non-null     object\n",
      "dtypes: int64(1), object(8)\n",
      "memory usage: 1.1+ KB\n"
     ]
    }
   ],
   "source": [
    "df.info()"
   ]
  },
  {
   "cell_type": "code",
   "execution_count": 43,
   "id": "25e39d69",
   "metadata": {},
   "outputs": [],
   "source": [
    "file_xlsx2 = './data/moveinfo.xlsx'"
   ]
  },
  {
   "cell_type": "code",
   "execution_count": 44,
   "id": "ab346202",
   "metadata": {},
   "outputs": [],
   "source": [
    "df0 = pd.read_csv('data/moverank.csv', index_col='Rank') "
   ]
  },
  {
   "cell_type": "code",
   "execution_count": 45,
   "id": "d5d1455a",
   "metadata": {},
   "outputs": [],
   "source": [
    "writer = pd.ExcelWriter(file_xlsx2,engine='xlsxwriter')\n",
    "df0.to_excel(writer, sheet_name='1_영화순위', encoding='utf-8')\n",
    "df.to_excel(writer, sheet_name='2_영화상세', encoding='utf-8')\n",
    "writer.save()"
   ]
  },
  {
   "cell_type": "code",
   "execution_count": 46,
   "id": "9bb1e7ea",
   "metadata": {},
   "outputs": [
    {
     "name": "stdout",
     "output_type": "stream",
     "text": [
      " C 드라이브의 볼륨에는 이름이 없습니다.\n",
      " 볼륨 일련 번호: 78D5-6279\n",
      "\n",
      " C:\\Users\\student\\Anaconda_src\\S01_Pyton_Review\\data 디렉터리\n",
      "\n",
      "2022-06-10  오전 08:52                 0 moveinfo.xlsx\n",
      "               1개 파일                   0 바이트\n",
      "               0개 디렉터리  200,237,756,416 바이트 남음\n"
     ]
    }
   ],
   "source": [
    "%ls data\\m*.xlsx"
   ]
  }
 ],
 "metadata": {
  "kernelspec": {
   "display_name": "Python 3 (ipykernel)",
   "language": "python",
   "name": "python3"
  },
  "language_info": {
   "codemirror_mode": {
    "name": "ipython",
    "version": 3
   },
   "file_extension": ".py",
   "mimetype": "text/x-python",
   "name": "python",
   "nbconvert_exporter": "python",
   "pygments_lexer": "ipython3",
   "version": "3.9.12"
  }
 },
 "nbformat": 4,
 "nbformat_minor": 5
}
