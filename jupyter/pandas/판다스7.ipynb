{
 "cells": [
  {
   "cell_type": "code",
   "execution_count": 1,
   "id": "9887c462",
   "metadata": {},
   "outputs": [
    {
     "data": {
      "text/plain": [
       "'C:\\\\Users\\\\student\\\\Anaconda_src\\\\S01_Pyton_Review'"
      ]
     },
     "execution_count": 1,
     "metadata": {},
     "output_type": "execute_result"
    }
   ],
   "source": [
    "%pwd"
   ]
  },
  {
   "cell_type": "code",
   "execution_count": 1,
   "id": "7c3a98ac",
   "metadata": {},
   "outputs": [],
   "source": [
    "# Pandas Basics\n",
    "from IPython.display import Image \n",
    "\n",
    "from pandas import Series, DataFrame, MultiIndex\n",
    "import pandas as pd\n",
    "import numpy as np"
   ]
  },
  {
   "cell_type": "code",
   "execution_count": 2,
   "id": "1029b6c5",
   "metadata": {},
   "outputs": [
    {
     "data": {
      "text/plain": [
       "a  1   -0.599215\n",
       "   2    1.144306\n",
       "   3    0.897379\n",
       "b  1   -0.893921\n",
       "   2   -0.634036\n",
       "   3    0.997329\n",
       "c  1   -0.959848\n",
       "   2    1.628994\n",
       "d  2   -0.380920\n",
       "   3    0.222786\n",
       "dtype: float64"
      ]
     },
     "execution_count": 2,
     "metadata": {},
     "output_type": "execute_result"
    }
   ],
   "source": [
    "data = Series(np.random.randn(10),\n",
    "              index=[['a', 'a', 'a', 'b', 'b', 'b', 'c', 'c', 'd', 'd'],\n",
    "                     [1, 2, 3, 1, 2, 3, 1, 2, 2, 3]])\n",
    "data"
   ]
  },
  {
   "cell_type": "code",
   "execution_count": 3,
   "id": "f156d9a3",
   "metadata": {},
   "outputs": [
    {
     "data": {
      "text/plain": [
       "0    0.0\n",
       "1    1.0\n",
       "2    2.0\n",
       "dtype: float64"
      ]
     },
     "execution_count": 3,
     "metadata": {},
     "output_type": "execute_result"
    }
   ],
   "source": [
    "ser = Series(np.arange(3.))\n",
    "ser"
   ]
  },
  {
   "cell_type": "code",
   "execution_count": 4,
   "id": "ce0870a2",
   "metadata": {},
   "outputs": [
    {
     "data": {
      "text/plain": [
       "2.0"
      ]
     },
     "execution_count": 4,
     "metadata": {},
     "output_type": "execute_result"
    }
   ],
   "source": [
    "ser.iloc[-1]"
   ]
  },
  {
   "cell_type": "code",
   "execution_count": 5,
   "id": "4dac0ad6",
   "metadata": {},
   "outputs": [
    {
     "data": {
      "text/plain": [
       "a    0.0\n",
       "b    1.0\n",
       "c    2.0\n",
       "dtype: float64"
      ]
     },
     "execution_count": 5,
     "metadata": {},
     "output_type": "execute_result"
    }
   ],
   "source": [
    "ser2 = Series(np.arange(3.), index=['a', 'b', 'c'])\n",
    "ser2"
   ]
  },
  {
   "cell_type": "code",
   "execution_count": 6,
   "id": "e20d280f",
   "metadata": {},
   "outputs": [
    {
     "data": {
      "text/plain": [
       "2.0"
      ]
     },
     "execution_count": 6,
     "metadata": {},
     "output_type": "execute_result"
    }
   ],
   "source": [
    "ser2[-1]"
   ]
  },
  {
   "cell_type": "code",
   "execution_count": 7,
   "id": "731cb4e9",
   "metadata": {},
   "outputs": [
    {
     "data": {
      "text/plain": [
       "0    0.0\n",
       "1    1.0\n",
       "dtype: float64"
      ]
     },
     "execution_count": 7,
     "metadata": {},
     "output_type": "execute_result"
    }
   ],
   "source": [
    "ser.loc[:1]"
   ]
  },
  {
   "cell_type": "code",
   "execution_count": 8,
   "id": "bbbeabf2",
   "metadata": {},
   "outputs": [
    {
     "data": {
      "text/plain": [
       "0    0.0\n",
       "1    1.0\n",
       "dtype: float64"
      ]
     },
     "execution_count": 8,
     "metadata": {},
     "output_type": "execute_result"
    }
   ],
   "source": [
    "ser.loc[:1]"
   ]
  },
  {
   "cell_type": "code",
   "execution_count": 9,
   "id": "b8fe029b",
   "metadata": {},
   "outputs": [
    {
     "data": {
      "text/plain": [
       "0    0.0\n",
       "dtype: float64"
      ]
     },
     "execution_count": 9,
     "metadata": {},
     "output_type": "execute_result"
    }
   ],
   "source": [
    "ser.iloc[:1]"
   ]
  },
  {
   "cell_type": "code",
   "execution_count": 10,
   "id": "aeeb4089",
   "metadata": {},
   "outputs": [
    {
     "data": {
      "text/plain": [
       "-5    0\n",
       " 1    1\n",
       " 3    2\n",
       "dtype: int64"
      ]
     },
     "execution_count": 10,
     "metadata": {},
     "output_type": "execute_result"
    }
   ],
   "source": [
    "ser3 = Series(range(3), index=[-5, 1, 3])\n",
    "ser3"
   ]
  },
  {
   "cell_type": "code",
   "execution_count": 11,
   "id": "bcbb0d86",
   "metadata": {},
   "outputs": [
    {
     "data": {
      "text/plain": [
       "2"
      ]
     },
     "execution_count": 11,
     "metadata": {},
     "output_type": "execute_result"
    }
   ],
   "source": [
    "ser3.iloc[2]"
   ]
  },
  {
   "cell_type": "code",
   "execution_count": 17,
   "id": "c94333fc",
   "metadata": {},
   "outputs": [
    {
     "data": {
      "text/html": [
       "<div>\n",
       "<style scoped>\n",
       "    .dataframe tbody tr th:only-of-type {\n",
       "        vertical-align: middle;\n",
       "    }\n",
       "\n",
       "    .dataframe tbody tr th {\n",
       "        vertical-align: top;\n",
       "    }\n",
       "\n",
       "    .dataframe thead th {\n",
       "        text-align: right;\n",
       "    }\n",
       "</style>\n",
       "<table border=\"1\" class=\"dataframe\">\n",
       "  <thead>\n",
       "    <tr style=\"text-align: right;\">\n",
       "      <th></th>\n",
       "      <th>0</th>\n",
       "      <th>1</th>\n",
       "    </tr>\n",
       "  </thead>\n",
       "  <tbody>\n",
       "    <tr>\n",
       "      <th>2</th>\n",
       "      <td>0</td>\n",
       "      <td>1</td>\n",
       "    </tr>\n",
       "    <tr>\n",
       "      <th>0</th>\n",
       "      <td>2</td>\n",
       "      <td>3</td>\n",
       "    </tr>\n",
       "    <tr>\n",
       "      <th>1</th>\n",
       "      <td>4</td>\n",
       "      <td>5</td>\n",
       "    </tr>\n",
       "  </tbody>\n",
       "</table>\n",
       "</div>"
      ],
      "text/plain": [
       "   0  1\n",
       "2  0  1\n",
       "0  2  3\n",
       "1  4  5"
      ]
     },
     "execution_count": 17,
     "metadata": {},
     "output_type": "execute_result"
    }
   ],
   "source": [
    "frame = DataFrame(np.arange(6).reshape((3, 2)), index=[2, 0, 1])\n",
    "frame"
   ]
  },
  {
   "cell_type": "code",
   "execution_count": 19,
   "id": "c5306995",
   "metadata": {},
   "outputs": [
    {
     "data": {
      "text/html": [
       "<div>\n",
       "<style scoped>\n",
       "    .dataframe tbody tr th:only-of-type {\n",
       "        vertical-align: middle;\n",
       "    }\n",
       "\n",
       "    .dataframe tbody tr th {\n",
       "        vertical-align: top;\n",
       "    }\n",
       "\n",
       "    .dataframe thead th {\n",
       "        text-align: right;\n",
       "    }\n",
       "</style>\n",
       "<table border=\"1\" class=\"dataframe\">\n",
       "  <thead>\n",
       "    <tr style=\"text-align: right;\">\n",
       "      <th></th>\n",
       "      <th>0</th>\n",
       "      <th>1</th>\n",
       "    </tr>\n",
       "  </thead>\n",
       "  <tbody>\n",
       "    <tr>\n",
       "      <th>0</th>\n",
       "      <td>2</td>\n",
       "      <td>3</td>\n",
       "    </tr>\n",
       "    <tr>\n",
       "      <th>1</th>\n",
       "      <td>4</td>\n",
       "      <td>5</td>\n",
       "    </tr>\n",
       "    <tr>\n",
       "      <th>2</th>\n",
       "      <td>0</td>\n",
       "      <td>1</td>\n",
       "    </tr>\n",
       "  </tbody>\n",
       "</table>\n",
       "</div>"
      ],
      "text/plain": [
       "   0  1\n",
       "0  2  3\n",
       "1  4  5\n",
       "2  0  1"
      ]
     },
     "execution_count": 19,
     "metadata": {},
     "output_type": "execute_result"
    }
   ],
   "source": [
    "frame.sort_index()"
   ]
  },
  {
   "cell_type": "code",
   "execution_count": 20,
   "id": "b0cd2608",
   "metadata": {},
   "outputs": [
    {
     "data": {
      "text/html": [
       "<div>\n",
       "<style scoped>\n",
       "    .dataframe tbody tr th:only-of-type {\n",
       "        vertical-align: middle;\n",
       "    }\n",
       "\n",
       "    .dataframe tbody tr th {\n",
       "        vertical-align: top;\n",
       "    }\n",
       "\n",
       "    .dataframe thead th {\n",
       "        text-align: right;\n",
       "    }\n",
       "</style>\n",
       "<table border=\"1\" class=\"dataframe\">\n",
       "  <thead>\n",
       "    <tr style=\"text-align: right;\">\n",
       "      <th></th>\n",
       "      <th>0</th>\n",
       "      <th>1</th>\n",
       "    </tr>\n",
       "  </thead>\n",
       "  <tbody>\n",
       "    <tr>\n",
       "      <th>2</th>\n",
       "      <td>0</td>\n",
       "      <td>1</td>\n",
       "    </tr>\n",
       "    <tr>\n",
       "      <th>0</th>\n",
       "      <td>2</td>\n",
       "      <td>3</td>\n",
       "    </tr>\n",
       "    <tr>\n",
       "      <th>1</th>\n",
       "      <td>4</td>\n",
       "      <td>5</td>\n",
       "    </tr>\n",
       "  </tbody>\n",
       "</table>\n",
       "</div>"
      ],
      "text/plain": [
       "   0  1\n",
       "2  0  1\n",
       "0  2  3\n",
       "1  4  5"
      ]
     },
     "execution_count": 20,
     "metadata": {},
     "output_type": "execute_result"
    }
   ],
   "source": [
    "frame.sort_values(by=[0])"
   ]
  },
  {
   "cell_type": "code",
   "execution_count": 13,
   "id": "6a140bcd",
   "metadata": {},
   "outputs": [
    {
     "data": {
      "text/plain": [
       "0    0\n",
       "1    1\n",
       "Name: 2, dtype: int32"
      ]
     },
     "execution_count": 13,
     "metadata": {},
     "output_type": "execute_result"
    }
   ],
   "source": [
    "frame.iloc[0]"
   ]
  },
  {
   "cell_type": "code",
   "execution_count": 14,
   "id": "f8a56385",
   "metadata": {},
   "outputs": [
    {
     "data": {
      "text/html": [
       "<div>\n",
       "<style scoped>\n",
       "    .dataframe tbody tr th:only-of-type {\n",
       "        vertical-align: middle;\n",
       "    }\n",
       "\n",
       "    .dataframe tbody tr th {\n",
       "        vertical-align: top;\n",
       "    }\n",
       "\n",
       "    .dataframe thead th {\n",
       "        text-align: right;\n",
       "    }\n",
       "</style>\n",
       "<table border=\"1\" class=\"dataframe\">\n",
       "  <thead>\n",
       "    <tr style=\"text-align: right;\">\n",
       "      <th></th>\n",
       "      <th>0</th>\n",
       "      <th>1</th>\n",
       "    </tr>\n",
       "  </thead>\n",
       "  <tbody>\n",
       "    <tr>\n",
       "      <th>2</th>\n",
       "      <td>0</td>\n",
       "      <td>1</td>\n",
       "    </tr>\n",
       "    <tr>\n",
       "      <th>0</th>\n",
       "      <td>2</td>\n",
       "      <td>3</td>\n",
       "    </tr>\n",
       "  </tbody>\n",
       "</table>\n",
       "</div>"
      ],
      "text/plain": [
       "   0  1\n",
       "2  0  1\n",
       "0  2  3"
      ]
     },
     "execution_count": 14,
     "metadata": {},
     "output_type": "execute_result"
    }
   ],
   "source": [
    "frame.iloc[:2]"
   ]
  },
  {
   "cell_type": "code",
   "execution_count": 15,
   "id": "001d1b7a",
   "metadata": {},
   "outputs": [
    {
     "data": {
      "text/html": [
       "<div>\n",
       "<style scoped>\n",
       "    .dataframe tbody tr th:only-of-type {\n",
       "        vertical-align: middle;\n",
       "    }\n",
       "\n",
       "    .dataframe tbody tr th {\n",
       "        vertical-align: top;\n",
       "    }\n",
       "\n",
       "    .dataframe thead th {\n",
       "        text-align: right;\n",
       "    }\n",
       "</style>\n",
       "<table border=\"1\" class=\"dataframe\">\n",
       "  <thead>\n",
       "    <tr style=\"text-align: right;\">\n",
       "      <th></th>\n",
       "      <th>0</th>\n",
       "      <th>1</th>\n",
       "    </tr>\n",
       "  </thead>\n",
       "  <tbody>\n",
       "    <tr>\n",
       "      <th>1</th>\n",
       "      <td>4</td>\n",
       "      <td>5</td>\n",
       "    </tr>\n",
       "    <tr>\n",
       "      <th>0</th>\n",
       "      <td>2</td>\n",
       "      <td>3</td>\n",
       "    </tr>\n",
       "    <tr>\n",
       "      <th>2</th>\n",
       "      <td>0</td>\n",
       "      <td>1</td>\n",
       "    </tr>\n",
       "  </tbody>\n",
       "</table>\n",
       "</div>"
      ],
      "text/plain": [
       "   0  1\n",
       "1  4  5\n",
       "0  2  3\n",
       "2  0  1"
      ]
     },
     "execution_count": 15,
     "metadata": {},
     "output_type": "execute_result"
    }
   ],
   "source": [
    "frame.iloc[::-1]"
   ]
  },
  {
   "cell_type": "code",
   "execution_count": null,
   "id": "c0ad697d",
   "metadata": {},
   "outputs": [],
   "source": [
    "pd.to"
   ]
  },
  {
   "cell_type": "code",
   "execution_count": null,
   "id": "9e848b6b",
   "metadata": {},
   "outputs": [],
   "source": [
    "pd.re"
   ]
  },
  {
   "cell_type": "code",
   "execution_count": 21,
   "id": "cd29ce4b",
   "metadata": {},
   "outputs": [],
   "source": [
    "download = pd.read_html('http://kind.krx.co.kr/corpgeneral/corpList.do?method=download', header=0)"
   ]
  },
  {
   "cell_type": "code",
   "execution_count": 22,
   "id": "85cc1ece",
   "metadata": {},
   "outputs": [
    {
     "data": {
      "text/plain": [
       "list"
      ]
     },
     "execution_count": 22,
     "metadata": {},
     "output_type": "execute_result"
    }
   ],
   "source": [
    "type(download)"
   ]
  },
  {
   "cell_type": "code",
   "execution_count": 23,
   "id": "8cf8aa1b",
   "metadata": {},
   "outputs": [
    {
     "data": {
      "text/plain": [
       "1"
      ]
     },
     "execution_count": 23,
     "metadata": {},
     "output_type": "execute_result"
    }
   ],
   "source": [
    "len(download)"
   ]
  },
  {
   "cell_type": "code",
   "execution_count": 24,
   "id": "45bcf97e",
   "metadata": {},
   "outputs": [
    {
     "data": {
      "text/plain": [
       "pandas.core.frame.DataFrame"
      ]
     },
     "execution_count": 24,
     "metadata": {},
     "output_type": "execute_result"
    }
   ],
   "source": [
    "type(download[0])"
   ]
  },
  {
   "cell_type": "code",
   "execution_count": 25,
   "id": "58dafd2c",
   "metadata": {},
   "outputs": [
    {
     "data": {
      "text/html": [
       "<div>\n",
       "<style scoped>\n",
       "    .dataframe tbody tr th:only-of-type {\n",
       "        vertical-align: middle;\n",
       "    }\n",
       "\n",
       "    .dataframe tbody tr th {\n",
       "        vertical-align: top;\n",
       "    }\n",
       "\n",
       "    .dataframe thead th {\n",
       "        text-align: right;\n",
       "    }\n",
       "</style>\n",
       "<table border=\"1\" class=\"dataframe\">\n",
       "  <thead>\n",
       "    <tr style=\"text-align: right;\">\n",
       "      <th></th>\n",
       "      <th>회사명</th>\n",
       "      <th>종목코드</th>\n",
       "      <th>업종</th>\n",
       "      <th>주요제품</th>\n",
       "      <th>상장일</th>\n",
       "      <th>결산월</th>\n",
       "      <th>대표자명</th>\n",
       "      <th>홈페이지</th>\n",
       "      <th>지역</th>\n",
       "    </tr>\n",
       "  </thead>\n",
       "  <tbody>\n",
       "    <tr>\n",
       "      <th>0</th>\n",
       "      <td>DL</td>\n",
       "      <td>210</td>\n",
       "      <td>기타 금융업</td>\n",
       "      <td>지주회사</td>\n",
       "      <td>1976-02-02</td>\n",
       "      <td>12월</td>\n",
       "      <td>전병욱</td>\n",
       "      <td>http://www.dlholdings.co.kr</td>\n",
       "      <td>서울특별시</td>\n",
       "    </tr>\n",
       "    <tr>\n",
       "      <th>1</th>\n",
       "      <td>DRB동일</td>\n",
       "      <td>4840</td>\n",
       "      <td>고무제품 제조업</td>\n",
       "      <td>고무벨트(V벨트,콘베이어벨트,평벨트),프라스틱제품 제조,판매</td>\n",
       "      <td>1976-05-21</td>\n",
       "      <td>12월</td>\n",
       "      <td>류영식</td>\n",
       "      <td>http://drbworld.com</td>\n",
       "      <td>부산광역시</td>\n",
       "    </tr>\n",
       "    <tr>\n",
       "      <th>2</th>\n",
       "      <td>DSR</td>\n",
       "      <td>155660</td>\n",
       "      <td>1차 비철금속 제조업</td>\n",
       "      <td>합섬섬유로프</td>\n",
       "      <td>2013-05-15</td>\n",
       "      <td>12월</td>\n",
       "      <td>홍석빈</td>\n",
       "      <td>http://www.dsr.com</td>\n",
       "      <td>부산광역시</td>\n",
       "    </tr>\n",
       "    <tr>\n",
       "      <th>3</th>\n",
       "      <td>GS</td>\n",
       "      <td>78930</td>\n",
       "      <td>기타 금융업</td>\n",
       "      <td>지주회사/부동산 임대</td>\n",
       "      <td>2004-08-05</td>\n",
       "      <td>12월</td>\n",
       "      <td>허태수, 홍순기 (각자 대표이사)</td>\n",
       "      <td>NaN</td>\n",
       "      <td>서울특별시</td>\n",
       "    </tr>\n",
       "    <tr>\n",
       "      <th>4</th>\n",
       "      <td>KG케미칼</td>\n",
       "      <td>1390</td>\n",
       "      <td>기초 화학물질 제조업</td>\n",
       "      <td>콘크리트혼화제, 비료, 친환경농자재, 수처리제</td>\n",
       "      <td>1989-08-25</td>\n",
       "      <td>12월</td>\n",
       "      <td>곽정현, 김재익</td>\n",
       "      <td>http://www.kgchem.co.kr</td>\n",
       "      <td>울산광역시</td>\n",
       "    </tr>\n",
       "  </tbody>\n",
       "</table>\n",
       "</div>"
      ],
      "text/plain": [
       "     회사명    종목코드           업종                               주요제품         상장일  \\\n",
       "0     DL     210       기타 금융업                               지주회사  1976-02-02   \n",
       "1  DRB동일    4840     고무제품 제조업  고무벨트(V벨트,콘베이어벨트,평벨트),프라스틱제품 제조,판매  1976-05-21   \n",
       "2    DSR  155660  1차 비철금속 제조업                             합섬섬유로프  2013-05-15   \n",
       "3     GS   78930       기타 금융업                        지주회사/부동산 임대  2004-08-05   \n",
       "4  KG케미칼    1390  기초 화학물질 제조업          콘크리트혼화제, 비료, 친환경농자재, 수처리제  1989-08-25   \n",
       "\n",
       "   결산월                대표자명                         홈페이지     지역  \n",
       "0  12월                 전병욱  http://www.dlholdings.co.kr  서울특별시  \n",
       "1  12월                 류영식          http://drbworld.com  부산광역시  \n",
       "2  12월                 홍석빈           http://www.dsr.com  부산광역시  \n",
       "3  12월  허태수, 홍순기 (각자 대표이사)                          NaN  서울특별시  \n",
       "4  12월            곽정현, 김재익      http://www.kgchem.co.kr  울산광역시  "
      ]
     },
     "execution_count": 25,
     "metadata": {},
     "output_type": "execute_result"
    }
   ],
   "source": [
    "corp_df = download[0]\n",
    "corp_df.head()"
   ]
  },
  {
   "cell_type": "code",
   "execution_count": 26,
   "id": "e076edcd",
   "metadata": {},
   "outputs": [
    {
     "data": {
      "text/plain": [
       "2498"
      ]
     },
     "execution_count": 26,
     "metadata": {},
     "output_type": "execute_result"
    }
   ],
   "source": [
    "len(corp_df)"
   ]
  },
  {
   "cell_type": "code",
   "execution_count": 27,
   "id": "f1aca417",
   "metadata": {},
   "outputs": [
    {
     "data": {
      "text/html": [
       "<div>\n",
       "<style scoped>\n",
       "    .dataframe tbody tr th:only-of-type {\n",
       "        vertical-align: middle;\n",
       "    }\n",
       "\n",
       "    .dataframe tbody tr th {\n",
       "        vertical-align: top;\n",
       "    }\n",
       "\n",
       "    .dataframe thead th {\n",
       "        text-align: right;\n",
       "    }\n",
       "</style>\n",
       "<table border=\"1\" class=\"dataframe\">\n",
       "  <thead>\n",
       "    <tr style=\"text-align: right;\">\n",
       "      <th></th>\n",
       "      <th>회사명</th>\n",
       "      <th>종목코드</th>\n",
       "      <th>업종</th>\n",
       "      <th>주요제품</th>\n",
       "      <th>상장일</th>\n",
       "      <th>결산월</th>\n",
       "      <th>대표자명</th>\n",
       "      <th>홈페이지</th>\n",
       "      <th>지역</th>\n",
       "    </tr>\n",
       "  </thead>\n",
       "  <tbody>\n",
       "    <tr>\n",
       "      <th>2493</th>\n",
       "      <td>타임기술</td>\n",
       "      <td>318660</td>\n",
       "      <td>소프트웨어 개발 및 공급업</td>\n",
       "      <td>ILS(종합군수지원), IETM(전자식기술교범), CBT(전자식교보재), 기술번역</td>\n",
       "      <td>2021-06-24</td>\n",
       "      <td>12월</td>\n",
       "      <td>주양효</td>\n",
       "      <td>http://timett.co.kr</td>\n",
       "      <td>경상남도</td>\n",
       "    </tr>\n",
       "    <tr>\n",
       "      <th>2494</th>\n",
       "      <td>틸론</td>\n",
       "      <td>217880</td>\n",
       "      <td>소프트웨어 개발 및 공급업</td>\n",
       "      <td>Cloud Solution (D,A,E,Rstation)</td>\n",
       "      <td>2015-05-28</td>\n",
       "      <td>12월</td>\n",
       "      <td>최백준</td>\n",
       "      <td>http://www.tilon.co.kr</td>\n",
       "      <td>서울특별시</td>\n",
       "    </tr>\n",
       "    <tr>\n",
       "      <th>2495</th>\n",
       "      <td>플럼라인생명과학</td>\n",
       "      <td>222670</td>\n",
       "      <td>자연과학 및 공학 연구개발업</td>\n",
       "      <td>강아지암치료제,돼지DNA테라피</td>\n",
       "      <td>2015-07-28</td>\n",
       "      <td>12월</td>\n",
       "      <td>김앤토니경태</td>\n",
       "      <td>http://www.plsdna.com</td>\n",
       "      <td>서울특별시</td>\n",
       "    </tr>\n",
       "    <tr>\n",
       "      <th>2496</th>\n",
       "      <td>한국미라클피플사</td>\n",
       "      <td>331660</td>\n",
       "      <td>기타 화학제품 제조업</td>\n",
       "      <td>은나노스텝, 닥터오렌지 등</td>\n",
       "      <td>2019-10-28</td>\n",
       "      <td>12월</td>\n",
       "      <td>이호경</td>\n",
       "      <td>http://www.kmpc.co.kr</td>\n",
       "      <td>경기도</td>\n",
       "    </tr>\n",
       "    <tr>\n",
       "      <th>2497</th>\n",
       "      <td>휴벡셀</td>\n",
       "      <td>212310</td>\n",
       "      <td>의료용 기기 제조업</td>\n",
       "      <td>척추용 임플란트 등</td>\n",
       "      <td>2016-07-26</td>\n",
       "      <td>12월</td>\n",
       "      <td>박정민, 허성규(각자대표)</td>\n",
       "      <td>http://huvexel.com</td>\n",
       "      <td>경기도</td>\n",
       "    </tr>\n",
       "  </tbody>\n",
       "</table>\n",
       "</div>"
      ],
      "text/plain": [
       "           회사명    종목코드               업종  \\\n",
       "2493      타임기술  318660   소프트웨어 개발 및 공급업   \n",
       "2494        틸론  217880   소프트웨어 개발 및 공급업   \n",
       "2495  플럼라인생명과학  222670  자연과학 및 공학 연구개발업   \n",
       "2496  한국미라클피플사  331660      기타 화학제품 제조업   \n",
       "2497       휴벡셀  212310       의료용 기기 제조업   \n",
       "\n",
       "                                               주요제품         상장일  결산월  \\\n",
       "2493  ILS(종합군수지원), IETM(전자식기술교범), CBT(전자식교보재), 기술번역  2021-06-24  12월   \n",
       "2494                Cloud Solution (D,A,E,Rstation)  2015-05-28  12월   \n",
       "2495                               강아지암치료제,돼지DNA테라피  2015-07-28  12월   \n",
       "2496                                 은나노스텝, 닥터오렌지 등  2019-10-28  12월   \n",
       "2497                                     척추용 임플란트 등  2016-07-26  12월   \n",
       "\n",
       "                대표자명                    홈페이지     지역  \n",
       "2493             주양효     http://timett.co.kr   경상남도  \n",
       "2494             최백준  http://www.tilon.co.kr  서울특별시  \n",
       "2495          김앤토니경태   http://www.plsdna.com  서울특별시  \n",
       "2496             이호경   http://www.kmpc.co.kr    경기도  \n",
       "2497  박정민, 허성규(각자대표)      http://huvexel.com    경기도  "
      ]
     },
     "execution_count": 27,
     "metadata": {},
     "output_type": "execute_result"
    }
   ],
   "source": [
    "corp_df.tail()"
   ]
  },
  {
   "cell_type": "code",
   "execution_count": 28,
   "id": "51ce0975",
   "metadata": {},
   "outputs": [
    {
     "name": "stderr",
     "output_type": "stream",
     "text": [
      "UsageError: Line magic function `%dir` not found.\n"
     ]
    }
   ],
   "source": [
    "%dir *html"
   ]
  },
  {
   "cell_type": "code",
   "execution_count": 29,
   "id": "1299a31d",
   "metadata": {},
   "outputs": [
    {
     "data": {
      "text/plain": [
       "'C:\\\\Users\\\\student\\\\Anaconda_src\\\\S01_Pyton_Review'"
      ]
     },
     "execution_count": 29,
     "metadata": {},
     "output_type": "execute_result"
    }
   ],
   "source": [
    "%pwd download"
   ]
  },
  {
   "cell_type": "code",
   "execution_count": 63,
   "id": "8efe7ba9",
   "metadata": {},
   "outputs": [
    {
     "data": {
      "text/html": [
       "<div>\n",
       "<style scoped>\n",
       "    .dataframe tbody tr th:only-of-type {\n",
       "        vertical-align: middle;\n",
       "    }\n",
       "\n",
       "    .dataframe tbody tr th {\n",
       "        vertical-align: top;\n",
       "    }\n",
       "\n",
       "    .dataframe thead th {\n",
       "        text-align: right;\n",
       "    }\n",
       "</style>\n",
       "<table border=\"1\" class=\"dataframe\">\n",
       "  <thead>\n",
       "    <tr style=\"text-align: right;\">\n",
       "      <th></th>\n",
       "      <th>회사명</th>\n",
       "      <th>종목코드</th>\n",
       "      <th>업종</th>\n",
       "      <th>주요제품</th>\n",
       "      <th>상장일</th>\n",
       "      <th>결산월</th>\n",
       "      <th>대표자명</th>\n",
       "      <th>홈페이지</th>\n",
       "      <th>지역</th>\n",
       "    </tr>\n",
       "  </thead>\n",
       "  <tbody>\n",
       "    <tr>\n",
       "      <th>0</th>\n",
       "      <td>DL</td>\n",
       "      <td>210</td>\n",
       "      <td>기타 금융업</td>\n",
       "      <td>지주회사</td>\n",
       "      <td>1976-02-02</td>\n",
       "      <td>12월</td>\n",
       "      <td>전병욱</td>\n",
       "      <td>http://www.dlholdings.co.kr</td>\n",
       "      <td>서울특별시</td>\n",
       "    </tr>\n",
       "    <tr>\n",
       "      <th>1</th>\n",
       "      <td>DRB동일</td>\n",
       "      <td>4840</td>\n",
       "      <td>고무제품 제조업</td>\n",
       "      <td>고무벨트(V벨트,콘베이어벨트,평벨트),프라스틱제품 제조,판매</td>\n",
       "      <td>1976-05-21</td>\n",
       "      <td>12월</td>\n",
       "      <td>류영식</td>\n",
       "      <td>http://drbworld.com</td>\n",
       "      <td>부산광역시</td>\n",
       "    </tr>\n",
       "    <tr>\n",
       "      <th>2</th>\n",
       "      <td>DSR</td>\n",
       "      <td>155660</td>\n",
       "      <td>1차 비철금속 제조업</td>\n",
       "      <td>합섬섬유로프</td>\n",
       "      <td>2013-05-15</td>\n",
       "      <td>12월</td>\n",
       "      <td>홍석빈</td>\n",
       "      <td>http://www.dsr.com</td>\n",
       "      <td>부산광역시</td>\n",
       "    </tr>\n",
       "  </tbody>\n",
       "</table>\n",
       "</div>"
      ],
      "text/plain": [
       "     회사명    종목코드           업종                               주요제품        상장일  \\\n",
       "0     DL     210       기타 금융업                               지주회사 1976-02-02   \n",
       "1  DRB동일    4840     고무제품 제조업  고무벨트(V벨트,콘베이어벨트,평벨트),프라스틱제품 제조,판매 1976-05-21   \n",
       "2    DSR  155660  1차 비철금속 제조업                             합섬섬유로프 2013-05-15   \n",
       "\n",
       "   결산월 대표자명                         홈페이지     지역  \n",
       "0  12월  전병욱  http://www.dlholdings.co.kr  서울특별시  \n",
       "1  12월  류영식          http://drbworld.com  부산광역시  \n",
       "2  12월  홍석빈           http://www.dsr.com  부산광역시  "
      ]
     },
     "execution_count": 63,
     "metadata": {},
     "output_type": "execute_result"
    }
   ],
   "source": [
    "df = pd.read_excel('./data/Stock_Corporations.xlsx')\n",
    "df.head(3)"
   ]
  },
  {
   "cell_type": "code",
   "execution_count": 52,
   "id": "9d39bd36",
   "metadata": {},
   "outputs": [
    {
     "data": {
      "text/plain": [
       "2498"
      ]
     },
     "execution_count": 52,
     "metadata": {},
     "output_type": "execute_result"
    }
   ],
   "source": [
    "len(df)"
   ]
  },
  {
   "cell_type": "code",
   "execution_count": 50,
   "id": "7998fe2c",
   "metadata": {},
   "outputs": [
    {
     "data": {
      "text/html": [
       "<div>\n",
       "<style scoped>\n",
       "    .dataframe tbody tr th:only-of-type {\n",
       "        vertical-align: middle;\n",
       "    }\n",
       "\n",
       "    .dataframe tbody tr th {\n",
       "        vertical-align: top;\n",
       "    }\n",
       "\n",
       "    .dataframe thead th {\n",
       "        text-align: right;\n",
       "    }\n",
       "</style>\n",
       "<table border=\"1\" class=\"dataframe\">\n",
       "  <thead>\n",
       "    <tr style=\"text-align: right;\">\n",
       "      <th></th>\n",
       "      <th>High</th>\n",
       "      <th>Low</th>\n",
       "      <th>Open</th>\n",
       "      <th>Close</th>\n",
       "      <th>Volume</th>\n",
       "      <th>Adj Close</th>\n",
       "    </tr>\n",
       "    <tr>\n",
       "      <th>Date</th>\n",
       "      <th></th>\n",
       "      <th></th>\n",
       "      <th></th>\n",
       "      <th></th>\n",
       "      <th></th>\n",
       "      <th></th>\n",
       "    </tr>\n",
       "  </thead>\n",
       "  <tbody>\n",
       "    <tr>\n",
       "      <th>2022-05-26</th>\n",
       "      <td>3.0355</td>\n",
       "      <td>3.0355</td>\n",
       "      <td>3.0355</td>\n",
       "      <td>3.0355</td>\n",
       "      <td>0.0</td>\n",
       "      <td>3.0355</td>\n",
       "    </tr>\n",
       "    <tr>\n",
       "      <th>2022-05-27</th>\n",
       "      <td>2.9925</td>\n",
       "      <td>2.9925</td>\n",
       "      <td>2.9925</td>\n",
       "      <td>2.9925</td>\n",
       "      <td>0.0</td>\n",
       "      <td>2.9925</td>\n",
       "    </tr>\n",
       "    <tr>\n",
       "      <th>2022-05-30</th>\n",
       "      <td>3.0640</td>\n",
       "      <td>3.0640</td>\n",
       "      <td>3.0640</td>\n",
       "      <td>3.0640</td>\n",
       "      <td>0.0</td>\n",
       "      <td>3.0640</td>\n",
       "    </tr>\n",
       "  </tbody>\n",
       "</table>\n",
       "</div>"
      ],
      "text/plain": [
       "              High     Low    Open   Close  Volume  Adj Close\n",
       "Date                                                         \n",
       "2022-05-26  3.0355  3.0355  3.0355  3.0355     0.0     3.0355\n",
       "2022-05-27  2.9925  2.9925  2.9925  2.9925     0.0     2.9925\n",
       "2022-05-30  3.0640  3.0640  3.0640  3.0640     0.0     3.0640"
      ]
     },
     "execution_count": 50,
     "metadata": {},
     "output_type": "execute_result"
    }
   ],
   "source": [
    "df.tail(3)"
   ]
  },
  {
   "cell_type": "code",
   "execution_count": 64,
   "id": "3fdbc413",
   "metadata": {},
   "outputs": [
    {
     "data": {
      "text/html": [
       "<div>\n",
       "<style scoped>\n",
       "    .dataframe tbody tr th:only-of-type {\n",
       "        vertical-align: middle;\n",
       "    }\n",
       "\n",
       "    .dataframe tbody tr th {\n",
       "        vertical-align: top;\n",
       "    }\n",
       "\n",
       "    .dataframe thead th {\n",
       "        text-align: right;\n",
       "    }\n",
       "</style>\n",
       "<table border=\"1\" class=\"dataframe\">\n",
       "  <thead>\n",
       "    <tr style=\"text-align: right;\">\n",
       "      <th></th>\n",
       "      <th>회사명</th>\n",
       "      <th>종목코드</th>\n",
       "      <th>업종</th>\n",
       "      <th>주요제품</th>\n",
       "      <th>상장일</th>\n",
       "      <th>결산월</th>\n",
       "      <th>대표자명</th>\n",
       "      <th>홈페이지</th>\n",
       "      <th>지역</th>\n",
       "    </tr>\n",
       "  </thead>\n",
       "  <tbody>\n",
       "    <tr>\n",
       "      <th>962</th>\n",
       "      <td>마스턴프리미어리츠</td>\n",
       "      <td>357430</td>\n",
       "      <td>부동산 임대 및 공급업</td>\n",
       "      <td>프랑스 파리 소재 크리스탈파크, 프랑스 아마존 라스트마일 물류센터, 인천 항동 스마...</td>\n",
       "      <td>2022-05-31</td>\n",
       "      <td>03월</td>\n",
       "      <td>도병운</td>\n",
       "      <td>http://masternpremier.com</td>\n",
       "      <td>서울특별시</td>\n",
       "    </tr>\n",
       "    <tr>\n",
       "      <th>602</th>\n",
       "      <td>하나금융22호스팩</td>\n",
       "      <td>418170</td>\n",
       "      <td>금융 지원 서비스업</td>\n",
       "      <td>기업인수합병</td>\n",
       "      <td>2022-05-26</td>\n",
       "      <td>12월</td>\n",
       "      <td>전재천</td>\n",
       "      <td>NaN</td>\n",
       "      <td>서울특별시</td>\n",
       "    </tr>\n",
       "    <tr>\n",
       "      <th>1667</th>\n",
       "      <td>가온칩스</td>\n",
       "      <td>399720</td>\n",
       "      <td>반도체 제조업</td>\n",
       "      <td>설계 솔루션 및 주문형 반도체</td>\n",
       "      <td>2022-05-20</td>\n",
       "      <td>12월</td>\n",
       "      <td>정규동</td>\n",
       "      <td>http://www.gaonchips.com</td>\n",
       "      <td>경기도</td>\n",
       "    </tr>\n",
       "  </tbody>\n",
       "</table>\n",
       "</div>"
      ],
      "text/plain": [
       "            회사명    종목코드            업종  \\\n",
       "962   마스턴프리미어리츠  357430  부동산 임대 및 공급업   \n",
       "602   하나금융22호스팩  418170    금융 지원 서비스업   \n",
       "1667       가온칩스  399720       반도체 제조업   \n",
       "\n",
       "                                                   주요제품        상장일  결산월 대표자명  \\\n",
       "962   프랑스 파리 소재 크리스탈파크, 프랑스 아마존 라스트마일 물류센터, 인천 항동 스마... 2022-05-31  03월  도병운   \n",
       "602                                              기업인수합병 2022-05-26  12월  전재천   \n",
       "1667                                   설계 솔루션 및 주문형 반도체 2022-05-20  12월  정규동   \n",
       "\n",
       "                           홈페이지     지역  \n",
       "962   http://masternpremier.com  서울특별시  \n",
       "602                         NaN  서울특별시  \n",
       "1667   http://www.gaonchips.com    경기도  "
      ]
     },
     "execution_count": 64,
     "metadata": {},
     "output_type": "execute_result"
    }
   ],
   "source": [
    "# pandas data frame을 '상장일' 기준으로 정렬 (ascending=[True], [False]로 오름차순, 내림차순 정렬)\n",
    "df = df.sort_values(['상장일'], ascending=False) \n",
    "df.head(3)"
   ]
  },
  {
   "cell_type": "code",
   "execution_count": 54,
   "id": "0a797463",
   "metadata": {},
   "outputs": [
    {
     "data": {
      "text/plain": [
       "array(['서울특별시', '경기도', '인천광역시', '부산광역시', '제주특별자치도', '경상남도', '충청북도',\n",
       "       '광주광역시', '대구광역시', '충청남도', '경상북도', '울산광역시', '전라북도', '전라남도', '대전광역시',\n",
       "       '강원도', '세종특별자치시', '케이맨 제도', '미국', '홍콩', '일본', '싱가포르'], dtype=object)"
      ]
     },
     "execution_count": 54,
     "metadata": {},
     "output_type": "execute_result"
    }
   ],
   "source": [
    "df.지역.unique()"
   ]
  },
  {
   "cell_type": "code",
   "execution_count": 65,
   "id": "faa106f4",
   "metadata": {},
   "outputs": [
    {
     "data": {
      "text/html": [
       "<div>\n",
       "<style scoped>\n",
       "    .dataframe tbody tr th:only-of-type {\n",
       "        vertical-align: middle;\n",
       "    }\n",
       "\n",
       "    .dataframe tbody tr th {\n",
       "        vertical-align: top;\n",
       "    }\n",
       "\n",
       "    .dataframe thead th {\n",
       "        text-align: right;\n",
       "    }\n",
       "</style>\n",
       "<table border=\"1\" class=\"dataframe\">\n",
       "  <thead>\n",
       "    <tr style=\"text-align: right;\">\n",
       "      <th></th>\n",
       "      <th>회사명</th>\n",
       "      <th>종목코드</th>\n",
       "      <th>업종</th>\n",
       "      <th>주요제품</th>\n",
       "      <th>상장일</th>\n",
       "      <th>결산월</th>\n",
       "      <th>대표자명</th>\n",
       "      <th>홈페이지</th>\n",
       "      <th>지역</th>\n",
       "    </tr>\n",
       "  </thead>\n",
       "  <tbody>\n",
       "    <tr>\n",
       "      <th>2226</th>\n",
       "      <td>일진하이솔루스</td>\n",
       "      <td>271940</td>\n",
       "      <td>그외 기타 운송장비 제조업</td>\n",
       "      <td>수소승용용기, 매연저감장치 등</td>\n",
       "      <td>2021-09-01</td>\n",
       "      <td>12월</td>\n",
       "      <td>안홍상</td>\n",
       "      <td>http://hysolus.co.kr</td>\n",
       "      <td>전라북도</td>\n",
       "    </tr>\n",
       "    <tr>\n",
       "      <th>2006</th>\n",
       "      <td>비나텍</td>\n",
       "      <td>126340</td>\n",
       "      <td>일차전지 및 축전지 제조업</td>\n",
       "      <td>초고용량 커패시터(슈퍼커패시터)</td>\n",
       "      <td>2020-09-23</td>\n",
       "      <td>12월</td>\n",
       "      <td>성도경</td>\n",
       "      <td>http://www.vina.co.kr</td>\n",
       "      <td>전라북도</td>\n",
       "    </tr>\n",
       "    <tr>\n",
       "      <th>33</th>\n",
       "      <td>두산퓨얼셀</td>\n",
       "      <td>336260</td>\n",
       "      <td>전동기, 발전기 및 전기 변환 · 공급 · 제어 장치 제조업</td>\n",
       "      <td>연료전지</td>\n",
       "      <td>2019-10-18</td>\n",
       "      <td>12월</td>\n",
       "      <td>정형락, 제후석 (각자 대표이사)</td>\n",
       "      <td>http://www.doosanfuelcell.com</td>\n",
       "      <td>전라북도</td>\n",
       "    </tr>\n",
       "  </tbody>\n",
       "</table>\n",
       "</div>"
      ],
      "text/plain": [
       "          회사명    종목코드                                 업종               주요제품  \\\n",
       "2226  일진하이솔루스  271940                     그외 기타 운송장비 제조업   수소승용용기, 매연저감장치 등   \n",
       "2006      비나텍  126340                     일차전지 및 축전지 제조업  초고용량 커패시터(슈퍼커패시터)   \n",
       "33      두산퓨얼셀  336260  전동기, 발전기 및 전기 변환 · 공급 · 제어 장치 제조업               연료전지   \n",
       "\n",
       "            상장일  결산월                대표자명                           홈페이지    지역  \n",
       "2226 2021-09-01  12월                 안홍상           http://hysolus.co.kr  전라북도  \n",
       "2006 2020-09-23  12월                 성도경          http://www.vina.co.kr  전라북도  \n",
       "33   2019-10-18  12월  정형락, 제후석 (각자 대표이사)  http://www.doosanfuelcell.com  전라북도  "
      ]
     },
     "execution_count": 65,
     "metadata": {},
     "output_type": "execute_result"
    }
   ],
   "source": [
    "df[df.지역 == '전라북도'].head(3)"
   ]
  },
  {
   "cell_type": "code",
   "execution_count": 66,
   "id": "a63a2a1b",
   "metadata": {},
   "outputs": [
    {
     "data": {
      "text/plain": [
       "2498"
      ]
     },
     "execution_count": 66,
     "metadata": {},
     "output_type": "execute_result"
    }
   ],
   "source": [
    "df.지역.count()"
   ]
  },
  {
   "cell_type": "code",
   "execution_count": 74,
   "id": "b62f477b",
   "metadata": {},
   "outputs": [],
   "source": [
    "mask = (df.지역 == '광주광역시') | (df.지역 == '전라북도' ) | (df.지역 == '전라남도' )"
   ]
  },
  {
   "cell_type": "code",
   "execution_count": 75,
   "id": "be612fd4",
   "metadata": {},
   "outputs": [
    {
     "data": {
      "text/html": [
       "<div>\n",
       "<style scoped>\n",
       "    .dataframe tbody tr th:only-of-type {\n",
       "        vertical-align: middle;\n",
       "    }\n",
       "\n",
       "    .dataframe tbody tr th {\n",
       "        vertical-align: top;\n",
       "    }\n",
       "\n",
       "    .dataframe thead th {\n",
       "        text-align: right;\n",
       "    }\n",
       "</style>\n",
       "<table border=\"1\" class=\"dataframe\">\n",
       "  <thead>\n",
       "    <tr style=\"text-align: right;\">\n",
       "      <th></th>\n",
       "      <th>회사명</th>\n",
       "      <th>종목코드</th>\n",
       "      <th>업종</th>\n",
       "      <th>주요제품</th>\n",
       "      <th>상장일</th>\n",
       "      <th>결산월</th>\n",
       "      <th>대표자명</th>\n",
       "      <th>홈페이지</th>\n",
       "      <th>지역</th>\n",
       "    </tr>\n",
       "  </thead>\n",
       "  <tbody>\n",
       "    <tr>\n",
       "      <th>2226</th>\n",
       "      <td>일진하이솔루스</td>\n",
       "      <td>271940</td>\n",
       "      <td>그외 기타 운송장비 제조업</td>\n",
       "      <td>수소승용용기, 매연저감장치 등</td>\n",
       "      <td>2021-09-01</td>\n",
       "      <td>12월</td>\n",
       "      <td>안홍상</td>\n",
       "      <td>http://hysolus.co.kr</td>\n",
       "      <td>전라북도</td>\n",
       "    </tr>\n",
       "    <tr>\n",
       "      <th>2006</th>\n",
       "      <td>비나텍</td>\n",
       "      <td>126340</td>\n",
       "      <td>일차전지 및 축전지 제조업</td>\n",
       "      <td>초고용량 커패시터(슈퍼커패시터)</td>\n",
       "      <td>2020-09-23</td>\n",
       "      <td>12월</td>\n",
       "      <td>성도경</td>\n",
       "      <td>http://www.vina.co.kr</td>\n",
       "      <td>전라북도</td>\n",
       "    </tr>\n",
       "    <tr>\n",
       "      <th>787</th>\n",
       "      <td>박셀바이오</td>\n",
       "      <td>323990</td>\n",
       "      <td>자연과학 및 공학 연구개발업</td>\n",
       "      <td>항암면역세포치료제(자연살해세포, 수지상세포, CAR-T 및 인터루킨 기반 항암제)</td>\n",
       "      <td>2020-09-22</td>\n",
       "      <td>12월</td>\n",
       "      <td>이제중 (단독 대표이사)</td>\n",
       "      <td>http://www.vaxcell-bio.com</td>\n",
       "      <td>전라남도</td>\n",
       "    </tr>\n",
       "  </tbody>\n",
       "</table>\n",
       "</div>"
      ],
      "text/plain": [
       "          회사명    종목코드               업종  \\\n",
       "2226  일진하이솔루스  271940   그외 기타 운송장비 제조업   \n",
       "2006      비나텍  126340   일차전지 및 축전지 제조업   \n",
       "787     박셀바이오  323990  자연과학 및 공학 연구개발업   \n",
       "\n",
       "                                               주요제품        상장일  결산월  \\\n",
       "2226                               수소승용용기, 매연저감장치 등 2021-09-01  12월   \n",
       "2006                              초고용량 커패시터(슈퍼커패시터) 2020-09-23  12월   \n",
       "787   항암면역세포치료제(자연살해세포, 수지상세포, CAR-T 및 인터루킨 기반 항암제) 2020-09-22  12월   \n",
       "\n",
       "               대표자명                        홈페이지    지역  \n",
       "2226            안홍상        http://hysolus.co.kr  전라북도  \n",
       "2006            성도경       http://www.vina.co.kr  전라북도  \n",
       "787   이제중 (단독 대표이사)  http://www.vaxcell-bio.com  전라남도  "
      ]
     },
     "execution_count": 75,
     "metadata": {},
     "output_type": "execute_result"
    }
   ],
   "source": [
    "honam_df = df[mask]\n",
    "honam_df.head(3)"
   ]
  },
  {
   "cell_type": "code",
   "execution_count": 76,
   "id": "8de6bdac",
   "metadata": {},
   "outputs": [
    {
     "data": {
      "text/plain": [
       "73"
      ]
     },
     "execution_count": 76,
     "metadata": {},
     "output_type": "execute_result"
    }
   ],
   "source": [
    "len(honam_df)"
   ]
  },
  {
   "cell_type": "code",
   "execution_count": 77,
   "id": "716541f8",
   "metadata": {},
   "outputs": [
    {
     "data": {
      "text/html": [
       "<div>\n",
       "<style scoped>\n",
       "    .dataframe tbody tr th:only-of-type {\n",
       "        vertical-align: middle;\n",
       "    }\n",
       "\n",
       "    .dataframe tbody tr th {\n",
       "        vertical-align: top;\n",
       "    }\n",
       "\n",
       "    .dataframe thead th {\n",
       "        text-align: right;\n",
       "    }\n",
       "</style>\n",
       "<table border=\"1\" class=\"dataframe\">\n",
       "  <thead>\n",
       "    <tr style=\"text-align: right;\">\n",
       "      <th></th>\n",
       "      <th>회사명</th>\n",
       "      <th>종목코드</th>\n",
       "    </tr>\n",
       "  </thead>\n",
       "  <tbody>\n",
       "    <tr>\n",
       "      <th>2226</th>\n",
       "      <td>일진하이솔루스</td>\n",
       "      <td>271940</td>\n",
       "    </tr>\n",
       "    <tr>\n",
       "      <th>2006</th>\n",
       "      <td>비나텍</td>\n",
       "      <td>126340</td>\n",
       "    </tr>\n",
       "    <tr>\n",
       "      <th>787</th>\n",
       "      <td>박셀바이오</td>\n",
       "      <td>323990</td>\n",
       "    </tr>\n",
       "  </tbody>\n",
       "</table>\n",
       "</div>"
      ],
      "text/plain": [
       "          회사명    종목코드\n",
       "2226  일진하이솔루스  271940\n",
       "2006      비나텍  126340\n",
       "787     박셀바이오  323990"
      ]
     },
     "execution_count": 77,
     "metadata": {},
     "output_type": "execute_result"
    }
   ],
   "source": [
    "honam_corp = honam_df[['회사명', '종목코드']]\n",
    "honam_corp.head(3)"
   ]
  },
  {
   "cell_type": "code",
   "execution_count": 78,
   "id": "1911977b",
   "metadata": {},
   "outputs": [
    {
     "data": {
      "text/html": [
       "<div>\n",
       "<style scoped>\n",
       "    .dataframe tbody tr th:only-of-type {\n",
       "        vertical-align: middle;\n",
       "    }\n",
       "\n",
       "    .dataframe tbody tr th {\n",
       "        vertical-align: top;\n",
       "    }\n",
       "\n",
       "    .dataframe thead th {\n",
       "        text-align: right;\n",
       "    }\n",
       "</style>\n",
       "<table border=\"1\" class=\"dataframe\">\n",
       "  <thead>\n",
       "    <tr style=\"text-align: right;\">\n",
       "      <th></th>\n",
       "      <th>Corp.Honam</th>\n",
       "      <th>Code.KS</th>\n",
       "    </tr>\n",
       "  </thead>\n",
       "  <tbody>\n",
       "    <tr>\n",
       "      <th>2226</th>\n",
       "      <td>일진하이솔루스</td>\n",
       "      <td>271940</td>\n",
       "    </tr>\n",
       "    <tr>\n",
       "      <th>2006</th>\n",
       "      <td>비나텍</td>\n",
       "      <td>126340</td>\n",
       "    </tr>\n",
       "    <tr>\n",
       "      <th>787</th>\n",
       "      <td>박셀바이오</td>\n",
       "      <td>323990</td>\n",
       "    </tr>\n",
       "  </tbody>\n",
       "</table>\n",
       "</div>"
      ],
      "text/plain": [
       "     Corp.Honam  Code.KS\n",
       "2226    일진하이솔루스   271940\n",
       "2006        비나텍   126340\n",
       "787       박셀바이오   323990"
      ]
     },
     "execution_count": 78,
     "metadata": {},
     "output_type": "execute_result"
    }
   ],
   "source": [
    "honam_corp = honam_corp.rename(columns={'회사명': 'Corp.Honam', '종목코드': 'Code.KS'})\n",
    "honam_corp.head(3)"
   ]
  },
  {
   "cell_type": "code",
   "execution_count": 82,
   "id": "58e5189e",
   "metadata": {},
   "outputs": [],
   "source": [
    "# import pandas.io.data as web\n",
    "import pandas_datareader as web\n",
    "from datetime import datetime"
   ]
  },
  {
   "cell_type": "code",
   "execution_count": 83,
   "id": "6d0bf539",
   "metadata": {},
   "outputs": [
    {
     "data": {
      "text/html": [
       "<div>\n",
       "<style scoped>\n",
       "    .dataframe tbody tr th:only-of-type {\n",
       "        vertical-align: middle;\n",
       "    }\n",
       "\n",
       "    .dataframe tbody tr th {\n",
       "        vertical-align: top;\n",
       "    }\n",
       "\n",
       "    .dataframe thead th {\n",
       "        text-align: right;\n",
       "    }\n",
       "</style>\n",
       "<table border=\"1\" class=\"dataframe\">\n",
       "  <thead>\n",
       "    <tr style=\"text-align: right;\">\n",
       "      <th></th>\n",
       "      <th>High</th>\n",
       "      <th>Low</th>\n",
       "      <th>Open</th>\n",
       "      <th>Close</th>\n",
       "      <th>Volume</th>\n",
       "      <th>Adj Close</th>\n",
       "    </tr>\n",
       "    <tr>\n",
       "      <th>Date</th>\n",
       "      <th></th>\n",
       "      <th></th>\n",
       "      <th></th>\n",
       "      <th></th>\n",
       "      <th></th>\n",
       "      <th></th>\n",
       "    </tr>\n",
       "  </thead>\n",
       "  <tbody>\n",
       "    <tr>\n",
       "      <th>2017-05-31</th>\n",
       "      <td>4.0000</td>\n",
       "      <td>4.0000</td>\n",
       "      <td>4.0000</td>\n",
       "      <td>4.0000</td>\n",
       "      <td>0.0</td>\n",
       "      <td>9.376454</td>\n",
       "    </tr>\n",
       "    <tr>\n",
       "      <th>2017-06-01</th>\n",
       "      <td>3.9520</td>\n",
       "      <td>3.9520</td>\n",
       "      <td>3.9520</td>\n",
       "      <td>3.9520</td>\n",
       "      <td>0.0</td>\n",
       "      <td>9.263937</td>\n",
       "    </tr>\n",
       "    <tr>\n",
       "      <th>2017-06-02</th>\n",
       "      <td>3.9130</td>\n",
       "      <td>3.9130</td>\n",
       "      <td>3.9130</td>\n",
       "      <td>3.9130</td>\n",
       "      <td>0.0</td>\n",
       "      <td>9.172517</td>\n",
       "    </tr>\n",
       "    <tr>\n",
       "      <th>2017-06-05</th>\n",
       "      <td>3.9130</td>\n",
       "      <td>3.9130</td>\n",
       "      <td>3.9130</td>\n",
       "      <td>3.9130</td>\n",
       "      <td>0.0</td>\n",
       "      <td>9.172517</td>\n",
       "    </tr>\n",
       "    <tr>\n",
       "      <th>2017-06-06</th>\n",
       "      <td>3.9320</td>\n",
       "      <td>3.9250</td>\n",
       "      <td>3.9250</td>\n",
       "      <td>3.9320</td>\n",
       "      <td>0.0</td>\n",
       "      <td>9.217055</td>\n",
       "    </tr>\n",
       "    <tr>\n",
       "      <th>...</th>\n",
       "      <td>...</td>\n",
       "      <td>...</td>\n",
       "      <td>...</td>\n",
       "      <td>...</td>\n",
       "      <td>...</td>\n",
       "      <td>...</td>\n",
       "    </tr>\n",
       "    <tr>\n",
       "      <th>2022-05-24</th>\n",
       "      <td>3.0780</td>\n",
       "      <td>3.0780</td>\n",
       "      <td>3.0780</td>\n",
       "      <td>3.0780</td>\n",
       "      <td>0.0</td>\n",
       "      <td>3.078000</td>\n",
       "    </tr>\n",
       "    <tr>\n",
       "      <th>2022-05-25</th>\n",
       "      <td>3.0230</td>\n",
       "      <td>3.0230</td>\n",
       "      <td>3.0230</td>\n",
       "      <td>3.0230</td>\n",
       "      <td>0.0</td>\n",
       "      <td>3.023000</td>\n",
       "    </tr>\n",
       "    <tr>\n",
       "      <th>2022-05-26</th>\n",
       "      <td>3.0355</td>\n",
       "      <td>3.0355</td>\n",
       "      <td>3.0355</td>\n",
       "      <td>3.0355</td>\n",
       "      <td>0.0</td>\n",
       "      <td>3.035500</td>\n",
       "    </tr>\n",
       "    <tr>\n",
       "      <th>2022-05-27</th>\n",
       "      <td>2.9925</td>\n",
       "      <td>2.9925</td>\n",
       "      <td>2.9925</td>\n",
       "      <td>2.9925</td>\n",
       "      <td>0.0</td>\n",
       "      <td>2.992500</td>\n",
       "    </tr>\n",
       "    <tr>\n",
       "      <th>2022-05-30</th>\n",
       "      <td>3.0640</td>\n",
       "      <td>3.0640</td>\n",
       "      <td>3.0640</td>\n",
       "      <td>3.0640</td>\n",
       "      <td>0.0</td>\n",
       "      <td>3.064000</td>\n",
       "    </tr>\n",
       "  </tbody>\n",
       "</table>\n",
       "<p>1267 rows × 6 columns</p>\n",
       "</div>"
      ],
      "text/plain": [
       "              High     Low    Open   Close  Volume  Adj Close\n",
       "Date                                                         \n",
       "2017-05-31  4.0000  4.0000  4.0000  4.0000     0.0   9.376454\n",
       "2017-06-01  3.9520  3.9520  3.9520  3.9520     0.0   9.263937\n",
       "2017-06-02  3.9130  3.9130  3.9130  3.9130     0.0   9.172517\n",
       "2017-06-05  3.9130  3.9130  3.9130  3.9130     0.0   9.172517\n",
       "2017-06-06  3.9320  3.9250  3.9250  3.9320     0.0   9.217055\n",
       "...            ...     ...     ...     ...     ...        ...\n",
       "2022-05-24  3.0780  3.0780  3.0780  3.0780     0.0   3.078000\n",
       "2022-05-25  3.0230  3.0230  3.0230  3.0230     0.0   3.023000\n",
       "2022-05-26  3.0355  3.0355  3.0355  3.0355     0.0   3.035500\n",
       "2022-05-27  2.9925  2.9925  2.9925  2.9925     0.0   2.992500\n",
       "2022-05-30  3.0640  3.0640  3.0640  3.0640     0.0   3.064000\n",
       "\n",
       "[1267 rows x 6 columns]"
      ]
     },
     "execution_count": 83,
     "metadata": {},
     "output_type": "execute_result"
    }
   ],
   "source": [
    "web.get_data_yahoo('YOJ.SG')"
   ]
  },
  {
   "cell_type": "code",
   "execution_count": 47,
   "id": "28b61d44",
   "metadata": {},
   "outputs": [
    {
     "data": {
      "text/html": [
       "<div>\n",
       "<style scoped>\n",
       "    .dataframe tbody tr th:only-of-type {\n",
       "        vertical-align: middle;\n",
       "    }\n",
       "\n",
       "    .dataframe tbody tr th {\n",
       "        vertical-align: top;\n",
       "    }\n",
       "\n",
       "    .dataframe thead th {\n",
       "        text-align: right;\n",
       "    }\n",
       "</style>\n",
       "<table border=\"1\" class=\"dataframe\">\n",
       "  <thead>\n",
       "    <tr style=\"text-align: right;\">\n",
       "      <th></th>\n",
       "      <th>High</th>\n",
       "      <th>Low</th>\n",
       "      <th>Open</th>\n",
       "      <th>Close</th>\n",
       "      <th>Volume</th>\n",
       "      <th>Adj Close</th>\n",
       "    </tr>\n",
       "    <tr>\n",
       "      <th>Date</th>\n",
       "      <th></th>\n",
       "      <th></th>\n",
       "      <th></th>\n",
       "      <th></th>\n",
       "      <th></th>\n",
       "      <th></th>\n",
       "    </tr>\n",
       "  </thead>\n",
       "  <tbody>\n",
       "    <tr>\n",
       "      <th>2017-05-31</th>\n",
       "      <td>4.000</td>\n",
       "      <td>4.000</td>\n",
       "      <td>4.000</td>\n",
       "      <td>4.000</td>\n",
       "      <td>0.0</td>\n",
       "      <td>9.376454</td>\n",
       "    </tr>\n",
       "    <tr>\n",
       "      <th>2017-06-01</th>\n",
       "      <td>3.952</td>\n",
       "      <td>3.952</td>\n",
       "      <td>3.952</td>\n",
       "      <td>3.952</td>\n",
       "      <td>0.0</td>\n",
       "      <td>9.263937</td>\n",
       "    </tr>\n",
       "    <tr>\n",
       "      <th>2017-06-02</th>\n",
       "      <td>3.913</td>\n",
       "      <td>3.913</td>\n",
       "      <td>3.913</td>\n",
       "      <td>3.913</td>\n",
       "      <td>0.0</td>\n",
       "      <td>9.172517</td>\n",
       "    </tr>\n",
       "    <tr>\n",
       "      <th>2017-06-05</th>\n",
       "      <td>3.913</td>\n",
       "      <td>3.913</td>\n",
       "      <td>3.913</td>\n",
       "      <td>3.913</td>\n",
       "      <td>0.0</td>\n",
       "      <td>9.172517</td>\n",
       "    </tr>\n",
       "    <tr>\n",
       "      <th>2017-06-06</th>\n",
       "      <td>3.932</td>\n",
       "      <td>3.925</td>\n",
       "      <td>3.925</td>\n",
       "      <td>3.932</td>\n",
       "      <td>0.0</td>\n",
       "      <td>9.217055</td>\n",
       "    </tr>\n",
       "  </tbody>\n",
       "</table>\n",
       "</div>"
      ],
      "text/plain": [
       "             High    Low   Open  Close  Volume  Adj Close\n",
       "Date                                                     \n",
       "2017-05-31  4.000  4.000  4.000  4.000     0.0   9.376454\n",
       "2017-06-01  3.952  3.952  3.952  3.952     0.0   9.263937\n",
       "2017-06-02  3.913  3.913  3.913  3.913     0.0   9.172517\n",
       "2017-06-05  3.913  3.913  3.913  3.913     0.0   9.172517\n",
       "2017-06-06  3.932  3.925  3.925  3.932     0.0   9.217055"
      ]
     },
     "execution_count": 47,
     "metadata": {},
     "output_type": "execute_result"
    }
   ],
   "source": [
    "# 방법1 \n",
    "# df = web.DataReader('주식 종목코드')\n",
    "# df = web.DataReader('AAPL')\n",
    "df = web.get_data_yahoo('YOJ.SG')\n",
    "df.head()"
   ]
  },
  {
   "cell_type": "code",
   "execution_count": 81,
   "id": "8f30a7b4",
   "metadata": {},
   "outputs": [],
   "source": [
    "honam_corp.to_excel('./data/Honam_Stock.xlsx')"
   ]
  },
  {
   "cell_type": "code",
   "execution_count": 84,
   "id": "7c10113f",
   "metadata": {},
   "outputs": [
    {
     "data": {
      "text/html": [
       "<div>\n",
       "<style scoped>\n",
       "    .dataframe tbody tr th:only-of-type {\n",
       "        vertical-align: middle;\n",
       "    }\n",
       "\n",
       "    .dataframe tbody tr th {\n",
       "        vertical-align: top;\n",
       "    }\n",
       "\n",
       "    .dataframe thead th {\n",
       "        text-align: right;\n",
       "    }\n",
       "</style>\n",
       "<table border=\"1\" class=\"dataframe\">\n",
       "  <thead>\n",
       "    <tr style=\"text-align: right;\">\n",
       "      <th></th>\n",
       "      <th>High</th>\n",
       "      <th>Low</th>\n",
       "      <th>Open</th>\n",
       "      <th>Close</th>\n",
       "      <th>Volume</th>\n",
       "      <th>Adj Close</th>\n",
       "    </tr>\n",
       "    <tr>\n",
       "      <th>Date</th>\n",
       "      <th></th>\n",
       "      <th></th>\n",
       "      <th></th>\n",
       "      <th></th>\n",
       "      <th></th>\n",
       "      <th></th>\n",
       "    </tr>\n",
       "  </thead>\n",
       "  <tbody>\n",
       "    <tr>\n",
       "      <th>2020-01-02</th>\n",
       "      <td>31127.228516</td>\n",
       "      <td>30623.552734</td>\n",
       "      <td>31026.494141</td>\n",
       "      <td>30724.287109</td>\n",
       "      <td>1196436.0</td>\n",
       "      <td>30697.591797</td>\n",
       "    </tr>\n",
       "    <tr>\n",
       "      <th>2020-01-03</th>\n",
       "      <td>31227.964844</td>\n",
       "      <td>30422.082031</td>\n",
       "      <td>30925.757812</td>\n",
       "      <td>30724.287109</td>\n",
       "      <td>1562748.0</td>\n",
       "      <td>30697.591797</td>\n",
       "    </tr>\n",
       "    <tr>\n",
       "      <th>2020-01-06</th>\n",
       "      <td>31227.964844</td>\n",
       "      <td>30220.611328</td>\n",
       "      <td>30321.345703</td>\n",
       "      <td>31127.228516</td>\n",
       "      <td>1954204.0</td>\n",
       "      <td>31100.181641</td>\n",
       "    </tr>\n",
       "    <tr>\n",
       "      <th>2020-01-07</th>\n",
       "      <td>32235.318359</td>\n",
       "      <td>31127.228516</td>\n",
       "      <td>31227.964844</td>\n",
       "      <td>32235.318359</td>\n",
       "      <td>4170263.0</td>\n",
       "      <td>32207.308594</td>\n",
       "    </tr>\n",
       "    <tr>\n",
       "      <th>2020-01-08</th>\n",
       "      <td>32638.259766</td>\n",
       "      <td>31530.169922</td>\n",
       "      <td>31933.111328</td>\n",
       "      <td>32134.582031</td>\n",
       "      <td>4227010.0</td>\n",
       "      <td>32106.660156</td>\n",
       "    </tr>\n",
       "  </tbody>\n",
       "</table>\n",
       "</div>"
      ],
      "text/plain": [
       "                    High           Low          Open         Close     Volume  \\\n",
       "Date                                                                            \n",
       "2020-01-02  31127.228516  30623.552734  31026.494141  30724.287109  1196436.0   \n",
       "2020-01-03  31227.964844  30422.082031  30925.757812  30724.287109  1562748.0   \n",
       "2020-01-06  31227.964844  30220.611328  30321.345703  31127.228516  1954204.0   \n",
       "2020-01-07  32235.318359  31127.228516  31227.964844  32235.318359  4170263.0   \n",
       "2020-01-08  32638.259766  31530.169922  31933.111328  32134.582031  4227010.0   \n",
       "\n",
       "               Adj Close  \n",
       "Date                      \n",
       "2020-01-02  30697.591797  \n",
       "2020-01-03  30697.591797  \n",
       "2020-01-06  31100.181641  \n",
       "2020-01-07  32207.308594  \n",
       "2020-01-08  32106.660156  "
      ]
     },
     "execution_count": 84,
     "metadata": {},
     "output_type": "execute_result"
    }
   ],
   "source": [
    "# 방법2 : 기간정보(yyyy-mm-dd)\n",
    "df = web.get_data_yahoo('035720.KS', start='2020-01-01')    # 카카오. 035720\n",
    "df.head()"
   ]
  },
  {
   "cell_type": "code",
   "execution_count": 85,
   "id": "d278aea1",
   "metadata": {},
   "outputs": [],
   "source": [
    "# 방법3 : 기간정보(datetime)\n",
    "start = datetime(2022,1,1)\n",
    "end   = datetime(2022,5,31)"
   ]
  },
  {
   "cell_type": "code",
   "execution_count": 87,
   "id": "f276bcd3",
   "metadata": {},
   "outputs": [
    {
     "data": {
      "text/html": [
       "<div>\n",
       "<style scoped>\n",
       "    .dataframe tbody tr th:only-of-type {\n",
       "        vertical-align: middle;\n",
       "    }\n",
       "\n",
       "    .dataframe tbody tr th {\n",
       "        vertical-align: top;\n",
       "    }\n",
       "\n",
       "    .dataframe thead th {\n",
       "        text-align: right;\n",
       "    }\n",
       "</style>\n",
       "<table border=\"1\" class=\"dataframe\">\n",
       "  <thead>\n",
       "    <tr style=\"text-align: right;\">\n",
       "      <th></th>\n",
       "      <th>High</th>\n",
       "      <th>Low</th>\n",
       "      <th>Open</th>\n",
       "      <th>Close</th>\n",
       "      <th>Volume</th>\n",
       "      <th>Adj Close</th>\n",
       "    </tr>\n",
       "    <tr>\n",
       "      <th>Date</th>\n",
       "      <th></th>\n",
       "      <th></th>\n",
       "      <th></th>\n",
       "      <th></th>\n",
       "      <th></th>\n",
       "      <th></th>\n",
       "    </tr>\n",
       "  </thead>\n",
       "  <tbody>\n",
       "    <tr>\n",
       "      <th>2022-01-04</th>\n",
       "      <td>115342.000000</td>\n",
       "      <td>111816.257812</td>\n",
       "      <td>114838.320312</td>\n",
       "      <td>112319.937500</td>\n",
       "      <td>2378714.0</td>\n",
       "      <td>112319.937500</td>\n",
       "    </tr>\n",
       "    <tr>\n",
       "      <th>2022-01-05</th>\n",
       "      <td>111816.257812</td>\n",
       "      <td>105772.132812</td>\n",
       "      <td>111816.257812</td>\n",
       "      <td>106275.812500</td>\n",
       "      <td>5071136.0</td>\n",
       "      <td>106275.812500</td>\n",
       "    </tr>\n",
       "    <tr>\n",
       "      <th>2022-01-06</th>\n",
       "      <td>103757.429688</td>\n",
       "      <td>100634.632812</td>\n",
       "      <td>103253.750000</td>\n",
       "      <td>100735.367188</td>\n",
       "      <td>7068448.0</td>\n",
       "      <td>100735.367188</td>\n",
       "    </tr>\n",
       "    <tr>\n",
       "      <th>2022-01-07</th>\n",
       "      <td>102246.398438</td>\n",
       "      <td>100533.898438</td>\n",
       "      <td>100735.367188</td>\n",
       "      <td>100735.367188</td>\n",
       "      <td>3933744.0</td>\n",
       "      <td>100735.367188</td>\n",
       "    </tr>\n",
       "    <tr>\n",
       "      <th>2022-01-10</th>\n",
       "      <td>101239.046875</td>\n",
       "      <td>95900.070312</td>\n",
       "      <td>100735.367188</td>\n",
       "      <td>97310.367188</td>\n",
       "      <td>5338491.0</td>\n",
       "      <td>97310.367188</td>\n",
       "    </tr>\n",
       "    <tr>\n",
       "      <th>...</th>\n",
       "      <td>...</td>\n",
       "      <td>...</td>\n",
       "      <td>...</td>\n",
       "      <td>...</td>\n",
       "      <td>...</td>\n",
       "      <td>...</td>\n",
       "    </tr>\n",
       "    <tr>\n",
       "      <th>2022-05-25</th>\n",
       "      <td>82000.000000</td>\n",
       "      <td>80300.000000</td>\n",
       "      <td>81000.000000</td>\n",
       "      <td>81800.000000</td>\n",
       "      <td>1365261.0</td>\n",
       "      <td>81800.000000</td>\n",
       "    </tr>\n",
       "    <tr>\n",
       "      <th>2022-05-26</th>\n",
       "      <td>83300.000000</td>\n",
       "      <td>81000.000000</td>\n",
       "      <td>81900.000000</td>\n",
       "      <td>81500.000000</td>\n",
       "      <td>1338305.0</td>\n",
       "      <td>81500.000000</td>\n",
       "    </tr>\n",
       "    <tr>\n",
       "      <th>2022-05-27</th>\n",
       "      <td>83000.000000</td>\n",
       "      <td>81500.000000</td>\n",
       "      <td>82400.000000</td>\n",
       "      <td>81700.000000</td>\n",
       "      <td>1038755.0</td>\n",
       "      <td>81700.000000</td>\n",
       "    </tr>\n",
       "    <tr>\n",
       "      <th>2022-05-30</th>\n",
       "      <td>84000.000000</td>\n",
       "      <td>82600.000000</td>\n",
       "      <td>82800.000000</td>\n",
       "      <td>83900.000000</td>\n",
       "      <td>2091429.0</td>\n",
       "      <td>83900.000000</td>\n",
       "    </tr>\n",
       "    <tr>\n",
       "      <th>2022-05-31</th>\n",
       "      <td>84100.000000</td>\n",
       "      <td>82900.000000</td>\n",
       "      <td>84100.000000</td>\n",
       "      <td>84000.000000</td>\n",
       "      <td>689640.0</td>\n",
       "      <td>84000.000000</td>\n",
       "    </tr>\n",
       "  </tbody>\n",
       "</table>\n",
       "<p>99 rows × 6 columns</p>\n",
       "</div>"
      ],
      "text/plain": [
       "                     High            Low           Open          Close  \\\n",
       "Date                                                                     \n",
       "2022-01-04  115342.000000  111816.257812  114838.320312  112319.937500   \n",
       "2022-01-05  111816.257812  105772.132812  111816.257812  106275.812500   \n",
       "2022-01-06  103757.429688  100634.632812  103253.750000  100735.367188   \n",
       "2022-01-07  102246.398438  100533.898438  100735.367188  100735.367188   \n",
       "2022-01-10  101239.046875   95900.070312  100735.367188   97310.367188   \n",
       "...                   ...            ...            ...            ...   \n",
       "2022-05-25   82000.000000   80300.000000   81000.000000   81800.000000   \n",
       "2022-05-26   83300.000000   81000.000000   81900.000000   81500.000000   \n",
       "2022-05-27   83000.000000   81500.000000   82400.000000   81700.000000   \n",
       "2022-05-30   84000.000000   82600.000000   82800.000000   83900.000000   \n",
       "2022-05-31   84100.000000   82900.000000   84100.000000   84000.000000   \n",
       "\n",
       "               Volume      Adj Close  \n",
       "Date                                  \n",
       "2022-01-04  2378714.0  112319.937500  \n",
       "2022-01-05  5071136.0  106275.812500  \n",
       "2022-01-06  7068448.0  100735.367188  \n",
       "2022-01-07  3933744.0  100735.367188  \n",
       "2022-01-10  5338491.0   97310.367188  \n",
       "...               ...            ...  \n",
       "2022-05-25  1365261.0   81800.000000  \n",
       "2022-05-26  1338305.0   81500.000000  \n",
       "2022-05-27  1038755.0   81700.000000  \n",
       "2022-05-30  2091429.0   83900.000000  \n",
       "2022-05-31   689640.0   84000.000000  \n",
       "\n",
       "[99 rows x 6 columns]"
      ]
     },
     "execution_count": 87,
     "metadata": {},
     "output_type": "execute_result"
    }
   ],
   "source": [
    "df = web.get_data_yahoo('035720.KS', start, end)   # 삼성전자. 005930\n",
    "df"
   ]
  },
  {
   "cell_type": "code",
   "execution_count": 103,
   "id": "6f419047",
   "metadata": {},
   "outputs": [
    {
     "data": {
      "text/html": [
       "<div>\n",
       "<style scoped>\n",
       "    .dataframe tbody tr th:only-of-type {\n",
       "        vertical-align: middle;\n",
       "    }\n",
       "\n",
       "    .dataframe tbody tr th {\n",
       "        vertical-align: top;\n",
       "    }\n",
       "\n",
       "    .dataframe thead th {\n",
       "        text-align: right;\n",
       "    }\n",
       "</style>\n",
       "<table border=\"1\" class=\"dataframe\">\n",
       "  <thead>\n",
       "    <tr style=\"text-align: right;\">\n",
       "      <th></th>\n",
       "      <th>High</th>\n",
       "      <th>Low</th>\n",
       "      <th>Open</th>\n",
       "      <th>Close</th>\n",
       "      <th>Volume</th>\n",
       "      <th>Adj Close</th>\n",
       "    </tr>\n",
       "    <tr>\n",
       "      <th>Date</th>\n",
       "      <th></th>\n",
       "      <th></th>\n",
       "      <th></th>\n",
       "      <th></th>\n",
       "      <th></th>\n",
       "      <th></th>\n",
       "    </tr>\n",
       "  </thead>\n",
       "  <tbody>\n",
       "    <tr>\n",
       "      <th>2022-01-04</th>\n",
       "      <td>115342</td>\n",
       "      <td>111816</td>\n",
       "      <td>114838</td>\n",
       "      <td>112319</td>\n",
       "      <td>2378714</td>\n",
       "      <td>112319</td>\n",
       "    </tr>\n",
       "    <tr>\n",
       "      <th>2022-01-05</th>\n",
       "      <td>111816</td>\n",
       "      <td>105772</td>\n",
       "      <td>111816</td>\n",
       "      <td>106275</td>\n",
       "      <td>5071136</td>\n",
       "      <td>106275</td>\n",
       "    </tr>\n",
       "    <tr>\n",
       "      <th>2022-01-06</th>\n",
       "      <td>103757</td>\n",
       "      <td>100634</td>\n",
       "      <td>103253</td>\n",
       "      <td>100735</td>\n",
       "      <td>7068448</td>\n",
       "      <td>100735</td>\n",
       "    </tr>\n",
       "  </tbody>\n",
       "</table>\n",
       "</div>"
      ],
      "text/plain": [
       "              High     Low    Open   Close   Volume  Adj Close\n",
       "Date                                                          \n",
       "2022-01-04  115342  111816  114838  112319  2378714     112319\n",
       "2022-01-05  111816  105772  111816  106275  5071136     106275\n",
       "2022-01-06  103757  100634  103253  100735  7068448     100735"
      ]
     },
     "execution_count": 103,
     "metadata": {},
     "output_type": "execute_result"
    }
   ],
   "source": [
    "df = web.get_data_yahoo('035720.KS', start, end)   # 삼성전자. 005930\n",
    "df.describe()\n",
    "df.idxmax()\n",
    "df2 = web.get_data_yahoo('035720.KS', datetime(2022,1,4),datetime(2022,1,6))   # 삼성전자. 005930\n",
    "df3 = df2.astype('int64')\n",
    "df3"
   ]
  },
  {
   "cell_type": "code",
   "execution_count": null,
   "id": "537c0bf5",
   "metadata": {},
   "outputs": [],
   "source": []
  }
 ],
 "metadata": {
  "kernelspec": {
   "display_name": "Python 3 (ipykernel)",
   "language": "python",
   "name": "python3"
  },
  "language_info": {
   "codemirror_mode": {
    "name": "ipython",
    "version": 3
   },
   "file_extension": ".py",
   "mimetype": "text/x-python",
   "name": "python",
   "nbconvert_exporter": "python",
   "pygments_lexer": "ipython3",
   "version": "3.9.12"
  }
 },
 "nbformat": 4,
 "nbformat_minor": 5
}
