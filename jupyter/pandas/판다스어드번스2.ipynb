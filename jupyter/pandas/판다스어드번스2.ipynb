{
 "cells": [
  {
   "cell_type": "code",
   "execution_count": 2,
   "id": "5fbc9e2d",
   "metadata": {},
   "outputs": [],
   "source": [
    "# from images import bigpycraft_bda as bpc\n",
    "from IPython.display import Image \n",
    "\n",
    "import numpy as np\n",
    "import pandas as pd"
   ]
  },
  {
   "cell_type": "code",
   "execution_count": null,
   "id": "87bfe8b6",
   "metadata": {},
   "outputs": [],
   "source": [
    "\n",
    "df = pd.DataFrame(np.random.randn(10, 4))\n",
    "df"
   ]
  },
  {
   "cell_type": "code",
   "execution_count": null,
   "id": "a4471f68",
   "metadata": {},
   "outputs": [],
   "source": [
    "# break it into pieces\n",
    "pieces = [df[:3], df[3:7], df[7:]]\n",
    "pieces"
   ]
  },
  {
   "cell_type": "code",
   "execution_count": null,
   "id": "8b44dc94",
   "metadata": {},
   "outputs": [],
   "source": [
    "pd.concat(pieces,1)"
   ]
  },
  {
   "cell_type": "code",
   "execution_count": null,
   "id": "8a532114",
   "metadata": {},
   "outputs": [],
   "source": [
    "?pd.concat"
   ]
  },
  {
   "cell_type": "code",
   "execution_count": null,
   "id": "58755e5e",
   "metadata": {},
   "outputs": [],
   "source": [
    "df2 = pd.DataFrame(np.random.randn(5, 4))\n",
    "df2"
   ]
  },
  {
   "cell_type": "code",
   "execution_count": null,
   "id": "32fe1100",
   "metadata": {},
   "outputs": [],
   "source": [
    "df3 = pd.concat([df, df2],1).fillna(0)\n",
    "df3"
   ]
  },
  {
   "cell_type": "code",
   "execution_count": null,
   "id": "e352bdbf",
   "metadata": {},
   "outputs": [],
   "source": [
    "pd.concat([df, df2], ignore_index=True)"
   ]
  },
  {
   "cell_type": "code",
   "execution_count": null,
   "id": "c0efec97",
   "metadata": {},
   "outputs": [],
   "source": [
    "left = pd.DataFrame({'key': ['foo', 'foo'], 'lval': [1, 2]})\n",
    "left"
   ]
  },
  {
   "cell_type": "code",
   "execution_count": null,
   "id": "a68caed7",
   "metadata": {},
   "outputs": [],
   "source": [
    "right = pd.DataFrame({'key': ['foo', 'foo'], 'rval': [4, 5]})\n",
    "right"
   ]
  },
  {
   "cell_type": "code",
   "execution_count": null,
   "id": "c182f001",
   "metadata": {},
   "outputs": [],
   "source": [
    "pd.merge(left, right, on= 'key')"
   ]
  },
  {
   "cell_type": "code",
   "execution_count": null,
   "id": "f2a31932",
   "metadata": {},
   "outputs": [],
   "source": [
    "left = pd.DataFrame({'key' : ['foo', 'bar'], 'lval' : [1, 2]})\n",
    "left"
   ]
  },
  {
   "cell_type": "code",
   "execution_count": null,
   "id": "2e554608",
   "metadata": {},
   "outputs": [],
   "source": [
    "right = pd.DataFrame({'key': ['foo', 'bar'], 'rval': [4, 5]})\n",
    "right"
   ]
  },
  {
   "cell_type": "code",
   "execution_count": null,
   "id": "fab4580e",
   "metadata": {},
   "outputs": [],
   "source": [
    "pd.merge(left, right, on= 'key')"
   ]
  },
  {
   "cell_type": "code",
   "execution_count": null,
   "id": "f8b799c8",
   "metadata": {},
   "outputs": [],
   "source": [
    "pd.merge(right, left, on= 'key')"
   ]
  },
  {
   "cell_type": "code",
   "execution_count": null,
   "id": "97849140",
   "metadata": {},
   "outputs": [],
   "source": [
    "?pd.merge"
   ]
  },
  {
   "cell_type": "code",
   "execution_count": null,
   "id": "d704535c",
   "metadata": {},
   "outputs": [],
   "source": [
    "df = pd.DataFrame(np.random.randn(8, 4), columns=['A', 'B', 'C', 'D'])\n",
    "df"
   ]
  },
  {
   "cell_type": "code",
   "execution_count": null,
   "id": "d4188dbb",
   "metadata": {},
   "outputs": [],
   "source": [
    "s = df.iloc[3]\n",
    "s1 = DataFrame(s)\n",
    "\n",
    "s2 = s1.T\n",
    "s2"
   ]
  },
  {
   "cell_type": "code",
   "execution_count": null,
   "id": "17edc990",
   "metadata": {},
   "outputs": [],
   "source": [
    "df.append(s)"
   ]
  },
  {
   "cell_type": "code",
   "execution_count": null,
   "id": "6de8b370",
   "metadata": {},
   "outputs": [],
   "source": [
    "df.append(s, ignore_index=True)"
   ]
  },
  {
   "cell_type": "code",
   "execution_count": null,
   "id": "c7224270",
   "metadata": {},
   "outputs": [],
   "source": [
    "pd.concat([df,s2], ignore_index=True)"
   ]
  },
  {
   "cell_type": "code",
   "execution_count": null,
   "id": "69ef1a72",
   "metadata": {},
   "outputs": [],
   "source": [
    "df = pd.DataFrame(\n",
    "    {\n",
    "        'A' : ['foo', 'bar', 'foo', 'bar', 'foo', 'bar', 'foo', 'foo'],\n",
    "        'B' : ['one', 'one', 'two', 'three', 'two', 'two', 'one', 'three'],\n",
    "        'C' : np.random.randn(8),\n",
    "        'D' : np.random.randn(8)\n",
    "    })\n",
    "df"
   ]
  },
  {
   "cell_type": "code",
   "execution_count": null,
   "id": "27a2429e",
   "metadata": {},
   "outputs": [],
   "source": [
    "# 생성된 데이터프레임을 그룹화한 후 각 그룹에 sum() 함수를 적용\n",
    "df.groupby('A').sum()"
   ]
  },
  {
   "cell_type": "code",
   "execution_count": null,
   "id": "d43237e9",
   "metadata": {},
   "outputs": [],
   "source": [
    "# 여러 열을 기준으로 그룹화하면 계층적 인덱스가 형성됩니다\n",
    "k = round(df.groupby(['A','B']).sum(),2)\n",
    "k"
   ]
  },
  {
   "cell_type": "code",
   "execution_count": null,
   "id": "5ee041c2",
   "metadata": {},
   "outputs": [],
   "source": [
    "tuples = list([['bar1', 'bar1', 'bar2', 'bar2',\n",
    "                     'bar3', 'bar3', 'bar4', 'bar4'],\n",
    "                    ['val1', 'val2', 'val3', 'val4',\n",
    "                     'val5', 'val6', 'val7', 'val8']])\n",
    "tuples"
   ]
  },
  {
   "cell_type": "code",
   "execution_count": null,
   "id": "5d3f21f4",
   "metadata": {},
   "outputs": [],
   "source": [
    "?zip"
   ]
  },
  {
   "cell_type": "code",
   "execution_count": null,
   "id": "24643912",
   "metadata": {},
   "outputs": [],
   "source": [
    "tuples = list(zip(*[['bar1', 'bar1', 'bar2', 'bar2',\n",
    "                     'bar3', 'bar3', 'bar4', 'bar4'],\n",
    "                    ['val1', 'val2', 'val3', 'val4',\n",
    "                     'val5', 'val6', 'val7', 'val8']]))\n",
    "tuples"
   ]
  },
  {
   "cell_type": "code",
   "execution_count": null,
   "id": "c609c248",
   "metadata": {},
   "outputs": [],
   "source": [
    "index = pd.MultiIndex.from_tuples(tuples, names=['first', 'second'])\n",
    "index"
   ]
  },
  {
   "cell_type": "code",
   "execution_count": null,
   "id": "a7389a66",
   "metadata": {},
   "outputs": [],
   "source": [
    "df = pd.DataFrame(np.random.randn(8, 2), index=index, columns=['A', 'B'])\n",
    "df"
   ]
  },
  {
   "cell_type": "code",
   "execution_count": null,
   "id": "b0666757",
   "metadata": {},
   "outputs": [],
   "source": [
    "df2  =  df[:4]\n",
    "df2"
   ]
  },
  {
   "cell_type": "code",
   "execution_count": null,
   "id": "31df22f5",
   "metadata": {},
   "outputs": [],
   "source": [
    "stacked = df2.stack()\n",
    "stacked"
   ]
  },
  {
   "cell_type": "code",
   "execution_count": null,
   "id": "90faade1",
   "metadata": {},
   "outputs": [],
   "source": [
    "stacked.unstack()"
   ]
  },
  {
   "cell_type": "code",
   "execution_count": null,
   "id": "d51d33c3",
   "metadata": {},
   "outputs": [],
   "source": [
    "stacked.unstack(0)"
   ]
  },
  {
   "cell_type": "code",
   "execution_count": null,
   "id": "ef4ecae1",
   "metadata": {},
   "outputs": [],
   "source": [
    "stacked.unstack(1)"
   ]
  },
  {
   "cell_type": "code",
   "execution_count": 4,
   "id": "87b774e9",
   "metadata": {},
   "outputs": [
    {
     "data": {
      "text/html": [
       "<div>\n",
       "<style scoped>\n",
       "    .dataframe tbody tr th:only-of-type {\n",
       "        vertical-align: middle;\n",
       "    }\n",
       "\n",
       "    .dataframe tbody tr th {\n",
       "        vertical-align: top;\n",
       "    }\n",
       "\n",
       "    .dataframe thead th {\n",
       "        text-align: right;\n",
       "    }\n",
       "</style>\n",
       "<table border=\"1\" class=\"dataframe\">\n",
       "  <thead>\n",
       "    <tr style=\"text-align: right;\">\n",
       "      <th></th>\n",
       "      <th>A</th>\n",
       "      <th>B</th>\n",
       "      <th>C</th>\n",
       "      <th>D</th>\n",
       "      <th>E</th>\n",
       "    </tr>\n",
       "  </thead>\n",
       "  <tbody>\n",
       "    <tr>\n",
       "      <th>0</th>\n",
       "      <td>1st</td>\n",
       "      <td>A</td>\n",
       "      <td>광주은행</td>\n",
       "      <td>2.104721</td>\n",
       "      <td>-0.906996</td>\n",
       "    </tr>\n",
       "    <tr>\n",
       "      <th>1</th>\n",
       "      <td>1st</td>\n",
       "      <td>B</td>\n",
       "      <td>광주은행</td>\n",
       "      <td>1.916496</td>\n",
       "      <td>-0.623063</td>\n",
       "    </tr>\n",
       "    <tr>\n",
       "      <th>2</th>\n",
       "      <td>2nd</td>\n",
       "      <td>C</td>\n",
       "      <td>광주은행</td>\n",
       "      <td>0.570562</td>\n",
       "      <td>-0.782788</td>\n",
       "    </tr>\n",
       "    <tr>\n",
       "      <th>3</th>\n",
       "      <td>3rd</td>\n",
       "      <td>A</td>\n",
       "      <td>전북은행</td>\n",
       "      <td>-0.678005</td>\n",
       "      <td>1.876371</td>\n",
       "    </tr>\n",
       "    <tr>\n",
       "      <th>4</th>\n",
       "      <td>1st</td>\n",
       "      <td>B</td>\n",
       "      <td>전북은행</td>\n",
       "      <td>0.563423</td>\n",
       "      <td>-0.054313</td>\n",
       "    </tr>\n",
       "    <tr>\n",
       "      <th>5</th>\n",
       "      <td>1st</td>\n",
       "      <td>C</td>\n",
       "      <td>전북은행</td>\n",
       "      <td>-0.093165</td>\n",
       "      <td>0.710895</td>\n",
       "    </tr>\n",
       "    <tr>\n",
       "      <th>6</th>\n",
       "      <td>2nd</td>\n",
       "      <td>A</td>\n",
       "      <td>광주은행</td>\n",
       "      <td>1.636946</td>\n",
       "      <td>0.452662</td>\n",
       "    </tr>\n",
       "    <tr>\n",
       "      <th>7</th>\n",
       "      <td>3rd</td>\n",
       "      <td>B</td>\n",
       "      <td>광주은행</td>\n",
       "      <td>-0.032846</td>\n",
       "      <td>-0.839196</td>\n",
       "    </tr>\n",
       "    <tr>\n",
       "      <th>8</th>\n",
       "      <td>1st</td>\n",
       "      <td>C</td>\n",
       "      <td>광주은행</td>\n",
       "      <td>0.157569</td>\n",
       "      <td>0.447227</td>\n",
       "    </tr>\n",
       "    <tr>\n",
       "      <th>9</th>\n",
       "      <td>1st</td>\n",
       "      <td>A</td>\n",
       "      <td>전북은행</td>\n",
       "      <td>-0.935232</td>\n",
       "      <td>0.333532</td>\n",
       "    </tr>\n",
       "    <tr>\n",
       "      <th>10</th>\n",
       "      <td>2nd</td>\n",
       "      <td>B</td>\n",
       "      <td>전북은행</td>\n",
       "      <td>-0.651515</td>\n",
       "      <td>-0.355627</td>\n",
       "    </tr>\n",
       "    <tr>\n",
       "      <th>11</th>\n",
       "      <td>3rd</td>\n",
       "      <td>C</td>\n",
       "      <td>전북은행</td>\n",
       "      <td>1.238766</td>\n",
       "      <td>0.311283</td>\n",
       "    </tr>\n",
       "  </tbody>\n",
       "</table>\n",
       "</div>"
      ],
      "text/plain": [
       "      A  B     C         D         E\n",
       "0   1st  A  광주은행  2.104721 -0.906996\n",
       "1   1st  B  광주은행  1.916496 -0.623063\n",
       "2   2nd  C  광주은행  0.570562 -0.782788\n",
       "3   3rd  A  전북은행 -0.678005  1.876371\n",
       "4   1st  B  전북은행  0.563423 -0.054313\n",
       "5   1st  C  전북은행 -0.093165  0.710895\n",
       "6   2nd  A  광주은행  1.636946  0.452662\n",
       "7   3rd  B  광주은행 -0.032846 -0.839196\n",
       "8   1st  C  광주은행  0.157569  0.447227\n",
       "9   1st  A  전북은행 -0.935232  0.333532\n",
       "10  2nd  B  전북은행 -0.651515 -0.355627\n",
       "11  3rd  C  전북은행  1.238766  0.311283"
      ]
     },
     "execution_count": 4,
     "metadata": {},
     "output_type": "execute_result"
    }
   ],
   "source": [
    "df = pd.DataFrame({'A' : ['1st', '1st', '2nd', '3rd'] * 3,\n",
    "                   'B' : ['A', 'B', 'C'] * 4,\n",
    "                   'C' : ['광주은행', '광주은행', '광주은행', '전북은행', '전북은행', '전북은행'] * 2,\n",
    "                   'D' : np.random.randn(12),\n",
    "                   'E' : np.random.randn(12)})\n",
    "df"
   ]
  },
  {
   "cell_type": "code",
   "execution_count": 22,
   "id": "3a64576d",
   "metadata": {},
   "outputs": [
    {
     "data": {
      "text/html": [
       "<div>\n",
       "<style scoped>\n",
       "    .dataframe tbody tr th:only-of-type {\n",
       "        vertical-align: middle;\n",
       "    }\n",
       "\n",
       "    .dataframe tbody tr th {\n",
       "        vertical-align: top;\n",
       "    }\n",
       "\n",
       "    .dataframe thead th {\n",
       "        text-align: right;\n",
       "    }\n",
       "</style>\n",
       "<table border=\"1\" class=\"dataframe\">\n",
       "  <thead>\n",
       "    <tr style=\"text-align: right;\">\n",
       "      <th></th>\n",
       "      <th>A</th>\n",
       "      <th>B</th>\n",
       "      <th>C</th>\n",
       "      <th>F</th>\n",
       "    </tr>\n",
       "  </thead>\n",
       "  <tbody>\n",
       "    <tr>\n",
       "      <th>0</th>\n",
       "      <td>1st</td>\n",
       "      <td>A</td>\n",
       "      <td>광주은행</td>\n",
       "      <td>0.170932</td>\n",
       "    </tr>\n",
       "    <tr>\n",
       "      <th>1</th>\n",
       "      <td>1st</td>\n",
       "      <td>B</td>\n",
       "      <td>전북은행</td>\n",
       "      <td>-1.836609</td>\n",
       "    </tr>\n",
       "    <tr>\n",
       "      <th>2</th>\n",
       "      <td>2nd</td>\n",
       "      <td>A</td>\n",
       "      <td>광주은행</td>\n",
       "      <td>-0.994052</td>\n",
       "    </tr>\n",
       "    <tr>\n",
       "      <th>3</th>\n",
       "      <td>3rd</td>\n",
       "      <td>B</td>\n",
       "      <td>전북은행</td>\n",
       "      <td>-1.988173</td>\n",
       "    </tr>\n",
       "  </tbody>\n",
       "</table>\n",
       "</div>"
      ],
      "text/plain": [
       "     A  B     C         F\n",
       "0  1st  A  광주은행  0.170932\n",
       "1  1st  B  전북은행 -1.836609\n",
       "2  2nd  A  광주은행 -0.994052\n",
       "3  3rd  B  전북은행 -1.988173"
      ]
     },
     "execution_count": 22,
     "metadata": {},
     "output_type": "execute_result"
    }
   ],
   "source": [
    "df2 = pd.DataFrame({ 'A' : ['1st', '1st', '2nd', '3rd'] * 1\n",
    "                    ,'B' : ['A', 'B'] * 2\n",
    "                    ,'C' : ['광주은행', '전북은행']* 2\n",
    "                    ,'F' : np.random.randn(4)})\n",
    "df2"
   ]
  },
  {
   "cell_type": "code",
   "execution_count": 9,
   "id": "5d979b7e",
   "metadata": {},
   "outputs": [],
   "source": [
    "?pd.merge"
   ]
  },
  {
   "cell_type": "code",
   "execution_count": 26,
   "id": "ee68c90e",
   "metadata": {},
   "outputs": [
    {
     "data": {
      "text/html": [
       "<div>\n",
       "<style scoped>\n",
       "    .dataframe tbody tr th:only-of-type {\n",
       "        vertical-align: middle;\n",
       "    }\n",
       "\n",
       "    .dataframe tbody tr th {\n",
       "        vertical-align: top;\n",
       "    }\n",
       "\n",
       "    .dataframe thead th {\n",
       "        text-align: right;\n",
       "    }\n",
       "</style>\n",
       "<table border=\"1\" class=\"dataframe\">\n",
       "  <thead>\n",
       "    <tr style=\"text-align: right;\">\n",
       "      <th></th>\n",
       "      <th>A</th>\n",
       "      <th>B</th>\n",
       "      <th>C</th>\n",
       "      <th>D</th>\n",
       "      <th>E</th>\n",
       "      <th>F</th>\n",
       "    </tr>\n",
       "  </thead>\n",
       "  <tbody>\n",
       "    <tr>\n",
       "      <th>0</th>\n",
       "      <td>1st</td>\n",
       "      <td>A</td>\n",
       "      <td>광주은행</td>\n",
       "      <td>2.104721</td>\n",
       "      <td>-0.906996</td>\n",
       "      <td>0.170932</td>\n",
       "    </tr>\n",
       "    <tr>\n",
       "      <th>1</th>\n",
       "      <td>1st</td>\n",
       "      <td>A</td>\n",
       "      <td>전북은행</td>\n",
       "      <td>-0.935232</td>\n",
       "      <td>0.333532</td>\n",
       "      <td>NaN</td>\n",
       "    </tr>\n",
       "    <tr>\n",
       "      <th>2</th>\n",
       "      <td>1st</td>\n",
       "      <td>B</td>\n",
       "      <td>광주은행</td>\n",
       "      <td>1.916496</td>\n",
       "      <td>-0.623063</td>\n",
       "      <td>NaN</td>\n",
       "    </tr>\n",
       "    <tr>\n",
       "      <th>3</th>\n",
       "      <td>1st</td>\n",
       "      <td>B</td>\n",
       "      <td>전북은행</td>\n",
       "      <td>0.563423</td>\n",
       "      <td>-0.054313</td>\n",
       "      <td>-1.836609</td>\n",
       "    </tr>\n",
       "    <tr>\n",
       "      <th>4</th>\n",
       "      <td>1st</td>\n",
       "      <td>C</td>\n",
       "      <td>광주은행</td>\n",
       "      <td>0.157569</td>\n",
       "      <td>0.447227</td>\n",
       "      <td>NaN</td>\n",
       "    </tr>\n",
       "    <tr>\n",
       "      <th>5</th>\n",
       "      <td>1st</td>\n",
       "      <td>C</td>\n",
       "      <td>전북은행</td>\n",
       "      <td>-0.093165</td>\n",
       "      <td>0.710895</td>\n",
       "      <td>NaN</td>\n",
       "    </tr>\n",
       "    <tr>\n",
       "      <th>6</th>\n",
       "      <td>2nd</td>\n",
       "      <td>A</td>\n",
       "      <td>광주은행</td>\n",
       "      <td>1.636946</td>\n",
       "      <td>0.452662</td>\n",
       "      <td>-0.994052</td>\n",
       "    </tr>\n",
       "    <tr>\n",
       "      <th>7</th>\n",
       "      <td>2nd</td>\n",
       "      <td>B</td>\n",
       "      <td>전북은행</td>\n",
       "      <td>-0.651515</td>\n",
       "      <td>-0.355627</td>\n",
       "      <td>NaN</td>\n",
       "    </tr>\n",
       "    <tr>\n",
       "      <th>8</th>\n",
       "      <td>2nd</td>\n",
       "      <td>C</td>\n",
       "      <td>광주은행</td>\n",
       "      <td>0.570562</td>\n",
       "      <td>-0.782788</td>\n",
       "      <td>NaN</td>\n",
       "    </tr>\n",
       "    <tr>\n",
       "      <th>9</th>\n",
       "      <td>3rd</td>\n",
       "      <td>A</td>\n",
       "      <td>전북은행</td>\n",
       "      <td>-0.678005</td>\n",
       "      <td>1.876371</td>\n",
       "      <td>NaN</td>\n",
       "    </tr>\n",
       "    <tr>\n",
       "      <th>10</th>\n",
       "      <td>3rd</td>\n",
       "      <td>B</td>\n",
       "      <td>광주은행</td>\n",
       "      <td>-0.032846</td>\n",
       "      <td>-0.839196</td>\n",
       "      <td>NaN</td>\n",
       "    </tr>\n",
       "    <tr>\n",
       "      <th>11</th>\n",
       "      <td>3rd</td>\n",
       "      <td>B</td>\n",
       "      <td>전북은행</td>\n",
       "      <td>NaN</td>\n",
       "      <td>NaN</td>\n",
       "      <td>-1.988173</td>\n",
       "    </tr>\n",
       "    <tr>\n",
       "      <th>12</th>\n",
       "      <td>3rd</td>\n",
       "      <td>C</td>\n",
       "      <td>전북은행</td>\n",
       "      <td>1.238766</td>\n",
       "      <td>0.311283</td>\n",
       "      <td>NaN</td>\n",
       "    </tr>\n",
       "  </tbody>\n",
       "</table>\n",
       "</div>"
      ],
      "text/plain": [
       "      A  B     C         D         E         F\n",
       "0   1st  A  광주은행  2.104721 -0.906996  0.170932\n",
       "1   1st  A  전북은행 -0.935232  0.333532       NaN\n",
       "2   1st  B  광주은행  1.916496 -0.623063       NaN\n",
       "3   1st  B  전북은행  0.563423 -0.054313 -1.836609\n",
       "4   1st  C  광주은행  0.157569  0.447227       NaN\n",
       "5   1st  C  전북은행 -0.093165  0.710895       NaN\n",
       "6   2nd  A  광주은행  1.636946  0.452662 -0.994052\n",
       "7   2nd  B  전북은행 -0.651515 -0.355627       NaN\n",
       "8   2nd  C  광주은행  0.570562 -0.782788       NaN\n",
       "9   3rd  A  전북은행 -0.678005  1.876371       NaN\n",
       "10  3rd  B  광주은행 -0.032846 -0.839196       NaN\n",
       "11  3rd  B  전북은행       NaN       NaN -1.988173\n",
       "12  3rd  C  전북은행  1.238766  0.311283       NaN"
      ]
     },
     "execution_count": 26,
     "metadata": {},
     "output_type": "execute_result"
    }
   ],
   "source": [
    "pd.merge(df,df2,on = ['A','B','C'], how = 'outer', sort=True)"
   ]
  },
  {
   "cell_type": "code",
   "execution_count": null,
   "id": "4eb19704",
   "metadata": {},
   "outputs": [],
   "source": [
    "df.sort_index()"
   ]
  },
  {
   "cell_type": "code",
   "execution_count": null,
   "id": "fdf761f0",
   "metadata": {},
   "outputs": [],
   "source": [
    "a = round(pd.pivot_table(df, values='D', index=['A', 'B'], columns=['C']),2)\n",
    "a"
   ]
  },
  {
   "cell_type": "code",
   "execution_count": null,
   "id": "bd15d9fb",
   "metadata": {},
   "outputs": [],
   "source": [
    "rng = pd.date_range('5/31/2022', periods=100, freq='S')\n",
    "rng"
   ]
  },
  {
   "cell_type": "code",
   "execution_count": null,
   "id": "66c227d2",
   "metadata": {},
   "outputs": [],
   "source": [
    "ts = pd.Series(np.random.randint(0, 500, len(rng)), index=rng)\n",
    "ts"
   ]
  },
  {
   "cell_type": "code",
   "execution_count": null,
   "id": "d2083137",
   "metadata": {},
   "outputs": [],
   "source": [
    "# 시간대를 표현\n",
    "rng = pd.date_range('6/1/2022 00:00', periods=5, freq='D')\n",
    "rng"
   ]
  },
  {
   "cell_type": "code",
   "execution_count": null,
   "id": "cedcb0df",
   "metadata": {},
   "outputs": [],
   "source": [
    "ts = pd.Series(np.random.randn(len(rng)), rng)\n",
    "ts"
   ]
  },
  {
   "cell_type": "code",
   "execution_count": null,
   "id": "e7e553bb",
   "metadata": {},
   "outputs": [],
   "source": [
    "ts_utc = ts.tz_localize('UTC')\n",
    "ts_utc"
   ]
  },
  {
   "cell_type": "code",
   "execution_count": null,
   "id": "c23b5c32",
   "metadata": {},
   "outputs": [],
   "source": [
    "# 다른 시간대로 변환\n",
    "ts_utc.tz_convert('US/Eastern')"
   ]
  },
  {
   "cell_type": "code",
   "execution_count": null,
   "id": "c86cf622",
   "metadata": {},
   "outputs": [],
   "source": [
    "# 시간 표현 ↔ 기간 표현으로 변환\n",
    "rng = pd.date_range('1/1/2022', periods=12, freq='M')\n",
    "rng"
   ]
  },
  {
   "cell_type": "code",
   "execution_count": null,
   "id": "eef5817e",
   "metadata": {},
   "outputs": [],
   "source": [
    "ts = pd.Series(np.random.randn(len(rng)), index=rng)\n",
    "ts"
   ]
  },
  {
   "cell_type": "code",
   "execution_count": null,
   "id": "ecc3ee2d",
   "metadata": {},
   "outputs": [],
   "source": [
    "ps = ts.to_period()\n",
    "ps"
   ]
  },
  {
   "cell_type": "code",
   "execution_count": null,
   "id": "df90ebed",
   "metadata": {},
   "outputs": [],
   "source": [
    "ps.to_timestamp()"
   ]
  },
  {
   "cell_type": "code",
   "execution_count": null,
   "id": "a1328682",
   "metadata": {},
   "outputs": [],
   "source": [
    "prng = pd.period_range('2012Q1', '2022Q4', freq='Q-NOV')\n",
    "prng"
   ]
  },
  {
   "cell_type": "code",
   "execution_count": null,
   "id": "17836e72",
   "metadata": {},
   "outputs": [],
   "source": [
    "ts = pd.Series(np.random.randn(len(prng)), prng)\n",
    "ts"
   ]
  },
  {
   "cell_type": "code",
   "execution_count": null,
   "id": "607fc112",
   "metadata": {},
   "outputs": [],
   "source": [
    "prng"
   ]
  },
  {
   "cell_type": "code",
   "execution_count": null,
   "id": "f511a490",
   "metadata": {},
   "outputs": [],
   "source": [
    "ts.index = (prng.asfreq('M', 'e') + 1).asfreq('H', 's') + 9\n",
    "ts.index "
   ]
  },
  {
   "cell_type": "code",
   "execution_count": null,
   "id": "a507a3b3",
   "metadata": {
    "scrolled": true
   },
   "outputs": [],
   "source": [
    "ts.head()"
   ]
  },
  {
   "cell_type": "code",
   "execution_count": null,
   "id": "0d5dcb61",
   "metadata": {
    "scrolled": true
   },
   "outputs": [],
   "source": [
    "# !pip install canvas"
   ]
  },
  {
   "cell_type": "code",
   "execution_count": null,
   "id": "50db82c4",
   "metadata": {
    "scrolled": true
   },
   "outputs": [],
   "source": [
    "?MERGE"
   ]
  },
  {
   "cell_type": "code",
   "execution_count": null,
   "id": "a5a39b1b",
   "metadata": {
    "scrolled": true
   },
   "outputs": [],
   "source": [
    "?merge"
   ]
  },
  {
   "cell_type": "code",
   "execution_count": null,
   "id": "6b7e83d2",
   "metadata": {},
   "outputs": [],
   "source": [
    "?pd.merge"
   ]
  },
  {
   "cell_type": "code",
   "execution_count": null,
   "id": "f0960b21",
   "metadata": {},
   "outputs": [],
   "source": [
    "df = pd.DataFrame({\"id\":[1,2,3,4,5,6], \"raw_grade\":['a', 'b', 'b', 'a', 'd', 'e']})\n",
    "df"
   ]
  },
  {
   "cell_type": "code",
   "execution_count": null,
   "id": "ab457bd4",
   "metadata": {},
   "outputs": [],
   "source": [
    "df[\"grade\"] = df[\"raw_grade\"].astype(\"category\")\n",
    "df"
   ]
  },
  {
   "cell_type": "code",
   "execution_count": null,
   "id": "7203f6b8",
   "metadata": {},
   "outputs": [],
   "source": [
    "df[\"grade\"]"
   ]
  },
  {
   "cell_type": "code",
   "execution_count": null,
   "id": "7cb5d5d5",
   "metadata": {},
   "outputs": [],
   "source": [
    "df[\"grade\"].cat.categories = [\"very good\", \"good\", \"bad\", \"very bad\"]\n",
    "df"
   ]
  },
  {
   "cell_type": "code",
   "execution_count": null,
   "id": "36c239e7",
   "metadata": {},
   "outputs": [],
   "source": [
    "df[\"grade\"] = df[\"grade\"].cat.set_categories([\"very bad\", \"bad\", \"medium\", \"good\", \"very good\"])\n",
    "df"
   ]
  },
  {
   "cell_type": "code",
   "execution_count": null,
   "id": "850f1334",
   "metadata": {},
   "outputs": [],
   "source": [
    "df[\"grade\"]"
   ]
  },
  {
   "cell_type": "code",
   "execution_count": null,
   "id": "dc56c0fc",
   "metadata": {},
   "outputs": [],
   "source": [
    "df.sort_values(by=\"grade\")"
   ]
  },
  {
   "cell_type": "code",
   "execution_count": null,
   "id": "3e5a56dd",
   "metadata": {},
   "outputs": [],
   "source": [
    "# 범주의 열을 기준으로 그룹화하면 빈 범주도 표시\n",
    "df.groupby(\"grade\").size()"
   ]
  },
  {
   "cell_type": "code",
   "execution_count": null,
   "id": "c7b26749",
   "metadata": {},
   "outputs": [],
   "source": []
  }
 ],
 "metadata": {
  "kernelspec": {
   "display_name": "Python 3 (ipykernel)",
   "language": "python",
   "name": "python3"
  },
  "language_info": {
   "codemirror_mode": {
    "name": "ipython",
    "version": 3
   },
   "file_extension": ".py",
   "mimetype": "text/x-python",
   "name": "python",
   "nbconvert_exporter": "python",
   "pygments_lexer": "ipython3",
   "version": "3.9.12"
  }
 },
 "nbformat": 4,
 "nbformat_minor": 5
}
